{
 "cells": [
  {
   "cell_type": "code",
   "execution_count": 132,
   "id": "cc8dfd1a-e206-4a71-a5f0-9d98e247c9d8",
   "metadata": {},
   "outputs": [],
   "source": [
    "import numpy as np \n",
    "import pandas as pd\n",
    "import re\n",
    "import os\n",
    "import pickle\n",
    "import matplotlib.pyplot as plt\n",
    "from sklearn.feature_extraction.text import TfidfVectorizer\n",
    "from sklearn.metrics.pairwise import cosine_similarity\n",
    "from sklearn.preprocessing import StandardScaler, OneHotEncoder\n",
    "from sklearn.compose import ColumnTransformer\n",
    "from sklearn.pipeline import Pipeline\n",
    "import warnings #filter and surpress warnings\n",
    "warnings.filterwarnings('ignore')\n",
    "from sklearn.impute import SimpleImputer"
   ]
  },
  {
   "cell_type": "code",
   "execution_count": 133,
   "id": "29f3cc16-1288-4108-aa02-b864fcdb5e80",
   "metadata": {},
   "outputs": [],
   "source": [
    "mobiles = pd.read_csv('data/mobile-data.csv')"
   ]
  },
  {
   "cell_type": "code",
   "execution_count": 134,
   "id": "031ba0b9-2579-4d0b-a0c4-d842a0370a5a",
   "metadata": {},
   "outputs": [
    {
     "data": {
      "text/html": [
       "<div>\n",
       "<style scoped>\n",
       "    .dataframe tbody tr th:only-of-type {\n",
       "        vertical-align: middle;\n",
       "    }\n",
       "\n",
       "    .dataframe tbody tr th {\n",
       "        vertical-align: top;\n",
       "    }\n",
       "\n",
       "    .dataframe thead th {\n",
       "        text-align: right;\n",
       "    }\n",
       "</style>\n",
       "<table border=\"1\" class=\"dataframe\">\n",
       "  <thead>\n",
       "    <tr style=\"text-align: right;\">\n",
       "      <th></th>\n",
       "      <th>name</th>\n",
       "      <th>ratings</th>\n",
       "      <th>price</th>\n",
       "      <th>imgURL</th>\n",
       "      <th>corpus</th>\n",
       "    </tr>\n",
       "  </thead>\n",
       "  <tbody>\n",
       "    <tr>\n",
       "      <th>0</th>\n",
       "      <td>REDMI Note 12 Pro 5G (Onyx Black, 128 GB)</td>\n",
       "      <td>4.2</td>\n",
       "      <td>23999</td>\n",
       "      <td>https://rukminim2.flixcart.com/image/312/312/x...</td>\n",
       "      <td>Storage128 GBRAM6  SystemAndroid 12Processor T...</td>\n",
       "    </tr>\n",
       "    <tr>\n",
       "      <th>1</th>\n",
       "      <td>OPPO F11 Pro (Aurora Green, 128 GB)</td>\n",
       "      <td>4.5</td>\n",
       "      <td>₹20,999</td>\n",
       "      <td>https://rukminim2.flixcart.com/image/312/312/k...</td>\n",
       "      <td>Storage128 GBRAM6 GBExpandable Storage256GB  S...</td>\n",
       "    </tr>\n",
       "    <tr>\n",
       "      <th>2</th>\n",
       "      <td>REDMI Note 11 (Starburst White, 64 GB)</td>\n",
       "      <td>4.2</td>\n",
       "      <td>13149</td>\n",
       "      <td>https://rukminim2.flixcart.com/image/312/312/x...</td>\n",
       "      <td>Storage64 GBRAM4  SystemAndroid 11Processor Sp...</td>\n",
       "    </tr>\n",
       "    <tr>\n",
       "      <th>3</th>\n",
       "      <td>OnePlus Nord CE 5G (Blue Void, 256 GB)</td>\n",
       "      <td>4.1</td>\n",
       "      <td>21999</td>\n",
       "      <td>https://rukminim2.flixcart.com/image/312/312/x...</td>\n",
       "      <td>Storage256 GBRAM12  SystemAndroid Q 11Processo...</td>\n",
       "    </tr>\n",
       "    <tr>\n",
       "      <th>4</th>\n",
       "      <td>APPLE iPhone 13 mini (Blue, 128 GB)</td>\n",
       "      <td>4.6</td>\n",
       "      <td>3537</td>\n",
       "      <td>https://rukminim2.flixcart.com/image/312/312/k...</td>\n",
       "      <td>Storage128  SystemiOS 15Processor TypeA15 Bion...</td>\n",
       "    </tr>\n",
       "  </tbody>\n",
       "</table>\n",
       "</div>"
      ],
      "text/plain": [
       "                                        name  ratings    price  \\\n",
       "0  REDMI Note 12 Pro 5G (Onyx Black, 128 GB)      4.2    23999   \n",
       "1        OPPO F11 Pro (Aurora Green, 128 GB)      4.5  ₹20,999   \n",
       "2     REDMI Note 11 (Starburst White, 64 GB)      4.2    13149   \n",
       "3     OnePlus Nord CE 5G (Blue Void, 256 GB)      4.1    21999   \n",
       "4        APPLE iPhone 13 mini (Blue, 128 GB)      4.6     3537   \n",
       "\n",
       "                                              imgURL  \\\n",
       "0  https://rukminim2.flixcart.com/image/312/312/x...   \n",
       "1  https://rukminim2.flixcart.com/image/312/312/k...   \n",
       "2  https://rukminim2.flixcart.com/image/312/312/x...   \n",
       "3  https://rukminim2.flixcart.com/image/312/312/x...   \n",
       "4  https://rukminim2.flixcart.com/image/312/312/k...   \n",
       "\n",
       "                                              corpus  \n",
       "0  Storage128 GBRAM6  SystemAndroid 12Processor T...  \n",
       "1  Storage128 GBRAM6 GBExpandable Storage256GB  S...  \n",
       "2  Storage64 GBRAM4  SystemAndroid 11Processor Sp...  \n",
       "3  Storage256 GBRAM12  SystemAndroid Q 11Processo...  \n",
       "4  Storage128  SystemiOS 15Processor TypeA15 Bion...  "
      ]
     },
     "execution_count": 134,
     "metadata": {},
     "output_type": "execute_result"
    }
   ],
   "source": [
    "mobiles.head()"
   ]
  },
  {
   "cell_type": "code",
   "execution_count": 135,
   "id": "45e84a78-897b-47e1-a63d-e2da1d7203bd",
   "metadata": {},
   "outputs": [
    {
     "data": {
      "text/plain": [
       "(2546, 5)"
      ]
     },
     "execution_count": 135,
     "metadata": {},
     "output_type": "execute_result"
    }
   ],
   "source": [
    "mobiles.shape"
   ]
  },
  {
   "cell_type": "code",
   "execution_count": 136,
   "id": "0ce3dc20-66f5-4f1e-9248-28a60907568f",
   "metadata": {},
   "outputs": [
    {
     "data": {
      "text/plain": [
       "name        0\n",
       "ratings     0\n",
       "price       0\n",
       "imgURL      0\n",
       "corpus     12\n",
       "dtype: int64"
      ]
     },
     "execution_count": 136,
     "metadata": {},
     "output_type": "execute_result"
    }
   ],
   "source": [
    "mobiles.isnull().sum()"
   ]
  },
  {
   "cell_type": "code",
   "execution_count": 137,
   "id": "27ff6390-0088-4312-aab3-3e34f8b846dc",
   "metadata": {},
   "outputs": [],
   "source": [
    "mobiles_clean=mobiles.dropna()"
   ]
  },
  {
   "cell_type": "code",
   "execution_count": 138,
   "id": "eb29b748-6bd2-434a-b285-83484dfc3601",
   "metadata": {},
   "outputs": [
    {
     "data": {
      "text/plain": [
       "name       0\n",
       "ratings    0\n",
       "price      0\n",
       "imgURL     0\n",
       "corpus     0\n",
       "dtype: int64"
      ]
     },
     "execution_count": 138,
     "metadata": {},
     "output_type": "execute_result"
    }
   ],
   "source": [
    "mobiles_clean.isnull().sum()"
   ]
  },
  {
   "cell_type": "code",
   "execution_count": 139,
   "id": "00c272a9-9864-402e-8f90-68d124d6241e",
   "metadata": {},
   "outputs": [
    {
     "data": {
      "text/plain": [
       "(2534, 5)"
      ]
     },
     "execution_count": 139,
     "metadata": {},
     "output_type": "execute_result"
    }
   ],
   "source": [
    "mobiles_clean.shape"
   ]
  },
  {
   "cell_type": "code",
   "execution_count": 140,
   "id": "fa7f2377-7f38-4756-b9dc-0c18ebe08090",
   "metadata": {},
   "outputs": [],
   "source": [
    "mobiles_clean.loc[:,'corpus'] = mobiles_clean['corpus'].str.lower()"
   ]
  },
  {
   "cell_type": "code",
   "execution_count": 141,
   "id": "7fd68f3a-1d65-4154-9527-206a5aa4d685",
   "metadata": {},
   "outputs": [],
   "source": [
    "def extract_storage(corpus):\n",
    "    match = re.search(r'storage(\\d+)', corpus)\n",
    "    if match:\n",
    "        return int(match.group(1))\n",
    "    return None"
   ]
  },
  {
   "cell_type": "code",
   "execution_count": 142,
   "id": "dec84ec2-3265-4fab-8273-f9b154144f74",
   "metadata": {},
   "outputs": [],
   "source": [
    "mobiles_clean.loc[:, 'storage'] = mobiles_clean['corpus'].apply(extract_storage)"
   ]
  },
  {
   "cell_type": "code",
   "execution_count": 143,
   "id": "c76ca906-faa1-40f9-9c84-5de3427060b0",
   "metadata": {},
   "outputs": [
    {
     "data": {
      "text/html": [
       "<div>\n",
       "<style scoped>\n",
       "    .dataframe tbody tr th:only-of-type {\n",
       "        vertical-align: middle;\n",
       "    }\n",
       "\n",
       "    .dataframe tbody tr th {\n",
       "        vertical-align: top;\n",
       "    }\n",
       "\n",
       "    .dataframe thead th {\n",
       "        text-align: right;\n",
       "    }\n",
       "</style>\n",
       "<table border=\"1\" class=\"dataframe\">\n",
       "  <thead>\n",
       "    <tr style=\"text-align: right;\">\n",
       "      <th></th>\n",
       "      <th>name</th>\n",
       "      <th>ratings</th>\n",
       "      <th>price</th>\n",
       "      <th>imgURL</th>\n",
       "      <th>corpus</th>\n",
       "      <th>storage</th>\n",
       "    </tr>\n",
       "  </thead>\n",
       "  <tbody>\n",
       "    <tr>\n",
       "      <th>0</th>\n",
       "      <td>REDMI Note 12 Pro 5G (Onyx Black, 128 GB)</td>\n",
       "      <td>4.2</td>\n",
       "      <td>23999</td>\n",
       "      <td>https://rukminim2.flixcart.com/image/312/312/x...</td>\n",
       "      <td>storage128 gbram6  systemandroid 12processor t...</td>\n",
       "      <td>128.0</td>\n",
       "    </tr>\n",
       "    <tr>\n",
       "      <th>1</th>\n",
       "      <td>OPPO F11 Pro (Aurora Green, 128 GB)</td>\n",
       "      <td>4.5</td>\n",
       "      <td>₹20,999</td>\n",
       "      <td>https://rukminim2.flixcart.com/image/312/312/k...</td>\n",
       "      <td>storage128 gbram6 gbexpandable storage256gb  s...</td>\n",
       "      <td>128.0</td>\n",
       "    </tr>\n",
       "    <tr>\n",
       "      <th>2</th>\n",
       "      <td>REDMI Note 11 (Starburst White, 64 GB)</td>\n",
       "      <td>4.2</td>\n",
       "      <td>13149</td>\n",
       "      <td>https://rukminim2.flixcart.com/image/312/312/x...</td>\n",
       "      <td>storage64 gbram4  systemandroid 11processor sp...</td>\n",
       "      <td>64.0</td>\n",
       "    </tr>\n",
       "    <tr>\n",
       "      <th>3</th>\n",
       "      <td>OnePlus Nord CE 5G (Blue Void, 256 GB)</td>\n",
       "      <td>4.1</td>\n",
       "      <td>21999</td>\n",
       "      <td>https://rukminim2.flixcart.com/image/312/312/x...</td>\n",
       "      <td>storage256 gbram12  systemandroid q 11processo...</td>\n",
       "      <td>256.0</td>\n",
       "    </tr>\n",
       "    <tr>\n",
       "      <th>4</th>\n",
       "      <td>APPLE iPhone 13 mini (Blue, 128 GB)</td>\n",
       "      <td>4.6</td>\n",
       "      <td>3537</td>\n",
       "      <td>https://rukminim2.flixcart.com/image/312/312/k...</td>\n",
       "      <td>storage128  systemios 15processor typea15 bion...</td>\n",
       "      <td>128.0</td>\n",
       "    </tr>\n",
       "  </tbody>\n",
       "</table>\n",
       "</div>"
      ],
      "text/plain": [
       "                                        name  ratings    price  \\\n",
       "0  REDMI Note 12 Pro 5G (Onyx Black, 128 GB)      4.2    23999   \n",
       "1        OPPO F11 Pro (Aurora Green, 128 GB)      4.5  ₹20,999   \n",
       "2     REDMI Note 11 (Starburst White, 64 GB)      4.2    13149   \n",
       "3     OnePlus Nord CE 5G (Blue Void, 256 GB)      4.1    21999   \n",
       "4        APPLE iPhone 13 mini (Blue, 128 GB)      4.6     3537   \n",
       "\n",
       "                                              imgURL  \\\n",
       "0  https://rukminim2.flixcart.com/image/312/312/x...   \n",
       "1  https://rukminim2.flixcart.com/image/312/312/k...   \n",
       "2  https://rukminim2.flixcart.com/image/312/312/x...   \n",
       "3  https://rukminim2.flixcart.com/image/312/312/x...   \n",
       "4  https://rukminim2.flixcart.com/image/312/312/k...   \n",
       "\n",
       "                                              corpus  storage  \n",
       "0  storage128 gbram6  systemandroid 12processor t...    128.0  \n",
       "1  storage128 gbram6 gbexpandable storage256gb  s...    128.0  \n",
       "2  storage64 gbram4  systemandroid 11processor sp...     64.0  \n",
       "3  storage256 gbram12  systemandroid q 11processo...    256.0  \n",
       "4  storage128  systemios 15processor typea15 bion...    128.0  "
      ]
     },
     "execution_count": 143,
     "metadata": {},
     "output_type": "execute_result"
    }
   ],
   "source": [
    "mobiles_clean.head()"
   ]
  },
  {
   "cell_type": "code",
   "execution_count": 144,
   "id": "d09a72d2-3e92-4192-980b-942cac160aa7",
   "metadata": {},
   "outputs": [],
   "source": [
    "# Replace variations of brand names with the desired format\n",
    "mobiles_clean['name'] = mobiles_clean['name'].replace({'APPLE': 'Apple', 'Apple': 'Apple', 'REDMI': 'Redmi', 'Redmi': 'Redmi'}, regex=True)"
   ]
  },
  {
   "cell_type": "code",
   "execution_count": 145,
   "id": "4f784e60-e08f-4771-a585-f263e23e8385",
   "metadata": {},
   "outputs": [],
   "source": [
    "def extract_ram(corpus):\n",
    "    # Enhanced regex pattern to capture various RAM formats\n",
    "    # This pattern will look for \"ram\" followed by optional characters (like : or -) \n",
    "    # and then capture the numeric value followed by optional \"GB\" or \"gb\".\n",
    "    match = re.search(r'ram\\s*[:\\-]?\\s*(\\d+)\\s*(gb|g)?', corpus, re.IGNORECASE)\n",
    "    if match:\n",
    "        return int(match.group(1))\n",
    "    return None"
   ]
  },
  {
   "cell_type": "code",
   "execution_count": 146,
   "id": "b90e58b0-e22a-4aa0-a15d-848b3c3b635f",
   "metadata": {},
   "outputs": [],
   "source": [
    "# Apply the extract_ram function to the corpus column\n",
    "mobiles_clean['ram'] = mobiles_clean['corpus'].apply(extract_ram)"
   ]
  },
  {
   "cell_type": "code",
   "execution_count": 147,
   "id": "e6f449f5-c7b4-4375-89c9-5c28be54a888",
   "metadata": {},
   "outputs": [],
   "source": [
    "def extract_system(corpus):\n",
    "    match = re.search(r'system(.*?)processor', corpus)\n",
    "    if match:\n",
    "        return match.group(1).strip()\n",
    "    return None"
   ]
  },
  {
   "cell_type": "code",
   "execution_count": 148,
   "id": "1eccb971-6c02-443d-9041-f327adfbf4ad",
   "metadata": {},
   "outputs": [],
   "source": [
    "mobiles_clean.loc[:, 'system'] = mobiles_clean['corpus'].apply(extract_system)"
   ]
  },
  {
   "cell_type": "code",
   "execution_count": 149,
   "id": "fca8aeb7-f239-4f8e-83e7-cd264ad52bc5",
   "metadata": {},
   "outputs": [],
   "source": [
    "def extract_processor(corpus):\n",
    "    match = re.search(r'processor (.*?) ', corpus)\n",
    "    if match:\n",
    "        return match.group(1).strip()\n",
    "    return None"
   ]
  },
  {
   "cell_type": "code",
   "execution_count": 150,
   "id": "7e424e5f-2080-4b77-84d3-13e066c7a22d",
   "metadata": {},
   "outputs": [],
   "source": [
    "mobiles_clean.loc[:, 'processor'] = mobiles_clean['corpus'].apply(extract_processor)"
   ]
  },
  {
   "cell_type": "code",
   "execution_count": 151,
   "id": "4a273394-6674-43b6-9b57-a248927b8604",
   "metadata": {
    "scrolled": true
   },
   "outputs": [
    {
     "data": {
      "text/html": [
       "<div>\n",
       "<style scoped>\n",
       "    .dataframe tbody tr th:only-of-type {\n",
       "        vertical-align: middle;\n",
       "    }\n",
       "\n",
       "    .dataframe tbody tr th {\n",
       "        vertical-align: top;\n",
       "    }\n",
       "\n",
       "    .dataframe thead th {\n",
       "        text-align: right;\n",
       "    }\n",
       "</style>\n",
       "<table border=\"1\" class=\"dataframe\">\n",
       "  <thead>\n",
       "    <tr style=\"text-align: right;\">\n",
       "      <th></th>\n",
       "      <th>name</th>\n",
       "      <th>ratings</th>\n",
       "      <th>price</th>\n",
       "      <th>imgURL</th>\n",
       "      <th>corpus</th>\n",
       "      <th>storage</th>\n",
       "      <th>ram</th>\n",
       "      <th>system</th>\n",
       "      <th>processor</th>\n",
       "    </tr>\n",
       "  </thead>\n",
       "  <tbody>\n",
       "    <tr>\n",
       "      <th>0</th>\n",
       "      <td>Redmi Note 12 Pro 5G (Onyx Black, 128 GB)</td>\n",
       "      <td>4.2</td>\n",
       "      <td>23999</td>\n",
       "      <td>https://rukminim2.flixcart.com/image/312/312/x...</td>\n",
       "      <td>storage128 gbram6  systemandroid 12processor t...</td>\n",
       "      <td>128.0</td>\n",
       "      <td>6.0</td>\n",
       "      <td>android 12</td>\n",
       "      <td>typemediatek</td>\n",
       "    </tr>\n",
       "    <tr>\n",
       "      <th>1</th>\n",
       "      <td>OPPO F11 Pro (Aurora Green, 128 GB)</td>\n",
       "      <td>4.5</td>\n",
       "      <td>₹20,999</td>\n",
       "      <td>https://rukminim2.flixcart.com/image/312/312/k...</td>\n",
       "      <td>storage128 gbram6 gbexpandable storage256gb  s...</td>\n",
       "      <td>128.0</td>\n",
       "      <td>6.0</td>\n",
       "      <td>android pie 9.0</td>\n",
       "      <td>typemediatek</td>\n",
       "    </tr>\n",
       "    <tr>\n",
       "      <th>2</th>\n",
       "      <td>Redmi Note 11 (Starburst White, 64 GB)</td>\n",
       "      <td>4.2</td>\n",
       "      <td>13149</td>\n",
       "      <td>https://rukminim2.flixcart.com/image/312/312/x...</td>\n",
       "      <td>storage64 gbram4  systemandroid 11processor sp...</td>\n",
       "      <td>64.0</td>\n",
       "      <td>4.0</td>\n",
       "      <td>android 11</td>\n",
       "      <td>speed2.4</td>\n",
       "    </tr>\n",
       "    <tr>\n",
       "      <th>3</th>\n",
       "      <td>OnePlus Nord CE 5G (Blue Void, 256 GB)</td>\n",
       "      <td>4.1</td>\n",
       "      <td>21999</td>\n",
       "      <td>https://rukminim2.flixcart.com/image/312/312/x...</td>\n",
       "      <td>storage256 gbram12  systemandroid q 11processo...</td>\n",
       "      <td>256.0</td>\n",
       "      <td>12.0</td>\n",
       "      <td>android q 11</td>\n",
       "      <td>typequalcomm</td>\n",
       "    </tr>\n",
       "    <tr>\n",
       "      <th>4</th>\n",
       "      <td>Apple iPhone 13 mini (Blue, 128 GB)</td>\n",
       "      <td>4.6</td>\n",
       "      <td>3537</td>\n",
       "      <td>https://rukminim2.flixcart.com/image/312/312/k...</td>\n",
       "      <td>storage128  systemios 15processor typea15 bion...</td>\n",
       "      <td>128.0</td>\n",
       "      <td>NaN</td>\n",
       "      <td>ios 15</td>\n",
       "      <td>typea15</td>\n",
       "    </tr>\n",
       "  </tbody>\n",
       "</table>\n",
       "</div>"
      ],
      "text/plain": [
       "                                        name  ratings    price  \\\n",
       "0  Redmi Note 12 Pro 5G (Onyx Black, 128 GB)      4.2    23999   \n",
       "1        OPPO F11 Pro (Aurora Green, 128 GB)      4.5  ₹20,999   \n",
       "2     Redmi Note 11 (Starburst White, 64 GB)      4.2    13149   \n",
       "3     OnePlus Nord CE 5G (Blue Void, 256 GB)      4.1    21999   \n",
       "4        Apple iPhone 13 mini (Blue, 128 GB)      4.6     3537   \n",
       "\n",
       "                                              imgURL  \\\n",
       "0  https://rukminim2.flixcart.com/image/312/312/x...   \n",
       "1  https://rukminim2.flixcart.com/image/312/312/k...   \n",
       "2  https://rukminim2.flixcart.com/image/312/312/x...   \n",
       "3  https://rukminim2.flixcart.com/image/312/312/x...   \n",
       "4  https://rukminim2.flixcart.com/image/312/312/k...   \n",
       "\n",
       "                                              corpus  storage   ram  \\\n",
       "0  storage128 gbram6  systemandroid 12processor t...    128.0   6.0   \n",
       "1  storage128 gbram6 gbexpandable storage256gb  s...    128.0   6.0   \n",
       "2  storage64 gbram4  systemandroid 11processor sp...     64.0   4.0   \n",
       "3  storage256 gbram12  systemandroid q 11processo...    256.0  12.0   \n",
       "4  storage128  systemios 15processor typea15 bion...    128.0   NaN   \n",
       "\n",
       "            system     processor  \n",
       "0       android 12  typemediatek  \n",
       "1  android pie 9.0  typemediatek  \n",
       "2       android 11      speed2.4  \n",
       "3     android q 11  typequalcomm  \n",
       "4           ios 15       typea15  "
      ]
     },
     "execution_count": 151,
     "metadata": {},
     "output_type": "execute_result"
    }
   ],
   "source": [
    "mobiles_clean.head()"
   ]
  },
  {
   "cell_type": "code",
   "execution_count": 152,
   "id": "180373a7-b04d-44c3-8f7c-0d33c7bc5c46",
   "metadata": {},
   "outputs": [],
   "source": [
    "unique_systems = mobiles_clean['system'].unique()\n",
    "unique_processors = mobiles_clean['processor'].unique()"
   ]
  },
  {
   "cell_type": "code",
   "execution_count": 153,
   "id": "c5f40d51-420e-46ca-953f-1a1072819371",
   "metadata": {},
   "outputs": [
    {
     "data": {
      "text/plain": [
       "array(['android 12', 'android pie 9.0', 'android 11', 'android q 11',\n",
       "       'ios 15', 'ios 9', 'android 13', 'android pie 9',\n",
       "       'android nougat 7', 'android 10', 'ios 16', None,\n",
       "       'android q android q 12.5', 'android oreo 8.1',\n",
       "       'android marshmallow 6.0.1', 'android oreo 8.1.0',\n",
       "       'android 13 (go edition)', 'android android 12', 'android q 10',\n",
       "       'ios 14.2', 'android pie android v9.0 (pie)', 'android andriod 11',\n",
       "       'android android 10',\n",
       "       'android hios 8.6 based on android 12-go edition',\n",
       "       'android nougat 7.1', 'ios 14', 'android android 13', 'ios 12',\n",
       "       'android 12 go', 'ios 7', 'android nougat 7.1.2',\n",
       "       'android oreo v11', 'android android 13 oxygenos',\n",
       "       'android android 13.0', 'android android v12.0',\n",
       "       'android android 11', 'android pie 10', 'android oreo 8.0', 'q 10',\n",
       "       'android q android 10', 'android q 12', 'ios 13',\n",
       "       'android android 11 go', 'android 10 (go edition)',\n",
       "       'android oxygen oxygenos based on android 13',\n",
       "       'series 30 feature phone', 'android lollipop 5.1', 'android q 111',\n",
       "       'ios 8', 'android q android 11',\n",
       "       'android ?hios 12.0 based on android 12',\n",
       "       'android android 11 (go edition)', 'android android 12.0',\n",
       "       'android lollipop 5.0.2', 'android miui 13, android 12.0',\n",
       "       'android lollipop color os 3.0 based on android 5.1',\n",
       "       'android nougat 7.1.1', 'android kitkat 4.4.2',\n",
       "       'android 11 (go edition)', 'android android13', 'android q 10.0v',\n",
       "       'android kitkat 1', 'android oxygenos based on android 13',\n",
       "       'android kitkat 4.4', 'android funtouch os 12', '1',\n",
       "       'android q v11.0', 'android android oxygen android 12', 'ios 11',\n",
       "       'android oreo 8', 'android miui 14, android 13.0',\n",
       "       'android oxygen 12', 'android pie oxygen',\n",
       "       'android lollipop 5.1.1', 'android q v10', 'android android12',\n",
       "       'android q android', 'android oxygen 11', 'android 12.5',\n",
       "       'android q android q android 11',\n",
       "       'android q funtouch os 13 (based on android 13)',\n",
       "       'android marshmallow 6', 'android q android 13.0',\n",
       "       'android q 10.0', 'android q ?android 13.0',\n",
       "       'android q android 12', 'android nougat 11',\n",
       "       'android q android 11 (go edition)', 'android q android 12.0',\n",
       "       'ios q hios 8.6 based on android 12', 'android jelly bean 4.2',\n",
       "       'android 12 (go edition)', 'android q 13', 'android oxygen 12.1',\n",
       "       'android coloros 13.1 on top of android 13',\n",
       "       'android q coloros 12.1. 1', 'android pie 9 pie oxygenos',\n",
       "       'android q android 12, one ui core 4.1', 'android',\n",
       "       'android q 10.1', 'android android 11 go audition', 'series 30',\n",
       "       'android q android 12, coloros 12.1',\n",
       "       'android ?miui 13, android 12.0', 'android oxygen android 12',\n",
       "       'android hios 12.0 based on android 12', 'android oxygen 11.3',\n",
       "       'android q miui 13, android 12.0', 'android q 11.1',\n",
       "       'android funtouch os 11 (based on android 11)',\n",
       "       'android mediatek helio p35', 'android q android q 10',\n",
       "       'android android v9.0 pie', 'android pie oxygen os',\n",
       "       'android q android 11::coloros 12.1', 'tizen',\n",
       "       'android pie android version 10',\n",
       "       'android hios 12.0 based on android 13', 'android jelly bean 4.3',\n",
       "       'android q android 11, coloros 12.1', 'android oreo 10',\n",
       "       'android kitkat 4.4.4', 'android miui 12, android 11.0',\n",
       "       'ios q ?hios 8.6 based on android 12'], dtype=object)"
      ]
     },
     "execution_count": 153,
     "metadata": {},
     "output_type": "execute_result"
    }
   ],
   "source": [
    "unique_systems"
   ]
  },
  {
   "cell_type": "code",
   "execution_count": 154,
   "id": "65fe5c89-bff3-4900-8983-936e26587348",
   "metadata": {},
   "outputs": [
    {
     "data": {
      "text/plain": [
       "array(['typemediatek', 'speed2.4', 'typequalcomm', 'typea15', 'typea9',\n",
       "       None, 'speed2', 'typemtk', 'speed3.19', 'typedimensity',\n",
       "       'typeunisoc', 'speed2.3', 'typea12', 'typea16', 'speed0.1',\n",
       "       'typeexynos', 'typehelio', 'speed2.84', 'typemt6763tprocessor',\n",
       "       'speed1.8', 'typea14', 'speed2.2', 'typea13', 'speed2.9', 'typea6',\n",
       "       'speed3.05', 'typeapple', 'typesnapdragon', 'typequalcomm®',\n",
       "       'typea11', 'speed2.99', 'typea10', 'speed3.2', 'speed208',\n",
       "       'typemeditek', 'typea8', 'typesamsung', 'typeg37processor',\n",
       "       'speed1.6', 'typeocta', 'type2nd-gen', 'typet612processor',\n",
       "       'typeocta-coreprocessor', 'speed1.2', 'typespreadtrum', 'typesec',\n",
       "       'typemtk6739', 'typesdm710processor', 'speed3', 'typena',\n",
       "       'speed2.05', 'speed2.42', 'speed2.8', 'type1.6', 'type2.0',\n",
       "       'type7nm', 'speed2.73', 'speed90', 'typemediateckprocessor',\n",
       "       'speed900', 'speed120', 'speed2.7', 'speed1.3', 'speed1600',\n",
       "       'typeeolprocessor', 'typenaprocessor', 'typeturbo',\n",
       "       'typesdm439processor', 'speed1.5', 'type2?ghz,', 'typemt6762',\n",
       "       'speed1.9'], dtype=object)"
      ]
     },
     "execution_count": 154,
     "metadata": {},
     "output_type": "execute_result"
    }
   ],
   "source": [
    "unique_processors"
   ]
  },
  {
   "cell_type": "code",
   "execution_count": 155,
   "id": "b092984d-cbe4-4abe-ab6e-0ade170aa8ce",
   "metadata": {},
   "outputs": [],
   "source": [
    "def clean_system(system):\n",
    "    if pd.isnull(system):\n",
    "        return None\n",
    "    if 'android' in system:\n",
    "        return 'Android'\n",
    "    if 'ios' in system:\n",
    "        return 'iOS'\n",
    "    if 'tizen' in system:\n",
    "        return 'Tizen'\n",
    "    return system"
   ]
  },
  {
   "cell_type": "code",
   "execution_count": 156,
   "id": "4fb060be-4360-4a5e-bce2-1bbbc56c3f46",
   "metadata": {},
   "outputs": [],
   "source": [
    "mobiles_clean.loc[:,'system'] = mobiles_clean['system'].apply(clean_system)"
   ]
  },
  {
   "cell_type": "code",
   "execution_count": 157,
   "id": "058f3a1f-8ecc-4d04-8c83-72319202cf2a",
   "metadata": {},
   "outputs": [],
   "source": [
    "unique_systems_clean = mobiles_clean['system'].unique()"
   ]
  },
  {
   "cell_type": "code",
   "execution_count": 158,
   "id": "3b663f0a-e792-457c-b284-552b34f8a111",
   "metadata": {},
   "outputs": [
    {
     "data": {
      "text/plain": [
       "array(['Android', 'iOS', None, 'q 10', 'series 30 feature phone', '1',\n",
       "       'series 30', 'Tizen'], dtype=object)"
      ]
     },
     "execution_count": 158,
     "metadata": {},
     "output_type": "execute_result"
    }
   ],
   "source": [
    "unique_systems_clean"
   ]
  },
  {
   "cell_type": "code",
   "execution_count": 159,
   "id": "06918cc1-4b91-44bc-8805-c0b9a1167582",
   "metadata": {},
   "outputs": [],
   "source": [
    "def clean_processor(processor):\n",
    "    \"\"\"Clean the processor values.\"\"\"\n",
    "    if pd.isnull(processor):\n",
    "        return None\n",
    "    if 'mediatek' in processor:\n",
    "        return 'MediaTek'\n",
    "    if 'qualcomm' in processor:\n",
    "        return 'Qualcomm'\n",
    "    if 'apple' in processor:\n",
    "        return 'Apple'\n",
    "    return 'Other'"
   ]
  },
  {
   "cell_type": "code",
   "execution_count": 160,
   "id": "d82f388b-4924-476a-9ae6-ebcd2f6e23ca",
   "metadata": {},
   "outputs": [],
   "source": [
    "mobiles_clean.loc[:,'processor'] = mobiles_clean['processor'].apply(clean_processor)"
   ]
  },
  {
   "cell_type": "code",
   "execution_count": 161,
   "id": "cbaa6c4f-717a-4034-ac6b-fe997fd364d9",
   "metadata": {},
   "outputs": [],
   "source": [
    "unique_processors_clean = mobiles_clean['processor'].unique()"
   ]
  },
  {
   "cell_type": "code",
   "execution_count": 162,
   "id": "39587e9c-51f9-43b9-9d40-8a72a57292ec",
   "metadata": {},
   "outputs": [
    {
     "data": {
      "text/plain": [
       "array(['MediaTek', 'Other', 'Qualcomm', None, 'Apple'], dtype=object)"
      ]
     },
     "execution_count": 162,
     "metadata": {},
     "output_type": "execute_result"
    }
   ],
   "source": [
    "unique_processors_clean"
   ]
  },
  {
   "cell_type": "code",
   "execution_count": 163,
   "id": "2105b377-5d44-4620-99c7-5dbfa7632bd7",
   "metadata": {},
   "outputs": [
    {
     "name": "stdout",
     "output_type": "stream",
     "text": [
      "                                        name  ratings    price  \\\n",
      "0  Redmi Note 12 Pro 5G (Onyx Black, 128 GB)      4.2    23999   \n",
      "1        OPPO F11 Pro (Aurora Green, 128 GB)      4.5  ₹20,999   \n",
      "2     Redmi Note 11 (Starburst White, 64 GB)      4.2    13149   \n",
      "3     OnePlus Nord CE 5G (Blue Void, 256 GB)      4.1    21999   \n",
      "4        Apple iPhone 13 mini (Blue, 128 GB)      4.6     3537   \n",
      "\n",
      "                                              imgURL  \\\n",
      "0  https://rukminim2.flixcart.com/image/312/312/x...   \n",
      "1  https://rukminim2.flixcart.com/image/312/312/k...   \n",
      "2  https://rukminim2.flixcart.com/image/312/312/x...   \n",
      "3  https://rukminim2.flixcart.com/image/312/312/x...   \n",
      "4  https://rukminim2.flixcart.com/image/312/312/k...   \n",
      "\n",
      "                                              corpus  storage   ram   system  \\\n",
      "0  storage128 gbram6  systemandroid 12processor t...    128.0   6.0  Android   \n",
      "1  storage128 gbram6 gbexpandable storage256gb  s...    128.0   6.0  Android   \n",
      "2  storage64 gbram4  systemandroid 11processor sp...     64.0   4.0  Android   \n",
      "3  storage256 gbram12  systemandroid q 11processo...    256.0  12.0  Android   \n",
      "4  storage128  systemios 15processor typea15 bion...    128.0   NaN      iOS   \n",
      "\n",
      "  processor battery_capacity display_size          resolution  \\\n",
      "0  MediaTek             5000      16.94cm  2400 x 1080 pixels   \n",
      "1  MediaTek             4000      16.51cm  2340 x 1080 pixels   \n",
      "2     Other             5000      16.33cm         2400 x 1080   \n",
      "3  Qualcomm             4500      16.33cm         2400 x 1080   \n",
      "4     Other             None      13.72cm  2340 x 1080 pixels   \n",
      "\n",
      "   processor_speed camera network  \n",
      "0              2.6   50mp      5G  \n",
      "1              2.1   48mp      3G  \n",
      "2              2.4   50mp      4G  \n",
      "3              2.4   64mp      5G  \n",
      "4              NaN   12mp      5G  \n",
      "\n",
      "Null values count per column:\n",
      " name                  0\n",
      "ratings               0\n",
      "price                 0\n",
      "imgURL                0\n",
      "corpus                0\n",
      "storage               6\n",
      "ram                 394\n",
      "system               65\n",
      "processor            65\n",
      "battery_capacity    328\n",
      "display_size          0\n",
      "resolution           31\n",
      "processor_speed     447\n",
      "camera                0\n",
      "network              74\n",
      "dtype: int64\n"
     ]
    }
   ],
   "source": [
    "# mobiles_clean.loc[:, 'name'] = mobiles_clean['name'].str.lower()\n",
    "\n",
    "def extract_battery(corpus):\n",
    "    match = re.search(r'capacity(\\d+)', corpus)\n",
    "    if match:\n",
    "        return match.group(1).strip()\n",
    "    return None\n",
    "\n",
    "\n",
    "# Function to extract Display Size\n",
    "def extract_display_size(corpus):\n",
    "    match = re.search(r'(\\d+\\.\\d+\\s?inch)|(\\d+\\.\\d+\\s?cm)', corpus, re.IGNORECASE)\n",
    "    if match:\n",
    "        return match.group(0).replace(\" \", \"\")\n",
    "    return None\n",
    "\n",
    "# Function to extract Resolution\n",
    "def extract_resolution(corpus):\n",
    "    match = re.search(r'(\\d{3,4}\\s?x\\s?\\d{3,4}\\s?pixels)|(\\d{3,4}\\s?x\\s?\\d{3,4})|(hd|full hd|quad hd|4k)', corpus, re.IGNORECASE)\n",
    "    if match:\n",
    "        return match.group(0)\n",
    "    return None\n",
    "    \n",
    "# Enhanced function to extract Processor Speed\n",
    "def extract_processor_speed(corpus):\n",
    "    match = re.search(r'processor\\s*speed\\s*[:\\s]*(\\d+\\.?\\d*)', corpus, re.IGNORECASE)\n",
    "    if match:\n",
    "        return float(match.group(1))\n",
    "    return None\n",
    "\n",
    "# Function to extract Camera\n",
    "def extract_camera(corpus):\n",
    "    match = re.search(r'(\\d+ ?mp)', corpus, re.IGNORECASE)\n",
    "    if match:\n",
    "        return match.group(1).replace(\" \", \"\")\n",
    "    return None\n",
    "\n",
    "def extract_network_from_columns(corpus, name):\n",
    "    combined_text = f\"{corpus} {name}\"  # Combine corpus and name for extraction\n",
    "    # Adjusted regex pattern to include additional variations and whitespace\n",
    "    match = re.search(r'\\b(5g|4g lte|4g|3g|gsm|lte|cdma|umts|hspa|edge|hspda|hspap|nr|wifi|wlan|bluetooth|lte-a|hsp+|5g nr)\\b', combined_text, re.IGNORECASE)\n",
    "    if match:\n",
    "        return match.group(0).upper()  # Return in uppercase for consistency\n",
    "    return None\n",
    "\n",
    "\n",
    "# Apply the extraction functions\n",
    "mobiles_clean.loc[:,'battery_capacity'] = mobiles_clean['corpus'].apply(extract_battery)\n",
    "mobiles_clean.loc[:, 'display_size'] = mobiles_clean['corpus'].apply(extract_display_size)\n",
    "mobiles_clean.loc[:, 'resolution'] = mobiles_clean['corpus'].apply(extract_resolution)\n",
    "mobiles_clean.loc[:,'processor_speed'] = mobiles_clean['corpus'].apply(extract_processor_speed)\n",
    "mobiles_clean.loc[:, 'camera'] = mobiles_clean['corpus'].apply(extract_camera)\n",
    "mobiles_clean.loc[:,'network'] = mobiles_clean.apply(lambda row: extract_network_from_columns(row['corpus'], row['name']), axis=1)\n",
    "\n",
    "# Display the DataFrame with extracted features\n",
    "print(mobiles_clean.head())\n",
    "\n",
    "# Check for null values in extracted features\n",
    "null_values = mobiles_clean.isnull().sum()\n",
    "print(\"\\nNull values count per column:\\n\", null_values)"
   ]
  },
  {
   "cell_type": "code",
   "execution_count": 164,
   "id": "1d7e0637-579a-41a9-bc83-deef995939a9",
   "metadata": {},
   "outputs": [],
   "source": [
    "# # Drop rows where column has null values\n",
    "mobiles_clean = mobiles_clean.dropna(subset=['processor_speed'])\n"
   ]
  },
  {
   "cell_type": "code",
   "execution_count": 165,
   "id": "d7b8e546-bb2b-4c88-9d88-5c3af99d89b4",
   "metadata": {},
   "outputs": [
    {
     "name": "stdout",
     "output_type": "stream",
     "text": [
      "\n",
      "Null values count per column:\n",
      " name                 0\n",
      "ratings              0\n",
      "price                0\n",
      "imgURL               0\n",
      "corpus               0\n",
      "storage              4\n",
      "ram                  8\n",
      "system               0\n",
      "processor            0\n",
      "battery_capacity     0\n",
      "display_size         0\n",
      "resolution          21\n",
      "processor_speed      0\n",
      "camera               0\n",
      "network             63\n",
      "dtype: int64\n"
     ]
    }
   ],
   "source": [
    "# Check for null values in extracted features\n",
    "null_values = mobiles_clean.isnull().sum()\n",
    "print(\"\\nNull values count per column:\\n\", null_values)"
   ]
  },
  {
   "cell_type": "code",
   "execution_count": 166,
   "id": "eb846187",
   "metadata": {},
   "outputs": [],
   "source": [
    "mobiles_clean = mobiles_clean.dropna(subset=['network'])"
   ]
  },
  {
   "cell_type": "code",
   "execution_count": 167,
   "id": "937b527a",
   "metadata": {},
   "outputs": [
    {
     "name": "stdout",
     "output_type": "stream",
     "text": [
      "\n",
      "Null values count per column:\n",
      " name                 0\n",
      "ratings              0\n",
      "price                0\n",
      "imgURL               0\n",
      "corpus               0\n",
      "storage              3\n",
      "ram                  3\n",
      "system               0\n",
      "processor            0\n",
      "battery_capacity     0\n",
      "display_size         0\n",
      "resolution          21\n",
      "processor_speed      0\n",
      "camera               0\n",
      "network              0\n",
      "dtype: int64\n"
     ]
    }
   ],
   "source": [
    "# Check for null values in extracted features\n",
    "null_values = mobiles_clean.isnull().sum()\n",
    "print(\"\\nNull values count per column:\\n\", null_values)"
   ]
  },
  {
   "cell_type": "code",
   "execution_count": 168,
   "id": "227b559e",
   "metadata": {},
   "outputs": [],
   "source": [
    "mobiles_clean = mobiles_clean.dropna(subset=['resolution'])\n"
   ]
  },
  {
   "cell_type": "code",
   "execution_count": 169,
   "id": "279c107d",
   "metadata": {},
   "outputs": [
    {
     "name": "stdout",
     "output_type": "stream",
     "text": [
      "\n",
      "Null values count per column:\n",
      " name                0\n",
      "ratings             0\n",
      "price               0\n",
      "imgURL              0\n",
      "corpus              0\n",
      "storage             3\n",
      "ram                 3\n",
      "system              0\n",
      "processor           0\n",
      "battery_capacity    0\n",
      "display_size        0\n",
      "resolution          0\n",
      "processor_speed     0\n",
      "camera              0\n",
      "network             0\n",
      "dtype: int64\n"
     ]
    }
   ],
   "source": [
    "# Check for null values in extracted features\n",
    "null_values = mobiles_clean.isnull().sum()\n",
    "print(\"\\nNull values count per column:\\n\", null_values)"
   ]
  },
  {
   "cell_type": "code",
   "execution_count": 170,
   "id": "03d4dea5",
   "metadata": {},
   "outputs": [],
   "source": [
    "mobiles_clean = mobiles_clean.dropna(subset=['ram'])"
   ]
  },
  {
   "cell_type": "code",
   "execution_count": 171,
   "id": "9679c78d",
   "metadata": {},
   "outputs": [
    {
     "name": "stdout",
     "output_type": "stream",
     "text": [
      "\n",
      "Null values count per column:\n",
      " name                0\n",
      "ratings             0\n",
      "price               0\n",
      "imgURL              0\n",
      "corpus              0\n",
      "storage             0\n",
      "ram                 0\n",
      "system              0\n",
      "processor           0\n",
      "battery_capacity    0\n",
      "display_size        0\n",
      "resolution          0\n",
      "processor_speed     0\n",
      "camera              0\n",
      "network             0\n",
      "dtype: int64\n"
     ]
    }
   ],
   "source": [
    "# Check for null values in extracted features\n",
    "null_values = mobiles_clean.isnull().sum()\n",
    "print(\"\\nNull values count per column:\\n\", null_values)"
   ]
  },
  {
   "cell_type": "code",
   "execution_count": 172,
   "id": "01b7f5b3-dce4-4176-9c89-1fb9dc4bdb74",
   "metadata": {},
   "outputs": [
    {
     "data": {
      "text/plain": [
       "(2000, 15)"
      ]
     },
     "execution_count": 172,
     "metadata": {},
     "output_type": "execute_result"
    }
   ],
   "source": [
    "mobiles_clean.shape"
   ]
  },
  {
   "cell_type": "code",
   "execution_count": 173,
   "id": "353e43c6-507f-4954-b7f8-5a7a7391e0e6",
   "metadata": {},
   "outputs": [
    {
     "data": {
      "image/png": "[encoded data removed]",
      "text/plain": [
       "<Figure size 1200x600 with 1 Axes>"
      ]
     },
     "metadata": {},
     "output_type": "display_data"
    }
   ],
   "source": [
    "plt.figure(figsize=(12, 6))\n",
    "plt.hist(mobiles_clean['storage'], bins=20, edgecolor='black', color='#00FFFF')\n",
    "plt.title('Distribution of Storage')\n",
    "plt.xlabel('Storage (GB)')\n",
    "plt.ylabel('Count')\n",
    "plt.show()"
   ]
  },
  {
   "cell_type": "code",
   "execution_count": 174,
   "id": "d6dce00b-3e1c-4500-b893-d2c9a137ddb5",
   "metadata": {},
   "outputs": [
    {
     "data": {
      "image/png": "[encoded data removed]",
      "text/plain": [
       "<Figure size 1000x600 with 1 Axes>"
      ]
     },
     "metadata": {},
     "output_type": "display_data"
    }
   ],
   "source": [
    "plt.figure(figsize=(10, 6))\n",
    "plt.hist(mobiles_clean['ram'].dropna(), bins=20, edgecolor='black',color='#FFC0CB') \n",
    "plt.title('Distribution of RAM')\n",
    "plt.xlabel('RAM (GB)')\n",
    "plt.ylabel('Count')\n",
    "plt.show()"
   ]
  },
  {
   "cell_type": "code",
   "execution_count": 175,
   "id": "8942c9fc-0d2a-408e-9618-e9ab123b5bd8",
   "metadata": {},
   "outputs": [
    {
     "data": {
      "image/png": "[encoded data removed]",
      "text/plain": [
       "<Figure size 1000x600 with 1 Axes>"
      ]
     },
     "metadata": {},
     "output_type": "display_data"
    }
   ],
   "source": [
    "plt.figure(figsize=(10, 6))\n",
    "mobiles_clean['system'].value_counts().plot(kind='bar',edgecolor='black',color='#800080')\n",
    "plt.title('Distribution of Operating Systems')\n",
    "plt.xlabel('Operating System')\n",
    "plt.ylabel('Count')\n",
    "plt.show()"
   ]
  },
  {
   "cell_type": "code",
   "execution_count": 176,
   "id": "4176e5f6-7ea3-40ff-9859-5add1376e31b",
   "metadata": {},
   "outputs": [
    {
     "data": {
      "image/png": "[encoded data removed]",
      "text/plain": [
       "<Figure size 1000x600 with 1 Axes>"
      ]
     },
     "metadata": {},
     "output_type": "display_data"
    }
   ],
   "source": [
    "plt.figure(figsize=(10, 6))\n",
    "mobiles_clean['processor'].value_counts().plot(kind='bar',edgecolor='black',color='#808000')\n",
    "plt.title('Distribution of Processors')\n",
    "plt.xlabel('Processor')\n",
    "plt.ylabel('Count')\n",
    "plt.show()"
   ]
  },
  {
   "cell_type": "code",
   "execution_count": 177,
   "id": "087534d0-ebf7-4cd0-a715-a3acd4f756fd",
   "metadata": {},
   "outputs": [],
   "source": [
    "def clean_price(price):\n",
    "    if isinstance(price, (int, float)):  # If the price is already numeric\n",
    "        return int(price)\n",
    "    if isinstance(price, str):  # If the price is a string\n",
    "        cleaned_price = re.sub(r'[^\\d]', '', price)  # Remove all non-numeric characters\n",
    "        if cleaned_price:\n",
    "            return int(cleaned_price)\n",
    "    return None "
   ]
  },
  {
   "cell_type": "code",
   "execution_count": 178,
   "id": "d326d6a0-6465-497d-8fc3-e04d77711c96",
   "metadata": {},
   "outputs": [],
   "source": [
    "mobiles_clean.loc[:,'price'] = mobiles_clean['price'].apply(clean_price)"
   ]
  },
  {
   "cell_type": "code",
   "execution_count": 179,
   "id": "27880671-362f-41f7-8d9c-ee85fc3ab8ff",
   "metadata": {},
   "outputs": [
    {
     "data": {
      "text/html": [
       "<div>\n",
       "<style scoped>\n",
       "    .dataframe tbody tr th:only-of-type {\n",
       "        vertical-align: middle;\n",
       "    }\n",
       "\n",
       "    .dataframe tbody tr th {\n",
       "        vertical-align: top;\n",
       "    }\n",
       "\n",
       "    .dataframe thead th {\n",
       "        text-align: right;\n",
       "    }\n",
       "</style>\n",
       "<table border=\"1\" class=\"dataframe\">\n",
       "  <thead>\n",
       "    <tr style=\"text-align: right;\">\n",
       "      <th></th>\n",
       "      <th>name</th>\n",
       "      <th>ratings</th>\n",
       "      <th>price</th>\n",
       "      <th>imgURL</th>\n",
       "      <th>corpus</th>\n",
       "      <th>storage</th>\n",
       "      <th>ram</th>\n",
       "      <th>system</th>\n",
       "      <th>processor</th>\n",
       "      <th>battery_capacity</th>\n",
       "      <th>display_size</th>\n",
       "      <th>resolution</th>\n",
       "      <th>processor_speed</th>\n",
       "      <th>camera</th>\n",
       "      <th>network</th>\n",
       "    </tr>\n",
       "  </thead>\n",
       "  <tbody>\n",
       "    <tr>\n",
       "      <th>0</th>\n",
       "      <td>Redmi Note 12 Pro 5G (Onyx Black, 128 GB)</td>\n",
       "      <td>4.2</td>\n",
       "      <td>23999</td>\n",
       "      <td>https://rukminim2.flixcart.com/image/312/312/x...</td>\n",
       "      <td>storage128 gbram6  systemandroid 12processor t...</td>\n",
       "      <td>128.0</td>\n",
       "      <td>6.0</td>\n",
       "      <td>Android</td>\n",
       "      <td>MediaTek</td>\n",
       "      <td>5000</td>\n",
       "      <td>16.94cm</td>\n",
       "      <td>2400 x 1080 pixels</td>\n",
       "      <td>2.6</td>\n",
       "      <td>50mp</td>\n",
       "      <td>5G</td>\n",
       "    </tr>\n",
       "    <tr>\n",
       "      <th>1</th>\n",
       "      <td>OPPO F11 Pro (Aurora Green, 128 GB)</td>\n",
       "      <td>4.5</td>\n",
       "      <td>20999</td>\n",
       "      <td>https://rukminim2.flixcart.com/image/312/312/k...</td>\n",
       "      <td>storage128 gbram6 gbexpandable storage256gb  s...</td>\n",
       "      <td>128.0</td>\n",
       "      <td>6.0</td>\n",
       "      <td>Android</td>\n",
       "      <td>MediaTek</td>\n",
       "      <td>4000</td>\n",
       "      <td>16.51cm</td>\n",
       "      <td>2340 x 1080 pixels</td>\n",
       "      <td>2.1</td>\n",
       "      <td>48mp</td>\n",
       "      <td>3G</td>\n",
       "    </tr>\n",
       "    <tr>\n",
       "      <th>2</th>\n",
       "      <td>Redmi Note 11 (Starburst White, 64 GB)</td>\n",
       "      <td>4.2</td>\n",
       "      <td>13149</td>\n",
       "      <td>https://rukminim2.flixcart.com/image/312/312/x...</td>\n",
       "      <td>storage64 gbram4  systemandroid 11processor sp...</td>\n",
       "      <td>64.0</td>\n",
       "      <td>4.0</td>\n",
       "      <td>Android</td>\n",
       "      <td>Other</td>\n",
       "      <td>5000</td>\n",
       "      <td>16.33cm</td>\n",
       "      <td>2400 x 1080</td>\n",
       "      <td>2.4</td>\n",
       "      <td>50mp</td>\n",
       "      <td>4G</td>\n",
       "    </tr>\n",
       "    <tr>\n",
       "      <th>3</th>\n",
       "      <td>OnePlus Nord CE 5G (Blue Void, 256 GB)</td>\n",
       "      <td>4.1</td>\n",
       "      <td>21999</td>\n",
       "      <td>https://rukminim2.flixcart.com/image/312/312/x...</td>\n",
       "      <td>storage256 gbram12  systemandroid q 11processo...</td>\n",
       "      <td>256.0</td>\n",
       "      <td>12.0</td>\n",
       "      <td>Android</td>\n",
       "      <td>Qualcomm</td>\n",
       "      <td>4500</td>\n",
       "      <td>16.33cm</td>\n",
       "      <td>2400 x 1080</td>\n",
       "      <td>2.4</td>\n",
       "      <td>64mp</td>\n",
       "      <td>5G</td>\n",
       "    </tr>\n",
       "    <tr>\n",
       "      <th>6</th>\n",
       "      <td>Redmi 10 Power (Sporty Orange, 128 GB)</td>\n",
       "      <td>4.2</td>\n",
       "      <td>18996</td>\n",
       "      <td>https://rukminim2.flixcart.com/image/312/312/x...</td>\n",
       "      <td>storage128 gbram8  systemandroid 13processor s...</td>\n",
       "      <td>128.0</td>\n",
       "      <td>8.0</td>\n",
       "      <td>Android</td>\n",
       "      <td>Other</td>\n",
       "      <td>6000</td>\n",
       "      <td>17.02cm</td>\n",
       "      <td>2400 x 1080</td>\n",
       "      <td>2.4</td>\n",
       "      <td>50mp</td>\n",
       "      <td>4G</td>\n",
       "    </tr>\n",
       "  </tbody>\n",
       "</table>\n",
       "</div>"
      ],
      "text/plain": [
       "                                        name  ratings  price  \\\n",
       "0  Redmi Note 12 Pro 5G (Onyx Black, 128 GB)      4.2  23999   \n",
       "1        OPPO F11 Pro (Aurora Green, 128 GB)      4.5  20999   \n",
       "2     Redmi Note 11 (Starburst White, 64 GB)      4.2  13149   \n",
       "3     OnePlus Nord CE 5G (Blue Void, 256 GB)      4.1  21999   \n",
       "6     Redmi 10 Power (Sporty Orange, 128 GB)      4.2  18996   \n",
       "\n",
       "                                              imgURL  \\\n",
       "0  https://rukminim2.flixcart.com/image/312/312/x...   \n",
       "1  https://rukminim2.flixcart.com/image/312/312/k...   \n",
       "2  https://rukminim2.flixcart.com/image/312/312/x...   \n",
       "3  https://rukminim2.flixcart.com/image/312/312/x...   \n",
       "6  https://rukminim2.flixcart.com/image/312/312/x...   \n",
       "\n",
       "                                              corpus  storage   ram   system  \\\n",
       "0  storage128 gbram6  systemandroid 12processor t...    128.0   6.0  Android   \n",
       "1  storage128 gbram6 gbexpandable storage256gb  s...    128.0   6.0  Android   \n",
       "2  storage64 gbram4  systemandroid 11processor sp...     64.0   4.0  Android   \n",
       "3  storage256 gbram12  systemandroid q 11processo...    256.0  12.0  Android   \n",
       "6  storage128 gbram8  systemandroid 13processor s...    128.0   8.0  Android   \n",
       "\n",
       "  processor battery_capacity display_size          resolution  \\\n",
       "0  MediaTek             5000      16.94cm  2400 x 1080 pixels   \n",
       "1  MediaTek             4000      16.51cm  2340 x 1080 pixels   \n",
       "2     Other             5000      16.33cm         2400 x 1080   \n",
       "3  Qualcomm             4500      16.33cm         2400 x 1080   \n",
       "6     Other             6000      17.02cm         2400 x 1080   \n",
       "\n",
       "   processor_speed camera network  \n",
       "0              2.6   50mp      5G  \n",
       "1              2.1   48mp      3G  \n",
       "2              2.4   50mp      4G  \n",
       "3              2.4   64mp      5G  \n",
       "6              2.4   50mp      4G  "
      ]
     },
     "execution_count": 179,
     "metadata": {},
     "output_type": "execute_result"
    }
   ],
   "source": [
    "mobiles_clean.head()"
   ]
  },
  {
   "cell_type": "code",
   "execution_count": 180,
   "id": "6b03a85f-cc78-45f7-afb4-617e5bf07d8e",
   "metadata": {},
   "outputs": [
    {
     "data": {
      "image/png": "[encoded data removed]",
      "text/plain": [
       "<Figure size 1000x600 with 1 Axes>"
      ]
     },
     "metadata": {},
     "output_type": "display_data"
    }
   ],
   "source": [
    "plt.figure(figsize=(10, 6))\n",
    "plt.scatter(mobiles_clean['storage'], mobiles_clean['price'], color='#800000')\n",
    "plt.title('Price vs Storage')\n",
    "plt.xlabel('Storage (GB)')\n",
    "plt.ylabel('Price')\n",
    "plt.show()"
   ]
  },
  {
   "cell_type": "code",
   "execution_count": 181,
   "id": "c4ab7b1a-ce2f-40d5-83a9-d8cdc808ded1",
   "metadata": {},
   "outputs": [
    {
     "data": {
      "text/plain": [
       "0.5397554855697059"
      ]
     },
     "execution_count": 181,
     "metadata": {},
     "output_type": "execute_result"
    }
   ],
   "source": [
    "correlation = mobiles_clean['price'].corr(mobiles_clean['storage'])\n",
    "\n",
    "correlation"
   ]
  },
  {
   "cell_type": "code",
   "execution_count": 182,
   "id": "59f4280c-52aa-4b4b-9f76-5dc720cd17ba",
   "metadata": {},
   "outputs": [
    {
     "data": {
      "image/png": "[encoded data removed]",
      "text/plain": [
       "<Figure size 1000x600 with 1 Axes>"
      ]
     },
     "metadata": {},
     "output_type": "display_data"
    }
   ],
   "source": [
    "plt.figure(figsize=(10, 6))\n",
    "plt.scatter(mobiles_clean['ram'], mobiles_clean['price'], color='#00FF00')\n",
    "plt.title('Price vs RAM')\n",
    "plt.xlabel('RAM (GB)')\n",
    "plt.ylabel('Price')\n",
    "plt.show()"
   ]
  },
  {
   "cell_type": "code",
   "execution_count": 183,
   "id": "52bd1a28-1efc-430c-863b-6c632eca0ae6",
   "metadata": {},
   "outputs": [
    {
     "data": {
      "text/plain": [
       "0.08515973249929801"
      ]
     },
     "execution_count": 183,
     "metadata": {},
     "output_type": "execute_result"
    }
   ],
   "source": [
    "correlation = mobiles_clean['price'].corr(mobiles_clean['ram'])\n",
    "\n",
    "correlation"
   ]
  },
  {
   "cell_type": "code",
   "execution_count": 184,
   "id": "fd3787f7-1279-454b-a131-a5b911003268",
   "metadata": {},
   "outputs": [],
   "source": [
    "avg_price_system = mobiles_clean.groupby('system')['price'].mean()"
   ]
  },
  {
   "cell_type": "code",
   "execution_count": 185,
   "id": "951bcb6f-73b9-4716-94d7-26bb12e30c4a",
   "metadata": {},
   "outputs": [
    {
     "data": {
      "image/png": "[encoded data removed]",
      "text/plain": [
       "<Figure size 1000x600 with 1 Axes>"
      ]
     },
     "metadata": {},
     "output_type": "display_data"
    }
   ],
   "source": [
    "plt.figure(figsize=(10, 6))\n",
    "avg_price_system.plot(kind='bar',color='#FFA500')\n",
    "plt.title('Average Price by Operating System')\n",
    "plt.xlabel('Operating System')\n",
    "plt.ylabel('Average Price')\n",
    "plt.show()"
   ]
  },
  {
   "cell_type": "code",
   "execution_count": 186,
   "id": "6b20f04a-fdc0-43f0-a84c-432eb93beec7",
   "metadata": {},
   "outputs": [],
   "source": [
    "avg_price_processor = mobiles_clean.groupby('processor')['price'].mean()"
   ]
  },
  {
   "cell_type": "code",
   "execution_count": 187,
   "id": "4fd89606-f9c9-46f2-ace9-e0ab7efd05cc",
   "metadata": {},
   "outputs": [
    {
     "data": {
      "image/png": "[encoded data removed]",
      "text/plain": [
       "<Figure size 1000x600 with 1 Axes>"
      ]
     },
     "metadata": {},
     "output_type": "display_data"
    }
   ],
   "source": [
    "plt.figure(figsize=(10, 6))\n",
    "avg_price_processor.plot(kind='bar',color='#C299FF')\n",
    "plt.title('Average Price by Processor')\n",
    "plt.xlabel('Processor')\n",
    "plt.ylabel('Average Price')\n",
    "plt.show()"
   ]
  },
  {
   "cell_type": "code",
   "execution_count": 188,
   "id": "fbe98b0e-f804-44e3-bd8d-38c23ed39189",
   "metadata": {},
   "outputs": [
    {
     "data": {
      "image/png": "[encoded data removed]",
      "text/plain": [
       "<Figure size 1000x600 with 1 Axes>"
      ]
     },
     "metadata": {},
     "output_type": "display_data"
    }
   ],
   "source": [
    "plt.figure(figsize=(10, 6))\n",
    "plt.scatter(mobiles_clean['storage'], mobiles_clean['ratings'], color='#B4EEB4')\n",
    "plt.title('Ratings vs Storage')\n",
    "plt.xlabel('Storage (GB)')\n",
    "plt.ylabel('Ratings')\n",
    "plt.show()"
   ]
  },
  {
   "cell_type": "code",
   "execution_count": 189,
   "id": "be10765c-363e-42a0-b844-abe58bb4e3ff",
   "metadata": {},
   "outputs": [
    {
     "data": {
      "text/plain": [
       "-0.09550171700546545"
      ]
     },
     "execution_count": 189,
     "metadata": {},
     "output_type": "execute_result"
    }
   ],
   "source": [
    "correlation = mobiles_clean['ratings'].corr(mobiles_clean['storage'])\n",
    "\n",
    "correlation"
   ]
  },
  {
   "cell_type": "code",
   "execution_count": 190,
   "id": "970383f0-52c6-40f6-b772-7340e58b6cda",
   "metadata": {},
   "outputs": [
    {
     "data": {
      "image/png": "[encoded data removed]",
      "text/plain": [
       "<Figure size 1000x600 with 1 Axes>"
      ]
     },
     "metadata": {},
     "output_type": "display_data"
    }
   ],
   "source": [
    "plt.figure(figsize=(10, 6))\n",
    "plt.scatter(mobiles_clean['ram'], mobiles_clean['ratings'], color='#420079')\n",
    "plt.title('Ratings vs RAM')\n",
    "plt.xlabel('RAM (GB)')\n",
    "plt.ylabel('Ratings')\n",
    "plt.show()"
   ]
  },
  {
   "cell_type": "code",
   "execution_count": 191,
   "id": "9e21742c-c92d-4fbc-925c-35d55a91c97a",
   "metadata": {},
   "outputs": [
    {
     "data": {
      "text/plain": [
       "-0.044079976922328463"
      ]
     },
     "execution_count": 191,
     "metadata": {},
     "output_type": "execute_result"
    }
   ],
   "source": [
    "correlation = mobiles_clean['ratings'].corr(mobiles_clean['ram'])\n",
    "\n",
    "correlation"
   ]
  },
  {
   "cell_type": "code",
   "execution_count": 192,
   "id": "02cf59c8-e5f2-4bb3-88d6-b120feaf69e1",
   "metadata": {},
   "outputs": [],
   "source": [
    "avg_rating_system = mobiles_clean.groupby('system')['ratings'].mean()"
   ]
  },
  {
   "cell_type": "code",
   "execution_count": 193,
   "id": "5f507870-4058-43d3-b7df-3977013c2354",
   "metadata": {},
   "outputs": [
    {
     "data": {
      "image/png": "[encoded data removed]",
      "text/plain": [
       "<Figure size 1000x600 with 1 Axes>"
      ]
     },
     "metadata": {},
     "output_type": "display_data"
    }
   ],
   "source": [
    "plt.figure(figsize=(10, 6))\n",
    "avg_rating_system.plot(kind='bar', color='#F4CCCC')\n",
    "plt.title('Average Rating by Operating System')\n",
    "plt.xlabel('Operating System')\n",
    "plt.ylabel('Average Rating')\n",
    "plt.show()"
   ]
  },
  {
   "cell_type": "code",
   "execution_count": 194,
   "id": "9c6d3e0b-25de-486d-a2dc-46e16c8aa211",
   "metadata": {},
   "outputs": [],
   "source": [
    "avg_rating_processor = mobiles_clean.groupby('processor')['ratings'].mean()"
   ]
  },
  {
   "cell_type": "code",
   "execution_count": 195,
   "id": "ee422e7d-33ce-43e7-a0d4-843904ffeb65",
   "metadata": {},
   "outputs": [
    {
     "data": {
      "image/png": "[encoded data removed]",
      "text/plain": [
       "<Figure size 1000x600 with 1 Axes>"
      ]
     },
     "metadata": {},
     "output_type": "display_data"
    }
   ],
   "source": [
    "plt.figure(figsize=(10, 6))\n",
    "avg_rating_processor.plot(kind='bar', color='#FF00FF')\n",
    "plt.title('Average Rating by Processor')\n",
    "plt.xlabel('Processor')\n",
    "plt.ylabel('Average Rating')\n",
    "plt.show()"
   ]
  },
  {
   "cell_type": "code",
   "execution_count": 196,
   "id": "e26eea3c-8454-4f80-ac19-6a7c4b6c78af",
   "metadata": {},
   "outputs": [],
   "source": [
    "def extract_brand(name):\n",
    "    return name.split()[0]"
   ]
  },
  {
   "cell_type": "code",
   "execution_count": 197,
   "id": "c3c3a1c4-b293-4aeb-9aba-008611136e82",
   "metadata": {},
   "outputs": [],
   "source": [
    "mobiles_clean.loc[:,'brand'] = mobiles_clean['name'].apply(extract_brand)"
   ]
  },
  {
   "cell_type": "code",
   "execution_count": 198,
   "id": "71e6f5bb",
   "metadata": {},
   "outputs": [
    {
     "name": "stdout",
     "output_type": "stream",
     "text": [
      "['Redmi' 'OPPO' 'OnePlus' 'Infinix' 'SAMSUNG' 'vivo' 'Motorola' 'realme'\n",
      " 'Xiaomi' 'Tecno']\n"
     ]
    }
   ],
   "source": [
    "valid_brands = ['Redmi', 'OPPO', 'OnePlus', 'Infinix', 'SAMSUNG', 'vivo', 'Moto', \n",
    "                'realme', 'Mi', 'MOTOROLA', 'Tecno', 'Xiaomi', 'Motorola']\n",
    "\n",
    "# Mapping of incorrect values to correct brands\n",
    "brand_mapping = {\n",
    "    '10T': 'OnePlus',\n",
    "    'Mi': 'Xiaomi',\n",
    "    'MI': 'Xiaomi',\n",
    "    'MI3': 'Xiaomi',\n",
    "    'MI4': 'Xiaomi',\n",
    "    'Note': 'Xiaomi',\n",
    "    '10A': 'Xiaomi',\n",
    "    '13': 'Xiaomi',\n",
    "    '11': 'Xiaomi',\n",
    "    'MOTOROLA': 'Motorola',\n",
    "    'Moto': 'Motorola'\n",
    "}\n",
    "\n",
    "# Correct the brand values in the DataFrame\n",
    "mobiles_clean['brand'] = mobiles_clean['brand'].replace(brand_mapping)\n",
    "\n",
    "# Check unique values after correction\n",
    "unique_brands_corrected = mobiles_clean['brand'].unique()\n",
    "print(unique_brands_corrected)"
   ]
  },
  {
   "cell_type": "code",
   "execution_count": 199,
   "id": "e0c89bd8-cb75-4cb7-877c-47e679a0312b",
   "metadata": {},
   "outputs": [
    {
     "data": {
      "text/html": [
       "<div>\n",
       "<style scoped>\n",
       "    .dataframe tbody tr th:only-of-type {\n",
       "        vertical-align: middle;\n",
       "    }\n",
       "\n",
       "    .dataframe tbody tr th {\n",
       "        vertical-align: top;\n",
       "    }\n",
       "\n",
       "    .dataframe thead th {\n",
       "        text-align: right;\n",
       "    }\n",
       "</style>\n",
       "<table border=\"1\" class=\"dataframe\">\n",
       "  <thead>\n",
       "    <tr style=\"text-align: right;\">\n",
       "      <th></th>\n",
       "      <th>name</th>\n",
       "      <th>ratings</th>\n",
       "      <th>price</th>\n",
       "      <th>imgURL</th>\n",
       "      <th>corpus</th>\n",
       "      <th>storage</th>\n",
       "      <th>ram</th>\n",
       "      <th>system</th>\n",
       "      <th>processor</th>\n",
       "      <th>battery_capacity</th>\n",
       "      <th>display_size</th>\n",
       "      <th>resolution</th>\n",
       "      <th>processor_speed</th>\n",
       "      <th>camera</th>\n",
       "      <th>network</th>\n",
       "      <th>brand</th>\n",
       "    </tr>\n",
       "  </thead>\n",
       "  <tbody>\n",
       "    <tr>\n",
       "      <th>0</th>\n",
       "      <td>Redmi Note 12 Pro 5G (Onyx Black, 128 GB)</td>\n",
       "      <td>4.2</td>\n",
       "      <td>23999</td>\n",
       "      <td>https://rukminim2.flixcart.com/image/312/312/x...</td>\n",
       "      <td>storage128 gbram6  systemandroid 12processor t...</td>\n",
       "      <td>128.0</td>\n",
       "      <td>6.0</td>\n",
       "      <td>Android</td>\n",
       "      <td>MediaTek</td>\n",
       "      <td>5000</td>\n",
       "      <td>16.94cm</td>\n",
       "      <td>2400 x 1080 pixels</td>\n",
       "      <td>2.6</td>\n",
       "      <td>50mp</td>\n",
       "      <td>5G</td>\n",
       "      <td>Redmi</td>\n",
       "    </tr>\n",
       "    <tr>\n",
       "      <th>1</th>\n",
       "      <td>OPPO F11 Pro (Aurora Green, 128 GB)</td>\n",
       "      <td>4.5</td>\n",
       "      <td>20999</td>\n",
       "      <td>https://rukminim2.flixcart.com/image/312/312/k...</td>\n",
       "      <td>storage128 gbram6 gbexpandable storage256gb  s...</td>\n",
       "      <td>128.0</td>\n",
       "      <td>6.0</td>\n",
       "      <td>Android</td>\n",
       "      <td>MediaTek</td>\n",
       "      <td>4000</td>\n",
       "      <td>16.51cm</td>\n",
       "      <td>2340 x 1080 pixels</td>\n",
       "      <td>2.1</td>\n",
       "      <td>48mp</td>\n",
       "      <td>3G</td>\n",
       "      <td>OPPO</td>\n",
       "    </tr>\n",
       "    <tr>\n",
       "      <th>2</th>\n",
       "      <td>Redmi Note 11 (Starburst White, 64 GB)</td>\n",
       "      <td>4.2</td>\n",
       "      <td>13149</td>\n",
       "      <td>https://rukminim2.flixcart.com/image/312/312/x...</td>\n",
       "      <td>storage64 gbram4  systemandroid 11processor sp...</td>\n",
       "      <td>64.0</td>\n",
       "      <td>4.0</td>\n",
       "      <td>Android</td>\n",
       "      <td>Other</td>\n",
       "      <td>5000</td>\n",
       "      <td>16.33cm</td>\n",
       "      <td>2400 x 1080</td>\n",
       "      <td>2.4</td>\n",
       "      <td>50mp</td>\n",
       "      <td>4G</td>\n",
       "      <td>Redmi</td>\n",
       "    </tr>\n",
       "    <tr>\n",
       "      <th>3</th>\n",
       "      <td>OnePlus Nord CE 5G (Blue Void, 256 GB)</td>\n",
       "      <td>4.1</td>\n",
       "      <td>21999</td>\n",
       "      <td>https://rukminim2.flixcart.com/image/312/312/x...</td>\n",
       "      <td>storage256 gbram12  systemandroid q 11processo...</td>\n",
       "      <td>256.0</td>\n",
       "      <td>12.0</td>\n",
       "      <td>Android</td>\n",
       "      <td>Qualcomm</td>\n",
       "      <td>4500</td>\n",
       "      <td>16.33cm</td>\n",
       "      <td>2400 x 1080</td>\n",
       "      <td>2.4</td>\n",
       "      <td>64mp</td>\n",
       "      <td>5G</td>\n",
       "      <td>OnePlus</td>\n",
       "    </tr>\n",
       "    <tr>\n",
       "      <th>6</th>\n",
       "      <td>Redmi 10 Power (Sporty Orange, 128 GB)</td>\n",
       "      <td>4.2</td>\n",
       "      <td>18996</td>\n",
       "      <td>https://rukminim2.flixcart.com/image/312/312/x...</td>\n",
       "      <td>storage128 gbram8  systemandroid 13processor s...</td>\n",
       "      <td>128.0</td>\n",
       "      <td>8.0</td>\n",
       "      <td>Android</td>\n",
       "      <td>Other</td>\n",
       "      <td>6000</td>\n",
       "      <td>17.02cm</td>\n",
       "      <td>2400 x 1080</td>\n",
       "      <td>2.4</td>\n",
       "      <td>50mp</td>\n",
       "      <td>4G</td>\n",
       "      <td>Redmi</td>\n",
       "    </tr>\n",
       "  </tbody>\n",
       "</table>\n",
       "</div>"
      ],
      "text/plain": [
       "                                        name  ratings  price  \\\n",
       "0  Redmi Note 12 Pro 5G (Onyx Black, 128 GB)      4.2  23999   \n",
       "1        OPPO F11 Pro (Aurora Green, 128 GB)      4.5  20999   \n",
       "2     Redmi Note 11 (Starburst White, 64 GB)      4.2  13149   \n",
       "3     OnePlus Nord CE 5G (Blue Void, 256 GB)      4.1  21999   \n",
       "6     Redmi 10 Power (Sporty Orange, 128 GB)      4.2  18996   \n",
       "\n",
       "                                              imgURL  \\\n",
       "0  https://rukminim2.flixcart.com/image/312/312/x...   \n",
       "1  https://rukminim2.flixcart.com/image/312/312/k...   \n",
       "2  https://rukminim2.flixcart.com/image/312/312/x...   \n",
       "3  https://rukminim2.flixcart.com/image/312/312/x...   \n",
       "6  https://rukminim2.flixcart.com/image/312/312/x...   \n",
       "\n",
       "                                              corpus  storage   ram   system  \\\n",
       "0  storage128 gbram6  systemandroid 12processor t...    128.0   6.0  Android   \n",
       "1  storage128 gbram6 gbexpandable storage256gb  s...    128.0   6.0  Android   \n",
       "2  storage64 gbram4  systemandroid 11processor sp...     64.0   4.0  Android   \n",
       "3  storage256 gbram12  systemandroid q 11processo...    256.0  12.0  Android   \n",
       "6  storage128 gbram8  systemandroid 13processor s...    128.0   8.0  Android   \n",
       "\n",
       "  processor battery_capacity display_size          resolution  \\\n",
       "0  MediaTek             5000      16.94cm  2400 x 1080 pixels   \n",
       "1  MediaTek             4000      16.51cm  2340 x 1080 pixels   \n",
       "2     Other             5000      16.33cm         2400 x 1080   \n",
       "3  Qualcomm             4500      16.33cm         2400 x 1080   \n",
       "6     Other             6000      17.02cm         2400 x 1080   \n",
       "\n",
       "   processor_speed camera network    brand  \n",
       "0              2.6   50mp      5G    Redmi  \n",
       "1              2.1   48mp      3G     OPPO  \n",
       "2              2.4   50mp      4G    Redmi  \n",
       "3              2.4   64mp      5G  OnePlus  \n",
       "6              2.4   50mp      4G    Redmi  "
      ]
     },
     "execution_count": 199,
     "metadata": {},
     "output_type": "execute_result"
    }
   ],
   "source": [
    "mobiles_clean.head()"
   ]
  },
  {
   "cell_type": "code",
   "execution_count": 200,
   "id": "22c57baa-2629-4e51-bd09-5e1ac0a51502",
   "metadata": {},
   "outputs": [
    {
     "data": {
      "image/png": "[encoded data removed]",
      "text/plain": [
       "<Figure size 1000x600 with 1 Axes>"
      ]
     },
     "metadata": {},
     "output_type": "display_data"
    }
   ],
   "source": [
    "plt.figure(figsize=(10, 6))\n",
    "mobiles_clean['brand'].value_counts().plot(kind='bar',color='#ff9999')\n",
    "plt.title('Distribution of Brands')\n",
    "plt.xlabel('Brand')\n",
    "plt.ylabel('Count')\n",
    "plt.show()"
   ]
  },
  {
   "cell_type": "code",
   "execution_count": 201,
   "id": "e52f9624-5d38-483e-9264-ccc08424806c",
   "metadata": {},
   "outputs": [],
   "source": [
    "avg_price_brand = mobiles_clean.groupby('brand')['price'].mean()"
   ]
  },
  {
   "cell_type": "code",
   "execution_count": 202,
   "id": "922a8e35-4fd8-4a5d-8215-cfee86732431",
   "metadata": {},
   "outputs": [
    {
     "data": {
      "image/png": "[encoded data removed]",
      "text/plain": [
       "<Figure size 1000x600 with 1 Axes>"
      ]
     },
     "metadata": {},
     "output_type": "display_data"
    }
   ],
   "source": [
    "plt.figure(figsize=(10, 6))\n",
    "avg_price_brand.plot(kind='bar',color='#ff0080')\n",
    "plt.title('Average Price by Brand')\n",
    "plt.xlabel('Brand')\n",
    "plt.ylabel('Average Price')\n",
    "plt.show()"
   ]
  },
  {
   "cell_type": "code",
   "execution_count": 203,
   "id": "2395e476-cf28-4731-8fd9-b63fc82aad38",
   "metadata": {},
   "outputs": [],
   "source": [
    "avg_rating_brand = mobiles_clean.groupby('brand')['ratings'].mean()"
   ]
  },
  {
   "cell_type": "code",
   "execution_count": 204,
   "id": "fab5179f-254c-46ca-ad69-9c389a6d86fc",
   "metadata": {},
   "outputs": [
    {
     "data": {
      "image/png": "[encoded data removed]",
      "text/plain": [
       "<Figure size 1000x600 with 1 Axes>"
      ]
     },
     "metadata": {},
     "output_type": "display_data"
    }
   ],
   "source": [
    "plt.figure(figsize=(10, 6))\n",
    "avg_rating_brand.plot(kind='bar' ,color='#bf00ff')\n",
    "plt.title('Average Rating by Brand')\n",
    "plt.xlabel('Brand')\n",
    "plt.ylabel('Average Rating')\n",
    "plt.show()"
   ]
  },
  {
   "cell_type": "code",
   "execution_count": 205,
   "id": "f02daf84-7393-4abc-8b6c-2dc57afd3f81",
   "metadata": {},
   "outputs": [
    {
     "data": {
      "text/plain": [
       "Index(['name', 'ratings', 'price', 'imgURL', 'corpus', 'storage', 'ram',\n",
       "       'system', 'processor', 'battery_capacity', 'display_size', 'resolution',\n",
       "       'processor_speed', 'camera', 'network', 'brand'],\n",
       "      dtype='object')"
      ]
     },
     "execution_count": 205,
     "metadata": {},
     "output_type": "execute_result"
    }
   ],
   "source": [
    "mobiles_clean.columns"
   ]
  },
  {
   "cell_type": "code",
   "execution_count": 206,
   "id": "0c3bccbd-e03a-4c07-8d20-11ab63fb5dec",
   "metadata": {},
   "outputs": [],
   "source": [
    "numeric_features = ['storage', 'ram', 'price', 'ratings', 'battery_capacity', 'processor_speed']\n",
    "categorical_features = ['system', 'processor', 'brand', 'camera', 'network', 'display_size']"
   ]
  },
  {
   "cell_type": "code",
   "execution_count": 207,
   "id": "76b8b6d6-d4c0-4677-8940-91f619188400",
   "metadata": {},
   "outputs": [],
   "source": [
    "numeric_transformer = Pipeline(steps=[\n",
    "    ('imputer', SimpleImputer(strategy='median')),\n",
    "    ('scaler', StandardScaler())])"
   ]
  },
  {
   "cell_type": "code",
   "execution_count": 208,
   "id": "68633103-a697-4343-b048-75ee700a9722",
   "metadata": {},
   "outputs": [],
   "source": [
    "categorical_transformer = Pipeline(steps=[\n",
    "    ('imputer', SimpleImputer(strategy='constant', fill_value='missing')),\n",
    "   ('onehot', OneHotEncoder(handle_unknown='ignore'))])"
   ]
  },
  {
   "cell_type": "code",
   "execution_count": 209,
   "id": "dff128e5-e858-4efa-a844-933910a7028a",
   "metadata": {},
   "outputs": [],
   "source": [
    "preprocessor = ColumnTransformer(\n",
    "    transformers=[\n",
    "        ('num', numeric_transformer, numeric_features),\n",
    "        ('cat', categorical_transformer, categorical_features)])"
   ]
  },
  {
   "cell_type": "code",
   "execution_count": 210,
   "id": "9f864fff-0af2-4bda-b0bd-d3eafbb799ad",
   "metadata": {},
   "outputs": [
    {
     "name": "stdout",
     "output_type": "stream",
     "text": [
      "words max len in corpus is: 1199\n"
     ]
    }
   ],
   "source": [
    "max_len = 0\n",
    "for i in range(0, len(mobiles_clean['corpus'])):\n",
    "    try:\n",
    "        if len(mobiles_clean['corpus'][i]) > max_len:\n",
    "            max_len = len(mobiles_clean['corpus'][i])\n",
    "    except:\n",
    "        pass\n",
    "\n",
    "print(f'words max len in corpus is: {max_len}')"
   ]
  },
  {
   "cell_type": "code",
   "execution_count": 211,
   "id": "ce5a38cb-c4c4-4146-a65c-568ee093211c",
   "metadata": {},
   "outputs": [],
   "source": [
    "#convert text to matrix\n",
    "from sklearn.feature_extraction.text import CountVectorizer  "
   ]
  },
  {
   "cell_type": "code",
   "execution_count": 212,
   "id": "db778a31-a979-4f0f-9256-cdb1ce1ad7e3",
   "metadata": {},
   "outputs": [],
   "source": [
    "corpus = mobiles_clean['corpus'].astype(str).tolist() "
   ]
  },
  {
   "cell_type": "code",
   "execution_count": 213,
   "id": "0cb4239f-da66-408f-8947-43c75e808b1d",
   "metadata": {},
   "outputs": [],
   "source": [
    "#limit the number of words to consider\n",
    "cont_vect = CountVectorizer(max_features=1000)"
   ]
  },
  {
   "cell_type": "code",
   "execution_count": 214,
   "id": "eea6c410-889f-4372-a4dd-4dd736466a6e",
   "metadata": {},
   "outputs": [],
   "source": [
    "X = cont_vect.fit_transform(corpus)\n",
    "vectors = X.toarray()"
   ]
  },
  {
   "cell_type": "code",
   "execution_count": 215,
   "id": "26cf0e1a-183b-418a-a186-9c8e7f9cbf37",
   "metadata": {},
   "outputs": [],
   "source": [
    "feature_names=cont_vect.get_feature_names_out()"
   ]
  },
  {
   "cell_type": "code",
   "execution_count": 216,
   "id": "70f57793-eeaf-4032-9f9c-81f2d5c86001",
   "metadata": {},
   "outputs": [
    {
     "data": {
      "text/plain": [
       "array(['000', '02', '03', '04', '05', '05mm', '07', '07bother', '08',\n",
       "       '09', '0mp', '0processor', '10', '100', '1000', '100000',\n",
       "       '1000000', '1000mhzdisplay', '100mp', '103', '104', '106', '1080',\n",
       "       '1080processor', '1080resolution', '108mp', '10mp', '10processor',\n",
       "       '11', '1100', '11processor', '12', '120', '1200', '1200processor',\n",
       "       '120hz', '1280processor', '12mp', '12processor', '13', '1300',\n",
       "       '1300processor', '1330', '135', '135hz', '1380', '13mp',\n",
       "       '13processor', '1400', '144', '1440', '144hz', '144hzother',\n",
       "       '1480', '15', '1500', '1500nits', '1520', '1544', '1560resolution',\n",
       "       '16', '1600', '16000', '1600resolution', '1612', '1640', '16mp',\n",
       "       '18', '180', '180hz', '19', '1920hz', '1processor', '20',\n",
       "       '2000000', '200mp', '20mp', '21', '22', '23', '2340', '24', '240',\n",
       "       '2400', '2400resolution', '2408', '240hz', '2460', '24mp', '25mm',\n",
       "       '25mp', '26', '27', '28', '2d', '2g', '2ghzprocessor', '2k', '2mm',\n",
       "       '2mp', '2processor', '2x', '2xhd', '308display', '30hz', '32',\n",
       "       '32mm', '32mp', '33', '35', '36', '360', '37', '38', '39', '3d',\n",
       "       '3g', '3ghzprocessor', '3mp', '400', '4000000', '400nits', '401',\n",
       "       '405other', '40mp', '41', '420', '420nits', '425processor', '43',\n",
       "       '430', '430nit', '439processor', '44', '440', '441', '44mm',\n",
       "       '44mp', '45', '450', '4500000', '450processor', '460processor',\n",
       "       '46mm', '47', '48', '480', '480hz', '480nits', '48hz', '48mp',\n",
       "       '49', '4g', '4ghzprocessor', '4mp', '4processor', '50', '500',\n",
       "       '5000000', '500nit', '500nits', '505', '505display', '505other',\n",
       "       '506display', '509display', '50hz', '50mp', '51', '510other',\n",
       "       '512display', '515', '52', '53', '54', '55', '550', '56', '58',\n",
       "       '580', '59', '5d', '5g', '5ghzprocessor', '5gprocessor', '5mp',\n",
       "       '60', '600', '60000', '6020processor', '6080processor', '60hz',\n",
       "       '60mp', '61', '610', '610display', '612display', '615',\n",
       "       '616display', '618display', '619display', '62', '620display',\n",
       "       '625', '625processor', '636processor', '64', '640display',\n",
       "       '640other', '642ldisplay', '64mp', '65', '650', '650display', '66',\n",
       "       '660', '660display', '662processor', '665', '665processor', '67',\n",
       "       '675processor', '67mm', '680', '680processor', '69', '695',\n",
       "       '695processor', '6mm', '6processor', '70', '700', '700processor',\n",
       "       '7050processor', '70mm', '71', '712', '72', '720', '7200',\n",
       "       '720gprocessor', '720resolution', '73', '730display',\n",
       "       '730processor', '732gprocessor', '74', '740display', '75',\n",
       "       '750gprocessor', '76', '765gprocessor', '76mm', '77', '778g',\n",
       "       '778gprocessor', '78', '7m', '7mother', '7processor', '7t', '80',\n",
       "       '800', '800uprocessor', '81', '810', '8100processor',\n",
       "       '810processor', '82', '8200processor', '83', '84', '85', '850',\n",
       "       '850processor', '855', '855processor', '86', '865processor', '87',\n",
       "       '870processor', '87mm', '88', '888', '888processor', '89', '8mp',\n",
       "       '8processor', '90', '900', '900processor', '90hz', '90nit', '91',\n",
       "       '92', '920processor', '93', '94', '95', '950', '95mm', '96',\n",
       "       '9610processor', '9611', '9611processor', '97', '970', '98',\n",
       "       '9825processor', '98mm', '99', '9processor', '9xm', 'a20processor',\n",
       "       'a22processor', 'a25processor', 'a618display', 'a619display', 'aa',\n",
       "       'access', 'active', 'adaptive', 'adjustment', 'adreno',\n",
       "       'adrenodisplay', 'agc', 'aieprocessor', 'all', 'amazon', 'ambient',\n",
       "       'amoled', 'amoleddisplay', 'amoledhd', 'amoledother', 'an', 'and',\n",
       "       'android', 'anti', 'anywhere', 'app', 'area', 'arrangement',\n",
       "       'aspect', 'at', 'auo', 'back', 'based', 'bazel', 'bezel', 'bezels',\n",
       "       'billion', 'billionother', 'bit', 'blue', 'body', 'border',\n",
       "       'bottom', 'brightness', 'by', 'c3', 'camera', 'capacitive',\n",
       "       'capacity3000', 'capacity3010', 'capacity3075', 'capacity3080',\n",
       "       'capacity3180', 'capacity3200', 'capacity3260', 'capacity3300',\n",
       "       'capacity3400', 'capacity3500', 'capacity3700', 'capacity3765',\n",
       "       'capacity3800', 'capacity3900', 'capacity4000', 'capacity4015',\n",
       "       'capacity4020', 'capacity4025', 'capacity4030', 'capacity4050',\n",
       "       'capacity4100', 'capacity4115', 'capacity4200', 'capacity4230',\n",
       "       'capacity4250', 'capacity4300', 'capacity4400', 'capacity4500',\n",
       "       'capacity4520', 'capacity4600', 'capacity4700', 'capacity4800',\n",
       "       'capacity4830', 'capacity5000', 'capacity5020', 'capacity5160',\n",
       "       'capacity6000', 'capacity7000', 'care', 'cast', 'cell',\n",
       "       'celldisplay', 'cellother', 'certification', 'certified', 'clear',\n",
       "       'clocked', 'cm', 'coating', 'cof', 'cog', 'color', 'coloros',\n",
       "       'colorother', 'colors', 'colors1', 'colors10', 'colors16',\n",
       "       'colors16m', 'colors16mother', 'colors2kother', 'colorscontrast',\n",
       "       'colour', 'comfort', 'contrast', 'control', 'core',\n",
       "       'coreprocessor', 'corning', 'cover', 'coverage', 'covering',\n",
       "       'curved', 'cut', 'dc', 'dci', 'defination', 'degree', 'design',\n",
       "       'dewdrop', 'dimensity', 'dimming', 'dinorex', 'display',\n",
       "       'displaydisplay', 'displaygpuadreno', 'displaygpuarm',\n",
       "       'displaygpuqualcomm', 'displayhd', 'displaymate', 'displayother',\n",
       "       'dolby', 'dot', 'down', 'dsbj', 'dynamic', 'e3', 'e5', 'edge',\n",
       "       'edition', 'endless', 'enhancer', 'experience', 'exynos', 'eye',\n",
       "       'f01', 'face', 'features120', 'features1200nits', 'features120hz',\n",
       "       'features144', 'features1500', 'features16', 'features180',\n",
       "       'features180hz', 'features19', 'features2', 'features20',\n",
       "       'features2k', 'features480', 'features6', 'features60',\n",
       "       'features60hz', 'features89', 'features90', 'features90hz',\n",
       "       'featuresadaptive', 'featuresaspect', 'featuresbezel',\n",
       "       'featurescapacitive', 'featurescontrast', 'featurescorning',\n",
       "       'featuresdisplay', 'featuresdolby', 'featuresdual',\n",
       "       'featuresfullview', 'featureshalo', 'featureshdr', 'featureshdr10',\n",
       "       'featuresin', 'featuresips', 'featuresjdi', 'featuresnarrow',\n",
       "       'featuresnotch', 'featureson', 'featuresrefresh', 'featuresscreen',\n",
       "       'featurestouch', 'featuresupper', 'featuresvideo', 'fhd', 'film',\n",
       "       'fingerprint', 'for', 'fps', 'frame', 'from', 'front', 'full',\n",
       "       'fullview', 'funtouch', 'g25processor', 'g35processor',\n",
       "       'g37processor', 'g52', 'g52display', 'g52hd', 'g57', 'g57display',\n",
       "       'g610', 'g68', 'g68display', 'g70processor', 'g71', 'g72',\n",
       "       'g72display', 'g76', 'g76display', 'g77', 'g77display',\n",
       "       'g80processor', 'g85processor', 'g88processor', 'g90tprocessor',\n",
       "       'g95processor', 'g96processor', 'g99processor', 'game', 'gamut',\n",
       "       'gbexpandable', 'gbram1', 'gbram12', 'gbram16', 'gbram2', 'gbram3',\n",
       "       'gbram4', 'gbram6', 'gbram8', 'gbtotal', 'ge8230display', 'ge8320',\n",
       "       'ge8320display', 'ge8320other', 'ge8322display', 'gen',\n",
       "       'generation', 'gentle', 'gestures', 'gff', 'gg3', 'gg5', 'ghz',\n",
       "       'ghzprocessor', 'glass', 'go', 'goprocessor', 'gorilla', 'gpu',\n",
       "       'gpuadreno', 'gpuarm', 'gpuge8320display', 'gpuimagination',\n",
       "       'gpuimg', 'gpumali', 'gpupowervr', 'gpuqualcomm', 'halo', 'hbm',\n",
       "       'hd', 'hdgpuadreno', 'hdgpuarm', 'hdgpumali', 'hdgpuqualcomm',\n",
       "       'hdr', 'hdr10', 'helio', 'high', 'hios', 'hole', 'holitech', 'hp8',\n",
       "       'hz', 'immersive', 'improved', 'in', 'incell', 'inch', 'increase',\n",
       "       'infinity', 'ips', 'ipsdisplay', 'ipsother', 'is', 'jdi', 'kitkat',\n",
       "       'layer', 'lcd', 'lcddisplay', 'lcdhd', 'lcdother', 'left',\n",
       "       'lenses', 'level', 'light', 'local', 'lock', 'lollipop', 'low',\n",
       "       'lower', 'ltps', 'main', 'mali', 'marshmallow', 'material', 'max',\n",
       "       'maximum', 'mc10display', 'mc2', 'mc2display', 'mc3display', 'mc4',\n",
       "       'mc4display', 'mc5display', 'mc6display', 'mc9display', 'mediatek',\n",
       "       'memc', 'memory128gb', 'memory256gb', 'memory32gb', 'memory64gb',\n",
       "       'mhz', 'mhzdisplay', 'mhzother', 'million', 'millionother', 'min',\n",
       "       'minimum', 'mirror', 'miui', 'mm', 'mn228', 'mobile', 'mode',\n",
       "       'modules', 'more', 'mother', 'motion', 'movies', 'mp12display',\n",
       "       'mp1display', 'mp2', 'mp2display', 'mp3', 'mp3display',\n",
       "       'mp4display', 'mp5display', 'msm450', 'mt6739processor', 'mt6750',\n",
       "       'mt6762processor', 'mt6765', 'mt6768', 'mt6769h', 'mt6769z',\n",
       "       'mt6771v', 'mt6833v', 'mtk6737', 'mtk6762', 'multi', 'nano',\n",
       "       'narrow', 'neg', 'netflix', 'never', 'new', 'next', 'night',\n",
       "       'nighttime', 'nit', 'nits', 'nm', 'no', 'normal', 'notch',\n",
       "       'nougat', 'ntsc', 'octa', 'octacoreprocessor', 'of', 'off', 'oled',\n",
       "       'oleddisplay', 'oleophobic', 'oleophophic', 'oleophpbic', 'on',\n",
       "       'oncell', 'oneplus', 'oreo', 'os', 'other', 'outside', 'over',\n",
       "       'oxygen', 'oxygenos', 'oxygenosprocessor', 'p22', 'p22processor',\n",
       "       'p2i', 'p3', 'p35', 'p35processor', 'p60', 'p70', 'p70processor',\n",
       "       'p95processor', 'panda', 'panel', 'peak', 'percent', 'peripheral',\n",
       "       'pet', 'phone', 'photos', 'pie', 'pixel', 'pixelgpuadreno',\n",
       "       'pixelresolution', 'pixels', 'pixelsdisplay', 'pixelsgpuadreno',\n",
       "       'pixelsgpuarm', 'pixelsresolution', 'platformprocessor',\n",
       "       'playback', 'plus', 'plushd', 'plusprocessor', 'points', 'poled',\n",
       "       'powervr', 'powervrdisplay', 'ppi', 'pro', 'process', 'processor',\n",
       "       'processorprocessor', 'produces', 'proof', 'proportion',\n",
       "       'protected', 'protection', 'protective', 'protector', 'punch',\n",
       "       'pwm', 'pwm2160hz', 'quad', 'rate', 'ratio', 'rdother', 'reading',\n",
       "       'reduction', 'refresh', 'repellent', 'resistant', 'resolution',\n",
       "       'resolution1080', 'resolution1080x2400', 'resolution1280',\n",
       "       'resolution1440', 'resolution1520', 'resolution1560',\n",
       "       'resolution1600', 'resolution1600x720', 'resolution1612',\n",
       "       'resolution1612x720', 'resolution1640', 'resolution1650',\n",
       "       'resolution1650x720', 'resolution1920', 'resolution1920x1080',\n",
       "       'resolution2160', 'resolution2160x1080', 'resolution2176',\n",
       "       'resolution2208', 'resolution2280', 'resolution2340',\n",
       "       'resolution2340x1080', 'resolution2376', 'resolution2400',\n",
       "       'resolution2400x1080', 'resolution2404', 'resolution2408',\n",
       "       'resolution2408x1080', 'resolution2412', 'resolution2460',\n",
       "       'resolution2480', 'resolution2520', 'resolution2640',\n",
       "       'resolution2772x1240', 'resolution2960', 'resolution3088',\n",
       "       'resolution3120', 'resolution3216', 'resolution3216x1440',\n",
       "       'resolution720', 'resolution720x1600', 'resolution720x2408',\n",
       "       'response', 'responsive', 'rgb', 'rheinland', 'right', 's5e3830',\n",
       "       's5e8535', 'safer', 'samoled', 'sampling', 'samsung', 'saturation',\n",
       "       'sc9863a1processor', 'sc9863aprocessor', 'scan', 'schott',\n",
       "       'scratch', 'screen', 'sdm450', 'sealing', 'seamless', 'sensor',\n",
       "       'sgs', 'si', 'side', 'sides', 'simply', 'size', 'size12', 'size13',\n",
       "       'size14', 'size15', 'size16', 'size17', 'size19', 'slim',\n",
       "       'sm6150processor', 'sm6225', 'sm6375', 'smart', 'smartphone',\n",
       "       'smooth', 'snapdragon', 'space', 'speed1', 'speed120', 'speed2',\n",
       "       'speed3', 'speed90', 'splash', 'srf', 'srgb', 'standard', 'static',\n",
       "       'storage128', 'storage128gb', 'storage16', 'storage1tb',\n",
       "       'storage256', 'storage256gb', 'storage2tb', 'storage32',\n",
       "       'storage32gb', 'storage512', 'storage512b', 'storage512gb',\n",
       "       'storage64', 'storage8', 'stroboscopic', 'sunlight', 'sunshine',\n",
       "       'super', 'supplier', 'support', 'supports', 'supportyes',\n",
       "       'supportyesdisplay', 'supportyesother', 'sync', 'systemandroid',\n",
       "       'systemandroidprocessor', 't2x', 't606processor', 't610processor',\n",
       "       't612processor', 't616processor', 't830', 't860', 'technology',\n",
       "       'temperature', 'texture', 'tft', 'tftother', 'that', 'the', 'to',\n",
       "       'top', 'touch', 'tp', 'triple', 'truecolor', 'trymdisplay', 'tsr',\n",
       "       'tuv', 'typ', 'type', 'type2', 'typeamoled', 'typeamoleddisplay',\n",
       "       'typeamoledother', 'typecapacitive', 'typedimensity',\n",
       "       'typedotdisplayhd', 'typedynamic', 'typeexynos', 'typefhd',\n",
       "       'typefluid', 'typefull', 'typehd', 'typehddisplay',\n",
       "       'typehdgpuadreno', 'typehdgpuarm', 'typehdgpumali', 'typehelio',\n",
       "       'typein', 'typeips', 'typeipsother', 'typelcdhd', 'typelcdother',\n",
       "       'typemediatek', 'typemt6763tprocessor', 'typemtk', 'typeocta',\n",
       "       'typepls', 'typequad', 'typequalcomm', 'typesamsung', 'typesec',\n",
       "       'typesnapdragon', 'typesuper', 'typetft', 'typetftdisplay',\n",
       "       'typetftother', 'typeunisoc', 'typical', 'tüv', 'ultra',\n",
       "       'ums9230processor', 'under', 'unlock', 'up', 'upper', 'upto',\n",
       "       'usb', 'v12', 'value', 'victus', 'view', 'vision', 'visuals',\n",
       "       'vivid', 'water', 'waterdrop', 'wide', 'will', 'with', 'xensation',\n",
       "       'you'], dtype=object)"
      ]
     },
     "execution_count": 216,
     "metadata": {},
     "output_type": "execute_result"
    }
   ],
   "source": [
    "feature_names"
   ]
  },
  {
   "cell_type": "code",
   "execution_count": 217,
   "id": "cdd4c913-775a-4611-a50c-a0c27d957812",
   "metadata": {},
   "outputs": [
    {
     "data": {
      "text/plain": [
       "(2000, 2000)"
      ]
     },
     "execution_count": 217,
     "metadata": {},
     "output_type": "execute_result"
    }
   ],
   "source": [
    "#from vectors matrix shape\n",
    "similarity = cosine_similarity(vectors)\n",
    "similarity.shape"
   ]
  },
  {
   "cell_type": "code",
   "execution_count": 218,
   "id": "863467f4-714d-4bc1-bf6e-272638ea0eb2",
   "metadata": {},
   "outputs": [
    {
     "data": {
      "text/plain": [
       "array([0.3345748 , 0.17429787, 0.53136893, ..., 0.57564968, 0.2732972 ,\n",
       "       0.37283655])"
      ]
     },
     "execution_count": 218,
     "metadata": {},
     "output_type": "execute_result"
    }
   ],
   "source": [
    "#cosine similarity between the 4th row and all other rows, including itself\n",
    "similarity[3]"
   ]
  },
  {
   "cell_type": "code",
   "execution_count": 219,
   "id": "2229ab11-b3d7-4bb1-bd7f-9716e50e5dc2",
   "metadata": {},
   "outputs": [
    {
     "data": {
      "text/plain": [
       "[(59, 1.0000000000000007),\n",
       " (240, 1.0000000000000007),\n",
       " (481, 0.9850746268656723),\n",
       " (1147, 0.9850746268656723),\n",
       " (368, 0.9701492537313439),\n",
       " (804, 0.9701492537313439),\n",
       " (1364, 0.9701492537313439),\n",
       " (449, 0.9468131937613651),\n",
       " (881, 0.9468131937613651),\n",
       " (1209, 0.9468131937613651)]"
      ]
     },
     "execution_count": 219,
     "metadata": {},
     "output_type": "execute_result"
    }
   ],
   "source": [
    "#sorts the similarity scores of the 1st row with respect to all other rows, excluding the row itself\n",
    "#retrieves the top 10 most similar rows\n",
    "sorted(list(enumerate(similarity[0])),reverse=True,key=lambda x:x[1])[1:11]"
   ]
  },
  {
   "cell_type": "code",
   "execution_count": 220,
   "id": "31bbcfdb-0cf0-44cd-9427-a55c1d7496c0",
   "metadata": {},
   "outputs": [],
   "source": [
    "def recommend(mobile):\n",
    "    # Find the index of the given mobile\n",
    "    mobile_indices = mobiles_clean[mobiles_clean['name'] == mobile].index\n",
    "    \n",
    "    # Check if the mobile exists in the DataFrame\n",
    "    if mobile_indices.empty:\n",
    "        print(f\"The mobile '{mobile}' is not found in the database.\")\n",
    "        return\n",
    "    \n",
    "    mobile_index = mobile_indices[0]  # Get the first index if it exists\n",
    "    \n",
    "    # Retrieve similarity scores\n",
    "    similarity_array = similarity[mobile_index]\n",
    "    \n",
    "    # Find top 10 similar mobiles\n",
    "    similar_10_mobiles = sorted(list(enumerate(similarity_array)), reverse=True, key=lambda x: x[1])[1:11]\n",
    "    \n",
    "    # Print the names of the top 10 similar mobiles\n",
    "    for i in similar_10_mobiles:\n",
    "        print(mobiles_clean['name'].iloc[i[0]])"
   ]
  },
  {
   "cell_type": "code",
   "execution_count": 221,
   "id": "118fb35f-55c2-4fa2-9c76-fa29725775a3",
   "metadata": {},
   "outputs": [
    {
     "name": "stdout",
     "output_type": "stream",
     "text": [
      "Redmi Note 11 (Horizon Blue, 64 GB)\n",
      "Redmi Note 11 (Space Black, 64 GB)\n",
      "Redmi Note 11 (Starburst White, 64 GB)\n",
      "Redmi Note 11 (Space Black, 64 GB)\n",
      "Redmi Note 11 (Horizon Blue, 128 GB)\n",
      "Redmi Note 11S (Horizon Blue, 64 GB)\n",
      "Redmi 10 Prime (Phantom Black, 64 GB)\n",
      "Redmi Note 10 lite (Glacier White, 64 GB)\n",
      "Redmi Note 11T 5G (Aquamarine Blue, 64 GB)\n",
      "Redmi 10 Prime (Phantom Black, 64 GB)\n"
     ]
    }
   ],
   "source": [
    "recommend('Redmi Note 11 (Starburst White, 64 GB)')"
   ]
  },
  {
   "cell_type": "code",
   "execution_count": 222,
   "id": "4829e7a3",
   "metadata": {},
   "outputs": [
    {
     "name": "stdout",
     "output_type": "stream",
     "text": [
      "['Redmi Note 12 Pro 5G (Onyx Black, 128 GB)'\n",
      " 'OPPO F11 Pro (Aurora Green, 128 GB)'\n",
      " 'Redmi Note 11 (Starburst White, 64 GB)' ...\n",
      " 'MOTOROLA g72 (Meteorite Grey, 128 GB)'\n",
      " 'SAMSUNG Galaxy S20 FE 5G (Cloud Navy, 128 GB)'\n",
      " 'Redmi Note 9 (Shadow Black, 64 GB)']\n"
     ]
    }
   ],
   "source": [
    "unique_names = mobiles_clean['name'].unique()\n",
    "print(unique_names)\n"
   ]
  },
  {
   "cell_type": "code",
   "execution_count": 223,
   "id": "c34bd0b1",
   "metadata": {},
   "outputs": [
    {
     "name": "stdout",
     "output_type": "stream",
     "text": [
      "Predicted relevance labels based on cosine similarity: [0 0 1 ... 1 0 0]\n",
      "True relevance labels based on specs similarity: [0, 0, 0, 1, 0, 0, 0, 0, 0, 0, 0, 0, 1, 1, 0, 0, 0, 1, 0, 0, 0, 0, 0, 0, 0, 0, 0, 0, 0, 0, 0, 0, 0, 0, 0, 0, 0, 0, 0, 0, 0, 0, 0, 0, 0, 0, 0, 0, 1, 0, 0, 0, 0, 0, 0, 0, 0, 0, 0, 0, 0, 0, 0, 1, 0, 0, 1, 0, 0, 0, 0, 0, 0, 0, 0, 0, 1, 0, 0, 0, 0, 0, 0, 0, 0, 0, 0, 0, 0, 0, 0, 0, 0, 0, 0, 0, 0, 0, 0, 0, 0, 0, 0, 0, 0, 0, 0, 0, 1, 0, 1, 0, 1, 0, 0, 0, 0, 0, 1, 0, 0, 0, 0, 0, 0, 0, 0, 0, 0, 0, 0, 0, 0, 0, 0, 0, 0, 0, 0, 0, 0, 0, 0, 0, 0, 0, 0, 0, 0, 0, 0, 1, 0, 0, 0, 0, 0, 0, 0, 1, 0, 1, 0, 0, 0, 0, 1, 0, 0, 0, 0, 1, 0, 0, 0, 0, 0, 0, 1, 0, 0, 0, 0, 0, 0, 0, 0, 0, 0, 1, 0, 0, 0, 0, 0, 0, 0, 0, 0, 0, 0, 1, 0, 0, 0, 0, 0, 0, 0, 0, 0, 0, 0, 0, 0, 0, 0, 0, 1, 0, 0, 0, 0, 0, 0, 0, 0, 0, 0, 0, 0, 0, 1, 1, 1, 0, 0, 0, 0, 0, 0, 0, 0, 0, 0, 0, 0, 0, 0, 0, 0, 0, 0, 0, 0, 0, 0, 0, 0, 0, 0, 0, 0, 0, 0, 0, 1, 0, 1, 0, 0, 0, 0, 0, 0, 0, 0, 0, 0, 1, 0, 0, 0, 0, 0, 0, 0, 0, 0, 0, 0, 0, 0, 1, 0, 0, 0, 0, 0, 0, 0, 1, 0, 0, 0, 0, 0, 0, 0, 0, 0, 0, 0, 0, 0, 0, 0, 1, 1, 0, 0, 0, 0, 1, 0, 0, 0, 0, 0, 1, 0, 0, 0, 0, 0, 0, 0, 0, 0, 1, 0, 0, 0, 0, 0, 0, 0, 0, 0, 0, 0, 0, 0, 0, 0, 0, 0, 0, 0, 0, 0, 0, 0, 0, 0, 0, 0, 0, 0, 0, 0, 0, 0, 1, 0, 1, 0, 0, 1, 0, 0, 0, 0, 0, 0, 0, 0, 0, 0, 0, 0, 0, 0, 0, 0, 0, 0, 0, 1, 0, 0, 0, 0, 0, 0, 1, 0, 0, 0, 0, 0, 0, 1, 0, 0, 0, 0, 0, 0, 0, 0, 0, 0, 0, 0, 0, 0, 0, 0, 0, 0, 0, 0, 0, 0, 0, 1, 0, 0, 0, 0, 0, 0, 0, 0, 0, 0, 0, 0, 0, 0, 0, 0, 0, 0, 0, 1, 0, 0, 0, 0, 0, 0, 0, 0, 0, 0, 0, 0, 1, 0, 0, 0, 0, 0, 0, 0, 0, 0, 0, 0, 0, 0, 0, 0, 1, 0, 0, 0, 0, 0, 0, 0, 0, 0, 0, 0, 0, 1, 0, 0, 1, 0, 1, 0, 0, 0, 0, 0, 1, 0, 0, 0, 0, 0, 0, 0, 0, 0, 0, 0, 0, 0, 0, 0, 0, 1, 1, 0, 0, 0, 0, 0, 0, 0, 0, 0, 0, 1, 0, 0, 0, 0, 0, 0, 0, 0, 0, 0, 0, 0, 0, 1, 0, 1, 0, 0, 1, 0, 0, 0, 0, 0, 0, 0, 0, 1, 0, 0, 0, 0, 0, 0, 0, 0, 0, 0, 0, 0, 0, 0, 0, 0, 0, 0, 0, 0, 0, 0, 0, 0, 0, 0, 0, 1, 0, 0, 0, 0, 0, 0, 0, 0, 1, 0, 0, 0, 0, 0, 0, 0, 0, 0, 0, 0, 0, 0, 0, 0, 0, 0, 0, 0, 0, 0, 0, 0, 0, 0, 0, 0, 0, 1, 1, 0, 0, 0, 0, 0, 0, 0, 0, 0, 0, 0, 0, 0, 0, 0, 0, 0, 0, 0, 0, 0, 0, 0, 0, 1, 0, 0, 0, 0, 0, 0, 0, 0, 1, 0, 0, 0, 1, 0, 0, 0, 0, 0, 0, 0, 0, 0, 0, 0, 1, 0, 0, 1, 0, 0, 0, 0, 0, 0, 0, 0, 0, 0, 0, 0, 0, 0, 0, 0, 0, 0, 0, 0, 0, 0, 0, 0, 0, 0, 0, 0, 0, 0, 0, 0, 0, 0, 1, 0, 1, 0, 0, 0, 0, 0, 0, 0, 1, 0, 0, 0, 0, 0, 0, 0, 0, 0, 0, 0, 0, 0, 0, 0, 0, 0, 0, 0, 1, 0, 0, 0, 0, 0, 0, 0, 0, 0, 0, 0, 1, 0, 0, 0, 0, 0, 1, 0, 0, 0, 0, 0, 0, 0, 0, 0, 0, 1, 0, 0, 1, 0, 0, 0, 0, 0, 0, 0, 1, 0, 0, 0, 0, 0, 0, 0, 1, 0, 1, 0, 0, 0, 1, 1, 0, 0, 0, 0, 0, 0, 0, 0, 1, 0, 0, 0, 0, 0, 0, 0, 0, 0, 0, 1, 0, 0, 0, 0, 1, 0, 0, 0, 0, 0, 0, 0, 0, 0, 0, 0, 1, 0, 0, 0, 0, 0, 0, 0, 0, 1, 0, 0, 0, 0, 0, 0, 0, 0, 0, 0, 0, 0, 0, 0, 0, 0, 0, 0, 0, 0, 0, 0, 0, 0, 0, 0, 1, 0, 1, 0, 0, 0, 0, 0, 0, 0, 0, 0, 0, 0, 1, 0, 1, 0, 0, 0, 0, 0, 0, 0, 1, 0, 0, 0, 0, 0, 0, 0, 0, 0, 0, 0, 0, 0, 0, 0, 0, 0, 0, 0, 0, 0, 0, 0, 0, 0, 0, 0, 0, 0, 0, 0, 0, 0, 0, 0, 0, 0, 1, 0, 1, 1, 0, 0, 0, 0, 0, 0, 0, 0, 0, 0, 0, 0, 0, 0, 0, 0, 0, 0, 0, 0, 0, 1, 0, 0, 0, 0, 0, 0, 0, 0, 0, 1, 0, 0, 0, 0, 0, 1, 1, 0, 0, 0, 0, 0, 0, 0, 0, 1, 0, 0, 0, 0, 0, 0, 0, 1, 1, 0, 0, 0, 0, 0, 0, 0, 1, 0, 1, 0, 0, 0, 0, 1, 0, 0, 0, 0, 0, 0, 0, 0, 0, 0, 0, 0, 0, 0, 0, 0, 0, 0, 0, 0, 1, 0, 0, 0, 0, 0, 0, 0, 0, 0, 0, 0, 0, 0, 1, 0, 0, 0, 0, 0, 0, 0, 0, 0, 0, 0, 0, 0, 0, 0, 0, 0, 0, 0, 0, 1, 0, 0, 0, 0, 0, 0, 0, 0, 0, 0, 0, 0, 0, 0, 0, 0, 0, 0, 0, 0, 1, 0, 0, 0, 0, 0, 0, 0, 0, 0, 0, 0, 0, 0, 1, 0, 0, 0, 0, 0, 0, 0, 0, 0, 0, 0, 0, 0, 0, 0, 0, 0, 1, 0, 1, 0, 0, 0, 0, 0, 0, 0, 0, 1, 0, 0, 0, 0, 0, 0, 0, 0, 0, 0, 0, 0, 0, 0, 0, 0, 0, 0, 0, 0, 0, 0, 0, 0, 0, 0, 0, 0, 0, 0, 0, 1, 0, 0, 0, 0, 0, 0, 0, 0, 0, 0, 0, 0, 0, 0, 0, 1, 1, 0, 0, 0, 0, 0, 0, 0, 0, 0, 0, 0, 0, 0, 0, 0, 0, 0, 0, 0, 0, 0, 0, 0, 1, 0, 0, 0, 0, 1, 1, 0, 0, 0, 0, 0, 0, 0, 0, 0, 1, 0, 0, 0, 0, 0, 0, 0, 0, 0, 0, 0, 0, 0, 1, 0, 0, 1, 0, 1, 0, 0, 0, 0, 0, 0, 0, 0, 0, 0, 0, 0, 0, 0, 0, 0, 0, 0, 1, 0, 1, 0, 0, 0, 0, 0, 0, 1, 0, 0, 1, 0, 0, 0, 1, 0, 0, 0, 0, 0, 0, 0, 0, 0, 0, 0, 0, 0, 1, 0, 0, 0, 0, 1, 0, 0, 1, 0, 0, 0, 0, 0, 0, 0, 0, 0, 0, 1, 0, 0, 0, 0, 0, 0, 0, 1, 0, 1, 0, 1, 0, 0, 0, 0, 0, 0, 0, 0, 0, 0, 0, 0, 0, 0, 0, 0, 0, 0, 0, 0, 0, 0, 0, 0, 0, 0, 0, 0, 0, 0, 0, 0, 0, 0, 0, 0, 0, 0, 0, 0, 0, 0, 0, 0, 0, 0, 0, 0, 0, 0, 0, 0, 0, 0, 0, 0, 0, 0, 0, 0, 0, 0, 0, 0, 0, 1, 0, 0, 0, 0, 0, 0, 0, 0, 0, 0, 0, 0, 0, 0, 0, 0, 0, 0, 1, 0, 0, 0, 0, 0, 0, 0, 0, 0, 0, 0, 0, 0, 0, 0, 1, 0, 0, 0, 0, 0, 0, 0, 0, 0, 0, 0, 0, 0, 1, 0, 0, 0, 0, 0, 0, 0, 0, 0, 0, 0, 0, 1, 0, 0, 0, 0, 0, 0, 0, 0, 0, 0, 0, 0, 0, 0, 0, 0, 0, 0, 0, 0, 1, 1, 0, 0, 0, 0, 1, 0, 0, 0, 0, 1, 0, 0, 0, 0, 1, 0, 0, 0, 0, 0, 0, 0, 1, 0, 0, 0, 0, 0, 0, 0, 0, 0, 0, 0, 0, 0, 0, 0, 0, 0, 0, 0, 0, 0, 0, 0, 0, 0, 0, 0, 0, 0, 0, 0, 0, 0, 0, 0, 0, 0, 1, 0, 0, 0, 1, 0, 0, 0, 0, 0, 0, 0, 0, 0, 0, 1, 0, 0, 0, 0, 0, 0, 0, 0, 0, 0, 1, 0, 0, 0, 0, 0, 0, 0, 0, 0, 0, 0, 0, 0, 0, 0, 0, 0, 0, 0, 1, 0, 0, 0, 0, 1, 0, 0, 1, 0, 0, 0, 0, 0, 0, 0, 1, 1, 0, 0, 0, 0, 0, 0, 0, 0, 0, 0, 0, 0, 1, 0, 0, 0, 0, 0, 0, 0, 0, 0, 0, 0, 0, 0, 0, 0, 0, 0, 0, 0, 0, 0, 0, 0, 0, 0, 0, 0, 0, 0, 1, 0, 0, 0, 0, 0, 0, 0, 0, 0, 0, 0, 1, 0, 0, 0, 0, 0, 1, 0, 0, 0, 0, 0, 1, 1, 0, 1, 0, 0, 0, 0, 0, 0, 1, 0, 0, 0, 0, 0, 0, 1, 0, 0, 0, 0, 0, 0, 0, 0, 0, 0, 0, 0, 0, 0, 0, 0, 0, 0, 0, 0, 1, 0, 0, 0, 0, 0, 0, 0, 0, 0, 0, 1, 0, 0, 0, 0, 0, 0, 0, 1, 0, 0, 1, 0, 0, 0, 0, 0, 0, 0, 0, 0, 0, 0, 0, 0, 0, 0, 0, 0, 0, 0, 1, 0, 0, 1, 0, 0, 0, 0, 0, 0, 0, 0, 0, 0, 0, 0, 0, 0, 0, 0, 0, 0, 0, 0, 0, 1, 1, 0, 1, 0, 0, 0, 0, 0, 0, 0, 0, 1, 0, 0, 0, 0, 0, 0, 0, 0, 0, 0, 0, 0, 0, 0, 0, 0, 0, 0, 0, 0, 0, 0, 1, 1, 0, 0, 0, 0, 0, 0, 0, 0, 0, 0, 0, 0, 0, 0, 0, 0, 0, 0, 0, 0, 0, 0, 0, 0, 0, 0, 0, 1, 0, 0, 0, 0, 0, 0, 0, 0, 0, 1, 0, 0, 0, 0, 0, 0, 0, 1, 0, 0, 0, 0, 0, 0, 0, 0, 1, 0, 0, 0, 0, 0, 0, 0, 0, 0, 0, 0, 1, 0, 1, 1, 0, 1, 0, 1, 0, 0, 0, 0, 0, 0, 1, 0, 0, 0, 0, 0, 0, 0, 0, 0, 0, 0, 0, 0, 0, 0, 0, 0, 0, 0, 0, 0, 0, 0, 0, 1, 0, 0, 1, 0, 0, 1, 0, 0, 0, 0, 0, 0, 0, 0, 0, 1, 0, 0, 0, 0, 0, 0, 0, 0, 0, 0, 0, 0, 0, 0, 0, 0, 0, 0, 0, 0, 0, 0, 0, 0, 0, 0, 0, 0, 1, 0, 0, 0, 0, 0, 0, 0, 0, 0, 0, 0, 0, 0, 1, 0, 0, 0, 0, 0, 0, 0, 0, 0, 1, 0, 0, 0, 0, 0, 0, 0, 0, 0, 1, 0, 0, 0, 0, 0, 0, 1, 0]\n"
     ]
    }
   ],
   "source": [
    "# Get cosine similarity scores for a specific mobile \n",
    "target_mobile_index = 3\n",
    "predicted_scores = similarity[target_mobile_index]\n",
    "\n",
    "# Set a relevance threshold \n",
    "threshold = 0.50\n",
    "y_pred = np.where(predicted_scores >= threshold, 1, 0)  # Predicted relevant (1) or irrelevant (0)\n",
    "\n",
    "# Define a function to compute true relevance based on similar specs\n",
    "def get_relevance(target_mobile, comparison_mobile):\n",
    "    score = 0\n",
    "    if target_mobile['ram'] == comparison_mobile['ram']:\n",
    "        score += 0.25  # Add weight for RAM similarity\n",
    "    if target_mobile['storage'] == comparison_mobile['storage']:\n",
    "        score += 0.25  # Add weight for Storage similarity\n",
    "    if target_mobile['processor'] == comparison_mobile['processor']:\n",
    "        score += 0.25  # Add weight for Processor similarity\n",
    "    if target_mobile['brand'] == comparison_mobile['brand']:\n",
    "        score += 0.25  # Add weight for Brand similarity\n",
    "\n",
    "    # If the similarity score is 1, consider it relevant\n",
    "    return 1 if score >= 0.50 else 0\n",
    "\n",
    "# Generate true relevance labels (y_true) based on specs similarity for all other mobiles\n",
    "target_mobile = mobiles_clean.iloc[target_mobile_index]\n",
    "y_true = [get_relevance(target_mobile, mobiles_clean.iloc[i]) for i in range(len(mobiles_clean))]\n",
    "\n",
    "# Print Predicted and True Labels\n",
    "print(f\"Predicted relevance labels based on cosine similarity: {y_pred}\")\n",
    "print(f\"True relevance labels based on specs similarity: {y_true}\")"
   ]
  },
  {
   "cell_type": "code",
   "execution_count": 224,
   "id": "a524291b",
   "metadata": {},
   "outputs": [
    {
     "name": "stdout",
     "output_type": "stream",
     "text": [
      "              precision    recall  f1-score   support\n",
      "\n",
      "  irrelevant       0.92      0.95      0.94      1810\n",
      "    relevant       0.33      0.24      0.28       190\n",
      "\n",
      "    accuracy                           0.88      2000\n",
      "   macro avg       0.63      0.59      0.61      2000\n",
      "weighted avg       0.87      0.88      0.87      2000\n",
      "\n",
      "MAE: 0.33015869469184667, RMSE: 0.35623395633645183\n"
     ]
    }
   ],
   "source": [
    "from sklearn.metrics import classification_report, mean_absolute_error, mean_squared_error\n",
    "\n",
    "# Evaluate Precision, Recall, and F1-Score\n",
    "print(classification_report(y_true, y_pred, target_names=['irrelevant', 'relevant']))\n",
    "\n",
    "# Evaluate MAE and RMSE (if you're working with continuous similarity scores as well)\n",
    "mae = mean_absolute_error(y_true, predicted_scores)  # Using continuous similarity for y_pred\n",
    "rmse = np.sqrt(mean_squared_error(y_true, predicted_scores))\n",
    "\n",
    "print(f\"MAE: {mae}, RMSE: {rmse}\")"
   ]
  },
  {
   "cell_type": "code",
   "execution_count": 225,
   "id": "c1ea17ff-5619-4796-9d83-be0cfbbcd071",
   "metadata": {},
   "outputs": [],
   "source": [
    "def random_values(df:mobiles_clean,col_name:str,total=9):\n",
    "    if col_name not in mobiles_clean.columns:\n",
    "        raise ValueError(f\"Column '{col_name}' does not exist in the DataFrame.\")\n",
    "    \n",
    "    if mobiles_clean.empty:\n",
    "        raise ValueError(\"The DataFrame is empty.\")\n",
    "        \n",
    "    for i in range(0,total):\n",
    "        index = np.random.randint(mobiles_clean.shape[0])\n",
    "        print(index,':',mobiles_clean[col_name].iloc[index])  "
   ]
  },
  {
   "cell_type": "code",
   "execution_count": 226,
   "id": "aeb8ae50-f600-4dd8-9487-bff4f7010cdf",
   "metadata": {},
   "outputs": [
    {
     "name": "stdout",
     "output_type": "stream",
     "text": [
      "1431 : storage128 gbram8  systemandroidprocessor speed2 13mp 5g capacity5000 display size16.66 cm (6.56 inch)resolution720 x 1600 pixels\n",
      "1431 : storage128 gbram8  systemandroidprocessor speed2 13mp 5g capacity5000 display size16.66 cm (6.56 inch)resolution720 x 1600 pixels\n",
      "1780 : storage64 gbram4 gbexpandable storage256gb  systemandroid 11processor typemediatek helio g85processor speed2 48mp 2mp 8mp 4g capacity6000 display size17.32 cm (6.82 inch)resolution1640 x 720 pixelsresolution typehd+display typehd+ lcd ips in-cell displayother display features90 hz refresh rate, 180 hz sampling rate, 20.5:9 aspect ratio, 440 nits brightness, 90.6% screen-to-body ratio, eye care mode, 1500:1 contrast ratio\n",
      "1340 : storage128 gbram8 gbexpandable storage512gb  systemandroid pie 9processor typequalcomm sm6150processor speed2 64mp 5mp 8mp 64mp 5mp 8mp 32mp 3g capacity4500 display size17.02 cm (6.7 inch)resolution1080 x 2400 pixelsresolution typefull hd+gpuqualcomm adreno 612display typeamoled\n",
      "286 : storage64 gbram4  systemandroid 12processor typequalcomm snapdragon 680processor speed2.4 50mp 8mp 2mp 50mp 8mp 2mp 50mp 16mp 16mp 4g capacity5000 display size16.76 cm (6.6 inch)resolution2460 x 1080 pixelsresolution typefull hd+gpuqualcomm adreno 610display typefull hd+ oled displayother display features90 hz refresh rate, brightness: 500 nits, aspect ratio: 20:9, screen-to-body ratio: 91.4%\n",
      "1728 : storage128 gbram8 gbexpandable storage512gb  systemandroid 11processor typemediatek helio g96processor speed2.05 16mp 4g capacity5000 display size17.65 cm (6.95 inch)resolution2460 x 1080 pixelsresolution typefull hd+display typefull hd+ lcd displayother display features120 hz refresh rate, 180 hz sampling rate, 91% screen-to-body ratio, 20.5:9 aspect ratio, lcd ltps, 480 nits, 1500:1 color contrast ratio, incell, eye care mode, neg dinorex t2x-1 glass protection\n",
      "1983 : storage128 gbram6  systemandroid q 11processor speed2.3 48mp 4g capacity5020 display size16.94 cm (6.67 inch)resolution2400 x 1080$$pixels\n",
      "198 : storage32 gbram2  systemandroid 10processor speed1.8 13mp 4g capacity4030 display size15.8 cm (6.22 inch)resolution1520 × 720 hd+\n",
      "1357 : storage32 gbram2 gbexpandable storage256gb  systemandroid 10processor typemediatek helio g25processor speed2 13mp 13mp 13mp 8mp 8mp 4g capacity6000 display size17.32 cm (6.82 inch)resolution1640 x 720 pixelsresolution typehd+display typehd+ lcd ips in-cellother display features20.5:9 aspect ratio, 1500:1 contrast ratio, screen brightness (440 nits), 90.6% screen-to-body ratio, eye care mode\n"
     ]
    }
   ],
   "source": [
    "random_values(mobiles_clean,'corpus')"
   ]
  },
  {
   "cell_type": "code",
   "execution_count": 227,
   "id": "d1daf0dc",
   "metadata": {},
   "outputs": [],
   "source": [
    "# Get cosine similarity scores for a specific mobile \n",
    "target_mobile_index = 3\n",
    "predicted_scores = similarity[target_mobile_index]"
   ]
  },
  {
   "cell_type": "code",
   "execution_count": 228,
   "id": "94e96f0f",
   "metadata": {},
   "outputs": [
    {
     "name": "stdout",
     "output_type": "stream",
     "text": [
      "Predicted relevance labels based on cosine similarity: [0 0 0 ... 0 0 0]\n",
      "True relevance labels based on specs similarity: [0, 0, 0, 1, 0, 0, 0, 0, 0, 0, 0, 0, 1, 1, 0, 0, 0, 1, 0, 0, 0, 0, 1, 0, 0, 0, 1, 0, 0, 0, 0, 0, 1, 0, 0, 0, 0, 0, 0, 0, 0, 0, 0, 0, 0, 0, 0, 0, 0, 0, 0, 0, 0, 0, 0, 0, 1, 0, 0, 0, 0, 0, 0, 1, 0, 0, 1, 0, 0, 0, 0, 0, 0, 0, 0, 0, 0, 0, 0, 0, 0, 0, 0, 0, 0, 0, 0, 0, 0, 0, 0, 0, 0, 0, 0, 0, 0, 0, 0, 0, 0, 0, 0, 0, 0, 0, 0, 0, 1, 0, 1, 0, 1, 0, 0, 0, 0, 0, 0, 0, 0, 0, 0, 0, 0, 0, 0, 0, 0, 0, 0, 0, 0, 0, 0, 0, 0, 0, 0, 0, 0, 0, 0, 0, 0, 0, 0, 0, 0, 0, 0, 0, 0, 0, 0, 0, 0, 0, 0, 0, 0, 0, 0, 0, 0, 0, 1, 0, 0, 0, 0, 1, 0, 0, 0, 0, 0, 0, 1, 0, 0, 0, 0, 0, 0, 1, 0, 0, 0, 0, 0, 0, 0, 0, 0, 0, 0, 0, 0, 0, 0, 0, 0, 0, 0, 0, 0, 0, 1, 0, 0, 0, 0, 0, 0, 0, 0, 0, 1, 0, 0, 0, 0, 0, 0, 1, 0, 0, 0, 0, 1, 0, 1, 0, 1, 0, 0, 0, 0, 0, 0, 0, 1, 0, 0, 0, 0, 0, 0, 0, 0, 0, 0, 0, 0, 0, 0, 1, 0, 0, 0, 0, 0, 0, 0, 0, 1, 0, 1, 0, 0, 0, 0, 0, 0, 0, 0, 0, 0, 1, 0, 0, 0, 0, 0, 0, 0, 0, 0, 0, 0, 0, 0, 0, 0, 0, 0, 0, 0, 0, 0, 0, 0, 0, 1, 0, 0, 0, 0, 0, 1, 0, 0, 0, 0, 0, 0, 1, 0, 0, 1, 0, 0, 1, 0, 0, 0, 0, 0, 0, 0, 0, 0, 0, 0, 0, 0, 0, 0, 0, 0, 0, 0, 0, 0, 0, 0, 0, 0, 0, 0, 0, 0, 0, 0, 0, 0, 0, 0, 0, 0, 0, 0, 0, 0, 0, 0, 0, 0, 0, 0, 0, 0, 1, 0, 1, 0, 0, 0, 0, 0, 0, 0, 0, 0, 0, 0, 0, 0, 0, 0, 0, 0, 0, 0, 0, 0, 0, 0, 0, 0, 0, 0, 0, 0, 0, 0, 0, 0, 0, 0, 0, 0, 0, 0, 0, 1, 0, 0, 0, 0, 0, 0, 0, 0, 0, 0, 0, 0, 0, 0, 0, 0, 0, 0, 0, 1, 0, 0, 0, 1, 0, 0, 0, 0, 0, 1, 0, 0, 0, 0, 0, 0, 0, 0, 0, 0, 0, 0, 0, 0, 0, 0, 0, 0, 0, 0, 0, 0, 1, 0, 0, 0, 0, 0, 0, 0, 0, 0, 0, 0, 0, 0, 0, 0, 1, 0, 0, 0, 0, 0, 0, 0, 0, 0, 0, 0, 1, 0, 0, 0, 1, 0, 0, 0, 0, 0, 0, 0, 1, 0, 0, 1, 0, 0, 0, 0, 0, 0, 0, 0, 0, 0, 0, 0, 0, 0, 1, 0, 0, 0, 0, 0, 0, 0, 0, 0, 0, 0, 0, 0, 0, 0, 0, 0, 0, 0, 0, 0, 0, 0, 0, 1, 0, 0, 0, 0, 1, 0, 0, 0, 0, 0, 0, 0, 1, 1, 0, 0, 0, 0, 0, 0, 0, 0, 0, 0, 0, 0, 0, 0, 0, 0, 0, 0, 0, 0, 0, 0, 0, 0, 0, 0, 0, 0, 1, 0, 0, 0, 0, 0, 0, 0, 1, 0, 0, 0, 0, 0, 0, 0, 0, 0, 0, 0, 0, 0, 0, 0, 0, 0, 0, 0, 0, 0, 0, 0, 0, 0, 0, 0, 0, 1, 0, 0, 0, 0, 0, 0, 0, 0, 0, 0, 0, 0, 0, 0, 0, 0, 0, 0, 0, 0, 0, 0, 0, 0, 0, 1, 1, 0, 0, 0, 0, 0, 0, 0, 0, 0, 0, 1, 1, 0, 0, 0, 0, 0, 0, 0, 0, 0, 0, 0, 1, 0, 0, 1, 0, 0, 0, 0, 0, 0, 0, 0, 0, 0, 0, 0, 0, 0, 0, 0, 0, 0, 0, 0, 0, 0, 0, 0, 0, 0, 0, 0, 0, 0, 1, 0, 0, 0, 0, 0, 0, 0, 0, 0, 0, 0, 0, 0, 1, 0, 0, 0, 0, 0, 0, 0, 0, 0, 0, 0, 1, 0, 0, 0, 0, 0, 0, 0, 1, 0, 0, 0, 0, 0, 0, 0, 0, 0, 0, 0, 1, 0, 0, 0, 0, 0, 1, 0, 0, 0, 0, 0, 0, 1, 0, 0, 0, 1, 0, 0, 1, 0, 0, 1, 0, 0, 0, 0, 1, 0, 0, 0, 0, 0, 0, 0, 1, 0, 0, 0, 0, 0, 1, 0, 0, 0, 0, 0, 0, 0, 0, 0, 0, 0, 0, 0, 0, 0, 0, 0, 0, 0, 0, 0, 0, 0, 0, 0, 1, 0, 0, 0, 0, 0, 0, 0, 0, 1, 0, 0, 1, 0, 0, 0, 0, 0, 0, 0, 0, 0, 0, 0, 0, 0, 0, 1, 0, 0, 0, 0, 0, 0, 0, 0, 0, 0, 0, 0, 0, 0, 0, 0, 0, 0, 1, 0, 1, 0, 0, 0, 0, 0, 0, 0, 0, 0, 0, 0, 0, 0, 0, 0, 0, 0, 0, 0, 0, 0, 0, 0, 1, 0, 0, 0, 0, 0, 0, 0, 0, 0, 0, 0, 0, 0, 0, 0, 0, 0, 0, 0, 0, 0, 0, 0, 0, 0, 0, 0, 0, 1, 0, 1, 0, 0, 0, 1, 0, 0, 1, 0, 1, 0, 0, 0, 1, 0, 0, 0, 0, 0, 0, 0, 0, 0, 0, 0, 1, 0, 0, 0, 0, 0, 0, 0, 0, 0, 0, 0, 0, 0, 0, 0, 0, 1, 0, 0, 0, 0, 0, 0, 0, 0, 0, 0, 0, 0, 0, 0, 0, 1, 0, 0, 0, 0, 0, 0, 0, 0, 1, 0, 0, 0, 0, 0, 0, 1, 1, 0, 0, 0, 0, 0, 0, 1, 0, 0, 0, 0, 0, 0, 0, 0, 0, 0, 0, 0, 0, 0, 0, 0, 0, 0, 0, 0, 1, 0, 0, 0, 0, 0, 0, 0, 1, 0, 0, 0, 0, 0, 1, 0, 0, 0, 0, 0, 0, 0, 1, 0, 0, 0, 0, 0, 0, 0, 0, 0, 0, 0, 0, 1, 0, 0, 0, 0, 0, 0, 0, 0, 0, 0, 0, 0, 0, 0, 0, 0, 0, 0, 0, 0, 0, 0, 0, 0, 0, 0, 0, 0, 0, 1, 0, 0, 0, 0, 1, 0, 0, 0, 0, 0, 0, 0, 0, 0, 0, 0, 0, 0, 0, 0, 0, 0, 0, 0, 0, 0, 0, 0, 0, 0, 0, 0, 0, 1, 0, 0, 0, 0, 0, 0, 0, 0, 0, 0, 0, 0, 0, 0, 0, 0, 0, 0, 0, 0, 0, 0, 0, 0, 0, 0, 0, 0, 0, 0, 0, 1, 0, 0, 0, 0, 0, 0, 0, 0, 0, 0, 0, 0, 0, 0, 0, 0, 1, 0, 1, 0, 0, 0, 0, 0, 0, 0, 1, 0, 0, 0, 0, 0, 0, 0, 0, 0, 0, 0, 0, 0, 0, 0, 0, 0, 0, 0, 1, 0, 0, 0, 0, 0, 0, 0, 1, 0, 1, 0, 0, 0, 0, 0, 0, 0, 0, 0, 0, 0, 0, 0, 0, 0, 0, 0, 0, 1, 0, 0, 0, 0, 0, 0, 0, 0, 0, 0, 0, 0, 0, 0, 0, 0, 0, 0, 0, 0, 1, 0, 0, 0, 0, 0, 0, 1, 0, 0, 1, 0, 0, 0, 0, 0, 0, 0, 0, 0, 0, 0, 0, 0, 0, 0, 0, 0, 0, 0, 0, 0, 0, 0, 0, 0, 1, 0, 0, 0, 0, 0, 0, 0, 0, 0, 0, 1, 0, 0, 0, 0, 0, 0, 0, 0, 0, 1, 0, 1, 0, 0, 0, 0, 0, 0, 0, 0, 0, 0, 0, 0, 0, 0, 0, 0, 0, 0, 0, 0, 0, 0, 0, 0, 0, 0, 0, 0, 0, 0, 0, 0, 0, 0, 1, 0, 0, 0, 1, 0, 0, 0, 0, 0, 0, 0, 0, 0, 0, 0, 0, 1, 0, 0, 0, 0, 0, 0, 0, 0, 0, 0, 0, 0, 0, 1, 0, 0, 0, 0, 0, 0, 0, 0, 0, 0, 0, 0, 0, 0, 0, 1, 0, 0, 0, 0, 0, 0, 0, 0, 0, 0, 0, 0, 0, 0, 0, 0, 0, 0, 0, 0, 0, 0, 0, 0, 0, 0, 0, 0, 0, 0, 0, 0, 0, 0, 0, 0, 0, 0, 0, 1, 0, 0, 0, 0, 0, 0, 0, 0, 0, 0, 0, 0, 0, 0, 0, 0, 0, 0, 0, 0, 0, 0, 0, 0, 0, 0, 1, 0, 0, 0, 0, 0, 1, 0, 0, 0, 0, 0, 0, 0, 0, 0, 1, 0, 0, 0, 0, 0, 0, 0, 0, 0, 0, 0, 0, 0, 0, 1, 0, 0, 0, 0, 0, 0, 0, 0, 0, 1, 1, 0, 0, 0, 0, 0, 0, 0, 0, 0, 0, 0, 0, 0, 0, 0, 0, 0, 0, 0, 0, 0, 0, 0, 0, 0, 0, 0, 0, 0, 0, 0, 0, 0, 0, 1, 0, 0, 0, 0, 0, 0, 0, 0, 0, 0, 0, 0, 0, 0, 0, 0, 0, 0, 0, 0, 0, 0, 0, 0, 0, 0, 0, 0, 0, 0, 0, 0, 0, 0, 0, 1, 0, 0, 0, 0, 0, 0, 0, 0, 0, 0, 1, 0, 0, 0, 0, 0, 0, 0, 0, 0, 0, 0, 0, 0, 0, 0, 0, 0, 0, 0, 0, 0, 0, 0, 0, 0, 0, 0, 0, 0, 0, 0, 0, 0, 0, 0, 0, 0, 0, 0, 0, 0, 0, 0, 1, 0, 0, 0, 0, 0, 0, 0, 0, 0, 0, 0, 0, 0, 0, 0, 0, 1, 1, 0, 0, 0, 0, 0, 0, 1, 0, 1, 0, 0, 0, 0, 0, 1, 0, 0, 0, 0, 0, 0, 0, 0, 0, 0, 0, 0, 0, 0, 0, 0, 0, 0, 0, 0, 0, 0, 0, 0, 0, 0, 0, 0, 1, 0, 0, 0, 0, 0, 0, 0, 0, 0, 0, 1, 0, 0, 0, 0, 0, 0, 0, 0, 0, 0, 1, 0, 0, 0, 0, 0, 0, 0, 0, 0, 0, 0, 0, 0, 0, 0, 0, 0, 0, 0, 0, 0, 0, 1, 0, 0, 0, 1, 0, 0, 0, 0, 0, 0, 0, 1, 0, 0, 0, 0, 0, 0, 0, 0, 0, 0, 1, 1, 1, 0, 0, 0, 0, 0, 0, 0, 0, 1, 0, 0, 0, 0, 0, 0, 0, 0, 1, 0, 0, 0, 0, 0, 0, 0, 0, 0, 0, 0, 0, 0, 0, 1, 0, 0, 0, 0, 0, 0, 0, 0, 0, 0, 0, 0, 0, 0, 0, 0, 0, 0, 0, 0, 0, 0, 0, 0, 0, 0, 0, 1, 0, 0, 1, 0, 0, 0, 0, 0, 0, 1, 0, 0, 0, 0, 0, 0, 0, 1, 0, 0, 0, 0, 0, 0, 0, 0, 1, 0, 0, 0, 0, 0, 0, 0, 0, 1, 0, 0, 1, 0, 1, 1, 0, 0, 0, 0, 0, 0, 0, 0, 0, 0, 1, 0, 0, 0, 0, 1, 0, 0, 0, 0, 0, 0, 0, 0, 0, 0, 0, 0, 0, 0, 0, 0, 0, 0, 0, 1, 0, 0, 1, 0, 0, 1, 0, 0, 0, 0, 0, 0, 0, 0, 0, 1, 0, 0, 0, 0, 0, 0, 0, 0, 0, 0, 0, 0, 0, 0, 1, 0, 0, 0, 0, 0, 0, 0, 0, 0, 0, 0, 0, 0, 0, 0, 0, 0, 0, 0, 0, 0, 0, 0, 0, 1, 0, 0, 0, 0, 0, 0, 0, 0, 0, 0, 0, 0, 1, 0, 0, 0, 0, 0, 0, 0, 0, 0, 1, 0, 0, 0, 0, 0, 1, 0, 0]\n",
      "              precision    recall  f1-score   support\n",
      "\n",
      "  irrelevant       0.93      1.00      0.96      1832\n",
      "    relevant       0.92      0.20      0.32       168\n",
      "\n",
      "    accuracy                           0.93      2000\n",
      "   macro avg       0.92      0.60      0.64      2000\n",
      "weighted avg       0.93      0.93      0.91      2000\n",
      "\n",
      "MAE: 0.31478398558575654, RMSE: 0.3339579652307022\n"
     ]
    }
   ],
   "source": [
    "threshold = 0.6\n",
    "y_pred = np.where(predicted_scores >= threshold, 1, 0)  #relevant (1) or irrelevant (0)\n",
    "\n",
    "def get_relevance(target_mobile, comparison_mobile):\n",
    "    score = 0\n",
    "    if target_mobile['ram'] == comparison_mobile['ram']:\n",
    "        score += 0.1  \n",
    "    if target_mobile['storage'] == comparison_mobile['storage']:\n",
    "        score += 0.2  \n",
    "    if target_mobile['processor'] == comparison_mobile['processor']:\n",
    "        score += 0.3  \n",
    "    if target_mobile['brand'] == comparison_mobile['brand']:\n",
    "        score += 0.4 \n",
    "    if target_mobile['battery_capacity'] == comparison_mobile['battery_capacity']:\n",
    "        score += 0.1  \n",
    "    if target_mobile['display_size'] == comparison_mobile['display_size']:\n",
    "        score += 0.1  \n",
    "    if target_mobile['processor_speed'] == comparison_mobile['processor_speed']:\n",
    "        score += 0.1  \n",
    "    if target_mobile['camera'] == comparison_mobile['camera']:\n",
    "        score += 0.1 \n",
    "    if target_mobile['network'] == comparison_mobile['network']:\n",
    "        score += 0.1 \n",
    "    if target_mobile['system'] == comparison_mobile['system']:\n",
    "        score += 0.1  \n",
    "\n",
    "    return 1 if score >= 0.75 else 0\n",
    "\n",
    "# Generate true relevance labels (y_true) based on specs similarity for all other mobiles\n",
    "target_mobile = mobiles_clean.iloc[target_mobile_index]\n",
    "y_true = [get_relevance(target_mobile, mobiles_clean.iloc[i]) for i in range(len(mobiles_clean))]\n",
    "\n",
    "print(f\"Predicted relevance labels based on cosine similarity: {y_pred}\")\n",
    "print(f\"True relevance labels based on specs similarity: {y_true}\")\n",
    "\n",
    "# Evaluate Precision, Recall, and F1-Score\n",
    "print(classification_report(y_true, y_pred, target_names=['irrelevant', 'relevant']))\n",
    "\n",
    "# Evaluate MAE and RMSE\n",
    "mae = mean_absolute_error(y_true, predicted_scores)  # Using continuous similarity for y_pred\n",
    "rmse = np.sqrt(mean_squared_error(y_true, predicted_scores))\n",
    "\n",
    "print(f\"MAE: {mae}, RMSE: {rmse}\")"
   ]
  },
  {
   "cell_type": "code",
   "execution_count": 229,
   "id": "604b2db3",
   "metadata": {},
   "outputs": [
    {
     "name": "stdout",
     "output_type": "stream",
     "text": [
      "Predicted relevance labels based on cosine similarity: [0 0 0 ... 0 0 0]\n",
      "True relevance labels based on specs similarity: [0, 0, 0, 1, 0, 0, 0, 0, 0, 0, 0, 0, 1, 1, 0, 0, 0, 1, 0, 0, 0, 0, 1, 0, 0, 0, 1, 0, 0, 0, 0, 0, 1, 0, 0, 0, 0, 0, 0, 0, 0, 0, 0, 0, 0, 0, 0, 0, 0, 0, 0, 0, 0, 0, 0, 0, 1, 0, 0, 0, 0, 0, 0, 1, 0, 0, 1, 0, 0, 0, 0, 0, 0, 0, 0, 0, 0, 0, 0, 0, 0, 0, 0, 0, 0, 0, 0, 0, 0, 0, 0, 0, 0, 0, 0, 0, 0, 0, 0, 0, 0, 0, 0, 0, 0, 0, 0, 0, 1, 0, 1, 0, 1, 0, 0, 0, 0, 0, 0, 0, 0, 0, 0, 0, 0, 0, 0, 0, 0, 0, 0, 0, 0, 0, 0, 0, 0, 0, 0, 0, 0, 0, 0, 0, 0, 0, 0, 0, 0, 0, 0, 0, 0, 0, 0, 0, 0, 0, 0, 0, 0, 0, 0, 0, 0, 0, 1, 0, 0, 0, 0, 1, 0, 0, 0, 0, 0, 0, 1, 0, 0, 0, 0, 0, 0, 1, 0, 0, 0, 0, 0, 0, 0, 0, 0, 0, 0, 0, 0, 0, 0, 0, 0, 0, 0, 0, 0, 0, 1, 0, 0, 0, 0, 0, 0, 0, 0, 0, 1, 0, 0, 0, 0, 0, 0, 1, 0, 0, 0, 0, 1, 0, 1, 0, 1, 0, 0, 0, 0, 0, 0, 0, 1, 0, 0, 0, 0, 0, 0, 0, 0, 0, 0, 0, 0, 0, 0, 1, 0, 0, 0, 0, 0, 0, 0, 0, 1, 0, 1, 0, 0, 0, 0, 0, 0, 0, 0, 0, 0, 1, 0, 0, 0, 0, 0, 0, 0, 0, 0, 0, 0, 0, 0, 0, 0, 0, 0, 0, 0, 0, 0, 0, 0, 0, 1, 0, 0, 0, 0, 0, 1, 0, 0, 0, 0, 0, 0, 1, 0, 0, 1, 0, 0, 1, 0, 0, 0, 0, 0, 0, 0, 0, 0, 0, 0, 0, 0, 0, 0, 0, 0, 0, 0, 0, 0, 0, 0, 0, 0, 0, 0, 0, 0, 0, 0, 0, 0, 0, 0, 0, 0, 0, 0, 0, 0, 0, 0, 0, 0, 0, 0, 0, 0, 1, 0, 1, 0, 0, 0, 0, 0, 0, 0, 0, 0, 0, 0, 0, 0, 0, 0, 0, 0, 0, 0, 0, 0, 0, 0, 0, 0, 0, 0, 0, 0, 0, 0, 0, 0, 0, 0, 0, 0, 0, 0, 0, 1, 0, 0, 0, 0, 0, 0, 0, 0, 0, 0, 0, 0, 0, 0, 0, 0, 0, 0, 0, 1, 0, 0, 0, 1, 0, 0, 0, 0, 0, 1, 0, 0, 0, 0, 0, 0, 0, 0, 0, 0, 0, 0, 0, 0, 0, 0, 0, 0, 0, 0, 0, 0, 1, 0, 0, 0, 0, 0, 0, 0, 0, 0, 0, 0, 0, 0, 0, 0, 1, 0, 0, 0, 0, 0, 0, 0, 0, 0, 0, 0, 1, 0, 0, 0, 1, 0, 0, 0, 0, 0, 0, 0, 1, 0, 0, 1, 0, 0, 0, 0, 0, 0, 0, 0, 0, 0, 0, 0, 0, 0, 1, 0, 0, 0, 0, 0, 0, 0, 0, 0, 0, 0, 0, 0, 0, 0, 0, 0, 0, 0, 0, 0, 0, 0, 0, 1, 0, 0, 0, 0, 1, 0, 0, 0, 0, 0, 0, 0, 1, 1, 0, 0, 0, 0, 0, 0, 0, 0, 0, 0, 0, 0, 0, 0, 0, 0, 0, 0, 0, 0, 0, 0, 0, 0, 0, 0, 0, 0, 1, 0, 0, 0, 0, 0, 0, 0, 1, 0, 0, 0, 0, 0, 0, 0, 0, 0, 0, 0, 0, 0, 0, 0, 0, 0, 0, 0, 0, 0, 0, 0, 0, 0, 0, 0, 0, 1, 0, 0, 0, 0, 0, 0, 0, 0, 0, 0, 0, 0, 0, 0, 0, 0, 0, 0, 0, 0, 0, 0, 0, 0, 0, 1, 1, 0, 0, 0, 0, 0, 0, 0, 0, 0, 0, 1, 1, 0, 0, 0, 0, 0, 0, 0, 0, 0, 0, 0, 1, 0, 0, 1, 0, 0, 0, 0, 0, 0, 0, 0, 0, 0, 0, 0, 0, 0, 0, 0, 0, 0, 0, 0, 0, 0, 0, 0, 0, 0, 0, 0, 0, 0, 1, 0, 0, 0, 0, 0, 0, 0, 0, 0, 0, 0, 0, 0, 1, 0, 0, 0, 0, 0, 0, 0, 0, 0, 0, 0, 1, 0, 0, 0, 0, 0, 0, 0, 1, 0, 0, 0, 0, 0, 0, 0, 0, 0, 0, 0, 1, 0, 0, 0, 0, 0, 1, 0, 0, 0, 0, 0, 0, 1, 0, 0, 0, 1, 0, 0, 1, 0, 0, 1, 0, 0, 0, 0, 1, 0, 0, 0, 0, 0, 0, 0, 1, 0, 0, 0, 0, 0, 1, 0, 0, 0, 0, 0, 0, 0, 0, 0, 0, 0, 0, 0, 0, 0, 0, 0, 0, 0, 0, 0, 0, 0, 0, 0, 1, 0, 0, 0, 0, 0, 0, 0, 0, 1, 0, 0, 1, 0, 0, 0, 0, 0, 0, 0, 0, 0, 0, 0, 0, 0, 0, 1, 0, 0, 0, 0, 0, 0, 0, 0, 0, 0, 0, 0, 0, 0, 0, 0, 0, 0, 1, 0, 1, 0, 0, 0, 0, 0, 0, 0, 0, 0, 0, 0, 0, 0, 0, 0, 0, 0, 0, 0, 0, 0, 0, 0, 1, 0, 0, 0, 0, 0, 0, 0, 0, 0, 0, 0, 0, 0, 0, 0, 0, 0, 0, 0, 0, 0, 0, 0, 0, 0, 0, 0, 0, 1, 0, 1, 0, 0, 0, 1, 0, 0, 1, 0, 1, 0, 0, 0, 1, 0, 0, 0, 0, 0, 0, 0, 0, 0, 0, 0, 1, 0, 0, 0, 0, 0, 0, 0, 0, 0, 0, 0, 0, 0, 0, 0, 0, 1, 0, 0, 0, 0, 0, 0, 0, 0, 0, 0, 0, 0, 0, 0, 0, 1, 0, 0, 0, 0, 0, 0, 0, 0, 1, 0, 0, 0, 0, 0, 0, 1, 1, 0, 0, 0, 0, 0, 0, 1, 0, 0, 0, 0, 0, 0, 0, 0, 0, 0, 0, 0, 0, 0, 0, 0, 0, 0, 0, 0, 1, 0, 0, 0, 0, 0, 0, 0, 1, 0, 0, 0, 0, 0, 1, 0, 0, 0, 0, 0, 0, 0, 1, 0, 0, 0, 0, 0, 0, 0, 0, 0, 0, 0, 0, 1, 0, 0, 0, 0, 0, 0, 0, 0, 0, 0, 0, 0, 0, 0, 0, 0, 0, 0, 0, 0, 0, 0, 0, 0, 0, 0, 0, 0, 0, 1, 0, 0, 0, 0, 1, 0, 0, 0, 0, 0, 0, 0, 0, 0, 0, 0, 0, 0, 0, 0, 0, 0, 0, 0, 0, 0, 0, 0, 0, 0, 0, 0, 0, 1, 0, 0, 0, 0, 0, 0, 0, 0, 0, 0, 0, 0, 0, 0, 0, 0, 0, 0, 0, 0, 0, 0, 0, 0, 0, 0, 0, 0, 0, 0, 0, 1, 0, 0, 0, 0, 0, 0, 0, 0, 0, 0, 0, 0, 0, 0, 0, 0, 1, 0, 1, 0, 0, 0, 0, 0, 0, 0, 1, 0, 0, 0, 0, 0, 0, 0, 0, 0, 0, 0, 0, 0, 0, 0, 0, 0, 0, 0, 1, 0, 0, 0, 0, 0, 0, 0, 1, 0, 1, 0, 0, 0, 0, 0, 0, 0, 0, 0, 0, 0, 0, 0, 0, 0, 0, 0, 0, 1, 0, 0, 0, 0, 0, 0, 0, 0, 0, 0, 0, 0, 0, 0, 0, 0, 0, 0, 0, 0, 1, 0, 0, 0, 0, 0, 0, 1, 0, 0, 1, 0, 0, 0, 0, 0, 0, 0, 0, 0, 0, 0, 0, 0, 0, 0, 0, 0, 0, 0, 0, 0, 0, 0, 0, 0, 1, 0, 0, 0, 0, 0, 0, 0, 0, 0, 0, 1, 0, 0, 0, 0, 0, 0, 0, 0, 0, 1, 0, 1, 0, 0, 0, 0, 0, 0, 0, 0, 0, 0, 0, 0, 0, 0, 0, 0, 0, 0, 0, 0, 0, 0, 0, 0, 0, 0, 0, 0, 0, 0, 0, 0, 0, 0, 1, 0, 0, 0, 1, 0, 0, 0, 0, 0, 0, 0, 0, 0, 0, 0, 0, 1, 0, 0, 0, 0, 0, 0, 0, 0, 0, 0, 0, 0, 0, 1, 0, 0, 0, 0, 0, 0, 0, 0, 0, 0, 0, 0, 0, 0, 0, 1, 0, 0, 0, 0, 0, 0, 0, 0, 0, 0, 0, 0, 0, 0, 0, 0, 0, 0, 0, 0, 0, 0, 0, 0, 0, 0, 0, 0, 0, 0, 0, 0, 0, 0, 0, 0, 0, 0, 0, 1, 0, 0, 0, 0, 0, 0, 0, 0, 0, 0, 0, 0, 0, 0, 0, 0, 0, 0, 0, 0, 0, 0, 0, 0, 0, 0, 1, 0, 0, 0, 0, 0, 1, 0, 0, 0, 0, 0, 0, 0, 0, 0, 1, 0, 0, 0, 0, 0, 0, 0, 0, 0, 0, 0, 0, 0, 0, 1, 0, 0, 0, 0, 0, 0, 0, 0, 0, 1, 1, 0, 0, 0, 0, 0, 0, 0, 0, 0, 0, 0, 0, 0, 0, 0, 0, 0, 0, 0, 0, 0, 0, 0, 0, 0, 0, 0, 0, 0, 0, 0, 0, 0, 0, 1, 0, 0, 0, 0, 0, 0, 0, 0, 0, 0, 0, 0, 0, 0, 0, 0, 0, 0, 0, 0, 0, 0, 0, 0, 0, 0, 0, 0, 0, 0, 0, 0, 0, 0, 0, 1, 0, 0, 0, 0, 0, 0, 0, 0, 0, 0, 1, 0, 0, 0, 0, 0, 0, 0, 0, 0, 0, 0, 0, 0, 0, 0, 0, 0, 0, 0, 0, 0, 0, 0, 0, 0, 0, 0, 0, 0, 0, 0, 0, 0, 0, 0, 0, 0, 0, 0, 0, 0, 0, 0, 1, 0, 0, 0, 0, 0, 0, 0, 0, 0, 0, 0, 0, 0, 0, 0, 0, 1, 1, 0, 0, 0, 0, 0, 0, 1, 0, 1, 0, 0, 0, 0, 0, 1, 0, 0, 0, 0, 0, 0, 0, 0, 0, 0, 0, 0, 0, 0, 0, 0, 0, 0, 0, 0, 0, 0, 0, 0, 0, 0, 0, 0, 1, 0, 0, 0, 0, 0, 0, 0, 0, 0, 0, 1, 0, 0, 0, 0, 0, 0, 0, 0, 0, 0, 1, 0, 0, 0, 0, 0, 0, 0, 0, 0, 0, 0, 0, 0, 0, 0, 0, 0, 0, 0, 0, 0, 0, 1, 0, 0, 0, 1, 0, 0, 0, 0, 0, 0, 0, 1, 0, 0, 0, 0, 0, 0, 0, 0, 0, 0, 1, 1, 1, 0, 0, 0, 0, 0, 0, 0, 0, 1, 0, 0, 0, 0, 0, 0, 0, 0, 1, 0, 0, 0, 0, 0, 0, 0, 0, 0, 0, 0, 0, 0, 0, 1, 0, 0, 0, 0, 0, 0, 0, 0, 0, 0, 0, 0, 0, 0, 0, 0, 0, 0, 0, 0, 0, 0, 0, 0, 0, 0, 0, 1, 0, 0, 1, 0, 0, 0, 0, 0, 0, 1, 0, 0, 0, 0, 0, 0, 0, 1, 0, 0, 0, 0, 0, 0, 0, 0, 1, 0, 0, 0, 0, 0, 0, 0, 0, 1, 0, 0, 1, 0, 1, 1, 0, 0, 0, 0, 0, 0, 0, 0, 0, 0, 1, 0, 0, 0, 0, 1, 0, 0, 0, 0, 0, 0, 0, 0, 0, 0, 0, 0, 0, 0, 0, 0, 0, 0, 0, 1, 0, 0, 1, 0, 0, 1, 0, 0, 0, 0, 0, 0, 0, 0, 0, 1, 0, 0, 0, 0, 0, 0, 0, 0, 0, 0, 0, 0, 0, 0, 1, 0, 0, 0, 0, 0, 0, 0, 0, 0, 0, 0, 0, 0, 0, 0, 0, 0, 0, 0, 0, 0, 0, 0, 0, 1, 0, 0, 0, 0, 0, 0, 0, 0, 0, 0, 0, 0, 1, 0, 0, 0, 0, 0, 0, 0, 0, 0, 1, 0, 0, 0, 0, 0, 1, 0, 0]\n",
      "              precision    recall  f1-score   support\n",
      "\n",
      "  irrelevant       0.92      1.00      0.96      1832\n",
      "    relevant       1.00      0.01      0.01       168\n",
      "\n",
      "    accuracy                           0.92      2000\n",
      "   macro avg       0.96      0.50      0.48      2000\n",
      "weighted avg       0.92      0.92      0.88      2000\n",
      "\n",
      "MAE: 0.31478398558575654, RMSE: 0.3339579652307022\n"
     ]
    }
   ],
   "source": [
    "# Set a relevance threshold \n",
    "threshold = 0.75\n",
    "y_pred = np.where(predicted_scores >= threshold, 1, 0)  # Predicted relevant (1) or irrelevant (0)\n",
    "\n",
    "# Define a function to compute true relevance based on similar specs\n",
    "def get_relevance(target_mobile, comparison_mobile):\n",
    "    score = 0\n",
    "    if target_mobile['ram'] == comparison_mobile['ram']:\n",
    "        score += 0.1  # Add weight for RAM similarity\n",
    "    if target_mobile['storage'] == comparison_mobile['storage']:\n",
    "        score += 0.2  # Add weight for Storage similarity\n",
    "    if target_mobile['processor'] == comparison_mobile['processor']:\n",
    "        score += 0.3  # Add weight for Processor similarity\n",
    "    if target_mobile['brand'] == comparison_mobile['brand']:\n",
    "        score += 0.4  # Add weight for Brand similarity\n",
    "    if target_mobile['battery_capacity'] == comparison_mobile['battery_capacity']:\n",
    "        score += 0.1  # Weight for Battery Capacity similarity\n",
    "    if target_mobile['display_size'] == comparison_mobile['display_size']:\n",
    "        score += 0.1  # Weight for Display Size similarity\n",
    "    if target_mobile['processor_speed'] == comparison_mobile['processor_speed']:\n",
    "        score += 0.1 \n",
    "    if target_mobile['camera'] == comparison_mobile['camera']:\n",
    "        score += 0.1  # Weight for Camera similarity\n",
    "    if target_mobile['network'] == comparison_mobile['network']:\n",
    "        score += 0.1  # Weight for Network similarity\n",
    "    if target_mobile['system'] == comparison_mobile['system']:\n",
    "        score += 0.1  # Weight for Operating System similarity\n",
    "\n",
    "    return 1 if score >= 0.75 else 0\n",
    "\n",
    "# Generate true relevance labels (y_true) based on specs similarity for all other mobiles\n",
    "target_mobile = mobiles_clean.iloc[target_mobile_index]\n",
    "y_true = [get_relevance(target_mobile, mobiles_clean.iloc[i]) for i in range(len(mobiles_clean))]\n",
    "\n",
    "# Print Predicted and True Labels\n",
    "print(f\"Predicted relevance labels based on cosine similarity: {y_pred}\")\n",
    "print(f\"True relevance labels based on specs similarity: {y_true}\")\n",
    "\n",
    "# Evaluate Precision, Recall, and F1-Score\n",
    "print(classification_report(y_true, y_pred, target_names=['irrelevant', 'relevant']))\n",
    "\n",
    "# Evaluate MAE and RMSE (if you're working with continuous similarity scores as well)\n",
    "mae = mean_absolute_error(y_true, predicted_scores)  # Using continuous similarity for y_pred\n",
    "rmse = np.sqrt(mean_squared_error(y_true, predicted_scores))\n",
    "\n",
    "print(f\"MAE: {mae}, RMSE: {rmse}\")"
   ]
  },
  {
   "cell_type": "code",
   "execution_count": 230,
   "id": "da04c8b9-ceae-4365-917f-43011210b59c",
   "metadata": {},
   "outputs": [],
   "source": [
    "#mobiles_clean.to_csv('data/mobile_processed_data.csv', index=False)"
   ]
  },
  {
   "cell_type": "code",
   "execution_count": 231,
   "id": "29c0d1c5-6f8d-4694-8004-120ff017c204",
   "metadata": {},
   "outputs": [],
   "source": [
    "#create directories recursively\n",
    "os.makedirs(r'src\\model',exist_ok=True)"
   ]
  },
  {
   "cell_type": "code",
   "execution_count": 232,
   "id": "336e3217-4ea1-44f4-94c1-1d788d740b5d",
   "metadata": {},
   "outputs": [],
   "source": [
    "#save the dataframe toa file\n",
    "pickle.dump(obj=mobiles_clean,file=open(file=r'src\\model\\dataframe.pkl',mode='wb'))"
   ]
  },
  {
   "cell_type": "code",
   "execution_count": 233,
   "id": "67a4e652-1c50-4623-97ce-eac11f8f3f47",
   "metadata": {},
   "outputs": [],
   "source": [
    "pickle.dump(obj=similarity,file=open(file=r'src\\model\\similarity.pkl',mode='wb'))"
   ]
  },
  {
   "cell_type": "code",
   "execution_count": 234,
   "id": "fe40bbc8-2c30-44c8-b591-cb0c3d717994",
   "metadata": {},
   "outputs": [],
   "source": [
    "mobiles_clean.to_csv('mobile_processed_data.csv', index=False)"
   ]
  }
 ],
 "metadata": {
  "kernelspec": {
   "display_name": "base",
   "language": "python",
   "name": "python3"
  },
  "language_info": {
   "codemirror_mode": {
    "name": "ipython",
    "version": 3
   },
   "file_extension": ".py",
   "mimetype": "text/x-python",
   "name": "python",
   "nbconvert_exporter": "python",
   "pygments_lexer": "ipython3",
   "version": "3.11.7"
  }
 },
 "nbformat": 4,
 "nbformat_minor": 5
}
