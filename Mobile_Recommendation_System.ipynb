{
 "cells": [
  {
   "cell_type": "code",
   "execution_count": 42,
   "id": "cc8dfd1a-e206-4a71-a5f0-9d98e247c9d8",
   "metadata": {},
   "outputs": [],
   "source": [
    "import numpy as np \n",
    "import pandas as pd\n",
    "import re\n",
    "import os\n",
    "import pickle\n",
    "import matplotlib.pyplot as plt\n",
    "from sklearn.feature_extraction.text import TfidfVectorizer\n",
    "from sklearn.metrics.pairwise import cosine_similarity\n",
    "from sklearn.preprocessing import StandardScaler, OneHotEncoder\n",
    "from sklearn.compose import ColumnTransformer\n",
    "from sklearn.pipeline import Pipeline\n",
    "import warnings #filter and surpress warnings\n",
    "warnings.filterwarnings('ignore')"
   ]
  },
  {
   "cell_type": "code",
   "execution_count": 43,
   "id": "29f3cc16-1288-4108-aa02-b864fcdb5e80",
   "metadata": {},
   "outputs": [],
   "source": [
    "mobiles = pd.read_csv('C:\\\\Users\\\\sandu\\\\OneDrive\\\\Desktop\\\\Mobile-Recommendation-System\\\\data\\\\mobile-data.csv')"
   ]
  },
  {
   "cell_type": "code",
   "execution_count": 44,
   "id": "031ba0b9-2579-4d0b-a0c4-d842a0370a5a",
   "metadata": {},
   "outputs": [
    {
     "data": {
      "text/html": [
       "<div>\n",
       "<style scoped>\n",
       "    .dataframe tbody tr th:only-of-type {\n",
       "        vertical-align: middle;\n",
       "    }\n",
       "\n",
       "    .dataframe tbody tr th {\n",
       "        vertical-align: top;\n",
       "    }\n",
       "\n",
       "    .dataframe thead th {\n",
       "        text-align: right;\n",
       "    }\n",
       "</style>\n",
       "<table border=\"1\" class=\"dataframe\">\n",
       "  <thead>\n",
       "    <tr style=\"text-align: right;\">\n",
       "      <th></th>\n",
       "      <th>name</th>\n",
       "      <th>ratings</th>\n",
       "      <th>price</th>\n",
       "      <th>imgURL</th>\n",
       "      <th>corpus</th>\n",
       "    </tr>\n",
       "  </thead>\n",
       "  <tbody>\n",
       "    <tr>\n",
       "      <th>0</th>\n",
       "      <td>REDMI Note 12 Pro 5G (Onyx Black, 128 GB)</td>\n",
       "      <td>4.2</td>\n",
       "      <td>23999</td>\n",
       "      <td>https://rukminim2.flixcart.com/image/312/312/x...</td>\n",
       "      <td>Storage128 GBRAM6  SystemAndroid 12Processor T...</td>\n",
       "    </tr>\n",
       "    <tr>\n",
       "      <th>1</th>\n",
       "      <td>OPPO F11 Pro (Aurora Green, 128 GB)</td>\n",
       "      <td>4.5</td>\n",
       "      <td>₹20,999</td>\n",
       "      <td>https://rukminim2.flixcart.com/image/312/312/k...</td>\n",
       "      <td>Storage128 GBRAM6 GBExpandable Storage256GB  S...</td>\n",
       "    </tr>\n",
       "    <tr>\n",
       "      <th>2</th>\n",
       "      <td>REDMI Note 11 (Starburst White, 64 GB)</td>\n",
       "      <td>4.2</td>\n",
       "      <td>13149</td>\n",
       "      <td>https://rukminim2.flixcart.com/image/312/312/x...</td>\n",
       "      <td>Storage64 GBRAM4  SystemAndroid 11Processor Sp...</td>\n",
       "    </tr>\n",
       "    <tr>\n",
       "      <th>3</th>\n",
       "      <td>OnePlus Nord CE 5G (Blue Void, 256 GB)</td>\n",
       "      <td>4.1</td>\n",
       "      <td>21999</td>\n",
       "      <td>https://rukminim2.flixcart.com/image/312/312/x...</td>\n",
       "      <td>Storage256 GBRAM12  SystemAndroid Q 11Processo...</td>\n",
       "    </tr>\n",
       "    <tr>\n",
       "      <th>4</th>\n",
       "      <td>APPLE iPhone 13 mini (Blue, 128 GB)</td>\n",
       "      <td>4.6</td>\n",
       "      <td>3537</td>\n",
       "      <td>https://rukminim2.flixcart.com/image/312/312/k...</td>\n",
       "      <td>Storage128  SystemiOS 15Processor TypeA15 Bion...</td>\n",
       "    </tr>\n",
       "  </tbody>\n",
       "</table>\n",
       "</div>"
      ],
      "text/plain": [
       "                                        name  ratings    price  \\\n",
       "0  REDMI Note 12 Pro 5G (Onyx Black, 128 GB)      4.2    23999   \n",
       "1        OPPO F11 Pro (Aurora Green, 128 GB)      4.5  ₹20,999   \n",
       "2     REDMI Note 11 (Starburst White, 64 GB)      4.2    13149   \n",
       "3     OnePlus Nord CE 5G (Blue Void, 256 GB)      4.1    21999   \n",
       "4        APPLE iPhone 13 mini (Blue, 128 GB)      4.6     3537   \n",
       "\n",
       "                                              imgURL  \\\n",
       "0  https://rukminim2.flixcart.com/image/312/312/x...   \n",
       "1  https://rukminim2.flixcart.com/image/312/312/k...   \n",
       "2  https://rukminim2.flixcart.com/image/312/312/x...   \n",
       "3  https://rukminim2.flixcart.com/image/312/312/x...   \n",
       "4  https://rukminim2.flixcart.com/image/312/312/k...   \n",
       "\n",
       "                                              corpus  \n",
       "0  Storage128 GBRAM6  SystemAndroid 12Processor T...  \n",
       "1  Storage128 GBRAM6 GBExpandable Storage256GB  S...  \n",
       "2  Storage64 GBRAM4  SystemAndroid 11Processor Sp...  \n",
       "3  Storage256 GBRAM12  SystemAndroid Q 11Processo...  \n",
       "4  Storage128  SystemiOS 15Processor TypeA15 Bion...  "
      ]
     },
     "execution_count": 44,
     "metadata": {},
     "output_type": "execute_result"
    }
   ],
   "source": [
    "mobiles.head()"
   ]
  },
  {
   "cell_type": "code",
   "execution_count": 45,
   "id": "45e84a78-897b-47e1-a63d-e2da1d7203bd",
   "metadata": {},
   "outputs": [
    {
     "data": {
      "text/plain": [
       "(2546, 5)"
      ]
     },
     "execution_count": 45,
     "metadata": {},
     "output_type": "execute_result"
    }
   ],
   "source": [
    "mobiles.shape"
   ]
  },
  {
   "cell_type": "code",
   "execution_count": 46,
   "id": "0ce3dc20-66f5-4f1e-9248-28a60907568f",
   "metadata": {},
   "outputs": [
    {
     "data": {
      "text/plain": [
       "name        0\n",
       "ratings     0\n",
       "price       0\n",
       "imgURL      0\n",
       "corpus     12\n",
       "dtype: int64"
      ]
     },
     "execution_count": 46,
     "metadata": {},
     "output_type": "execute_result"
    }
   ],
   "source": [
    "mobiles.isnull().sum()"
   ]
  },
  {
   "cell_type": "code",
   "execution_count": 47,
   "id": "27ff6390-0088-4312-aab3-3e34f8b846dc",
   "metadata": {},
   "outputs": [],
   "source": [
    "mobiles_clean=mobiles.dropna()"
   ]
  },
  {
   "cell_type": "code",
   "execution_count": 48,
   "id": "eb29b748-6bd2-434a-b285-83484dfc3601",
   "metadata": {},
   "outputs": [
    {
     "data": {
      "text/plain": [
       "name       0\n",
       "ratings    0\n",
       "price      0\n",
       "imgURL     0\n",
       "corpus     0\n",
       "dtype: int64"
      ]
     },
     "execution_count": 48,
     "metadata": {},
     "output_type": "execute_result"
    }
   ],
   "source": [
    "mobiles_clean.isnull().sum()"
   ]
  },
  {
   "cell_type": "code",
   "execution_count": 49,
   "id": "00c272a9-9864-402e-8f90-68d124d6241e",
   "metadata": {},
   "outputs": [
    {
     "data": {
      "text/plain": [
       "(2534, 5)"
      ]
     },
     "execution_count": 49,
     "metadata": {},
     "output_type": "execute_result"
    }
   ],
   "source": [
    "mobiles_clean.shape"
   ]
  },
  {
   "cell_type": "code",
   "execution_count": 50,
   "id": "fa7f2377-7f38-4756-b9dc-0c18ebe08090",
   "metadata": {},
   "outputs": [],
   "source": [
    "mobiles_clean.loc[:,'corpus'] = mobiles_clean['corpus'].str.lower()"
   ]
  },
  {
   "cell_type": "code",
   "execution_count": 51,
   "id": "7fd68f3a-1d65-4154-9527-206a5aa4d685",
   "metadata": {},
   "outputs": [],
   "source": [
    "def extract_storage(corpus):\n",
    "    match = re.search(r'storage(\\d+)', corpus)\n",
    "    if match:\n",
    "        return int(match.group(1))\n",
    "    return None"
   ]
  },
  {
   "cell_type": "code",
   "execution_count": 52,
   "id": "dec84ec2-3265-4fab-8273-f9b154144f74",
   "metadata": {},
   "outputs": [],
   "source": [
    "mobiles_clean.loc[:, 'storage'] = mobiles_clean['corpus'].apply(extract_storage)"
   ]
  },
  {
   "cell_type": "code",
   "execution_count": 53,
   "id": "c76ca906-faa1-40f9-9c84-5de3427060b0",
   "metadata": {},
   "outputs": [
    {
     "data": {
      "text/html": [
       "<div>\n",
       "<style scoped>\n",
       "    .dataframe tbody tr th:only-of-type {\n",
       "        vertical-align: middle;\n",
       "    }\n",
       "\n",
       "    .dataframe tbody tr th {\n",
       "        vertical-align: top;\n",
       "    }\n",
       "\n",
       "    .dataframe thead th {\n",
       "        text-align: right;\n",
       "    }\n",
       "</style>\n",
       "<table border=\"1\" class=\"dataframe\">\n",
       "  <thead>\n",
       "    <tr style=\"text-align: right;\">\n",
       "      <th></th>\n",
       "      <th>name</th>\n",
       "      <th>ratings</th>\n",
       "      <th>price</th>\n",
       "      <th>imgURL</th>\n",
       "      <th>corpus</th>\n",
       "      <th>storage</th>\n",
       "    </tr>\n",
       "  </thead>\n",
       "  <tbody>\n",
       "    <tr>\n",
       "      <th>0</th>\n",
       "      <td>REDMI Note 12 Pro 5G (Onyx Black, 128 GB)</td>\n",
       "      <td>4.2</td>\n",
       "      <td>23999</td>\n",
       "      <td>https://rukminim2.flixcart.com/image/312/312/x...</td>\n",
       "      <td>storage128 gbram6  systemandroid 12processor t...</td>\n",
       "      <td>128.0</td>\n",
       "    </tr>\n",
       "    <tr>\n",
       "      <th>1</th>\n",
       "      <td>OPPO F11 Pro (Aurora Green, 128 GB)</td>\n",
       "      <td>4.5</td>\n",
       "      <td>₹20,999</td>\n",
       "      <td>https://rukminim2.flixcart.com/image/312/312/k...</td>\n",
       "      <td>storage128 gbram6 gbexpandable storage256gb  s...</td>\n",
       "      <td>128.0</td>\n",
       "    </tr>\n",
       "    <tr>\n",
       "      <th>2</th>\n",
       "      <td>REDMI Note 11 (Starburst White, 64 GB)</td>\n",
       "      <td>4.2</td>\n",
       "      <td>13149</td>\n",
       "      <td>https://rukminim2.flixcart.com/image/312/312/x...</td>\n",
       "      <td>storage64 gbram4  systemandroid 11processor sp...</td>\n",
       "      <td>64.0</td>\n",
       "    </tr>\n",
       "    <tr>\n",
       "      <th>3</th>\n",
       "      <td>OnePlus Nord CE 5G (Blue Void, 256 GB)</td>\n",
       "      <td>4.1</td>\n",
       "      <td>21999</td>\n",
       "      <td>https://rukminim2.flixcart.com/image/312/312/x...</td>\n",
       "      <td>storage256 gbram12  systemandroid q 11processo...</td>\n",
       "      <td>256.0</td>\n",
       "    </tr>\n",
       "    <tr>\n",
       "      <th>4</th>\n",
       "      <td>APPLE iPhone 13 mini (Blue, 128 GB)</td>\n",
       "      <td>4.6</td>\n",
       "      <td>3537</td>\n",
       "      <td>https://rukminim2.flixcart.com/image/312/312/k...</td>\n",
       "      <td>storage128  systemios 15processor typea15 bion...</td>\n",
       "      <td>128.0</td>\n",
       "    </tr>\n",
       "  </tbody>\n",
       "</table>\n",
       "</div>"
      ],
      "text/plain": [
       "                                        name  ratings    price  \\\n",
       "0  REDMI Note 12 Pro 5G (Onyx Black, 128 GB)      4.2    23999   \n",
       "1        OPPO F11 Pro (Aurora Green, 128 GB)      4.5  ₹20,999   \n",
       "2     REDMI Note 11 (Starburst White, 64 GB)      4.2    13149   \n",
       "3     OnePlus Nord CE 5G (Blue Void, 256 GB)      4.1    21999   \n",
       "4        APPLE iPhone 13 mini (Blue, 128 GB)      4.6     3537   \n",
       "\n",
       "                                              imgURL  \\\n",
       "0  https://rukminim2.flixcart.com/image/312/312/x...   \n",
       "1  https://rukminim2.flixcart.com/image/312/312/k...   \n",
       "2  https://rukminim2.flixcart.com/image/312/312/x...   \n",
       "3  https://rukminim2.flixcart.com/image/312/312/x...   \n",
       "4  https://rukminim2.flixcart.com/image/312/312/k...   \n",
       "\n",
       "                                              corpus  storage  \n",
       "0  storage128 gbram6  systemandroid 12processor t...    128.0  \n",
       "1  storage128 gbram6 gbexpandable storage256gb  s...    128.0  \n",
       "2  storage64 gbram4  systemandroid 11processor sp...     64.0  \n",
       "3  storage256 gbram12  systemandroid q 11processo...    256.0  \n",
       "4  storage128  systemios 15processor typea15 bion...    128.0  "
      ]
     },
     "execution_count": 53,
     "metadata": {},
     "output_type": "execute_result"
    }
   ],
   "source": [
    "mobiles_clean.head()"
   ]
  },
  {
   "cell_type": "code",
   "execution_count": 54,
   "id": "4f784e60-e08f-4771-a585-f263e23e8385",
   "metadata": {},
   "outputs": [],
   "source": [
    "def extract_ram(corpus):\n",
    "    match = re.search(r'ram(\\d+)', corpus)\n",
    "    if match:\n",
    "        return int(match.group(1))\n",
    "    return None"
   ]
  },
  {
   "cell_type": "code",
   "execution_count": 55,
   "id": "b90e58b0-e22a-4aa0-a15d-848b3c3b635f",
   "metadata": {},
   "outputs": [],
   "source": [
    "mobiles_clean.loc[:, 'ram'] = mobiles_clean['corpus'].apply(extract_ram)"
   ]
  },
  {
   "cell_type": "code",
   "execution_count": 56,
   "id": "e6f449f5-c7b4-4375-89c9-5c28be54a888",
   "metadata": {},
   "outputs": [],
   "source": [
    "def extract_system(corpus):\n",
    "    match = re.search(r'system(.*?)processor', corpus)\n",
    "    if match:\n",
    "        return match.group(1).strip()\n",
    "    return None"
   ]
  },
  {
   "cell_type": "code",
   "execution_count": 57,
   "id": "1eccb971-6c02-443d-9041-f327adfbf4ad",
   "metadata": {},
   "outputs": [],
   "source": [
    "mobiles_clean.loc[:, 'system'] = mobiles_clean['corpus'].apply(extract_system)"
   ]
  },
  {
   "cell_type": "code",
   "execution_count": 58,
   "id": "fca8aeb7-f239-4f8e-83e7-cd264ad52bc5",
   "metadata": {},
   "outputs": [],
   "source": [
    "def extract_processor(corpus):\n",
    "    match = re.search(r'processor (.*?) ', corpus)\n",
    "    if match:\n",
    "        return match.group(1).strip()\n",
    "    return None"
   ]
  },
  {
   "cell_type": "code",
   "execution_count": 59,
   "id": "7e424e5f-2080-4b77-84d3-13e066c7a22d",
   "metadata": {},
   "outputs": [],
   "source": [
    "mobiles_clean.loc[:, 'processor'] = mobiles_clean['corpus'].apply(extract_processor)"
   ]
  },
  {
   "cell_type": "code",
   "execution_count": 60,
   "id": "4a273394-6674-43b6-9b57-a248927b8604",
   "metadata": {
    "scrolled": true
   },
   "outputs": [
    {
     "data": {
      "text/html": [
       "<div>\n",
       "<style scoped>\n",
       "    .dataframe tbody tr th:only-of-type {\n",
       "        vertical-align: middle;\n",
       "    }\n",
       "\n",
       "    .dataframe tbody tr th {\n",
       "        vertical-align: top;\n",
       "    }\n",
       "\n",
       "    .dataframe thead th {\n",
       "        text-align: right;\n",
       "    }\n",
       "</style>\n",
       "<table border=\"1\" class=\"dataframe\">\n",
       "  <thead>\n",
       "    <tr style=\"text-align: right;\">\n",
       "      <th></th>\n",
       "      <th>name</th>\n",
       "      <th>ratings</th>\n",
       "      <th>price</th>\n",
       "      <th>imgURL</th>\n",
       "      <th>corpus</th>\n",
       "      <th>storage</th>\n",
       "      <th>ram</th>\n",
       "      <th>system</th>\n",
       "      <th>processor</th>\n",
       "    </tr>\n",
       "  </thead>\n",
       "  <tbody>\n",
       "    <tr>\n",
       "      <th>0</th>\n",
       "      <td>REDMI Note 12 Pro 5G (Onyx Black, 128 GB)</td>\n",
       "      <td>4.2</td>\n",
       "      <td>23999</td>\n",
       "      <td>https://rukminim2.flixcart.com/image/312/312/x...</td>\n",
       "      <td>storage128 gbram6  systemandroid 12processor t...</td>\n",
       "      <td>128.0</td>\n",
       "      <td>6.0</td>\n",
       "      <td>android 12</td>\n",
       "      <td>typemediatek</td>\n",
       "    </tr>\n",
       "    <tr>\n",
       "      <th>1</th>\n",
       "      <td>OPPO F11 Pro (Aurora Green, 128 GB)</td>\n",
       "      <td>4.5</td>\n",
       "      <td>₹20,999</td>\n",
       "      <td>https://rukminim2.flixcart.com/image/312/312/k...</td>\n",
       "      <td>storage128 gbram6 gbexpandable storage256gb  s...</td>\n",
       "      <td>128.0</td>\n",
       "      <td>6.0</td>\n",
       "      <td>android pie 9.0</td>\n",
       "      <td>typemediatek</td>\n",
       "    </tr>\n",
       "    <tr>\n",
       "      <th>2</th>\n",
       "      <td>REDMI Note 11 (Starburst White, 64 GB)</td>\n",
       "      <td>4.2</td>\n",
       "      <td>13149</td>\n",
       "      <td>https://rukminim2.flixcart.com/image/312/312/x...</td>\n",
       "      <td>storage64 gbram4  systemandroid 11processor sp...</td>\n",
       "      <td>64.0</td>\n",
       "      <td>4.0</td>\n",
       "      <td>android 11</td>\n",
       "      <td>speed2.4</td>\n",
       "    </tr>\n",
       "    <tr>\n",
       "      <th>3</th>\n",
       "      <td>OnePlus Nord CE 5G (Blue Void, 256 GB)</td>\n",
       "      <td>4.1</td>\n",
       "      <td>21999</td>\n",
       "      <td>https://rukminim2.flixcart.com/image/312/312/x...</td>\n",
       "      <td>storage256 gbram12  systemandroid q 11processo...</td>\n",
       "      <td>256.0</td>\n",
       "      <td>12.0</td>\n",
       "      <td>android q 11</td>\n",
       "      <td>typequalcomm</td>\n",
       "    </tr>\n",
       "    <tr>\n",
       "      <th>4</th>\n",
       "      <td>APPLE iPhone 13 mini (Blue, 128 GB)</td>\n",
       "      <td>4.6</td>\n",
       "      <td>3537</td>\n",
       "      <td>https://rukminim2.flixcart.com/image/312/312/k...</td>\n",
       "      <td>storage128  systemios 15processor typea15 bion...</td>\n",
       "      <td>128.0</td>\n",
       "      <td>NaN</td>\n",
       "      <td>ios 15</td>\n",
       "      <td>typea15</td>\n",
       "    </tr>\n",
       "  </tbody>\n",
       "</table>\n",
       "</div>"
      ],
      "text/plain": [
       "                                        name  ratings    price  \\\n",
       "0  REDMI Note 12 Pro 5G (Onyx Black, 128 GB)      4.2    23999   \n",
       "1        OPPO F11 Pro (Aurora Green, 128 GB)      4.5  ₹20,999   \n",
       "2     REDMI Note 11 (Starburst White, 64 GB)      4.2    13149   \n",
       "3     OnePlus Nord CE 5G (Blue Void, 256 GB)      4.1    21999   \n",
       "4        APPLE iPhone 13 mini (Blue, 128 GB)      4.6     3537   \n",
       "\n",
       "                                              imgURL  \\\n",
       "0  https://rukminim2.flixcart.com/image/312/312/x...   \n",
       "1  https://rukminim2.flixcart.com/image/312/312/k...   \n",
       "2  https://rukminim2.flixcart.com/image/312/312/x...   \n",
       "3  https://rukminim2.flixcart.com/image/312/312/x...   \n",
       "4  https://rukminim2.flixcart.com/image/312/312/k...   \n",
       "\n",
       "                                              corpus  storage   ram  \\\n",
       "0  storage128 gbram6  systemandroid 12processor t...    128.0   6.0   \n",
       "1  storage128 gbram6 gbexpandable storage256gb  s...    128.0   6.0   \n",
       "2  storage64 gbram4  systemandroid 11processor sp...     64.0   4.0   \n",
       "3  storage256 gbram12  systemandroid q 11processo...    256.0  12.0   \n",
       "4  storage128  systemios 15processor typea15 bion...    128.0   NaN   \n",
       "\n",
       "            system     processor  \n",
       "0       android 12  typemediatek  \n",
       "1  android pie 9.0  typemediatek  \n",
       "2       android 11      speed2.4  \n",
       "3     android q 11  typequalcomm  \n",
       "4           ios 15       typea15  "
      ]
     },
     "execution_count": 60,
     "metadata": {},
     "output_type": "execute_result"
    }
   ],
   "source": [
    "mobiles_clean.head()"
   ]
  },
  {
   "cell_type": "code",
   "execution_count": 61,
   "id": "180373a7-b04d-44c3-8f7c-0d33c7bc5c46",
   "metadata": {},
   "outputs": [],
   "source": [
    "unique_systems = mobiles_clean['system'].unique()\n",
    "unique_processors = mobiles_clean['processor'].unique()"
   ]
  },
  {
   "cell_type": "code",
   "execution_count": 62,
   "id": "c5f40d51-420e-46ca-953f-1a1072819371",
   "metadata": {},
   "outputs": [
    {
     "data": {
      "text/plain": [
       "array(['android 12', 'android pie 9.0', 'android 11', 'android q 11',\n",
       "       'ios 15', 'ios 9', 'android 13', 'android pie 9',\n",
       "       'android nougat 7', 'android 10', 'ios 16', None,\n",
       "       'android q android q 12.5', 'android oreo 8.1',\n",
       "       'android marshmallow 6.0.1', 'android oreo 8.1.0',\n",
       "       'android 13 (go edition)', 'android android 12', 'android q 10',\n",
       "       'ios 14.2', 'android pie android v9.0 (pie)', 'android andriod 11',\n",
       "       'android android 10',\n",
       "       'android hios 8.6 based on android 12-go edition',\n",
       "       'android nougat 7.1', 'ios 14', 'android android 13', 'ios 12',\n",
       "       'android 12 go', 'ios 7', 'android nougat 7.1.2',\n",
       "       'android oreo v11', 'android android 13 oxygenos',\n",
       "       'android android 13.0', 'android android v12.0',\n",
       "       'android android 11', 'android pie 10', 'android oreo 8.0', 'q 10',\n",
       "       'android q android 10', 'android q 12', 'ios 13',\n",
       "       'android android 11 go', 'android 10 (go edition)',\n",
       "       'android oxygen oxygenos based on android 13',\n",
       "       'series 30 feature phone', 'android lollipop 5.1', 'android q 111',\n",
       "       'ios 8', 'android q android 11',\n",
       "       'android ?hios 12.0 based on android 12',\n",
       "       'android android 11 (go edition)', 'android android 12.0',\n",
       "       'android lollipop 5.0.2', 'android miui 13, android 12.0',\n",
       "       'android lollipop color os 3.0 based on android 5.1',\n",
       "       'android nougat 7.1.1', 'android kitkat 4.4.2',\n",
       "       'android 11 (go edition)', 'android android13', 'android q 10.0v',\n",
       "       'android kitkat 1', 'android oxygenos based on android 13',\n",
       "       'android kitkat 4.4', 'android funtouch os 12', '1',\n",
       "       'android q v11.0', 'android android oxygen android 12', 'ios 11',\n",
       "       'android oreo 8', 'android miui 14, android 13.0',\n",
       "       'android oxygen 12', 'android pie oxygen',\n",
       "       'android lollipop 5.1.1', 'android q v10', 'android android12',\n",
       "       'android q android', 'android oxygen 11', 'android 12.5',\n",
       "       'android q android q android 11',\n",
       "       'android q funtouch os 13 (based on android 13)',\n",
       "       'android marshmallow 6', 'android q android 13.0',\n",
       "       'android q 10.0', 'android q ?android 13.0',\n",
       "       'android q android 12', 'android nougat 11',\n",
       "       'android q android 11 (go edition)', 'android q android 12.0',\n",
       "       'ios q hios 8.6 based on android 12', 'android jelly bean 4.2',\n",
       "       'android 12 (go edition)', 'android q 13', 'android oxygen 12.1',\n",
       "       'android coloros 13.1 on top of android 13',\n",
       "       'android q coloros 12.1. 1', 'android pie 9 pie oxygenos',\n",
       "       'android q android 12, one ui core 4.1', 'android',\n",
       "       'android q 10.1', 'android android 11 go audition', 'series 30',\n",
       "       'android q android 12, coloros 12.1',\n",
       "       'android ?miui 13, android 12.0', 'android oxygen android 12',\n",
       "       'android hios 12.0 based on android 12', 'android oxygen 11.3',\n",
       "       'android q miui 13, android 12.0', 'android q 11.1',\n",
       "       'android funtouch os 11 (based on android 11)',\n",
       "       'android mediatek helio p35', 'android q android q 10',\n",
       "       'android android v9.0 pie', 'android pie oxygen os',\n",
       "       'android q android 11::coloros 12.1', 'tizen',\n",
       "       'android pie android version 10',\n",
       "       'android hios 12.0 based on android 13', 'android jelly bean 4.3',\n",
       "       'android q android 11, coloros 12.1', 'android oreo 10',\n",
       "       'android kitkat 4.4.4', 'android miui 12, android 11.0',\n",
       "       'ios q ?hios 8.6 based on android 12'], dtype=object)"
      ]
     },
     "execution_count": 62,
     "metadata": {},
     "output_type": "execute_result"
    }
   ],
   "source": [
    "unique_systems"
   ]
  },
  {
   "cell_type": "code",
   "execution_count": 63,
   "id": "65fe5c89-bff3-4900-8983-936e26587348",
   "metadata": {},
   "outputs": [
    {
     "data": {
      "text/plain": [
       "array(['typemediatek', 'speed2.4', 'typequalcomm', 'typea15', 'typea9',\n",
       "       None, 'speed2', 'typemtk', 'speed3.19', 'typedimensity',\n",
       "       'typeunisoc', 'speed2.3', 'typea12', 'typea16', 'speed0.1',\n",
       "       'typeexynos', 'typehelio', 'speed2.84', 'typemt6763tprocessor',\n",
       "       'speed1.8', 'typea14', 'speed2.2', 'typea13', 'speed2.9', 'typea6',\n",
       "       'speed3.05', 'typeapple', 'typesnapdragon', 'typequalcomm®',\n",
       "       'typea11', 'speed2.99', 'typea10', 'speed3.2', 'speed208',\n",
       "       'typemeditek', 'typea8', 'typesamsung', 'typeg37processor',\n",
       "       'speed1.6', 'typeocta', 'type2nd-gen', 'typet612processor',\n",
       "       'typeocta-coreprocessor', 'speed1.2', 'typespreadtrum', 'typesec',\n",
       "       'typemtk6739', 'typesdm710processor', 'speed3', 'typena',\n",
       "       'speed2.05', 'speed2.42', 'speed2.8', 'type1.6', 'type2.0',\n",
       "       'type7nm', 'speed2.73', 'speed90', 'typemediateckprocessor',\n",
       "       'speed900', 'speed120', 'speed2.7', 'speed1.3', 'speed1600',\n",
       "       'typeeolprocessor', 'typenaprocessor', 'typeturbo',\n",
       "       'typesdm439processor', 'speed1.5', 'type2?ghz,', 'typemt6762',\n",
       "       'speed1.9'], dtype=object)"
      ]
     },
     "execution_count": 63,
     "metadata": {},
     "output_type": "execute_result"
    }
   ],
   "source": [
    "unique_processors"
   ]
  },
  {
   "cell_type": "code",
   "execution_count": 64,
   "id": "b092984d-cbe4-4abe-ab6e-0ade170aa8ce",
   "metadata": {},
   "outputs": [],
   "source": [
    "def clean_system(system):\n",
    "    if pd.isnull(system):\n",
    "        return None\n",
    "    if 'android' in system:\n",
    "        return 'Android'\n",
    "    if 'ios' in system:\n",
    "        return 'iOS'\n",
    "    if 'tizen' in system:\n",
    "        return 'Tizen'\n",
    "    return system"
   ]
  },
  {
   "cell_type": "code",
   "execution_count": 65,
   "id": "4fb060be-4360-4a5e-bce2-1bbbc56c3f46",
   "metadata": {},
   "outputs": [],
   "source": [
    "mobiles_clean.loc[:,'system'] = mobiles_clean['system'].apply(clean_system)"
   ]
  },
  {
   "cell_type": "code",
   "execution_count": 66,
   "id": "058f3a1f-8ecc-4d04-8c83-72319202cf2a",
   "metadata": {},
   "outputs": [],
   "source": [
    "unique_systems_clean = mobiles_clean['system'].unique()"
   ]
  },
  {
   "cell_type": "code",
   "execution_count": 67,
   "id": "3b663f0a-e792-457c-b284-552b34f8a111",
   "metadata": {},
   "outputs": [
    {
     "data": {
      "text/plain": [
       "array(['Android', 'iOS', None, 'q 10', 'series 30 feature phone', '1',\n",
       "       'series 30', 'Tizen'], dtype=object)"
      ]
     },
     "execution_count": 67,
     "metadata": {},
     "output_type": "execute_result"
    }
   ],
   "source": [
    "unique_systems_clean"
   ]
  },
  {
   "cell_type": "code",
   "execution_count": 68,
   "id": "06918cc1-4b91-44bc-8805-c0b9a1167582",
   "metadata": {},
   "outputs": [],
   "source": [
    "def clean_processor(processor):\n",
    "    \"\"\"Clean the processor values.\"\"\"\n",
    "    if pd.isnull(processor):\n",
    "        return None\n",
    "    if 'mediatek' in processor:\n",
    "        return 'MediaTek'\n",
    "    if 'qualcomm' in processor:\n",
    "        return 'Qualcomm'\n",
    "    if 'apple' in processor:\n",
    "        return 'Apple'\n",
    "    return 'Other'"
   ]
  },
  {
   "cell_type": "code",
   "execution_count": 69,
   "id": "d82f388b-4924-476a-9ae6-ebcd2f6e23ca",
   "metadata": {},
   "outputs": [],
   "source": [
    "mobiles_clean.loc[:,'processor'] = mobiles_clean['processor'].apply(clean_processor)"
   ]
  },
  {
   "cell_type": "code",
   "execution_count": 70,
   "id": "cbaa6c4f-717a-4034-ac6b-fe997fd364d9",
   "metadata": {},
   "outputs": [],
   "source": [
    "unique_processors_clean = mobiles_clean['processor'].unique()"
   ]
  },
  {
   "cell_type": "code",
   "execution_count": 71,
   "id": "39587e9c-51f9-43b9-9d40-8a72a57292ec",
   "metadata": {},
   "outputs": [
    {
     "data": {
      "text/plain": [
       "array(['MediaTek', 'Other', 'Qualcomm', None, 'Apple'], dtype=object)"
      ]
     },
     "execution_count": 71,
     "metadata": {},
     "output_type": "execute_result"
    }
   ],
   "source": [
    "unique_processors_clean"
   ]
  },
  {
   "cell_type": "code",
   "execution_count": 72,
   "id": "353e43c6-507f-4954-b7f8-5a7a7391e0e6",
   "metadata": {},
   "outputs": [
    {
     "data": {
      "image/png": "[encoded data removed]",
      "text/plain": [
       "<Figure size 1200x600 with 1 Axes>"
      ]
     },
     "metadata": {},
     "output_type": "display_data"
    }
   ],
   "source": [
    "plt.figure(figsize=(12, 6))\n",
    "plt.hist(mobiles_clean['storage'], bins=20, edgecolor='black', color='#00FFFF')\n",
    "plt.title('Distribution of Storage')\n",
    "plt.xlabel('Storage (GB)')\n",
    "plt.ylabel('Count')\n",
    "plt.show()"
   ]
  },
  {
   "cell_type": "code",
   "execution_count": 73,
   "id": "d6dce00b-3e1c-4500-b893-d2c9a137ddb5",
   "metadata": {},
   "outputs": [
    {
     "data": {
      "image/png": "[encoded data removed]",
      "text/plain": [
       "<Figure size 1000x600 with 1 Axes>"
      ]
     },
     "metadata": {},
     "output_type": "display_data"
    }
   ],
   "source": [
    "plt.figure(figsize=(10, 6))\n",
    "plt.hist(mobiles_clean['ram'].dropna(), bins=20, edgecolor='black',color='#FFC0CB') \n",
    "plt.title('Distribution of RAM')\n",
    "plt.xlabel('RAM (GB)')\n",
    "plt.ylabel('Count')\n",
    "plt.show()"
   ]
  },
  {
   "cell_type": "code",
   "execution_count": 74,
   "id": "8942c9fc-0d2a-408e-9618-e9ab123b5bd8",
   "metadata": {},
   "outputs": [
    {
     "data": {
      "image/png": "[encoded data removed]",
      "text/plain": [
       "<Figure size 1000x600 with 1 Axes>"
      ]
     },
     "metadata": {},
     "output_type": "display_data"
    }
   ],
   "source": [
    "plt.figure(figsize=(10, 6))\n",
    "mobiles_clean['system'].value_counts().plot(kind='bar',edgecolor='black',color='#800080')\n",
    "plt.title('Distribution of Operating Systems')\n",
    "plt.xlabel('Operating System')\n",
    "plt.ylabel('Count')\n",
    "plt.show()"
   ]
  },
  {
   "cell_type": "code",
   "execution_count": 75,
   "id": "4176e5f6-7ea3-40ff-9859-5add1376e31b",
   "metadata": {},
   "outputs": [
    {
     "data": {
      "image/png": "[encoded data removed]",
      "text/plain": [
       "<Figure size 1000x600 with 1 Axes>"
      ]
     },
     "metadata": {},
     "output_type": "display_data"
    }
   ],
   "source": [
    "plt.figure(figsize=(10, 6))\n",
    "mobiles_clean['processor'].value_counts().plot(kind='bar',edgecolor='black',color='#808000')\n",
    "plt.title('Distribution of Processors')\n",
    "plt.xlabel('Processor')\n",
    "plt.ylabel('Count')\n",
    "plt.show()"
   ]
  },
  {
   "cell_type": "code",
   "execution_count": 76,
   "id": "087534d0-ebf7-4cd0-a715-a3acd4f756fd",
   "metadata": {},
   "outputs": [],
   "source": [
    "def clean_price(price):\n",
    "    if isinstance(price, (int, float)):  # If the price is already numeric\n",
    "        return int(price)\n",
    "    if isinstance(price, str):  # If the price is a string\n",
    "        cleaned_price = re.sub(r'[^\\d]', '', price)  # Remove all non-numeric characters\n",
    "        if cleaned_price:\n",
    "            return int(cleaned_price)\n",
    "    return None "
   ]
  },
  {
   "cell_type": "code",
   "execution_count": 77,
   "id": "d326d6a0-6465-497d-8fc3-e04d77711c96",
   "metadata": {},
   "outputs": [],
   "source": [
    "mobiles_clean.loc[:,'price'] = mobiles_clean['price'].apply(clean_price)"
   ]
  },
  {
   "cell_type": "code",
   "execution_count": 78,
   "id": "27880671-362f-41f7-8d9c-ee85fc3ab8ff",
   "metadata": {},
   "outputs": [
    {
     "data": {
      "text/html": [
       "<div>\n",
       "<style scoped>\n",
       "    .dataframe tbody tr th:only-of-type {\n",
       "        vertical-align: middle;\n",
       "    }\n",
       "\n",
       "    .dataframe tbody tr th {\n",
       "        vertical-align: top;\n",
       "    }\n",
       "\n",
       "    .dataframe thead th {\n",
       "        text-align: right;\n",
       "    }\n",
       "</style>\n",
       "<table border=\"1\" class=\"dataframe\">\n",
       "  <thead>\n",
       "    <tr style=\"text-align: right;\">\n",
       "      <th></th>\n",
       "      <th>name</th>\n",
       "      <th>ratings</th>\n",
       "      <th>price</th>\n",
       "      <th>imgURL</th>\n",
       "      <th>corpus</th>\n",
       "      <th>storage</th>\n",
       "      <th>ram</th>\n",
       "      <th>system</th>\n",
       "      <th>processor</th>\n",
       "    </tr>\n",
       "  </thead>\n",
       "  <tbody>\n",
       "    <tr>\n",
       "      <th>0</th>\n",
       "      <td>REDMI Note 12 Pro 5G (Onyx Black, 128 GB)</td>\n",
       "      <td>4.2</td>\n",
       "      <td>23999</td>\n",
       "      <td>https://rukminim2.flixcart.com/image/312/312/x...</td>\n",
       "      <td>storage128 gbram6  systemandroid 12processor t...</td>\n",
       "      <td>128.0</td>\n",
       "      <td>6.0</td>\n",
       "      <td>Android</td>\n",
       "      <td>MediaTek</td>\n",
       "    </tr>\n",
       "    <tr>\n",
       "      <th>1</th>\n",
       "      <td>OPPO F11 Pro (Aurora Green, 128 GB)</td>\n",
       "      <td>4.5</td>\n",
       "      <td>20999</td>\n",
       "      <td>https://rukminim2.flixcart.com/image/312/312/k...</td>\n",
       "      <td>storage128 gbram6 gbexpandable storage256gb  s...</td>\n",
       "      <td>128.0</td>\n",
       "      <td>6.0</td>\n",
       "      <td>Android</td>\n",
       "      <td>MediaTek</td>\n",
       "    </tr>\n",
       "    <tr>\n",
       "      <th>2</th>\n",
       "      <td>REDMI Note 11 (Starburst White, 64 GB)</td>\n",
       "      <td>4.2</td>\n",
       "      <td>13149</td>\n",
       "      <td>https://rukminim2.flixcart.com/image/312/312/x...</td>\n",
       "      <td>storage64 gbram4  systemandroid 11processor sp...</td>\n",
       "      <td>64.0</td>\n",
       "      <td>4.0</td>\n",
       "      <td>Android</td>\n",
       "      <td>Other</td>\n",
       "    </tr>\n",
       "    <tr>\n",
       "      <th>3</th>\n",
       "      <td>OnePlus Nord CE 5G (Blue Void, 256 GB)</td>\n",
       "      <td>4.1</td>\n",
       "      <td>21999</td>\n",
       "      <td>https://rukminim2.flixcart.com/image/312/312/x...</td>\n",
       "      <td>storage256 gbram12  systemandroid q 11processo...</td>\n",
       "      <td>256.0</td>\n",
       "      <td>12.0</td>\n",
       "      <td>Android</td>\n",
       "      <td>Qualcomm</td>\n",
       "    </tr>\n",
       "    <tr>\n",
       "      <th>4</th>\n",
       "      <td>APPLE iPhone 13 mini (Blue, 128 GB)</td>\n",
       "      <td>4.6</td>\n",
       "      <td>3537</td>\n",
       "      <td>https://rukminim2.flixcart.com/image/312/312/k...</td>\n",
       "      <td>storage128  systemios 15processor typea15 bion...</td>\n",
       "      <td>128.0</td>\n",
       "      <td>NaN</td>\n",
       "      <td>iOS</td>\n",
       "      <td>Other</td>\n",
       "    </tr>\n",
       "  </tbody>\n",
       "</table>\n",
       "</div>"
      ],
      "text/plain": [
       "                                        name  ratings  price  \\\n",
       "0  REDMI Note 12 Pro 5G (Onyx Black, 128 GB)      4.2  23999   \n",
       "1        OPPO F11 Pro (Aurora Green, 128 GB)      4.5  20999   \n",
       "2     REDMI Note 11 (Starburst White, 64 GB)      4.2  13149   \n",
       "3     OnePlus Nord CE 5G (Blue Void, 256 GB)      4.1  21999   \n",
       "4        APPLE iPhone 13 mini (Blue, 128 GB)      4.6   3537   \n",
       "\n",
       "                                              imgURL  \\\n",
       "0  https://rukminim2.flixcart.com/image/312/312/x...   \n",
       "1  https://rukminim2.flixcart.com/image/312/312/k...   \n",
       "2  https://rukminim2.flixcart.com/image/312/312/x...   \n",
       "3  https://rukminim2.flixcart.com/image/312/312/x...   \n",
       "4  https://rukminim2.flixcart.com/image/312/312/k...   \n",
       "\n",
       "                                              corpus  storage   ram   system  \\\n",
       "0  storage128 gbram6  systemandroid 12processor t...    128.0   6.0  Android   \n",
       "1  storage128 gbram6 gbexpandable storage256gb  s...    128.0   6.0  Android   \n",
       "2  storage64 gbram4  systemandroid 11processor sp...     64.0   4.0  Android   \n",
       "3  storage256 gbram12  systemandroid q 11processo...    256.0  12.0  Android   \n",
       "4  storage128  systemios 15processor typea15 bion...    128.0   NaN      iOS   \n",
       "\n",
       "  processor  \n",
       "0  MediaTek  \n",
       "1  MediaTek  \n",
       "2     Other  \n",
       "3  Qualcomm  \n",
       "4     Other  "
      ]
     },
     "execution_count": 78,
     "metadata": {},
     "output_type": "execute_result"
    }
   ],
   "source": [
    "mobiles_clean.head()"
   ]
  },
  {
   "cell_type": "code",
   "execution_count": 79,
   "id": "6b03a85f-cc78-45f7-afb4-617e5bf07d8e",
   "metadata": {},
   "outputs": [
    {
     "data": {
      "image/png": "[encoded data removed]",
      "text/plain": [
       "<Figure size 1000x600 with 1 Axes>"
      ]
     },
     "metadata": {},
     "output_type": "display_data"
    }
   ],
   "source": [
    "plt.figure(figsize=(10, 6))\n",
    "plt.scatter(mobiles_clean['storage'], mobiles_clean['price'], color='#800000')\n",
    "plt.title('Price vs Storage')\n",
    "plt.xlabel('Storage (GB)')\n",
    "plt.ylabel('Price')\n",
    "plt.show()"
   ]
  },
  {
   "cell_type": "code",
   "execution_count": 80,
   "id": "c4ab7b1a-ce2f-40d5-83a9-d8cdc808ded1",
   "metadata": {},
   "outputs": [
    {
     "data": {
      "text/plain": [
       "0.27088522618019156"
      ]
     },
     "execution_count": 80,
     "metadata": {},
     "output_type": "execute_result"
    }
   ],
   "source": [
    "correlation = mobiles_clean['price'].corr(mobiles_clean['storage'])\n",
    "\n",
    "correlation"
   ]
  },
  {
   "cell_type": "code",
   "execution_count": 81,
   "id": "59f4280c-52aa-4b4b-9f76-5dc720cd17ba",
   "metadata": {},
   "outputs": [
    {
     "data": {
      "image/png": "[encoded data removed]",
      "text/plain": [
       "<Figure size 1000x600 with 1 Axes>"
      ]
     },
     "metadata": {},
     "output_type": "display_data"
    }
   ],
   "source": [
    "plt.figure(figsize=(10, 6))\n",
    "plt.scatter(mobiles_clean['ram'], mobiles_clean['price'], color='#00FF00')\n",
    "plt.title('Price vs RAM')\n",
    "plt.xlabel('RAM (GB)')\n",
    "plt.ylabel('Price')\n",
    "plt.show()"
   ]
  },
  {
   "cell_type": "code",
   "execution_count": 82,
   "id": "52bd1a28-1efc-430c-863b-6c632eca0ae6",
   "metadata": {},
   "outputs": [
    {
     "data": {
      "text/plain": [
       "0.029167178591028305"
      ]
     },
     "execution_count": 82,
     "metadata": {},
     "output_type": "execute_result"
    }
   ],
   "source": [
    "correlation = mobiles_clean['price'].corr(mobiles_clean['ram'])\n",
    "\n",
    "correlation"
   ]
  },
  {
   "cell_type": "code",
   "execution_count": 83,
   "id": "fd3787f7-1279-454b-a131-a5b911003268",
   "metadata": {},
   "outputs": [],
   "source": [
    "avg_price_system = mobiles_clean.groupby('system')['price'].mean()"
   ]
  },
  {
   "cell_type": "code",
   "execution_count": 84,
   "id": "951bcb6f-73b9-4716-94d7-26bb12e30c4a",
   "metadata": {},
   "outputs": [
    {
     "data": {
      "image/png": "[encoded data removed]",
      "text/plain": [
       "<Figure size 1000x600 with 1 Axes>"
      ]
     },
     "metadata": {},
     "output_type": "display_data"
    }
   ],
   "source": [
    "plt.figure(figsize=(10, 6))\n",
    "avg_price_system.plot(kind='bar',color='#FFA500')\n",
    "plt.title('Average Price by Operating System')\n",
    "plt.xlabel('Operating System')\n",
    "plt.ylabel('Average Price')\n",
    "plt.show()"
   ]
  },
  {
   "cell_type": "code",
   "execution_count": 85,
   "id": "6b20f04a-fdc0-43f0-a84c-432eb93beec7",
   "metadata": {},
   "outputs": [],
   "source": [
    "avg_price_processor = mobiles_clean.groupby('processor')['price'].mean()"
   ]
  },
  {
   "cell_type": "code",
   "execution_count": 86,
   "id": "4fd89606-f9c9-46f2-ace9-e0ab7efd05cc",
   "metadata": {},
   "outputs": [
    {
     "data": {
      "image/png": "[encoded data removed]",
      "text/plain": [
       "<Figure size 1000x600 with 1 Axes>"
      ]
     },
     "metadata": {},
     "output_type": "display_data"
    }
   ],
   "source": [
    "plt.figure(figsize=(10, 6))\n",
    "avg_price_processor.plot(kind='bar',color='#C299FF')\n",
    "plt.title('Average Price by Processor')\n",
    "plt.xlabel('Processor')\n",
    "plt.ylabel('Average Price')\n",
    "plt.show()"
   ]
  },
  {
   "cell_type": "code",
   "execution_count": 88,
   "id": "fbe98b0e-f804-44e3-bd8d-38c23ed39189",
   "metadata": {},
   "outputs": [
    {
     "ename": "KeyError",
     "evalue": "'Storage'",
     "output_type": "error",
     "traceback": [
      "\u001b[1;31m---------------------------------------------------------------------------\u001b[0m",
      "\u001b[1;31mKeyError\u001b[0m                                  Traceback (most recent call last)",
      "File \u001b[1;32mF:\\Anaconda\\Lib\\site-packages\\pandas\\core\\indexes\\base.py:3805\u001b[0m, in \u001b[0;36mIndex.get_loc\u001b[1;34m(self, key)\u001b[0m\n\u001b[0;32m   3804\u001b[0m \u001b[38;5;28;01mtry\u001b[39;00m:\n\u001b[1;32m-> 3805\u001b[0m     \u001b[38;5;28;01mreturn\u001b[39;00m \u001b[38;5;28mself\u001b[39m\u001b[38;5;241m.\u001b[39m_engine\u001b[38;5;241m.\u001b[39mget_loc(casted_key)\n\u001b[0;32m   3806\u001b[0m \u001b[38;5;28;01mexcept\u001b[39;00m \u001b[38;5;167;01mKeyError\u001b[39;00m \u001b[38;5;28;01mas\u001b[39;00m err:\n",
      "File \u001b[1;32mindex.pyx:167\u001b[0m, in \u001b[0;36mpandas._libs.index.IndexEngine.get_loc\u001b[1;34m()\u001b[0m\n",
      "File \u001b[1;32mindex.pyx:196\u001b[0m, in \u001b[0;36mpandas._libs.index.IndexEngine.get_loc\u001b[1;34m()\u001b[0m\n",
      "File \u001b[1;32mpandas\\\\_libs\\\\hashtable_class_helper.pxi:7081\u001b[0m, in \u001b[0;36mpandas._libs.hashtable.PyObjectHashTable.get_item\u001b[1;34m()\u001b[0m\n",
      "File \u001b[1;32mpandas\\\\_libs\\\\hashtable_class_helper.pxi:7089\u001b[0m, in \u001b[0;36mpandas._libs.hashtable.PyObjectHashTable.get_item\u001b[1;34m()\u001b[0m\n",
      "\u001b[1;31mKeyError\u001b[0m: 'Storage'",
      "\nThe above exception was the direct cause of the following exception:\n",
      "\u001b[1;31mKeyError\u001b[0m                                  Traceback (most recent call last)",
      "Cell \u001b[1;32mIn[88], line 2\u001b[0m\n\u001b[0;32m      1\u001b[0m plt\u001b[38;5;241m.\u001b[39mfigure(figsize\u001b[38;5;241m=\u001b[39m(\u001b[38;5;241m10\u001b[39m, \u001b[38;5;241m6\u001b[39m))\n\u001b[1;32m----> 2\u001b[0m plt\u001b[38;5;241m.\u001b[39mscatter(mobiles_clean[\u001b[38;5;124m'\u001b[39m\u001b[38;5;124mStorage\u001b[39m\u001b[38;5;124m'\u001b[39m], mobiles_clean[\u001b[38;5;124m'\u001b[39m\u001b[38;5;124mratings\u001b[39m\u001b[38;5;124m'\u001b[39m], color\u001b[38;5;241m=\u001b[39m\u001b[38;5;124m'\u001b[39m\u001b[38;5;124m#B4EEB4\u001b[39m\u001b[38;5;124m'\u001b[39m)\n\u001b[0;32m      3\u001b[0m plt\u001b[38;5;241m.\u001b[39mtitle(\u001b[38;5;124m'\u001b[39m\u001b[38;5;124mRatings vs Storage\u001b[39m\u001b[38;5;124m'\u001b[39m)\n\u001b[0;32m      4\u001b[0m plt\u001b[38;5;241m.\u001b[39mxlabel(\u001b[38;5;124m'\u001b[39m\u001b[38;5;124mStorage (GB)\u001b[39m\u001b[38;5;124m'\u001b[39m)\n",
      "File \u001b[1;32mF:\\Anaconda\\Lib\\site-packages\\pandas\\core\\frame.py:4102\u001b[0m, in \u001b[0;36mDataFrame.__getitem__\u001b[1;34m(self, key)\u001b[0m\n\u001b[0;32m   4100\u001b[0m \u001b[38;5;28;01mif\u001b[39;00m \u001b[38;5;28mself\u001b[39m\u001b[38;5;241m.\u001b[39mcolumns\u001b[38;5;241m.\u001b[39mnlevels \u001b[38;5;241m>\u001b[39m \u001b[38;5;241m1\u001b[39m:\n\u001b[0;32m   4101\u001b[0m     \u001b[38;5;28;01mreturn\u001b[39;00m \u001b[38;5;28mself\u001b[39m\u001b[38;5;241m.\u001b[39m_getitem_multilevel(key)\n\u001b[1;32m-> 4102\u001b[0m indexer \u001b[38;5;241m=\u001b[39m \u001b[38;5;28mself\u001b[39m\u001b[38;5;241m.\u001b[39mcolumns\u001b[38;5;241m.\u001b[39mget_loc(key)\n\u001b[0;32m   4103\u001b[0m \u001b[38;5;28;01mif\u001b[39;00m is_integer(indexer):\n\u001b[0;32m   4104\u001b[0m     indexer \u001b[38;5;241m=\u001b[39m [indexer]\n",
      "File \u001b[1;32mF:\\Anaconda\\Lib\\site-packages\\pandas\\core\\indexes\\base.py:3812\u001b[0m, in \u001b[0;36mIndex.get_loc\u001b[1;34m(self, key)\u001b[0m\n\u001b[0;32m   3807\u001b[0m     \u001b[38;5;28;01mif\u001b[39;00m \u001b[38;5;28misinstance\u001b[39m(casted_key, \u001b[38;5;28mslice\u001b[39m) \u001b[38;5;129;01mor\u001b[39;00m (\n\u001b[0;32m   3808\u001b[0m         \u001b[38;5;28misinstance\u001b[39m(casted_key, abc\u001b[38;5;241m.\u001b[39mIterable)\n\u001b[0;32m   3809\u001b[0m         \u001b[38;5;129;01mand\u001b[39;00m \u001b[38;5;28many\u001b[39m(\u001b[38;5;28misinstance\u001b[39m(x, \u001b[38;5;28mslice\u001b[39m) \u001b[38;5;28;01mfor\u001b[39;00m x \u001b[38;5;129;01min\u001b[39;00m casted_key)\n\u001b[0;32m   3810\u001b[0m     ):\n\u001b[0;32m   3811\u001b[0m         \u001b[38;5;28;01mraise\u001b[39;00m InvalidIndexError(key)\n\u001b[1;32m-> 3812\u001b[0m     \u001b[38;5;28;01mraise\u001b[39;00m \u001b[38;5;167;01mKeyError\u001b[39;00m(key) \u001b[38;5;28;01mfrom\u001b[39;00m \u001b[38;5;21;01merr\u001b[39;00m\n\u001b[0;32m   3813\u001b[0m \u001b[38;5;28;01mexcept\u001b[39;00m \u001b[38;5;167;01mTypeError\u001b[39;00m:\n\u001b[0;32m   3814\u001b[0m     \u001b[38;5;66;03m# If we have a listlike key, _check_indexing_error will raise\u001b[39;00m\n\u001b[0;32m   3815\u001b[0m     \u001b[38;5;66;03m#  InvalidIndexError. Otherwise we fall through and re-raise\u001b[39;00m\n\u001b[0;32m   3816\u001b[0m     \u001b[38;5;66;03m#  the TypeError.\u001b[39;00m\n\u001b[0;32m   3817\u001b[0m     \u001b[38;5;28mself\u001b[39m\u001b[38;5;241m.\u001b[39m_check_indexing_error(key)\n",
      "\u001b[1;31mKeyError\u001b[0m: 'Storage'"
     ]
    },
    {
     "data": {
      "text/plain": [
       "<Figure size 1000x600 with 0 Axes>"
      ]
     },
     "metadata": {},
     "output_type": "display_data"
    }
   ],
   "source": [
    "plt.figure(figsize=(10, 6))\n",
    "plt.scatter(mobiles_clean['Storage'], mobiles_clean['ratings'], color='#B4EEB4')\n",
    "plt.title('Ratings vs Storage')\n",
    "plt.xlabel('Storage (GB)')\n",
    "plt.ylabel('Ratings')\n",
    "plt.show()"
   ]
  },
  {
   "cell_type": "code",
   "execution_count": null,
   "id": "be10765c-363e-42a0-b844-abe58bb4e3ff",
   "metadata": {},
   "outputs": [],
   "source": [
    "correlation = mobiles_clean['ratings'].corr(mobiles_clean['storage'])\n",
    "\n",
    "correlation"
   ]
  },
  {
   "cell_type": "code",
   "execution_count": null,
   "id": "970383f0-52c6-40f6-b772-7340e58b6cda",
   "metadata": {},
   "outputs": [],
   "source": [
    "plt.figure(figsize=(10, 6))\n",
    "plt.scatter(mobiles_clean['ram'], mobiles_clean['ratings'], color='#420079')\n",
    "plt.title('Ratings vs RAM')\n",
    "plt.xlabel('RAM (GB)')\n",
    "plt.ylabel('Ratings')\n",
    "plt.show()"
   ]
  },
  {
   "cell_type": "code",
   "execution_count": null,
   "id": "9e21742c-c92d-4fbc-925c-35d55a91c97a",
   "metadata": {},
   "outputs": [],
   "source": [
    "correlation = mobiles_clean['ratings'].corr(mobiles_clean['ram'])\n",
    "\n",
    "correlation"
   ]
  },
  {
   "cell_type": "code",
   "execution_count": null,
   "id": "02cf59c8-e5f2-4bb3-88d6-b120feaf69e1",
   "metadata": {},
   "outputs": [],
   "source": [
    "avg_rating_system = mobiles_clean.groupby('system')['ratings'].mean()"
   ]
  },
  {
   "cell_type": "code",
   "execution_count": null,
   "id": "5f507870-4058-43d3-b7df-3977013c2354",
   "metadata": {},
   "outputs": [],
   "source": [
    "plt.figure(figsize=(10, 6))\n",
    "avg_rating_system.plot(kind='bar', color='#F4CCCC')\n",
    "plt.title('Average Rating by Operating System')\n",
    "plt.xlabel('Operating System')\n",
    "plt.ylabel('Average Rating')\n",
    "plt.show()"
   ]
  },
  {
   "cell_type": "code",
   "execution_count": null,
   "id": "9c6d3e0b-25de-486d-a2dc-46e16c8aa211",
   "metadata": {},
   "outputs": [],
   "source": [
    "avg_rating_processor = mobiles_clean.groupby('processor')['ratings'].mean()"
   ]
  },
  {
   "cell_type": "code",
   "execution_count": null,
   "id": "ee422e7d-33ce-43e7-a0d4-843904ffeb65",
   "metadata": {},
   "outputs": [],
   "source": [
    "plt.figure(figsize=(10, 6))\n",
    "avg_rating_processor.plot(kind='bar', color='#FF00FF')\n",
    "plt.title('Average Rating by Processor')\n",
    "plt.xlabel('Processor')\n",
    "plt.ylabel('Average Rating')\n",
    "plt.show()"
   ]
  },
  {
   "cell_type": "code",
   "execution_count": null,
   "id": "e26eea3c-8454-4f80-ac19-6a7c4b6c78af",
   "metadata": {},
   "outputs": [],
   "source": [
    "def extract_brand(name):\n",
    "    return name.split()[0]"
   ]
  },
  {
   "cell_type": "code",
   "execution_count": null,
   "id": "c3c3a1c4-b293-4aeb-9aba-008611136e82",
   "metadata": {},
   "outputs": [],
   "source": [
    "mobiles_clean.loc[:,'brand'] = mobiles_clean['name'].apply(extract_brand)"
   ]
  },
  {
   "cell_type": "code",
   "execution_count": null,
   "id": "e0c89bd8-cb75-4cb7-877c-47e679a0312b",
   "metadata": {},
   "outputs": [],
   "source": [
    "mobiles_clean.head()"
   ]
  },
  {
   "cell_type": "code",
   "execution_count": null,
   "id": "22c57baa-2629-4e51-bd09-5e1ac0a51502",
   "metadata": {},
   "outputs": [],
   "source": [
    "plt.figure(figsize=(10, 6))\n",
    "mobiles_clean['brand'].value_counts().plot(kind='bar',color='#ff9999')\n",
    "plt.title('Distribution of Brands')\n",
    "plt.xlabel('Brand')\n",
    "plt.ylabel('Count')\n",
    "plt.show()"
   ]
  },
  {
   "cell_type": "code",
   "execution_count": null,
   "id": "e52f9624-5d38-483e-9264-ccc08424806c",
   "metadata": {},
   "outputs": [],
   "source": [
    "avg_price_brand = mobiles_clean.groupby('brand')['price'].mean()"
   ]
  },
  {
   "cell_type": "code",
   "execution_count": null,
   "id": "922a8e35-4fd8-4a5d-8215-cfee86732431",
   "metadata": {},
   "outputs": [],
   "source": [
    "plt.figure(figsize=(10, 6))\n",
    "avg_price_brand.plot(kind='bar',color='#ff0080')\n",
    "plt.title('Average Price by Brand')\n",
    "plt.xlabel('Brand')\n",
    "plt.ylabel('Average Price')\n",
    "plt.show()"
   ]
  },
  {
   "cell_type": "code",
   "execution_count": null,
   "id": "2395e476-cf28-4731-8fd9-b63fc82aad38",
   "metadata": {},
   "outputs": [],
   "source": [
    "avg_rating_brand = mobiles_clean.groupby('brand')['ratings'].mean()"
   ]
  },
  {
   "cell_type": "code",
   "execution_count": null,
   "id": "fab5179f-254c-46ca-ad69-9c389a6d86fc",
   "metadata": {},
   "outputs": [],
   "source": [
    "plt.figure(figsize=(10, 6))\n",
    "avg_rating_brand.plot(kind='bar' ,color='#bf00ff')\n",
    "plt.title('Average Rating by Brand')\n",
    "plt.xlabel('Brand')\n",
    "plt.ylabel('Average Rating')\n",
    "plt.show()"
   ]
  },
  {
   "cell_type": "code",
   "execution_count": null,
   "id": "f02daf84-7393-4abc-8b6c-2dc57afd3f81",
   "metadata": {},
   "outputs": [],
   "source": [
    "mobiles_clean.columns"
   ]
  },
  {
   "cell_type": "code",
   "execution_count": null,
   "id": "0c3bccbd-e03a-4c07-8d20-11ab63fb5dec",
   "metadata": {},
   "outputs": [],
   "source": [
    "numeric_features = ['storage', 'ram', 'price','ratings']\n",
    "categorical_features = ['system', 'processor', 'brand']"
   ]
  },
  {
   "cell_type": "code",
   "execution_count": null,
   "id": "76b8b6d6-d4c0-4677-8940-91f619188400",
   "metadata": {},
   "outputs": [],
   "source": [
    "numeric_transformer = Pipeline(steps=[\n",
    "    ('imputer', SimpleImputer(strategy='median')),\n",
    "    ('scaler', StandardScaler())])"
   ]
  },
  {
   "cell_type": "code",
   "execution_count": null,
   "id": "68633103-a697-4343-b048-75ee700a9722",
   "metadata": {},
   "outputs": [],
   "source": [
    "categorical_transformer = Pipeline(steps=[\n",
    "    ('imputer', SimpleImputer(strategy='constant', fill_value='missing')),\n",
    "   ('onehot', OneHotEncoder(handle_unknown='ignore'))])"
   ]
  },
  {
   "cell_type": "code",
   "execution_count": null,
   "id": "dff128e5-e858-4efa-a844-933910a7028a",
   "metadata": {},
   "outputs": [],
   "source": [
    "preprocessor = ColumnTransformer(\n",
    "    transformers=[\n",
    "        ('num', numeric_transformer, numeric_features),\n",
    "        ('cat', categorical_transformer, categorical_features)])"
   ]
  },
  {
   "cell_type": "code",
   "execution_count": null,
   "id": "9f864fff-0af2-4bda-b0bd-d3eafbb799ad",
   "metadata": {},
   "outputs": [],
   "source": [
    "max_len = 0\n",
    "for i in range(0, len(mobiles_clean['corpus'])):\n",
    "    try:\n",
    "        if len(mobiles_clean['corpus'][i]) > max_len:\n",
    "            max_len = len(mobiles_clean['corpus'][i])\n",
    "    except:\n",
    "        pass\n",
    "\n",
    "print(f'words max len in corpus is: {max_len}')"
   ]
  },
  {
   "cell_type": "code",
   "execution_count": null,
   "id": "ce5a38cb-c4c4-4146-a65c-568ee093211c",
   "metadata": {},
   "outputs": [],
   "source": [
    "#convert text to matrix\n",
    "from sklearn.feature_extraction.text import CountVectorizer  "
   ]
  },
  {
   "cell_type": "code",
   "execution_count": null,
   "id": "db778a31-a979-4f0f-9256-cdb1ce1ad7e3",
   "metadata": {},
   "outputs": [],
   "source": [
    "corpus = mobiles_clean['corpus'].astype(str).tolist() "
   ]
  },
  {
   "cell_type": "code",
   "execution_count": null,
   "id": "0cb4239f-da66-408f-8947-43c75e808b1d",
   "metadata": {},
   "outputs": [],
   "source": [
    "#limit the number of words to consider\n",
    "cont_vect = CountVectorizer(max_features=1000)"
   ]
  },
  {
   "cell_type": "code",
   "execution_count": null,
   "id": "eea6c410-889f-4372-a4dd-4dd736466a6e",
   "metadata": {},
   "outputs": [],
   "source": [
    "X = cont_vect.fit_transform(corpus)\n",
    "vectors = X.toarray()"
   ]
  },
  {
   "cell_type": "code",
   "execution_count": null,
   "id": "26cf0e1a-183b-418a-a186-9c8e7f9cbf37",
   "metadata": {},
   "outputs": [],
   "source": [
    "feature_names=cont_vect.get_feature_names_out()"
   ]
  },
  {
   "cell_type": "code",
   "execution_count": null,
   "id": "70f57793-eeaf-4032-9f9c-81f2d5c86001",
   "metadata": {},
   "outputs": [],
   "source": [
    "feature_names"
   ]
  },
  {
   "cell_type": "code",
   "execution_count": null,
   "id": "cdd4c913-775a-4611-a50c-a0c27d957812",
   "metadata": {},
   "outputs": [],
   "source": [
    "#from vectors matrix shape\n",
    "similarity = cosine_similarity(vectors)\n",
    "similarity.shape"
   ]
  },
  {
   "cell_type": "code",
   "execution_count": null,
   "id": "863467f4-714d-4bc1-bf6e-272638ea0eb2",
   "metadata": {},
   "outputs": [],
   "source": [
    "#cosine similarity between the 4th row and all other rows, including itself\n",
    "similarity[3]"
   ]
  },
  {
   "cell_type": "code",
   "execution_count": null,
   "id": "2229ab11-b3d7-4bb1-bd7f-9716e50e5dc2",
   "metadata": {},
   "outputs": [],
   "source": [
    "#sorts the similarity scores of the 1st row with respect to all other rows, excluding the row itself\n",
    "#retrieves the top 10 most similar rows\n",
    "sorted(list(enumerate(similarity[0])),reverse=True,key=lambda x:x[1])[1:11]"
   ]
  },
  {
   "cell_type": "code",
   "execution_count": null,
   "id": "31bbcfdb-0cf0-44cd-9427-a55c1d7496c0",
   "metadata": {},
   "outputs": [],
   "source": [
    "def recommend(mobile):\n",
    "    #find the index of the given mobile\n",
    "    mobile_index = mobiles_clean[mobiles_clean['name']==mobile].index[0]\n",
    "    #retrieve similarity scores\n",
    "    similarity_array = similarity[mobile_index]\n",
    "    #find top 10 similar mobiles\n",
    "    similar_10_mobiles = sorted(list(enumerate(similarity_array)),reverse=True,key=lambda x:x[1])[1:11]\n",
    "    \n",
    "    for i in similar_10_mobiles:\n",
    "        print(mobiles_clean['name'].iloc[i[0]])"
   ]
  },
  {
   "cell_type": "code",
   "execution_count": null,
   "id": "118fb35f-55c2-4fa2-9c76-fa29725775a3",
   "metadata": {},
   "outputs": [],
   "source": [
    "recommend('APPLE iPhone 13 mini (Blue, 128 GB)')"
   ]
  },
  {
   "cell_type": "code",
   "execution_count": null,
   "id": "c1ea17ff-5619-4796-9d83-be0cfbbcd071",
   "metadata": {},
   "outputs": [],
   "source": [
    "def random_values(df:mobiles_clean,col_name:str,total=9):\n",
    "    if col_name not in mobiles_clean.columns:\n",
    "        raise ValueError(f\"Column '{col_name}' does not exist in the DataFrame.\")\n",
    "    \n",
    "    if mobiles_clean.empty:\n",
    "        raise ValueError(\"The DataFrame is empty.\")\n",
    "        \n",
    "    for i in range(0,total):\n",
    "        index = np.random.randint(mobiles_clean.shape[0])\n",
    "        print(index,':',mobiles_clean[col_name].iloc[index])  "
   ]
  },
  {
   "cell_type": "code",
   "execution_count": null,
   "id": "aeb8ae50-f600-4dd8-9487-bff4f7010cdf",
   "metadata": {},
   "outputs": [],
   "source": [
    "random_values(mobiles_clean,'corpus')"
   ]
  },
  {
   "cell_type": "code",
   "execution_count": null,
   "id": "29c0d1c5-6f8d-4694-8004-120ff017c204",
   "metadata": {},
   "outputs": [],
   "source": [
    "#create directories recursively\n",
    "os.makedirs(r'src\\model',exist_ok=True)"
   ]
  },
  {
   "cell_type": "code",
   "execution_count": null,
   "id": "336e3217-4ea1-44f4-94c1-1d788d740b5d",
   "metadata": {},
   "outputs": [],
   "source": [
    "#save the dataframe toa file\n",
    "pickle.dump(obj=mobiles_clean,file=open(file=r'src\\model\\dataframe.pkl',mode='wb'))"
   ]
  },
  {
   "cell_type": "code",
   "execution_count": null,
   "id": "67a4e652-1c50-4623-97ce-eac11f8f3f47",
   "metadata": {},
   "outputs": [],
   "source": [
    "pickle.dump(obj=similarity,file=open(file=r'src\\model\\similarity.pkl',mode='wb'))"
   ]
  },
  {
   "cell_type": "code",
   "execution_count": null,
   "id": "bd5732fa-b35c-4d5e-b62c-94db70df67c2",
   "metadata": {},
   "outputs": [],
   "source": [
    "mobiles_clean.to_csv('mobile_processed_data.csv', index=False)"
   ]
  },
  {
   "cell_type": "code",
   "execution_count": null,
   "id": "635c2330-ea9a-4c74-92e9-a597ce7d44cf",
   "metadata": {},
   "outputs": [],
   "source": []
  }
 ],
 "metadata": {
  "kernelspec": {
   "display_name": "Python 3 (ipykernel)",
   "language": "python",
   "name": "python3"
  },
  "language_info": {
   "codemirror_mode": {
    "name": "ipython",
    "version": 3
   },
   "file_extension": ".py",
   "mimetype": "text/x-python",
   "name": "python",
   "nbconvert_exporter": "python",
   "pygments_lexer": "ipython3",
   "version": "3.12.4"
  }
 },
 "nbformat": 4,
 "nbformat_minor": 5
}
