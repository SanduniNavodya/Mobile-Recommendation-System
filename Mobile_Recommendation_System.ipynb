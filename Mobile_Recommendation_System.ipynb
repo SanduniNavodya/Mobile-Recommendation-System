{
 "cells": [
  {
   "cell_type": "code",
   "execution_count": 97,
   "id": "cc8dfd1a-e206-4a71-a5f0-9d98e247c9d8",
   "metadata": {},
   "outputs": [],
   "source": [
    "import numpy as np \n",
    "import pandas as pd\n",
    "import re\n",
    "import os\n",
    "import pickle\n",
    "import matplotlib.pyplot as plt\n",
    "from sklearn.feature_extraction.text import TfidfVectorizer\n",
    "from sklearn.metrics.pairwise import cosine_similarity\n",
    "from sklearn.preprocessing import StandardScaler, OneHotEncoder\n",
    "from sklearn.compose import ColumnTransformer\n",
    "from sklearn.pipeline import Pipeline\n",
    "import warnings #filter and surpress warnings\n",
    "warnings.filterwarnings('ignore')\n",
    "from sklearn.impute import SimpleImputer"
   ]
  },
  {
   "cell_type": "markdown",
   "id": "6438b22e",
   "metadata": {},
   "source": [
    "Loading Data"
   ]
  },
  {
   "cell_type": "code",
   "execution_count": 2,
   "id": "29f3cc16-1288-4108-aa02-b864fcdb5e80",
   "metadata": {},
   "outputs": [],
   "source": [
    "mobiles = pd.read_csv('data/mobile-data.csv')"
   ]
  },
  {
   "cell_type": "markdown",
   "id": "eefca449",
   "metadata": {},
   "source": [
    "Data Cleaning and Preprocessing"
   ]
  },
  {
   "cell_type": "code",
   "execution_count": 3,
   "id": "031ba0b9-2579-4d0b-a0c4-d842a0370a5a",
   "metadata": {},
   "outputs": [
    {
     "data": {
      "text/html": [
       "<div>\n",
       "<style scoped>\n",
       "    .dataframe tbody tr th:only-of-type {\n",
       "        vertical-align: middle;\n",
       "    }\n",
       "\n",
       "    .dataframe tbody tr th {\n",
       "        vertical-align: top;\n",
       "    }\n",
       "\n",
       "    .dataframe thead th {\n",
       "        text-align: right;\n",
       "    }\n",
       "</style>\n",
       "<table border=\"1\" class=\"dataframe\">\n",
       "  <thead>\n",
       "    <tr style=\"text-align: right;\">\n",
       "      <th></th>\n",
       "      <th>name</th>\n",
       "      <th>ratings</th>\n",
       "      <th>price</th>\n",
       "      <th>imgURL</th>\n",
       "      <th>corpus</th>\n",
       "    </tr>\n",
       "  </thead>\n",
       "  <tbody>\n",
       "    <tr>\n",
       "      <th>0</th>\n",
       "      <td>REDMI Note 12 Pro 5G (Onyx Black, 128 GB)</td>\n",
       "      <td>4.2</td>\n",
       "      <td>23999</td>\n",
       "      <td>https://rukminim2.flixcart.com/image/312/312/x...</td>\n",
       "      <td>Storage128 GBRAM6  SystemAndroid 12Processor T...</td>\n",
       "    </tr>\n",
       "    <tr>\n",
       "      <th>1</th>\n",
       "      <td>OPPO F11 Pro (Aurora Green, 128 GB)</td>\n",
       "      <td>4.5</td>\n",
       "      <td>₹20,999</td>\n",
       "      <td>https://rukminim2.flixcart.com/image/312/312/k...</td>\n",
       "      <td>Storage128 GBRAM6 GBExpandable Storage256GB  S...</td>\n",
       "    </tr>\n",
       "    <tr>\n",
       "      <th>2</th>\n",
       "      <td>REDMI Note 11 (Starburst White, 64 GB)</td>\n",
       "      <td>4.2</td>\n",
       "      <td>13149</td>\n",
       "      <td>https://rukminim2.flixcart.com/image/312/312/x...</td>\n",
       "      <td>Storage64 GBRAM4  SystemAndroid 11Processor Sp...</td>\n",
       "    </tr>\n",
       "    <tr>\n",
       "      <th>3</th>\n",
       "      <td>OnePlus Nord CE 5G (Blue Void, 256 GB)</td>\n",
       "      <td>4.1</td>\n",
       "      <td>21999</td>\n",
       "      <td>https://rukminim2.flixcart.com/image/312/312/x...</td>\n",
       "      <td>Storage256 GBRAM12  SystemAndroid Q 11Processo...</td>\n",
       "    </tr>\n",
       "    <tr>\n",
       "      <th>4</th>\n",
       "      <td>APPLE iPhone 13 mini (Blue, 128 GB)</td>\n",
       "      <td>4.6</td>\n",
       "      <td>3537</td>\n",
       "      <td>https://rukminim2.flixcart.com/image/312/312/k...</td>\n",
       "      <td>Storage128  SystemiOS 15Processor TypeA15 Bion...</td>\n",
       "    </tr>\n",
       "  </tbody>\n",
       "</table>\n",
       "</div>"
      ],
      "text/plain": [
       "                                        name  ratings    price  \\\n",
       "0  REDMI Note 12 Pro 5G (Onyx Black, 128 GB)      4.2    23999   \n",
       "1        OPPO F11 Pro (Aurora Green, 128 GB)      4.5  ₹20,999   \n",
       "2     REDMI Note 11 (Starburst White, 64 GB)      4.2    13149   \n",
       "3     OnePlus Nord CE 5G (Blue Void, 256 GB)      4.1    21999   \n",
       "4        APPLE iPhone 13 mini (Blue, 128 GB)      4.6     3537   \n",
       "\n",
       "                                              imgURL  \\\n",
       "0  https://rukminim2.flixcart.com/image/312/312/x...   \n",
       "1  https://rukminim2.flixcart.com/image/312/312/k...   \n",
       "2  https://rukminim2.flixcart.com/image/312/312/x...   \n",
       "3  https://rukminim2.flixcart.com/image/312/312/x...   \n",
       "4  https://rukminim2.flixcart.com/image/312/312/k...   \n",
       "\n",
       "                                              corpus  \n",
       "0  Storage128 GBRAM6  SystemAndroid 12Processor T...  \n",
       "1  Storage128 GBRAM6 GBExpandable Storage256GB  S...  \n",
       "2  Storage64 GBRAM4  SystemAndroid 11Processor Sp...  \n",
       "3  Storage256 GBRAM12  SystemAndroid Q 11Processo...  \n",
       "4  Storage128  SystemiOS 15Processor TypeA15 Bion...  "
      ]
     },
     "execution_count": 3,
     "metadata": {},
     "output_type": "execute_result"
    }
   ],
   "source": [
    "mobiles.head()"
   ]
  },
  {
   "cell_type": "code",
   "execution_count": 4,
   "id": "45e84a78-897b-47e1-a63d-e2da1d7203bd",
   "metadata": {},
   "outputs": [
    {
     "data": {
      "text/plain": [
       "(2546, 5)"
      ]
     },
     "execution_count": 4,
     "metadata": {},
     "output_type": "execute_result"
    }
   ],
   "source": [
    "mobiles.shape"
   ]
  },
  {
   "cell_type": "code",
   "execution_count": 5,
   "id": "0ce3dc20-66f5-4f1e-9248-28a60907568f",
   "metadata": {},
   "outputs": [
    {
     "data": {
      "text/plain": [
       "name        0\n",
       "ratings     0\n",
       "price       0\n",
       "imgURL      0\n",
       "corpus     12\n",
       "dtype: int64"
      ]
     },
     "execution_count": 5,
     "metadata": {},
     "output_type": "execute_result"
    }
   ],
   "source": [
    "mobiles.isnull().sum()"
   ]
  },
  {
   "cell_type": "code",
   "execution_count": 6,
   "id": "27ff6390-0088-4312-aab3-3e34f8b846dc",
   "metadata": {},
   "outputs": [],
   "source": [
    "mobiles_clean=mobiles.dropna()"
   ]
  },
  {
   "cell_type": "code",
   "execution_count": 7,
   "id": "eb29b748-6bd2-434a-b285-83484dfc3601",
   "metadata": {},
   "outputs": [
    {
     "data": {
      "text/plain": [
       "name       0\n",
       "ratings    0\n",
       "price      0\n",
       "imgURL     0\n",
       "corpus     0\n",
       "dtype: int64"
      ]
     },
     "execution_count": 7,
     "metadata": {},
     "output_type": "execute_result"
    }
   ],
   "source": [
    "mobiles_clean.isnull().sum()"
   ]
  },
  {
   "cell_type": "code",
   "execution_count": 8,
   "id": "00c272a9-9864-402e-8f90-68d124d6241e",
   "metadata": {},
   "outputs": [
    {
     "data": {
      "text/plain": [
       "(2534, 5)"
      ]
     },
     "execution_count": 8,
     "metadata": {},
     "output_type": "execute_result"
    }
   ],
   "source": [
    "mobiles_clean.shape"
   ]
  },
  {
   "cell_type": "code",
   "execution_count": 9,
   "id": "fa7f2377-7f38-4756-b9dc-0c18ebe08090",
   "metadata": {},
   "outputs": [],
   "source": [
    "mobiles_clean.loc[:,'corpus'] = mobiles_clean['corpus'].str.lower()"
   ]
  },
  {
   "cell_type": "markdown",
   "id": "30000145",
   "metadata": {},
   "source": [
    "Extracting Information from 'corpus' Column"
   ]
  },
  {
   "cell_type": "code",
   "execution_count": 10,
   "id": "7fd68f3a-1d65-4154-9527-206a5aa4d685",
   "metadata": {},
   "outputs": [],
   "source": [
    "def extract_storage(corpus):\n",
    "    match = re.search(r'storage(\\d+)', corpus)\n",
    "    if match:\n",
    "        return int(match.group(1))\n",
    "    return None"
   ]
  },
  {
   "cell_type": "code",
   "execution_count": 11,
   "id": "dec84ec2-3265-4fab-8273-f9b154144f74",
   "metadata": {},
   "outputs": [],
   "source": [
    "mobiles_clean.loc[:, 'storage'] = mobiles_clean['corpus'].apply(extract_storage)"
   ]
  },
  {
   "cell_type": "code",
   "execution_count": 12,
   "id": "c76ca906-faa1-40f9-9c84-5de3427060b0",
   "metadata": {},
   "outputs": [
    {
     "data": {
      "text/html": [
       "<div>\n",
       "<style scoped>\n",
       "    .dataframe tbody tr th:only-of-type {\n",
       "        vertical-align: middle;\n",
       "    }\n",
       "\n",
       "    .dataframe tbody tr th {\n",
       "        vertical-align: top;\n",
       "    }\n",
       "\n",
       "    .dataframe thead th {\n",
       "        text-align: right;\n",
       "    }\n",
       "</style>\n",
       "<table border=\"1\" class=\"dataframe\">\n",
       "  <thead>\n",
       "    <tr style=\"text-align: right;\">\n",
       "      <th></th>\n",
       "      <th>name</th>\n",
       "      <th>ratings</th>\n",
       "      <th>price</th>\n",
       "      <th>imgURL</th>\n",
       "      <th>corpus</th>\n",
       "      <th>storage</th>\n",
       "    </tr>\n",
       "  </thead>\n",
       "  <tbody>\n",
       "    <tr>\n",
       "      <th>0</th>\n",
       "      <td>REDMI Note 12 Pro 5G (Onyx Black, 128 GB)</td>\n",
       "      <td>4.2</td>\n",
       "      <td>23999</td>\n",
       "      <td>https://rukminim2.flixcart.com/image/312/312/x...</td>\n",
       "      <td>storage128 gbram6  systemandroid 12processor t...</td>\n",
       "      <td>128.0</td>\n",
       "    </tr>\n",
       "    <tr>\n",
       "      <th>1</th>\n",
       "      <td>OPPO F11 Pro (Aurora Green, 128 GB)</td>\n",
       "      <td>4.5</td>\n",
       "      <td>₹20,999</td>\n",
       "      <td>https://rukminim2.flixcart.com/image/312/312/k...</td>\n",
       "      <td>storage128 gbram6 gbexpandable storage256gb  s...</td>\n",
       "      <td>128.0</td>\n",
       "    </tr>\n",
       "    <tr>\n",
       "      <th>2</th>\n",
       "      <td>REDMI Note 11 (Starburst White, 64 GB)</td>\n",
       "      <td>4.2</td>\n",
       "      <td>13149</td>\n",
       "      <td>https://rukminim2.flixcart.com/image/312/312/x...</td>\n",
       "      <td>storage64 gbram4  systemandroid 11processor sp...</td>\n",
       "      <td>64.0</td>\n",
       "    </tr>\n",
       "    <tr>\n",
       "      <th>3</th>\n",
       "      <td>OnePlus Nord CE 5G (Blue Void, 256 GB)</td>\n",
       "      <td>4.1</td>\n",
       "      <td>21999</td>\n",
       "      <td>https://rukminim2.flixcart.com/image/312/312/x...</td>\n",
       "      <td>storage256 gbram12  systemandroid q 11processo...</td>\n",
       "      <td>256.0</td>\n",
       "    </tr>\n",
       "    <tr>\n",
       "      <th>4</th>\n",
       "      <td>APPLE iPhone 13 mini (Blue, 128 GB)</td>\n",
       "      <td>4.6</td>\n",
       "      <td>3537</td>\n",
       "      <td>https://rukminim2.flixcart.com/image/312/312/k...</td>\n",
       "      <td>storage128  systemios 15processor typea15 bion...</td>\n",
       "      <td>128.0</td>\n",
       "    </tr>\n",
       "  </tbody>\n",
       "</table>\n",
       "</div>"
      ],
      "text/plain": [
       "                                        name  ratings    price  \\\n",
       "0  REDMI Note 12 Pro 5G (Onyx Black, 128 GB)      4.2    23999   \n",
       "1        OPPO F11 Pro (Aurora Green, 128 GB)      4.5  ₹20,999   \n",
       "2     REDMI Note 11 (Starburst White, 64 GB)      4.2    13149   \n",
       "3     OnePlus Nord CE 5G (Blue Void, 256 GB)      4.1    21999   \n",
       "4        APPLE iPhone 13 mini (Blue, 128 GB)      4.6     3537   \n",
       "\n",
       "                                              imgURL  \\\n",
       "0  https://rukminim2.flixcart.com/image/312/312/x...   \n",
       "1  https://rukminim2.flixcart.com/image/312/312/k...   \n",
       "2  https://rukminim2.flixcart.com/image/312/312/x...   \n",
       "3  https://rukminim2.flixcart.com/image/312/312/x...   \n",
       "4  https://rukminim2.flixcart.com/image/312/312/k...   \n",
       "\n",
       "                                              corpus  storage  \n",
       "0  storage128 gbram6  systemandroid 12processor t...    128.0  \n",
       "1  storage128 gbram6 gbexpandable storage256gb  s...    128.0  \n",
       "2  storage64 gbram4  systemandroid 11processor sp...     64.0  \n",
       "3  storage256 gbram12  systemandroid q 11processo...    256.0  \n",
       "4  storage128  systemios 15processor typea15 bion...    128.0  "
      ]
     },
     "execution_count": 12,
     "metadata": {},
     "output_type": "execute_result"
    }
   ],
   "source": [
    "mobiles_clean.head()"
   ]
  },
  {
   "cell_type": "code",
   "execution_count": 13,
   "id": "d09a72d2-3e92-4192-980b-942cac160aa7",
   "metadata": {},
   "outputs": [],
   "source": [
    "# Replace variations of brand names with the desired format\n",
    "mobiles_clean['name'] = mobiles_clean['name'].replace({'APPLE': 'Apple', 'Apple': 'Apple', 'REDMI': 'Redmi', 'Redmi': 'Redmi'}, regex=True)"
   ]
  },
  {
   "cell_type": "code",
   "execution_count": 14,
   "id": "4f784e60-e08f-4771-a585-f263e23e8385",
   "metadata": {},
   "outputs": [],
   "source": [
    "def extract_ram(corpus):\n",
    "    # Enhanced regex pattern to capture various RAM formats\n",
    "    # This pattern will look for \"ram\" followed by optional characters (like : or -) \n",
    "    # and then capture the numeric value followed by optional \"GB\" or \"gb\".\n",
    "    match = re.search(r'ram\\s*[:\\-]?\\s*(\\d+)\\s*(gb|g)?', corpus, re.IGNORECASE)\n",
    "    if match:\n",
    "        return int(match.group(1))\n",
    "    return None"
   ]
  },
  {
   "cell_type": "code",
   "execution_count": 15,
   "id": "b90e58b0-e22a-4aa0-a15d-848b3c3b635f",
   "metadata": {},
   "outputs": [],
   "source": [
    "# Apply the extract_ram function to the corpus column\n",
    "mobiles_clean['ram'] = mobiles_clean['corpus'].apply(extract_ram)"
   ]
  },
  {
   "cell_type": "code",
   "execution_count": 16,
   "id": "e6f449f5-c7b4-4375-89c9-5c28be54a888",
   "metadata": {},
   "outputs": [],
   "source": [
    "def extract_system(corpus):\n",
    "    match = re.search(r'system(.*?)processor', corpus)\n",
    "    if match:\n",
    "        return match.group(1).strip()\n",
    "    return None"
   ]
  },
  {
   "cell_type": "code",
   "execution_count": 17,
   "id": "1eccb971-6c02-443d-9041-f327adfbf4ad",
   "metadata": {},
   "outputs": [],
   "source": [
    "mobiles_clean.loc[:, 'system'] = mobiles_clean['corpus'].apply(extract_system)"
   ]
  },
  {
   "cell_type": "code",
   "execution_count": 18,
   "id": "fca8aeb7-f239-4f8e-83e7-cd264ad52bc5",
   "metadata": {},
   "outputs": [],
   "source": [
    "def extract_processor(corpus):\n",
    "    match = re.search(r'processor (.*?) ', corpus)\n",
    "    if match:\n",
    "        return match.group(1).strip()\n",
    "    return None"
   ]
  },
  {
   "cell_type": "code",
   "execution_count": 19,
   "id": "7e424e5f-2080-4b77-84d3-13e066c7a22d",
   "metadata": {},
   "outputs": [],
   "source": [
    "mobiles_clean.loc[:, 'processor'] = mobiles_clean['corpus'].apply(extract_processor)"
   ]
  },
  {
   "cell_type": "code",
   "execution_count": 20,
   "id": "4a273394-6674-43b6-9b57-a248927b8604",
   "metadata": {
    "scrolled": true
   },
   "outputs": [
    {
     "data": {
      "text/html": [
       "<div>\n",
       "<style scoped>\n",
       "    .dataframe tbody tr th:only-of-type {\n",
       "        vertical-align: middle;\n",
       "    }\n",
       "\n",
       "    .dataframe tbody tr th {\n",
       "        vertical-align: top;\n",
       "    }\n",
       "\n",
       "    .dataframe thead th {\n",
       "        text-align: right;\n",
       "    }\n",
       "</style>\n",
       "<table border=\"1\" class=\"dataframe\">\n",
       "  <thead>\n",
       "    <tr style=\"text-align: right;\">\n",
       "      <th></th>\n",
       "      <th>name</th>\n",
       "      <th>ratings</th>\n",
       "      <th>price</th>\n",
       "      <th>imgURL</th>\n",
       "      <th>corpus</th>\n",
       "      <th>storage</th>\n",
       "      <th>ram</th>\n",
       "      <th>system</th>\n",
       "      <th>processor</th>\n",
       "    </tr>\n",
       "  </thead>\n",
       "  <tbody>\n",
       "    <tr>\n",
       "      <th>0</th>\n",
       "      <td>Redmi Note 12 Pro 5G (Onyx Black, 128 GB)</td>\n",
       "      <td>4.2</td>\n",
       "      <td>23999</td>\n",
       "      <td>https://rukminim2.flixcart.com/image/312/312/x...</td>\n",
       "      <td>storage128 gbram6  systemandroid 12processor t...</td>\n",
       "      <td>128.0</td>\n",
       "      <td>6.0</td>\n",
       "      <td>android 12</td>\n",
       "      <td>typemediatek</td>\n",
       "    </tr>\n",
       "    <tr>\n",
       "      <th>1</th>\n",
       "      <td>OPPO F11 Pro (Aurora Green, 128 GB)</td>\n",
       "      <td>4.5</td>\n",
       "      <td>₹20,999</td>\n",
       "      <td>https://rukminim2.flixcart.com/image/312/312/k...</td>\n",
       "      <td>storage128 gbram6 gbexpandable storage256gb  s...</td>\n",
       "      <td>128.0</td>\n",
       "      <td>6.0</td>\n",
       "      <td>android pie 9.0</td>\n",
       "      <td>typemediatek</td>\n",
       "    </tr>\n",
       "    <tr>\n",
       "      <th>2</th>\n",
       "      <td>Redmi Note 11 (Starburst White, 64 GB)</td>\n",
       "      <td>4.2</td>\n",
       "      <td>13149</td>\n",
       "      <td>https://rukminim2.flixcart.com/image/312/312/x...</td>\n",
       "      <td>storage64 gbram4  systemandroid 11processor sp...</td>\n",
       "      <td>64.0</td>\n",
       "      <td>4.0</td>\n",
       "      <td>android 11</td>\n",
       "      <td>speed2.4</td>\n",
       "    </tr>\n",
       "    <tr>\n",
       "      <th>3</th>\n",
       "      <td>OnePlus Nord CE 5G (Blue Void, 256 GB)</td>\n",
       "      <td>4.1</td>\n",
       "      <td>21999</td>\n",
       "      <td>https://rukminim2.flixcart.com/image/312/312/x...</td>\n",
       "      <td>storage256 gbram12  systemandroid q 11processo...</td>\n",
       "      <td>256.0</td>\n",
       "      <td>12.0</td>\n",
       "      <td>android q 11</td>\n",
       "      <td>typequalcomm</td>\n",
       "    </tr>\n",
       "    <tr>\n",
       "      <th>4</th>\n",
       "      <td>Apple iPhone 13 mini (Blue, 128 GB)</td>\n",
       "      <td>4.6</td>\n",
       "      <td>3537</td>\n",
       "      <td>https://rukminim2.flixcart.com/image/312/312/k...</td>\n",
       "      <td>storage128  systemios 15processor typea15 bion...</td>\n",
       "      <td>128.0</td>\n",
       "      <td>NaN</td>\n",
       "      <td>ios 15</td>\n",
       "      <td>typea15</td>\n",
       "    </tr>\n",
       "  </tbody>\n",
       "</table>\n",
       "</div>"
      ],
      "text/plain": [
       "                                        name  ratings    price  \\\n",
       "0  Redmi Note 12 Pro 5G (Onyx Black, 128 GB)      4.2    23999   \n",
       "1        OPPO F11 Pro (Aurora Green, 128 GB)      4.5  ₹20,999   \n",
       "2     Redmi Note 11 (Starburst White, 64 GB)      4.2    13149   \n",
       "3     OnePlus Nord CE 5G (Blue Void, 256 GB)      4.1    21999   \n",
       "4        Apple iPhone 13 mini (Blue, 128 GB)      4.6     3537   \n",
       "\n",
       "                                              imgURL  \\\n",
       "0  https://rukminim2.flixcart.com/image/312/312/x...   \n",
       "1  https://rukminim2.flixcart.com/image/312/312/k...   \n",
       "2  https://rukminim2.flixcart.com/image/312/312/x...   \n",
       "3  https://rukminim2.flixcart.com/image/312/312/x...   \n",
       "4  https://rukminim2.flixcart.com/image/312/312/k...   \n",
       "\n",
       "                                              corpus  storage   ram  \\\n",
       "0  storage128 gbram6  systemandroid 12processor t...    128.0   6.0   \n",
       "1  storage128 gbram6 gbexpandable storage256gb  s...    128.0   6.0   \n",
       "2  storage64 gbram4  systemandroid 11processor sp...     64.0   4.0   \n",
       "3  storage256 gbram12  systemandroid q 11processo...    256.0  12.0   \n",
       "4  storage128  systemios 15processor typea15 bion...    128.0   NaN   \n",
       "\n",
       "            system     processor  \n",
       "0       android 12  typemediatek  \n",
       "1  android pie 9.0  typemediatek  \n",
       "2       android 11      speed2.4  \n",
       "3     android q 11  typequalcomm  \n",
       "4           ios 15       typea15  "
      ]
     },
     "execution_count": 20,
     "metadata": {},
     "output_type": "execute_result"
    }
   ],
   "source": [
    "mobiles_clean.head()"
   ]
  },
  {
   "cell_type": "code",
   "execution_count": 21,
   "id": "180373a7-b04d-44c3-8f7c-0d33c7bc5c46",
   "metadata": {},
   "outputs": [],
   "source": [
    "unique_systems = mobiles_clean['system'].unique()\n",
    "unique_processors = mobiles_clean['processor'].unique()"
   ]
  },
  {
   "cell_type": "code",
   "execution_count": 22,
   "id": "c5f40d51-420e-46ca-953f-1a1072819371",
   "metadata": {},
   "outputs": [
    {
     "data": {
      "text/plain": [
       "array(['android 12', 'android pie 9.0', 'android 11', 'android q 11',\n",
       "       'ios 15', 'ios 9', 'android 13', 'android pie 9',\n",
       "       'android nougat 7', 'android 10', 'ios 16', None,\n",
       "       'android q android q 12.5', 'android oreo 8.1',\n",
       "       'android marshmallow 6.0.1', 'android oreo 8.1.0',\n",
       "       'android 13 (go edition)', 'android android 12', 'android q 10',\n",
       "       'ios 14.2', 'android pie android v9.0 (pie)', 'android andriod 11',\n",
       "       'android android 10',\n",
       "       'android hios 8.6 based on android 12-go edition',\n",
       "       'android nougat 7.1', 'ios 14', 'android android 13', 'ios 12',\n",
       "       'android 12 go', 'ios 7', 'android nougat 7.1.2',\n",
       "       'android oreo v11', 'android android 13 oxygenos',\n",
       "       'android android 13.0', 'android android v12.0',\n",
       "       'android android 11', 'android pie 10', 'android oreo 8.0', 'q 10',\n",
       "       'android q android 10', 'android q 12', 'ios 13',\n",
       "       'android android 11 go', 'android 10 (go edition)',\n",
       "       'android oxygen oxygenos based on android 13',\n",
       "       'series 30 feature phone', 'android lollipop 5.1', 'android q 111',\n",
       "       'ios 8', 'android q android 11',\n",
       "       'android ?hios 12.0 based on android 12',\n",
       "       'android android 11 (go edition)', 'android android 12.0',\n",
       "       'android lollipop 5.0.2', 'android miui 13, android 12.0',\n",
       "       'android lollipop color os 3.0 based on android 5.1',\n",
       "       'android nougat 7.1.1', 'android kitkat 4.4.2',\n",
       "       'android 11 (go edition)', 'android android13', 'android q 10.0v',\n",
       "       'android kitkat 1', 'android oxygenos based on android 13',\n",
       "       'android kitkat 4.4', 'android funtouch os 12', '1',\n",
       "       'android q v11.0', 'android android oxygen android 12', 'ios 11',\n",
       "       'android oreo 8', 'android miui 14, android 13.0',\n",
       "       'android oxygen 12', 'android pie oxygen',\n",
       "       'android lollipop 5.1.1', 'android q v10', 'android android12',\n",
       "       'android q android', 'android oxygen 11', 'android 12.5',\n",
       "       'android q android q android 11',\n",
       "       'android q funtouch os 13 (based on android 13)',\n",
       "       'android marshmallow 6', 'android q android 13.0',\n",
       "       'android q 10.0', 'android q ?android 13.0',\n",
       "       'android q android 12', 'android nougat 11',\n",
       "       'android q android 11 (go edition)', 'android q android 12.0',\n",
       "       'ios q hios 8.6 based on android 12', 'android jelly bean 4.2',\n",
       "       'android 12 (go edition)', 'android q 13', 'android oxygen 12.1',\n",
       "       'android coloros 13.1 on top of android 13',\n",
       "       'android q coloros 12.1. 1', 'android pie 9 pie oxygenos',\n",
       "       'android q android 12, one ui core 4.1', 'android',\n",
       "       'android q 10.1', 'android android 11 go audition', 'series 30',\n",
       "       'android q android 12, coloros 12.1',\n",
       "       'android ?miui 13, android 12.0', 'android oxygen android 12',\n",
       "       'android hios 12.0 based on android 12', 'android oxygen 11.3',\n",
       "       'android q miui 13, android 12.0', 'android q 11.1',\n",
       "       'android funtouch os 11 (based on android 11)',\n",
       "       'android mediatek helio p35', 'android q android q 10',\n",
       "       'android android v9.0 pie', 'android pie oxygen os',\n",
       "       'android q android 11::coloros 12.1', 'tizen',\n",
       "       'android pie android version 10',\n",
       "       'android hios 12.0 based on android 13', 'android jelly bean 4.3',\n",
       "       'android q android 11, coloros 12.1', 'android oreo 10',\n",
       "       'android kitkat 4.4.4', 'android miui 12, android 11.0',\n",
       "       'ios q ?hios 8.6 based on android 12'], dtype=object)"
      ]
     },
     "execution_count": 22,
     "metadata": {},
     "output_type": "execute_result"
    }
   ],
   "source": [
    "unique_systems"
   ]
  },
  {
   "cell_type": "code",
   "execution_count": 23,
   "id": "65fe5c89-bff3-4900-8983-936e26587348",
   "metadata": {},
   "outputs": [
    {
     "data": {
      "text/plain": [
       "array(['typemediatek', 'speed2.4', 'typequalcomm', 'typea15', 'typea9',\n",
       "       None, 'speed2', 'typemtk', 'speed3.19', 'typedimensity',\n",
       "       'typeunisoc', 'speed2.3', 'typea12', 'typea16', 'speed0.1',\n",
       "       'typeexynos', 'typehelio', 'speed2.84', 'typemt6763tprocessor',\n",
       "       'speed1.8', 'typea14', 'speed2.2', 'typea13', 'speed2.9', 'typea6',\n",
       "       'speed3.05', 'typeapple', 'typesnapdragon', 'typequalcomm®',\n",
       "       'typea11', 'speed2.99', 'typea10', 'speed3.2', 'speed208',\n",
       "       'typemeditek', 'typea8', 'typesamsung', 'typeg37processor',\n",
       "       'speed1.6', 'typeocta', 'type2nd-gen', 'typet612processor',\n",
       "       'typeocta-coreprocessor', 'speed1.2', 'typespreadtrum', 'typesec',\n",
       "       'typemtk6739', 'typesdm710processor', 'speed3', 'typena',\n",
       "       'speed2.05', 'speed2.42', 'speed2.8', 'type1.6', 'type2.0',\n",
       "       'type7nm', 'speed2.73', 'speed90', 'typemediateckprocessor',\n",
       "       'speed900', 'speed120', 'speed2.7', 'speed1.3', 'speed1600',\n",
       "       'typeeolprocessor', 'typenaprocessor', 'typeturbo',\n",
       "       'typesdm439processor', 'speed1.5', 'type2?ghz,', 'typemt6762',\n",
       "       'speed1.9'], dtype=object)"
      ]
     },
     "execution_count": 23,
     "metadata": {},
     "output_type": "execute_result"
    }
   ],
   "source": [
    "unique_processors"
   ]
  },
  {
   "cell_type": "code",
   "execution_count": 24,
   "id": "b092984d-cbe4-4abe-ab6e-0ade170aa8ce",
   "metadata": {},
   "outputs": [],
   "source": [
    "def clean_system(system):\n",
    "    if pd.isnull(system):\n",
    "        return None\n",
    "    if 'android' in system:\n",
    "        return 'Android'\n",
    "    if 'ios' in system:\n",
    "        return 'iOS'\n",
    "    if 'tizen' in system:\n",
    "        return 'Tizen'\n",
    "    return system"
   ]
  },
  {
   "cell_type": "code",
   "execution_count": 25,
   "id": "4fb060be-4360-4a5e-bce2-1bbbc56c3f46",
   "metadata": {},
   "outputs": [],
   "source": [
    "mobiles_clean.loc[:,'system'] = mobiles_clean['system'].apply(clean_system)"
   ]
  },
  {
   "cell_type": "code",
   "execution_count": 26,
   "id": "058f3a1f-8ecc-4d04-8c83-72319202cf2a",
   "metadata": {},
   "outputs": [],
   "source": [
    "unique_systems_clean = mobiles_clean['system'].unique()"
   ]
  },
  {
   "cell_type": "code",
   "execution_count": 27,
   "id": "3b663f0a-e792-457c-b284-552b34f8a111",
   "metadata": {},
   "outputs": [
    {
     "data": {
      "text/plain": [
       "array(['Android', 'iOS', None, 'q 10', 'series 30 feature phone', '1',\n",
       "       'series 30', 'Tizen'], dtype=object)"
      ]
     },
     "execution_count": 27,
     "metadata": {},
     "output_type": "execute_result"
    }
   ],
   "source": [
    "unique_systems_clean"
   ]
  },
  {
   "cell_type": "code",
   "execution_count": 28,
   "id": "06918cc1-4b91-44bc-8805-c0b9a1167582",
   "metadata": {},
   "outputs": [],
   "source": [
    "def clean_processor(processor):\n",
    "    \"\"\"Clean the processor values.\"\"\"\n",
    "    if pd.isnull(processor):\n",
    "        return None\n",
    "    if 'mediatek' in processor:\n",
    "        return 'MediaTek'\n",
    "    if 'qualcomm' in processor:\n",
    "        return 'Qualcomm'\n",
    "    if 'apple' in processor:\n",
    "        return 'Apple'\n",
    "    return 'Other'"
   ]
  },
  {
   "cell_type": "code",
   "execution_count": 29,
   "id": "d82f388b-4924-476a-9ae6-ebcd2f6e23ca",
   "metadata": {},
   "outputs": [],
   "source": [
    "mobiles_clean.loc[:,'processor'] = mobiles_clean['processor'].apply(clean_processor)"
   ]
  },
  {
   "cell_type": "code",
   "execution_count": 30,
   "id": "cbaa6c4f-717a-4034-ac6b-fe997fd364d9",
   "metadata": {},
   "outputs": [],
   "source": [
    "unique_processors_clean = mobiles_clean['processor'].unique()"
   ]
  },
  {
   "cell_type": "code",
   "execution_count": 31,
   "id": "39587e9c-51f9-43b9-9d40-8a72a57292ec",
   "metadata": {},
   "outputs": [
    {
     "data": {
      "text/plain": [
       "array(['MediaTek', 'Other', 'Qualcomm', None, 'Apple'], dtype=object)"
      ]
     },
     "execution_count": 31,
     "metadata": {},
     "output_type": "execute_result"
    }
   ],
   "source": [
    "unique_processors_clean"
   ]
  },
  {
   "cell_type": "code",
   "execution_count": 32,
   "id": "2105b377-5d44-4620-99c7-5dbfa7632bd7",
   "metadata": {},
   "outputs": [
    {
     "name": "stdout",
     "output_type": "stream",
     "text": [
      "                                        name  ratings    price  \\\n",
      "0  redmi note 12 pro 5g (onyx black, 128 gb)      4.2    23999   \n",
      "1        oppo f11 pro (aurora green, 128 gb)      4.5  ₹20,999   \n",
      "2     redmi note 11 (starburst white, 64 gb)      4.2    13149   \n",
      "3     oneplus nord ce 5g (blue void, 256 gb)      4.1    21999   \n",
      "4        apple iphone 13 mini (blue, 128 gb)      4.6     3537   \n",
      "\n",
      "                                              imgURL  \\\n",
      "0  https://rukminim2.flixcart.com/image/312/312/x...   \n",
      "1  https://rukminim2.flixcart.com/image/312/312/k...   \n",
      "2  https://rukminim2.flixcart.com/image/312/312/x...   \n",
      "3  https://rukminim2.flixcart.com/image/312/312/x...   \n",
      "4  https://rukminim2.flixcart.com/image/312/312/k...   \n",
      "\n",
      "                                              corpus  storage   ram   system  \\\n",
      "0  storage128 gbram6  systemandroid 12processor t...    128.0   6.0  Android   \n",
      "1  storage128 gbram6 gbexpandable storage256gb  s...    128.0   6.0  Android   \n",
      "2  storage64 gbram4  systemandroid 11processor sp...     64.0   4.0  Android   \n",
      "3  storage256 gbram12  systemandroid q 11processo...    256.0  12.0  Android   \n",
      "4  storage128  systemios 15processor typea15 bion...    128.0   NaN      iOS   \n",
      "\n",
      "  processor battery_capacity display_size          resolution  \\\n",
      "0  MediaTek             5000      16.94cm  2400 x 1080 pixels   \n",
      "1  MediaTek             4000      16.51cm  2340 x 1080 pixels   \n",
      "2     Other             5000      16.33cm         2400 x 1080   \n",
      "3  Qualcomm             4500      16.33cm         2400 x 1080   \n",
      "4     Other             None      13.72cm  2340 x 1080 pixels   \n",
      "\n",
      "   processor_speed camera network  \\\n",
      "0              2.6   50mp      5G   \n",
      "1              2.1   48mp      3G   \n",
      "2              2.4   50mp      4G   \n",
      "3              2.4   64mp      5G   \n",
      "4              NaN   12mp      5G   \n",
      "\n",
      "                                    operating_system  \n",
      "0  android 12processor typemediatek dimensity 108...  \n",
      "1                                      android pie 9  \n",
      "2                         android 11processor speed2  \n",
      "3  android q 11processor typequalcomm snapdragon ...  \n",
      "4  ios 15processor typea15 bionic chip 12mp 12mp ...  \n",
      "\n",
      "Null values count per column:\n",
      " name                  0\n",
      "ratings               0\n",
      "price                 0\n",
      "imgURL                0\n",
      "corpus                0\n",
      "storage               6\n",
      "ram                 394\n",
      "system               65\n",
      "processor            65\n",
      "battery_capacity    328\n",
      "display_size          0\n",
      "resolution           31\n",
      "processor_speed     447\n",
      "camera                0\n",
      "network              74\n",
      "operating_system      7\n",
      "dtype: int64\n"
     ]
    }
   ],
   "source": [
    "import pandas as pd\n",
    "import re\n",
    "\n",
    "# Assuming mobiles_clean is already defined with 'corpus' column\n",
    "# Convert corpus to lower case\n",
    "mobiles_clean.loc[:, 'corpus'] = mobiles_clean['corpus'].str.lower()\n",
    "mobiles_clean.loc[:, 'name'] = mobiles_clean['name'].str.lower()\n",
    "\n",
    "def extract_battery(corpus):\n",
    "    match = re.search(r'capacity(\\d+)', corpus)\n",
    "    if match:\n",
    "        return match.group(1).strip()\n",
    "    return None\n",
    "\n",
    "\n",
    "# Function to extract Display Size\n",
    "def extract_display_size(corpus):\n",
    "    match = re.search(r'(\\d+\\.\\d+\\s?inch)|(\\d+\\.\\d+\\s?cm)', corpus, re.IGNORECASE)\n",
    "    if match:\n",
    "        return match.group(0).replace(\" \", \"\")\n",
    "    return None\n",
    "\n",
    "# Function to extract Resolution\n",
    "def extract_resolution(corpus):\n",
    "    match = re.search(r'(\\d{3,4}\\s?x\\s?\\d{3,4}\\s?pixels)|(\\d{3,4}\\s?x\\s?\\d{3,4})|(hd|full hd|quad hd|4k)', corpus, re.IGNORECASE)\n",
    "    if match:\n",
    "        return match.group(0)\n",
    "    return None\n",
    "    \n",
    "# Enhanced function to extract Processor Speed\n",
    "def extract_processor_speed(corpus):\n",
    "    match = re.search(r'processor\\s*speed\\s*[:\\s]*(\\d+\\.?\\d*)', corpus, re.IGNORECASE)\n",
    "    if match:\n",
    "        return float(match.group(1))\n",
    "    return None\n",
    "\n",
    "# Function to extract Camera\n",
    "def extract_camera(corpus):\n",
    "    match = re.search(r'(\\d+ ?mp)', corpus, re.IGNORECASE)\n",
    "    if match:\n",
    "        return match.group(1).replace(\" \", \"\")\n",
    "    return None\n",
    "\n",
    "def extract_network_from_columns(corpus, name):\n",
    "    combined_text = f\"{corpus} {name}\"  # Combine corpus and name for extraction\n",
    "    # Adjusted regex pattern to include additional variations and whitespace\n",
    "    match = re.search(r'\\b(5g|4g lte|4g|3g|gsm|lte|cdma|umts|hspa|edge|hspda|hspap|nr|wifi|wlan|bluetooth|lte-a|hsp+|5g nr)\\b', combined_text, re.IGNORECASE)\n",
    "    if match:\n",
    "        return match.group(0).upper()  # Return in uppercase for consistency\n",
    "    return None\n",
    "\n",
    "\n",
    "# # Function to extract Weight\n",
    "# def extract_weight(corpus):\n",
    "#     match = re.search(r'(\\d+ ?g)|(weight\\s?(\\d+ ?(grams|g)))', corpus, re.IGNORECASE)\n",
    "#     if match:\n",
    "#         return match.group(1).replace(\" \", \"\")\n",
    "#     return None\n",
    "\n",
    "# Function to extract Operating System\n",
    "def extract_operating_system(corpus):\n",
    "    match = re.search(r'system\\s?([a-zA-Z0-9\\s]+)', corpus)\n",
    "    if match:\n",
    "        return match.group(1).strip()\n",
    "    return None\n",
    "\n",
    "# Apply the extraction functions\n",
    "mobiles_clean['battery_capacity'] = mobiles_clean['corpus'].apply(extract_battery)\n",
    "mobiles_clean.loc[:, 'display_size'] = mobiles_clean['corpus'].apply(extract_display_size)\n",
    "mobiles_clean.loc[:, 'resolution'] = mobiles_clean['corpus'].apply(extract_resolution)\n",
    "mobiles_clean['processor_speed'] = mobiles_clean['corpus'].apply(extract_processor_speed)\n",
    "mobiles_clean.loc[:, 'camera'] = mobiles_clean['corpus'].apply(extract_camera)\n",
    "mobiles_clean['network'] = mobiles_clean.apply(lambda row: extract_network_from_columns(row['corpus'], row['name']), axis=1)\n",
    "#mobiles_clean.loc[:, 'weight'] = mobiles_clean['corpus'].apply(extract_weight)\n",
    "mobiles_clean.loc[:, 'operating_system'] = mobiles_clean['corpus'].apply(extract_operating_system)\n",
    "\n",
    "\n",
    "# Display the DataFrame with extracted features\n",
    "print(mobiles_clean.head())\n",
    "\n",
    "# Check for null values in extracted features\n",
    "null_values = mobiles_clean.isnull().sum()\n",
    "print(\"\\nNull values count per column:\\n\", null_values)"
   ]
  },
  {
   "cell_type": "code",
   "execution_count": 33,
   "id": "1d7e0637-579a-41a9-bc83-deef995939a9",
   "metadata": {},
   "outputs": [],
   "source": [
    "# Drop rows where column has null values\n",
    "mobiles_clean = mobiles_clean.dropna(subset=['ram'])\n",
    "biles_clean = mobiles_clean.dropna(subset=['operating_system'])\n",
    "mobiles_clean = mobiles_clean.dropna(subset=['processor_speed'])\n",
    "mobiles_clean = mobiles_clean.dropna(subset=['network'])\n",
    "mobiles_clean = mobiles_clean.dropna(subset=['resolution'])"
   ]
  },
  {
   "cell_type": "code",
   "execution_count": 34,
   "id": "d7b8e546-bb2b-4c88-9d88-5c3af99d89b4",
   "metadata": {},
   "outputs": [
    {
     "name": "stdout",
     "output_type": "stream",
     "text": [
      "\n",
      "Null values count per column:\n",
      " name                0\n",
      "ratings             0\n",
      "price               0\n",
      "imgURL              0\n",
      "corpus              0\n",
      "storage             0\n",
      "ram                 0\n",
      "system              0\n",
      "processor           0\n",
      "battery_capacity    0\n",
      "display_size        0\n",
      "resolution          0\n",
      "processor_speed     0\n",
      "camera              0\n",
      "network             0\n",
      "operating_system    0\n",
      "dtype: int64\n"
     ]
    }
   ],
   "source": [
    "# Check for null values in extracted features\n",
    "null_values = mobiles_clean.isnull().sum()\n",
    "print(\"\\nNull values count per column:\\n\", null_values)"
   ]
  },
  {
   "cell_type": "code",
   "execution_count": 35,
   "id": "01b7f5b3-dce4-4176-9c89-1fb9dc4bdb74",
   "metadata": {},
   "outputs": [
    {
     "data": {
      "text/plain": [
       "(2000, 16)"
      ]
     },
     "execution_count": 35,
     "metadata": {},
     "output_type": "execute_result"
    }
   ],
   "source": [
    "mobiles_clean.shape"
   ]
  },
  {
   "cell_type": "code",
   "execution_count": 36,
   "id": "353e43c6-507f-4954-b7f8-5a7a7391e0e6",
   "metadata": {},
   "outputs": [
    {
     "data": {
      "image/png": "[encoded data removed]",
      "text/plain": [
       "<Figure size 1200x600 with 1 Axes>"
      ]
     },
     "metadata": {},
     "output_type": "display_data"
    }
   ],
   "source": [
    "plt.figure(figsize=(12, 6))\n",
    "plt.hist(mobiles_clean['storage'], bins=20, edgecolor='black', color='#00FFFF')\n",
    "plt.title('Distribution of Storage')\n",
    "plt.xlabel('Storage (GB)')\n",
    "plt.ylabel('Count')\n",
    "plt.show()"
   ]
  },
  {
   "cell_type": "code",
   "execution_count": 37,
   "id": "d6dce00b-3e1c-4500-b893-d2c9a137ddb5",
   "metadata": {},
   "outputs": [
    {
     "data": {
      "image/png": "[encoded data removed]",
      "text/plain": [
       "<Figure size 1000x600 with 1 Axes>"
      ]
     },
     "metadata": {},
     "output_type": "display_data"
    }
   ],
   "source": [
    "plt.figure(figsize=(10, 6))\n",
    "plt.hist(mobiles_clean['ram'].dropna(), bins=20, edgecolor='black',color='#FFC0CB') \n",
    "plt.title('Distribution of RAM')\n",
    "plt.xlabel('RAM (GB)')\n",
    "plt.ylabel('Count')\n",
    "plt.show()"
   ]
  },
  {
   "cell_type": "code",
   "execution_count": 38,
   "id": "8942c9fc-0d2a-408e-9618-e9ab123b5bd8",
   "metadata": {},
   "outputs": [
    {
     "data": {
      "image/png": "[encoded data removed]",
      "text/plain": [
       "<Figure size 1000x600 with 1 Axes>"
      ]
     },
     "metadata": {},
     "output_type": "display_data"
    }
   ],
   "source": [
    "plt.figure(figsize=(10, 6))\n",
    "mobiles_clean['system'].value_counts().plot(kind='bar',edgecolor='black',color='#800080')\n",
    "plt.title('Distribution of Operating Systems')\n",
    "plt.xlabel('Operating System')\n",
    "plt.ylabel('Count')\n",
    "plt.show()"
   ]
  },
  {
   "cell_type": "code",
   "execution_count": 39,
   "id": "4176e5f6-7ea3-40ff-9859-5add1376e31b",
   "metadata": {},
   "outputs": [
    {
     "data": {
      "image/png": "[encoded data removed]",
      "text/plain": [
       "<Figure size 1000x600 with 1 Axes>"
      ]
     },
     "metadata": {},
     "output_type": "display_data"
    }
   ],
   "source": [
    "plt.figure(figsize=(10, 6))\n",
    "mobiles_clean['processor'].value_counts().plot(kind='bar',edgecolor='black',color='#808000')\n",
    "plt.title('Distribution of Processors')\n",
    "plt.xlabel('Processor')\n",
    "plt.ylabel('Count')\n",
    "plt.show()"
   ]
  },
  {
   "cell_type": "code",
   "execution_count": 40,
   "id": "087534d0-ebf7-4cd0-a715-a3acd4f756fd",
   "metadata": {},
   "outputs": [],
   "source": [
    "def clean_price(price):\n",
    "    if isinstance(price, (int, float)):  # If the price is already numeric\n",
    "        return int(price)\n",
    "    if isinstance(price, str):  # If the price is a string\n",
    "        cleaned_price = re.sub(r'[^\\d]', '', price)  # Remove all non-numeric characters\n",
    "        if cleaned_price:\n",
    "            return int(cleaned_price)\n",
    "    return None "
   ]
  },
  {
   "cell_type": "code",
   "execution_count": 41,
   "id": "d326d6a0-6465-497d-8fc3-e04d77711c96",
   "metadata": {},
   "outputs": [],
   "source": [
    "mobiles_clean.loc[:,'price'] = mobiles_clean['price'].apply(clean_price)"
   ]
  },
  {
   "cell_type": "code",
   "execution_count": 42,
   "id": "27880671-362f-41f7-8d9c-ee85fc3ab8ff",
   "metadata": {},
   "outputs": [
    {
     "data": {
      "text/html": [
       "<div>\n",
       "<style scoped>\n",
       "    .dataframe tbody tr th:only-of-type {\n",
       "        vertical-align: middle;\n",
       "    }\n",
       "\n",
       "    .dataframe tbody tr th {\n",
       "        vertical-align: top;\n",
       "    }\n",
       "\n",
       "    .dataframe thead th {\n",
       "        text-align: right;\n",
       "    }\n",
       "</style>\n",
       "<table border=\"1\" class=\"dataframe\">\n",
       "  <thead>\n",
       "    <tr style=\"text-align: right;\">\n",
       "      <th></th>\n",
       "      <th>name</th>\n",
       "      <th>ratings</th>\n",
       "      <th>price</th>\n",
       "      <th>imgURL</th>\n",
       "      <th>corpus</th>\n",
       "      <th>storage</th>\n",
       "      <th>ram</th>\n",
       "      <th>system</th>\n",
       "      <th>processor</th>\n",
       "      <th>battery_capacity</th>\n",
       "      <th>display_size</th>\n",
       "      <th>resolution</th>\n",
       "      <th>processor_speed</th>\n",
       "      <th>camera</th>\n",
       "      <th>network</th>\n",
       "      <th>operating_system</th>\n",
       "    </tr>\n",
       "  </thead>\n",
       "  <tbody>\n",
       "    <tr>\n",
       "      <th>0</th>\n",
       "      <td>redmi note 12 pro 5g (onyx black, 128 gb)</td>\n",
       "      <td>4.2</td>\n",
       "      <td>23999</td>\n",
       "      <td>https://rukminim2.flixcart.com/image/312/312/x...</td>\n",
       "      <td>storage128 gbram6  systemandroid 12processor t...</td>\n",
       "      <td>128.0</td>\n",
       "      <td>6.0</td>\n",
       "      <td>Android</td>\n",
       "      <td>MediaTek</td>\n",
       "      <td>5000</td>\n",
       "      <td>16.94cm</td>\n",
       "      <td>2400 x 1080 pixels</td>\n",
       "      <td>2.6</td>\n",
       "      <td>50mp</td>\n",
       "      <td>5G</td>\n",
       "      <td>android 12processor typemediatek dimensity 108...</td>\n",
       "    </tr>\n",
       "    <tr>\n",
       "      <th>1</th>\n",
       "      <td>oppo f11 pro (aurora green, 128 gb)</td>\n",
       "      <td>4.5</td>\n",
       "      <td>20999</td>\n",
       "      <td>https://rukminim2.flixcart.com/image/312/312/k...</td>\n",
       "      <td>storage128 gbram6 gbexpandable storage256gb  s...</td>\n",
       "      <td>128.0</td>\n",
       "      <td>6.0</td>\n",
       "      <td>Android</td>\n",
       "      <td>MediaTek</td>\n",
       "      <td>4000</td>\n",
       "      <td>16.51cm</td>\n",
       "      <td>2340 x 1080 pixels</td>\n",
       "      <td>2.1</td>\n",
       "      <td>48mp</td>\n",
       "      <td>3G</td>\n",
       "      <td>android pie 9</td>\n",
       "    </tr>\n",
       "    <tr>\n",
       "      <th>2</th>\n",
       "      <td>redmi note 11 (starburst white, 64 gb)</td>\n",
       "      <td>4.2</td>\n",
       "      <td>13149</td>\n",
       "      <td>https://rukminim2.flixcart.com/image/312/312/x...</td>\n",
       "      <td>storage64 gbram4  systemandroid 11processor sp...</td>\n",
       "      <td>64.0</td>\n",
       "      <td>4.0</td>\n",
       "      <td>Android</td>\n",
       "      <td>Other</td>\n",
       "      <td>5000</td>\n",
       "      <td>16.33cm</td>\n",
       "      <td>2400 x 1080</td>\n",
       "      <td>2.4</td>\n",
       "      <td>50mp</td>\n",
       "      <td>4G</td>\n",
       "      <td>android 11processor speed2</td>\n",
       "    </tr>\n",
       "    <tr>\n",
       "      <th>3</th>\n",
       "      <td>oneplus nord ce 5g (blue void, 256 gb)</td>\n",
       "      <td>4.1</td>\n",
       "      <td>21999</td>\n",
       "      <td>https://rukminim2.flixcart.com/image/312/312/x...</td>\n",
       "      <td>storage256 gbram12  systemandroid q 11processo...</td>\n",
       "      <td>256.0</td>\n",
       "      <td>12.0</td>\n",
       "      <td>Android</td>\n",
       "      <td>Qualcomm</td>\n",
       "      <td>4500</td>\n",
       "      <td>16.33cm</td>\n",
       "      <td>2400 x 1080</td>\n",
       "      <td>2.4</td>\n",
       "      <td>64mp</td>\n",
       "      <td>5G</td>\n",
       "      <td>android q 11processor typequalcomm snapdragon ...</td>\n",
       "    </tr>\n",
       "    <tr>\n",
       "      <th>6</th>\n",
       "      <td>redmi 10 power (sporty orange, 128 gb)</td>\n",
       "      <td>4.2</td>\n",
       "      <td>18996</td>\n",
       "      <td>https://rukminim2.flixcart.com/image/312/312/x...</td>\n",
       "      <td>storage128 gbram8  systemandroid 13processor s...</td>\n",
       "      <td>128.0</td>\n",
       "      <td>8.0</td>\n",
       "      <td>Android</td>\n",
       "      <td>Other</td>\n",
       "      <td>6000</td>\n",
       "      <td>17.02cm</td>\n",
       "      <td>2400 x 1080</td>\n",
       "      <td>2.4</td>\n",
       "      <td>50mp</td>\n",
       "      <td>4G</td>\n",
       "      <td>android 13processor speed2</td>\n",
       "    </tr>\n",
       "  </tbody>\n",
       "</table>\n",
       "</div>"
      ],
      "text/plain": [
       "                                        name  ratings  price  \\\n",
       "0  redmi note 12 pro 5g (onyx black, 128 gb)      4.2  23999   \n",
       "1        oppo f11 pro (aurora green, 128 gb)      4.5  20999   \n",
       "2     redmi note 11 (starburst white, 64 gb)      4.2  13149   \n",
       "3     oneplus nord ce 5g (blue void, 256 gb)      4.1  21999   \n",
       "6     redmi 10 power (sporty orange, 128 gb)      4.2  18996   \n",
       "\n",
       "                                              imgURL  \\\n",
       "0  https://rukminim2.flixcart.com/image/312/312/x...   \n",
       "1  https://rukminim2.flixcart.com/image/312/312/k...   \n",
       "2  https://rukminim2.flixcart.com/image/312/312/x...   \n",
       "3  https://rukminim2.flixcart.com/image/312/312/x...   \n",
       "6  https://rukminim2.flixcart.com/image/312/312/x...   \n",
       "\n",
       "                                              corpus  storage   ram   system  \\\n",
       "0  storage128 gbram6  systemandroid 12processor t...    128.0   6.0  Android   \n",
       "1  storage128 gbram6 gbexpandable storage256gb  s...    128.0   6.0  Android   \n",
       "2  storage64 gbram4  systemandroid 11processor sp...     64.0   4.0  Android   \n",
       "3  storage256 gbram12  systemandroid q 11processo...    256.0  12.0  Android   \n",
       "6  storage128 gbram8  systemandroid 13processor s...    128.0   8.0  Android   \n",
       "\n",
       "  processor battery_capacity display_size          resolution  \\\n",
       "0  MediaTek             5000      16.94cm  2400 x 1080 pixels   \n",
       "1  MediaTek             4000      16.51cm  2340 x 1080 pixels   \n",
       "2     Other             5000      16.33cm         2400 x 1080   \n",
       "3  Qualcomm             4500      16.33cm         2400 x 1080   \n",
       "6     Other             6000      17.02cm         2400 x 1080   \n",
       "\n",
       "   processor_speed camera network  \\\n",
       "0              2.6   50mp      5G   \n",
       "1              2.1   48mp      3G   \n",
       "2              2.4   50mp      4G   \n",
       "3              2.4   64mp      5G   \n",
       "6              2.4   50mp      4G   \n",
       "\n",
       "                                    operating_system  \n",
       "0  android 12processor typemediatek dimensity 108...  \n",
       "1                                      android pie 9  \n",
       "2                         android 11processor speed2  \n",
       "3  android q 11processor typequalcomm snapdragon ...  \n",
       "6                         android 13processor speed2  "
      ]
     },
     "execution_count": 42,
     "metadata": {},
     "output_type": "execute_result"
    }
   ],
   "source": [
    "mobiles_clean.head()"
   ]
  },
  {
   "cell_type": "code",
   "execution_count": 43,
   "id": "6b03a85f-cc78-45f7-afb4-617e5bf07d8e",
   "metadata": {},
   "outputs": [
    {
     "data": {
      "image/png": "[encoded data removed]",
      "text/plain": [
       "<Figure size 1000x600 with 1 Axes>"
      ]
     },
     "metadata": {},
     "output_type": "display_data"
    }
   ],
   "source": [
    "plt.figure(figsize=(10, 6))\n",
    "plt.scatter(mobiles_clean['storage'], mobiles_clean['price'], color='#800000')\n",
    "plt.title('Price vs Storage')\n",
    "plt.xlabel('Storage (GB)')\n",
    "plt.ylabel('Price')\n",
    "plt.show()"
   ]
  },
  {
   "cell_type": "code",
   "execution_count": 44,
   "id": "c4ab7b1a-ce2f-40d5-83a9-d8cdc808ded1",
   "metadata": {},
   "outputs": [
    {
     "data": {
      "text/plain": [
       "0.5397554855697059"
      ]
     },
     "execution_count": 44,
     "metadata": {},
     "output_type": "execute_result"
    }
   ],
   "source": [
    "correlation = mobiles_clean['price'].corr(mobiles_clean['storage'])\n",
    "\n",
    "correlation"
   ]
  },
  {
   "cell_type": "code",
   "execution_count": 45,
   "id": "59f4280c-52aa-4b4b-9f76-5dc720cd17ba",
   "metadata": {},
   "outputs": [
    {
     "data": {
      "image/png": "[encoded data removed]",
      "text/plain": [
       "<Figure size 1000x600 with 1 Axes>"
      ]
     },
     "metadata": {},
     "output_type": "display_data"
    }
   ],
   "source": [
    "plt.figure(figsize=(10, 6))\n",
    "plt.scatter(mobiles_clean['ram'], mobiles_clean['price'], color='#00FF00')\n",
    "plt.title('Price vs RAM')\n",
    "plt.xlabel('RAM (GB)')\n",
    "plt.ylabel('Price')\n",
    "plt.show()"
   ]
  },
  {
   "cell_type": "code",
   "execution_count": 46,
   "id": "52bd1a28-1efc-430c-863b-6c632eca0ae6",
   "metadata": {},
   "outputs": [
    {
     "data": {
      "text/plain": [
       "0.08515973249929816"
      ]
     },
     "execution_count": 46,
     "metadata": {},
     "output_type": "execute_result"
    }
   ],
   "source": [
    "correlation = mobiles_clean['price'].corr(mobiles_clean['ram'])\n",
    "\n",
    "correlation"
   ]
  },
  {
   "cell_type": "code",
   "execution_count": 47,
   "id": "fd3787f7-1279-454b-a131-a5b911003268",
   "metadata": {},
   "outputs": [],
   "source": [
    "avg_price_system = mobiles_clean.groupby('system')['price'].mean()"
   ]
  },
  {
   "cell_type": "code",
   "execution_count": 48,
   "id": "951bcb6f-73b9-4716-94d7-26bb12e30c4a",
   "metadata": {},
   "outputs": [
    {
     "data": {
      "image/png": "[encoded data removed]",
      "text/plain": [
       "<Figure size 1000x600 with 1 Axes>"
      ]
     },
     "metadata": {},
     "output_type": "display_data"
    }
   ],
   "source": [
    "plt.figure(figsize=(10, 6))\n",
    "avg_price_system.plot(kind='bar',color='#FFA500')\n",
    "plt.title('Average Price by Operating System')\n",
    "plt.xlabel('Operating System')\n",
    "plt.ylabel('Average Price')\n",
    "plt.show()"
   ]
  },
  {
   "cell_type": "code",
   "execution_count": 49,
   "id": "6b20f04a-fdc0-43f0-a84c-432eb93beec7",
   "metadata": {},
   "outputs": [],
   "source": [
    "avg_price_processor = mobiles_clean.groupby('processor')['price'].mean()"
   ]
  },
  {
   "cell_type": "code",
   "execution_count": 50,
   "id": "4fd89606-f9c9-46f2-ace9-e0ab7efd05cc",
   "metadata": {},
   "outputs": [
    {
     "data": {
      "image/png": "[encoded data removed]",
      "text/plain": [
       "<Figure size 1000x600 with 1 Axes>"
      ]
     },
     "metadata": {},
     "output_type": "display_data"
    }
   ],
   "source": [
    "plt.figure(figsize=(10, 6))\n",
    "avg_price_processor.plot(kind='bar',color='#C299FF')\n",
    "plt.title('Average Price by Processor')\n",
    "plt.xlabel('Processor')\n",
    "plt.ylabel('Average Price')\n",
    "plt.show()"
   ]
  },
  {
   "cell_type": "code",
   "execution_count": 51,
   "id": "fbe98b0e-f804-44e3-bd8d-38c23ed39189",
   "metadata": {},
   "outputs": [
    {
     "data": {
      "image/png": "[encoded data removed]",
      "text/plain": [
       "<Figure size 1000x600 with 1 Axes>"
      ]
     },
     "metadata": {},
     "output_type": "display_data"
    }
   ],
   "source": [
    "plt.figure(figsize=(10, 6))\n",
    "plt.scatter(mobiles_clean['storage'], mobiles_clean['ratings'], color='#B4EEB4')\n",
    "plt.title('Ratings vs Storage')\n",
    "plt.xlabel('Storage (GB)')\n",
    "plt.ylabel('Ratings')\n",
    "plt.show()"
   ]
  },
  {
   "cell_type": "code",
   "execution_count": 52,
   "id": "be10765c-363e-42a0-b844-abe58bb4e3ff",
   "metadata": {},
   "outputs": [
    {
     "data": {
      "text/plain": [
       "-0.09550171700546535"
      ]
     },
     "execution_count": 52,
     "metadata": {},
     "output_type": "execute_result"
    }
   ],
   "source": [
    "correlation = mobiles_clean['ratings'].corr(mobiles_clean['storage'])\n",
    "\n",
    "correlation"
   ]
  },
  {
   "cell_type": "code",
   "execution_count": 53,
   "id": "970383f0-52c6-40f6-b772-7340e58b6cda",
   "metadata": {},
   "outputs": [
    {
     "data": {
      "image/png": "[encoded data removed]",
      "text/plain": [
       "<Figure size 1000x600 with 1 Axes>"
      ]
     },
     "metadata": {},
     "output_type": "display_data"
    }
   ],
   "source": [
    "plt.figure(figsize=(10, 6))\n",
    "plt.scatter(mobiles_clean['ram'], mobiles_clean['ratings'], color='#420079')\n",
    "plt.title('Ratings vs RAM')\n",
    "plt.xlabel('RAM (GB)')\n",
    "plt.ylabel('Ratings')\n",
    "plt.show()"
   ]
  },
  {
   "cell_type": "code",
   "execution_count": 54,
   "id": "9e21742c-c92d-4fbc-925c-35d55a91c97a",
   "metadata": {},
   "outputs": [
    {
     "data": {
      "text/plain": [
       "-0.04407997692232844"
      ]
     },
     "execution_count": 54,
     "metadata": {},
     "output_type": "execute_result"
    }
   ],
   "source": [
    "correlation = mobiles_clean['ratings'].corr(mobiles_clean['ram'])\n",
    "\n",
    "correlation"
   ]
  },
  {
   "cell_type": "code",
   "execution_count": 55,
   "id": "02cf59c8-e5f2-4bb3-88d6-b120feaf69e1",
   "metadata": {},
   "outputs": [],
   "source": [
    "avg_rating_system = mobiles_clean.groupby('system')['ratings'].mean()"
   ]
  },
  {
   "cell_type": "code",
   "execution_count": 56,
   "id": "5f507870-4058-43d3-b7df-3977013c2354",
   "metadata": {},
   "outputs": [
    {
     "data": {
      "image/png": "[encoded data removed]",
      "text/plain": [
       "<Figure size 1000x600 with 1 Axes>"
      ]
     },
     "metadata": {},
     "output_type": "display_data"
    }
   ],
   "source": [
    "plt.figure(figsize=(10, 6))\n",
    "avg_rating_system.plot(kind='bar', color='#F4CCCC')\n",
    "plt.title('Average Rating by Operating System')\n",
    "plt.xlabel('Operating System')\n",
    "plt.ylabel('Average Rating')\n",
    "plt.show()"
   ]
  },
  {
   "cell_type": "code",
   "execution_count": 57,
   "id": "9c6d3e0b-25de-486d-a2dc-46e16c8aa211",
   "metadata": {},
   "outputs": [],
   "source": [
    "avg_rating_processor = mobiles_clean.groupby('processor')['ratings'].mean()"
   ]
  },
  {
   "cell_type": "code",
   "execution_count": 58,
   "id": "ee422e7d-33ce-43e7-a0d4-843904ffeb65",
   "metadata": {},
   "outputs": [
    {
     "data": {
      "image/png": "[encoded data removed]",
      "text/plain": [
       "<Figure size 1000x600 with 1 Axes>"
      ]
     },
     "metadata": {},
     "output_type": "display_data"
    }
   ],
   "source": [
    "plt.figure(figsize=(10, 6))\n",
    "avg_rating_processor.plot(kind='bar', color='#FF00FF')\n",
    "plt.title('Average Rating by Processor')\n",
    "plt.xlabel('Processor')\n",
    "plt.ylabel('Average Rating')\n",
    "plt.show()"
   ]
  },
  {
   "cell_type": "code",
   "execution_count": 59,
   "id": "e26eea3c-8454-4f80-ac19-6a7c4b6c78af",
   "metadata": {},
   "outputs": [],
   "source": [
    "def extract_brand(name):\n",
    "    return name.split()[0]"
   ]
  },
  {
   "cell_type": "code",
   "execution_count": 60,
   "id": "c3c3a1c4-b293-4aeb-9aba-008611136e82",
   "metadata": {},
   "outputs": [],
   "source": [
    "mobiles_clean.loc[:,'brand'] = mobiles_clean['name'].apply(extract_brand)"
   ]
  },
  {
   "cell_type": "code",
   "execution_count": 61,
   "id": "e0c89bd8-cb75-4cb7-877c-47e679a0312b",
   "metadata": {},
   "outputs": [
    {
     "data": {
      "text/html": [
       "<div>\n",
       "<style scoped>\n",
       "    .dataframe tbody tr th:only-of-type {\n",
       "        vertical-align: middle;\n",
       "    }\n",
       "\n",
       "    .dataframe tbody tr th {\n",
       "        vertical-align: top;\n",
       "    }\n",
       "\n",
       "    .dataframe thead th {\n",
       "        text-align: right;\n",
       "    }\n",
       "</style>\n",
       "<table border=\"1\" class=\"dataframe\">\n",
       "  <thead>\n",
       "    <tr style=\"text-align: right;\">\n",
       "      <th></th>\n",
       "      <th>name</th>\n",
       "      <th>ratings</th>\n",
       "      <th>price</th>\n",
       "      <th>imgURL</th>\n",
       "      <th>corpus</th>\n",
       "      <th>storage</th>\n",
       "      <th>ram</th>\n",
       "      <th>system</th>\n",
       "      <th>processor</th>\n",
       "      <th>battery_capacity</th>\n",
       "      <th>display_size</th>\n",
       "      <th>resolution</th>\n",
       "      <th>processor_speed</th>\n",
       "      <th>camera</th>\n",
       "      <th>network</th>\n",
       "      <th>operating_system</th>\n",
       "      <th>brand</th>\n",
       "    </tr>\n",
       "  </thead>\n",
       "  <tbody>\n",
       "    <tr>\n",
       "      <th>0</th>\n",
       "      <td>redmi note 12 pro 5g (onyx black, 128 gb)</td>\n",
       "      <td>4.2</td>\n",
       "      <td>23999</td>\n",
       "      <td>https://rukminim2.flixcart.com/image/312/312/x...</td>\n",
       "      <td>storage128 gbram6  systemandroid 12processor t...</td>\n",
       "      <td>128.0</td>\n",
       "      <td>6.0</td>\n",
       "      <td>Android</td>\n",
       "      <td>MediaTek</td>\n",
       "      <td>5000</td>\n",
       "      <td>16.94cm</td>\n",
       "      <td>2400 x 1080 pixels</td>\n",
       "      <td>2.6</td>\n",
       "      <td>50mp</td>\n",
       "      <td>5G</td>\n",
       "      <td>android 12processor typemediatek dimensity 108...</td>\n",
       "      <td>redmi</td>\n",
       "    </tr>\n",
       "    <tr>\n",
       "      <th>1</th>\n",
       "      <td>oppo f11 pro (aurora green, 128 gb)</td>\n",
       "      <td>4.5</td>\n",
       "      <td>20999</td>\n",
       "      <td>https://rukminim2.flixcart.com/image/312/312/k...</td>\n",
       "      <td>storage128 gbram6 gbexpandable storage256gb  s...</td>\n",
       "      <td>128.0</td>\n",
       "      <td>6.0</td>\n",
       "      <td>Android</td>\n",
       "      <td>MediaTek</td>\n",
       "      <td>4000</td>\n",
       "      <td>16.51cm</td>\n",
       "      <td>2340 x 1080 pixels</td>\n",
       "      <td>2.1</td>\n",
       "      <td>48mp</td>\n",
       "      <td>3G</td>\n",
       "      <td>android pie 9</td>\n",
       "      <td>oppo</td>\n",
       "    </tr>\n",
       "    <tr>\n",
       "      <th>2</th>\n",
       "      <td>redmi note 11 (starburst white, 64 gb)</td>\n",
       "      <td>4.2</td>\n",
       "      <td>13149</td>\n",
       "      <td>https://rukminim2.flixcart.com/image/312/312/x...</td>\n",
       "      <td>storage64 gbram4  systemandroid 11processor sp...</td>\n",
       "      <td>64.0</td>\n",
       "      <td>4.0</td>\n",
       "      <td>Android</td>\n",
       "      <td>Other</td>\n",
       "      <td>5000</td>\n",
       "      <td>16.33cm</td>\n",
       "      <td>2400 x 1080</td>\n",
       "      <td>2.4</td>\n",
       "      <td>50mp</td>\n",
       "      <td>4G</td>\n",
       "      <td>android 11processor speed2</td>\n",
       "      <td>redmi</td>\n",
       "    </tr>\n",
       "    <tr>\n",
       "      <th>3</th>\n",
       "      <td>oneplus nord ce 5g (blue void, 256 gb)</td>\n",
       "      <td>4.1</td>\n",
       "      <td>21999</td>\n",
       "      <td>https://rukminim2.flixcart.com/image/312/312/x...</td>\n",
       "      <td>storage256 gbram12  systemandroid q 11processo...</td>\n",
       "      <td>256.0</td>\n",
       "      <td>12.0</td>\n",
       "      <td>Android</td>\n",
       "      <td>Qualcomm</td>\n",
       "      <td>4500</td>\n",
       "      <td>16.33cm</td>\n",
       "      <td>2400 x 1080</td>\n",
       "      <td>2.4</td>\n",
       "      <td>64mp</td>\n",
       "      <td>5G</td>\n",
       "      <td>android q 11processor typequalcomm snapdragon ...</td>\n",
       "      <td>oneplus</td>\n",
       "    </tr>\n",
       "    <tr>\n",
       "      <th>6</th>\n",
       "      <td>redmi 10 power (sporty orange, 128 gb)</td>\n",
       "      <td>4.2</td>\n",
       "      <td>18996</td>\n",
       "      <td>https://rukminim2.flixcart.com/image/312/312/x...</td>\n",
       "      <td>storage128 gbram8  systemandroid 13processor s...</td>\n",
       "      <td>128.0</td>\n",
       "      <td>8.0</td>\n",
       "      <td>Android</td>\n",
       "      <td>Other</td>\n",
       "      <td>6000</td>\n",
       "      <td>17.02cm</td>\n",
       "      <td>2400 x 1080</td>\n",
       "      <td>2.4</td>\n",
       "      <td>50mp</td>\n",
       "      <td>4G</td>\n",
       "      <td>android 13processor speed2</td>\n",
       "      <td>redmi</td>\n",
       "    </tr>\n",
       "  </tbody>\n",
       "</table>\n",
       "</div>"
      ],
      "text/plain": [
       "                                        name  ratings  price  \\\n",
       "0  redmi note 12 pro 5g (onyx black, 128 gb)      4.2  23999   \n",
       "1        oppo f11 pro (aurora green, 128 gb)      4.5  20999   \n",
       "2     redmi note 11 (starburst white, 64 gb)      4.2  13149   \n",
       "3     oneplus nord ce 5g (blue void, 256 gb)      4.1  21999   \n",
       "6     redmi 10 power (sporty orange, 128 gb)      4.2  18996   \n",
       "\n",
       "                                              imgURL  \\\n",
       "0  https://rukminim2.flixcart.com/image/312/312/x...   \n",
       "1  https://rukminim2.flixcart.com/image/312/312/k...   \n",
       "2  https://rukminim2.flixcart.com/image/312/312/x...   \n",
       "3  https://rukminim2.flixcart.com/image/312/312/x...   \n",
       "6  https://rukminim2.flixcart.com/image/312/312/x...   \n",
       "\n",
       "                                              corpus  storage   ram   system  \\\n",
       "0  storage128 gbram6  systemandroid 12processor t...    128.0   6.0  Android   \n",
       "1  storage128 gbram6 gbexpandable storage256gb  s...    128.0   6.0  Android   \n",
       "2  storage64 gbram4  systemandroid 11processor sp...     64.0   4.0  Android   \n",
       "3  storage256 gbram12  systemandroid q 11processo...    256.0  12.0  Android   \n",
       "6  storage128 gbram8  systemandroid 13processor s...    128.0   8.0  Android   \n",
       "\n",
       "  processor battery_capacity display_size          resolution  \\\n",
       "0  MediaTek             5000      16.94cm  2400 x 1080 pixels   \n",
       "1  MediaTek             4000      16.51cm  2340 x 1080 pixels   \n",
       "2     Other             5000      16.33cm         2400 x 1080   \n",
       "3  Qualcomm             4500      16.33cm         2400 x 1080   \n",
       "6     Other             6000      17.02cm         2400 x 1080   \n",
       "\n",
       "   processor_speed camera network  \\\n",
       "0              2.6   50mp      5G   \n",
       "1              2.1   48mp      3G   \n",
       "2              2.4   50mp      4G   \n",
       "3              2.4   64mp      5G   \n",
       "6              2.4   50mp      4G   \n",
       "\n",
       "                                    operating_system    brand  \n",
       "0  android 12processor typemediatek dimensity 108...    redmi  \n",
       "1                                      android pie 9     oppo  \n",
       "2                         android 11processor speed2    redmi  \n",
       "3  android q 11processor typequalcomm snapdragon ...  oneplus  \n",
       "6                         android 13processor speed2    redmi  "
      ]
     },
     "execution_count": 61,
     "metadata": {},
     "output_type": "execute_result"
    }
   ],
   "source": [
    "mobiles_clean.head()"
   ]
  },
  {
   "cell_type": "code",
   "execution_count": 62,
   "id": "22c57baa-2629-4e51-bd09-5e1ac0a51502",
   "metadata": {},
   "outputs": [
    {
     "data": {
      "image/png": "[encoded data removed]",
      "text/plain": [
       "<Figure size 1000x600 with 1 Axes>"
      ]
     },
     "metadata": {},
     "output_type": "display_data"
    }
   ],
   "source": [
    "plt.figure(figsize=(10, 6))\n",
    "mobiles_clean['brand'].value_counts().plot(kind='bar',color='#ff9999')\n",
    "plt.title('Distribution of Brands')\n",
    "plt.xlabel('Brand')\n",
    "plt.ylabel('Count')\n",
    "plt.show()"
   ]
  },
  {
   "cell_type": "code",
   "execution_count": 63,
   "id": "e52f9624-5d38-483e-9264-ccc08424806c",
   "metadata": {},
   "outputs": [],
   "source": [
    "avg_price_brand = mobiles_clean.groupby('brand')['price'].mean()"
   ]
  },
  {
   "cell_type": "code",
   "execution_count": 64,
   "id": "922a8e35-4fd8-4a5d-8215-cfee86732431",
   "metadata": {},
   "outputs": [
    {
     "data": {
      "image/png": "[encoded data removed]",
      "text/plain": [
       "<Figure size 1000x600 with 1 Axes>"
      ]
     },
     "metadata": {},
     "output_type": "display_data"
    }
   ],
   "source": [
    "plt.figure(figsize=(10, 6))\n",
    "avg_price_brand.plot(kind='bar',color='#ff0080')\n",
    "plt.title('Average Price by Brand')\n",
    "plt.xlabel('Brand')\n",
    "plt.ylabel('Average Price')\n",
    "plt.show()"
   ]
  },
  {
   "cell_type": "code",
   "execution_count": 65,
   "id": "2395e476-cf28-4731-8fd9-b63fc82aad38",
   "metadata": {},
   "outputs": [],
   "source": [
    "avg_rating_brand = mobiles_clean.groupby('brand')['ratings'].mean()"
   ]
  },
  {
   "cell_type": "code",
   "execution_count": 66,
   "id": "fab5179f-254c-46ca-ad69-9c389a6d86fc",
   "metadata": {},
   "outputs": [
    {
     "data": {
      "image/png": "[encoded data removed]",
      "text/plain": [
       "<Figure size 1000x600 with 1 Axes>"
      ]
     },
     "metadata": {},
     "output_type": "display_data"
    }
   ],
   "source": [
    "plt.figure(figsize=(10, 6))\n",
    "avg_rating_brand.plot(kind='bar' ,color='#bf00ff')\n",
    "plt.title('Average Rating by Brand')\n",
    "plt.xlabel('Brand')\n",
    "plt.ylabel('Average Rating')\n",
    "plt.show()"
   ]
  },
  {
   "cell_type": "code",
   "execution_count": 67,
   "id": "f02daf84-7393-4abc-8b6c-2dc57afd3f81",
   "metadata": {},
   "outputs": [
    {
     "data": {
      "text/plain": [
       "Index(['name', 'ratings', 'price', 'imgURL', 'corpus', 'storage', 'ram',\n",
       "       'system', 'processor', 'battery_capacity', 'display_size', 'resolution',\n",
       "       'processor_speed', 'camera', 'network', 'operating_system', 'brand'],\n",
       "      dtype='object')"
      ]
     },
     "execution_count": 67,
     "metadata": {},
     "output_type": "execute_result"
    }
   ],
   "source": [
    "mobiles_clean.columns"
   ]
  },
  {
   "cell_type": "code",
   "execution_count": 68,
   "id": "0c3bccbd-e03a-4c07-8d20-11ab63fb5dec",
   "metadata": {},
   "outputs": [],
   "source": [
    "numeric_features = ['storage', 'ram', 'price', 'ratings', 'battery_capacity', 'processor_speed']\n",
    "categorical_features = ['system', 'processor', 'brand', 'camera', 'network', 'operating_system', 'display_size']"
   ]
  },
  {
   "cell_type": "code",
   "execution_count": 69,
   "id": "76b8b6d6-d4c0-4677-8940-91f619188400",
   "metadata": {},
   "outputs": [],
   "source": [
    "numeric_transformer = Pipeline(steps=[\n",
    "    ('imputer', SimpleImputer(strategy='median')),\n",
    "    ('scaler', StandardScaler())])"
   ]
  },
  {
   "cell_type": "code",
   "execution_count": 70,
   "id": "68633103-a697-4343-b048-75ee700a9722",
   "metadata": {},
   "outputs": [],
   "source": [
    "categorical_transformer = Pipeline(steps=[\n",
    "    ('imputer', SimpleImputer(strategy='constant', fill_value='missing')),\n",
    "   ('onehot', OneHotEncoder(handle_unknown='ignore'))])"
   ]
  },
  {
   "cell_type": "code",
   "execution_count": 71,
   "id": "dff128e5-e858-4efa-a844-933910a7028a",
   "metadata": {},
   "outputs": [],
   "source": [
    "preprocessor = ColumnTransformer(\n",
    "    transformers=[\n",
    "        ('num', numeric_transformer, numeric_features),\n",
    "        ('cat', categorical_transformer, categorical_features)])"
   ]
  },
  {
   "cell_type": "code",
   "execution_count": 72,
   "id": "9f864fff-0af2-4bda-b0bd-d3eafbb799ad",
   "metadata": {},
   "outputs": [
    {
     "name": "stdout",
     "output_type": "stream",
     "text": [
      "words max len in corpus is: 1199\n"
     ]
    }
   ],
   "source": [
    "max_len = 0\n",
    "for i in range(0, len(mobiles_clean['corpus'])):\n",
    "    try:\n",
    "        if len(mobiles_clean['corpus'][i]) > max_len:\n",
    "            max_len = len(mobiles_clean['corpus'][i])\n",
    "    except:\n",
    "        pass\n",
    "\n",
    "print(f'words max len in corpus is: {max_len}')"
   ]
  },
  {
   "cell_type": "code",
   "execution_count": 73,
   "id": "ce5a38cb-c4c4-4146-a65c-568ee093211c",
   "metadata": {},
   "outputs": [],
   "source": [
    "#convert text to matrix\n",
    "from sklearn.feature_extraction.text import CountVectorizer  "
   ]
  },
  {
   "cell_type": "code",
   "execution_count": 74,
   "id": "db778a31-a979-4f0f-9256-cdb1ce1ad7e3",
   "metadata": {},
   "outputs": [],
   "source": [
    "corpus = mobiles_clean['corpus'].astype(str).tolist() "
   ]
  },
  {
   "cell_type": "code",
   "execution_count": 75,
   "id": "0cb4239f-da66-408f-8947-43c75e808b1d",
   "metadata": {},
   "outputs": [],
   "source": [
    "#limit the number of words to consider\n",
    "cont_vect = CountVectorizer(max_features=1000)"
   ]
  },
  {
   "cell_type": "code",
   "execution_count": 76,
   "id": "eea6c410-889f-4372-a4dd-4dd736466a6e",
   "metadata": {},
   "outputs": [],
   "source": [
    "X = cont_vect.fit_transform(corpus)\n",
    "vectors = X.toarray()"
   ]
  },
  {
   "cell_type": "code",
   "execution_count": 77,
   "id": "26cf0e1a-183b-418a-a186-9c8e7f9cbf37",
   "metadata": {},
   "outputs": [],
   "source": [
    "feature_names=cont_vect.get_feature_names_out()"
   ]
  },
  {
   "cell_type": "code",
   "execution_count": 78,
   "id": "70f57793-eeaf-4032-9f9c-81f2d5c86001",
   "metadata": {},
   "outputs": [
    {
     "data": {
      "text/plain": [
       "array(['000', '02', '03', '04', '05', '05mm', '07', '07bother', '08',\n",
       "       '09', '0mp', '0processor', '10', '100', '1000', '100000',\n",
       "       '1000000', '1000mhzdisplay', '100mp', '103', '104', '106', '1080',\n",
       "       '1080processor', '1080resolution', '108mp', '10mp', '10processor',\n",
       "       '11', '1100', '11processor', '12', '120', '1200', '1200processor',\n",
       "       '120hz', '1280processor', '12mp', '12processor', '13', '1300',\n",
       "       '1300processor', '1330', '135', '135hz', '1380', '13mp',\n",
       "       '13processor', '1400', '144', '1440', '144hz', '144hzother',\n",
       "       '1480', '15', '1500', '1500nits', '1520', '1544', '1560resolution',\n",
       "       '16', '1600', '16000', '1600resolution', '1612', '1640', '16mp',\n",
       "       '18', '180', '180hz', '19', '1920hz', '1processor', '20',\n",
       "       '2000000', '200mp', '20mp', '21', '22', '23', '2340', '24', '240',\n",
       "       '2400', '2400resolution', '2408', '240hz', '2460', '24mp', '25mm',\n",
       "       '25mp', '26', '27', '28', '2d', '2g', '2ghzprocessor', '2k', '2mm',\n",
       "       '2mp', '2processor', '2x', '2xhd', '308display', '30hz', '32',\n",
       "       '32mm', '32mp', '33', '35', '36', '360', '37', '38', '39', '3d',\n",
       "       '3g', '3ghzprocessor', '3mp', '400', '4000000', '400nits', '401',\n",
       "       '405other', '40mp', '41', '420', '420nits', '425processor', '43',\n",
       "       '430', '430nit', '439processor', '44', '440', '441', '44mm',\n",
       "       '44mp', '45', '450', '4500000', '450processor', '460processor',\n",
       "       '46mm', '47', '48', '480', '480hz', '480nits', '48hz', '48mp',\n",
       "       '49', '4g', '4ghzprocessor', '4mp', '4processor', '50', '500',\n",
       "       '5000000', '500nit', '500nits', '505', '505display', '505other',\n",
       "       '506display', '509display', '50hz', '50mp', '51', '510other',\n",
       "       '512display', '515', '52', '53', '54', '55', '550', '56', '58',\n",
       "       '580', '59', '5d', '5g', '5ghzprocessor', '5gprocessor', '5mp',\n",
       "       '60', '600', '60000', '6020processor', '6080processor', '60hz',\n",
       "       '60mp', '61', '610', '610display', '612display', '615',\n",
       "       '616display', '618display', '619display', '62', '620display',\n",
       "       '625', '625processor', '636processor', '64', '640display',\n",
       "       '640other', '642ldisplay', '64mp', '65', '650', '650display', '66',\n",
       "       '660', '660display', '662processor', '665', '665processor', '67',\n",
       "       '675processor', '67mm', '680', '680processor', '69', '695',\n",
       "       '695processor', '6mm', '6processor', '70', '700', '700processor',\n",
       "       '7050processor', '70mm', '71', '712', '72', '720', '7200',\n",
       "       '720gprocessor', '720resolution', '73', '730display',\n",
       "       '730processor', '732gprocessor', '74', '740display', '75',\n",
       "       '750gprocessor', '76', '765gprocessor', '76mm', '77', '778g',\n",
       "       '778gprocessor', '78', '7m', '7mother', '7processor', '7t', '80',\n",
       "       '800', '800uprocessor', '81', '810', '8100processor',\n",
       "       '810processor', '82', '8200processor', '83', '84', '85', '850',\n",
       "       '850processor', '855', '855processor', '86', '865processor', '87',\n",
       "       '870processor', '87mm', '88', '888', '888processor', '89', '8mp',\n",
       "       '8processor', '90', '900', '900processor', '90hz', '90nit', '91',\n",
       "       '92', '920processor', '93', '94', '95', '950', '95mm', '96',\n",
       "       '9610processor', '9611', '9611processor', '97', '970', '98',\n",
       "       '9825processor', '98mm', '99', '9processor', '9xm', 'a20processor',\n",
       "       'a22processor', 'a25processor', 'a618display', 'a619display', 'aa',\n",
       "       'access', 'active', 'adaptive', 'adjustment', 'adreno',\n",
       "       'adrenodisplay', 'agc', 'aieprocessor', 'all', 'amazon', 'ambient',\n",
       "       'amoled', 'amoleddisplay', 'amoledhd', 'amoledother', 'an', 'and',\n",
       "       'android', 'anti', 'anywhere', 'app', 'area', 'arrangement',\n",
       "       'aspect', 'at', 'auo', 'back', 'based', 'bazel', 'bezel', 'bezels',\n",
       "       'billion', 'billionother', 'bit', 'blue', 'body', 'border',\n",
       "       'bottom', 'brightness', 'by', 'c3', 'camera', 'capacitive',\n",
       "       'capacity3000', 'capacity3010', 'capacity3075', 'capacity3080',\n",
       "       'capacity3180', 'capacity3200', 'capacity3260', 'capacity3300',\n",
       "       'capacity3400', 'capacity3500', 'capacity3700', 'capacity3765',\n",
       "       'capacity3800', 'capacity3900', 'capacity4000', 'capacity4015',\n",
       "       'capacity4020', 'capacity4025', 'capacity4030', 'capacity4050',\n",
       "       'capacity4100', 'capacity4115', 'capacity4200', 'capacity4230',\n",
       "       'capacity4250', 'capacity4300', 'capacity4400', 'capacity4500',\n",
       "       'capacity4520', 'capacity4600', 'capacity4700', 'capacity4800',\n",
       "       'capacity4830', 'capacity5000', 'capacity5020', 'capacity5160',\n",
       "       'capacity6000', 'capacity7000', 'care', 'cast', 'cell',\n",
       "       'celldisplay', 'cellother', 'certification', 'certified', 'clear',\n",
       "       'clocked', 'cm', 'coating', 'cof', 'cog', 'color', 'coloros',\n",
       "       'colorother', 'colors', 'colors1', 'colors10', 'colors16',\n",
       "       'colors16m', 'colors16mother', 'colors2kother', 'colorscontrast',\n",
       "       'colour', 'comfort', 'contrast', 'control', 'core',\n",
       "       'coreprocessor', 'corning', 'cover', 'coverage', 'covering',\n",
       "       'curved', 'cut', 'dc', 'dci', 'defination', 'degree', 'design',\n",
       "       'dewdrop', 'dimensity', 'dimming', 'dinorex', 'display',\n",
       "       'displaydisplay', 'displaygpuadreno', 'displaygpuarm',\n",
       "       'displaygpuqualcomm', 'displayhd', 'displaymate', 'displayother',\n",
       "       'dolby', 'dot', 'down', 'dsbj', 'dynamic', 'e3', 'e5', 'edge',\n",
       "       'edition', 'endless', 'enhancer', 'experience', 'exynos', 'eye',\n",
       "       'f01', 'face', 'features120', 'features1200nits', 'features120hz',\n",
       "       'features144', 'features1500', 'features16', 'features180',\n",
       "       'features180hz', 'features19', 'features2', 'features20',\n",
       "       'features2k', 'features480', 'features6', 'features60',\n",
       "       'features60hz', 'features89', 'features90', 'features90hz',\n",
       "       'featuresadaptive', 'featuresaspect', 'featuresbezel',\n",
       "       'featurescapacitive', 'featurescontrast', 'featurescorning',\n",
       "       'featuresdisplay', 'featuresdolby', 'featuresdual',\n",
       "       'featuresfullview', 'featureshalo', 'featureshdr', 'featureshdr10',\n",
       "       'featuresin', 'featuresips', 'featuresjdi', 'featuresnarrow',\n",
       "       'featuresnotch', 'featureson', 'featuresrefresh', 'featuresscreen',\n",
       "       'featurestouch', 'featuresupper', 'featuresvideo', 'fhd', 'film',\n",
       "       'fingerprint', 'for', 'fps', 'frame', 'from', 'front', 'full',\n",
       "       'fullview', 'funtouch', 'g25processor', 'g35processor',\n",
       "       'g37processor', 'g52', 'g52display', 'g52hd', 'g57', 'g57display',\n",
       "       'g610', 'g68', 'g68display', 'g70processor', 'g71', 'g72',\n",
       "       'g72display', 'g76', 'g76display', 'g77', 'g77display',\n",
       "       'g80processor', 'g85processor', 'g88processor', 'g90tprocessor',\n",
       "       'g95processor', 'g96processor', 'g99processor', 'game', 'gamut',\n",
       "       'gbexpandable', 'gbram1', 'gbram12', 'gbram16', 'gbram2', 'gbram3',\n",
       "       'gbram4', 'gbram6', 'gbram8', 'gbtotal', 'ge8230display', 'ge8320',\n",
       "       'ge8320display', 'ge8320other', 'ge8322display', 'gen',\n",
       "       'generation', 'gentle', 'gestures', 'gff', 'gg3', 'gg5', 'ghz',\n",
       "       'ghzprocessor', 'glass', 'go', 'goprocessor', 'gorilla', 'gpu',\n",
       "       'gpuadreno', 'gpuarm', 'gpuge8320display', 'gpuimagination',\n",
       "       'gpuimg', 'gpumali', 'gpupowervr', 'gpuqualcomm', 'halo', 'hbm',\n",
       "       'hd', 'hdgpuadreno', 'hdgpuarm', 'hdgpumali', 'hdgpuqualcomm',\n",
       "       'hdr', 'hdr10', 'helio', 'high', 'hios', 'hole', 'holitech', 'hp8',\n",
       "       'hz', 'immersive', 'improved', 'in', 'incell', 'inch', 'increase',\n",
       "       'infinity', 'ips', 'ipsdisplay', 'ipsother', 'is', 'jdi', 'kitkat',\n",
       "       'layer', 'lcd', 'lcddisplay', 'lcdhd', 'lcdother', 'left',\n",
       "       'lenses', 'level', 'light', 'local', 'lock', 'lollipop', 'low',\n",
       "       'lower', 'ltps', 'main', 'mali', 'marshmallow', 'material', 'max',\n",
       "       'maximum', 'mc10display', 'mc2', 'mc2display', 'mc3display', 'mc4',\n",
       "       'mc4display', 'mc5display', 'mc6display', 'mc9display', 'mediatek',\n",
       "       'memc', 'memory128gb', 'memory256gb', 'memory32gb', 'memory64gb',\n",
       "       'mhz', 'mhzdisplay', 'mhzother', 'million', 'millionother', 'min',\n",
       "       'minimum', 'mirror', 'miui', 'mm', 'mn228', 'mobile', 'mode',\n",
       "       'modules', 'more', 'mother', 'motion', 'movies', 'mp12display',\n",
       "       'mp1display', 'mp2', 'mp2display', 'mp3', 'mp3display',\n",
       "       'mp4display', 'mp5display', 'msm450', 'mt6739processor', 'mt6750',\n",
       "       'mt6762processor', 'mt6765', 'mt6768', 'mt6769h', 'mt6769z',\n",
       "       'mt6771v', 'mt6833v', 'mtk6737', 'mtk6762', 'multi', 'nano',\n",
       "       'narrow', 'neg', 'netflix', 'never', 'new', 'next', 'night',\n",
       "       'nighttime', 'nit', 'nits', 'nm', 'no', 'normal', 'notch',\n",
       "       'nougat', 'ntsc', 'octa', 'octacoreprocessor', 'of', 'off', 'oled',\n",
       "       'oleddisplay', 'oleophobic', 'oleophophic', 'oleophpbic', 'on',\n",
       "       'oncell', 'oneplus', 'oreo', 'os', 'other', 'outside', 'over',\n",
       "       'oxygen', 'oxygenos', 'oxygenosprocessor', 'p22', 'p22processor',\n",
       "       'p2i', 'p3', 'p35', 'p35processor', 'p60', 'p70', 'p70processor',\n",
       "       'p95processor', 'panda', 'panel', 'peak', 'percent', 'peripheral',\n",
       "       'pet', 'phone', 'photos', 'pie', 'pixel', 'pixelgpuadreno',\n",
       "       'pixelresolution', 'pixels', 'pixelsdisplay', 'pixelsgpuadreno',\n",
       "       'pixelsgpuarm', 'pixelsresolution', 'platformprocessor',\n",
       "       'playback', 'plus', 'plushd', 'plusprocessor', 'points', 'poled',\n",
       "       'powervr', 'powervrdisplay', 'ppi', 'pro', 'process', 'processor',\n",
       "       'processorprocessor', 'produces', 'proof', 'proportion',\n",
       "       'protected', 'protection', 'protective', 'protector', 'punch',\n",
       "       'pwm', 'pwm2160hz', 'quad', 'rate', 'ratio', 'rdother', 'reading',\n",
       "       'reduction', 'refresh', 'repellent', 'resistant', 'resolution',\n",
       "       'resolution1080', 'resolution1080x2400', 'resolution1280',\n",
       "       'resolution1440', 'resolution1520', 'resolution1560',\n",
       "       'resolution1600', 'resolution1600x720', 'resolution1612',\n",
       "       'resolution1612x720', 'resolution1640', 'resolution1650',\n",
       "       'resolution1650x720', 'resolution1920', 'resolution1920x1080',\n",
       "       'resolution2160', 'resolution2160x1080', 'resolution2176',\n",
       "       'resolution2208', 'resolution2280', 'resolution2340',\n",
       "       'resolution2340x1080', 'resolution2376', 'resolution2400',\n",
       "       'resolution2400x1080', 'resolution2404', 'resolution2408',\n",
       "       'resolution2408x1080', 'resolution2412', 'resolution2460',\n",
       "       'resolution2480', 'resolution2520', 'resolution2640',\n",
       "       'resolution2772x1240', 'resolution2960', 'resolution3088',\n",
       "       'resolution3120', 'resolution3216', 'resolution3216x1440',\n",
       "       'resolution720', 'resolution720x1600', 'resolution720x2408',\n",
       "       'response', 'responsive', 'rgb', 'rheinland', 'right', 's5e3830',\n",
       "       's5e8535', 'safer', 'samoled', 'sampling', 'samsung', 'saturation',\n",
       "       'sc9863a1processor', 'sc9863aprocessor', 'scan', 'schott',\n",
       "       'scratch', 'screen', 'sdm450', 'sealing', 'seamless', 'sensor',\n",
       "       'sgs', 'si', 'side', 'sides', 'simply', 'size', 'size12', 'size13',\n",
       "       'size14', 'size15', 'size16', 'size17', 'size19', 'slim',\n",
       "       'sm6150processor', 'sm6225', 'sm6375', 'smart', 'smartphone',\n",
       "       'smooth', 'snapdragon', 'space', 'speed1', 'speed120', 'speed2',\n",
       "       'speed3', 'speed90', 'splash', 'srf', 'srgb', 'standard', 'static',\n",
       "       'storage128', 'storage128gb', 'storage16', 'storage1tb',\n",
       "       'storage256', 'storage256gb', 'storage2tb', 'storage32',\n",
       "       'storage32gb', 'storage512', 'storage512b', 'storage512gb',\n",
       "       'storage64', 'storage8', 'stroboscopic', 'sunlight', 'sunshine',\n",
       "       'super', 'supplier', 'support', 'supports', 'supportyes',\n",
       "       'supportyesdisplay', 'supportyesother', 'sync', 'systemandroid',\n",
       "       'systemandroidprocessor', 't2x', 't606processor', 't610processor',\n",
       "       't612processor', 't616processor', 't830', 't860', 'technology',\n",
       "       'temperature', 'texture', 'tft', 'tftother', 'that', 'the', 'to',\n",
       "       'top', 'touch', 'tp', 'triple', 'truecolor', 'trymdisplay', 'tsr',\n",
       "       'tuv', 'typ', 'type', 'type2', 'typeamoled', 'typeamoleddisplay',\n",
       "       'typeamoledother', 'typecapacitive', 'typedimensity',\n",
       "       'typedotdisplayhd', 'typedynamic', 'typeexynos', 'typefhd',\n",
       "       'typefluid', 'typefull', 'typehd', 'typehddisplay',\n",
       "       'typehdgpuadreno', 'typehdgpuarm', 'typehdgpumali', 'typehelio',\n",
       "       'typein', 'typeips', 'typeipsother', 'typelcdhd', 'typelcdother',\n",
       "       'typemediatek', 'typemt6763tprocessor', 'typemtk', 'typeocta',\n",
       "       'typepls', 'typequad', 'typequalcomm', 'typesamsung', 'typesec',\n",
       "       'typesnapdragon', 'typesuper', 'typetft', 'typetftdisplay',\n",
       "       'typetftother', 'typeunisoc', 'typical', 'tüv', 'ultra',\n",
       "       'ums9230processor', 'under', 'unlock', 'up', 'upper', 'upto',\n",
       "       'usb', 'v12', 'value', 'victus', 'view', 'vision', 'visuals',\n",
       "       'vivid', 'water', 'waterdrop', 'wide', 'will', 'with', 'xensation',\n",
       "       'you'], dtype=object)"
      ]
     },
     "execution_count": 78,
     "metadata": {},
     "output_type": "execute_result"
    }
   ],
   "source": [
    "feature_names"
   ]
  },
  {
   "cell_type": "code",
   "execution_count": 79,
   "id": "cdd4c913-775a-4611-a50c-a0c27d957812",
   "metadata": {},
   "outputs": [
    {
     "data": {
      "text/plain": [
       "(2000, 2000)"
      ]
     },
     "execution_count": 79,
     "metadata": {},
     "output_type": "execute_result"
    }
   ],
   "source": [
    "#from vectors matrix shape\n",
    "similarity = cosine_similarity(vectors)\n",
    "similarity.shape"
   ]
  },
  {
   "cell_type": "code",
   "execution_count": 80,
   "id": "863467f4-714d-4bc1-bf6e-272638ea0eb2",
   "metadata": {},
   "outputs": [
    {
     "data": {
      "text/plain": [
       "array([0.3345748 , 0.17429787, 0.53136893, ..., 0.57564968, 0.2732972 ,\n",
       "       0.37283655])"
      ]
     },
     "execution_count": 80,
     "metadata": {},
     "output_type": "execute_result"
    }
   ],
   "source": [
    "#cosine similarity between the 4th row and all other rows, including itself\n",
    "similarity[3]"
   ]
  },
  {
   "cell_type": "code",
   "execution_count": 81,
   "id": "2229ab11-b3d7-4bb1-bd7f-9716e50e5dc2",
   "metadata": {},
   "outputs": [
    {
     "data": {
      "text/plain": [
       "[(59, 0.9999999999999997),\n",
       " (240, 0.9999999999999997),\n",
       " (481, 0.9850746268656714),\n",
       " (1147, 0.9850746268656714),\n",
       " (368, 0.970149253731343),\n",
       " (804, 0.970149253731343),\n",
       " (1364, 0.970149253731343),\n",
       " (449, 0.9468131937613654),\n",
       " (881, 0.9468131937613654),\n",
       " (1209, 0.9468131937613654)]"
      ]
     },
     "execution_count": 81,
     "metadata": {},
     "output_type": "execute_result"
    }
   ],
   "source": [
    "#sorts the similarity scores of the 1st row with respect to all other rows, excluding the row itself\n",
    "#retrieves the top 10 most similar rows\n",
    "sorted(list(enumerate(similarity[0])),reverse=True,key=lambda x:x[1])[1:11]"
   ]
  },
  {
   "cell_type": "code",
   "execution_count": 82,
   "id": "31bbcfdb-0cf0-44cd-9427-a55c1d7496c0",
   "metadata": {},
   "outputs": [],
   "source": [
    "def recommend(mobile):\n",
    "    # Find the index of the given mobile\n",
    "    mobile_indices = mobiles_clean[mobiles_clean['name'] == mobile].index\n",
    "    \n",
    "    # Check if the mobile exists in the DataFrame\n",
    "    if mobile_indices.empty:\n",
    "        print(f\"The mobile '{mobile}' is not found in the database.\")\n",
    "        return\n",
    "    \n",
    "    mobile_index = mobile_indices[0]  # Get the first index if it exists\n",
    "    \n",
    "    # Retrieve similarity scores\n",
    "    similarity_array = similarity[mobile_index]\n",
    "    \n",
    "    # Find top 10 similar mobiles\n",
    "    similar_10_mobiles = sorted(list(enumerate(similarity_array)), reverse=True, key=lambda x: x[1])[1:11]\n",
    "    \n",
    "    # Print the names of the top 10 similar mobiles\n",
    "    for i in similar_10_mobiles:\n",
    "        print(mobiles_clean['name'].iloc[i[0]])"
   ]
  },
  {
   "cell_type": "code",
   "execution_count": 83,
   "id": "118fb35f-55c2-4fa2-9c76-fa29725775a3",
   "metadata": {},
   "outputs": [
    {
     "name": "stdout",
     "output_type": "stream",
     "text": [
      "motorola e7 power (coral red, 32 gb)\n",
      "motorola e7 power (tahiti blue, 64 gb)\n",
      "motorola e7 power (coral red, 64 gb)\n",
      "motorola g8 power lite (arctic blue, 64 gb)\n",
      "vivo y15s (wave green, 32 gb)\n",
      "vivo y15s (mystic blue, 32 gb)\n",
      "vivo y3s (mint green, 32 gb)\n",
      "vivo y3s (pearl white, 32 gb)\n",
      "vivo y3s (starry blue, 32 gb)\n",
      "motorola g9 (sapphire blue, 64 gb)\n"
     ]
    }
   ],
   "source": [
    "recommend('redmi note 12 pro 5g (stardust purple, 128 gb)')"
   ]
  },
  {
   "cell_type": "code",
   "execution_count": 84,
   "id": "c34bd0b1",
   "metadata": {},
   "outputs": [
    {
     "name": "stdout",
     "output_type": "stream",
     "text": [
      "Predicted relevance labels based on cosine similarity: [0 0 0 ... 0 0 0]\n",
      "True relevance labels based on specs similarity: [0, 0, 0, 1, 0, 0, 0, 0, 0, 0, 0, 0, 1, 1, 0, 0, 0, 1, 0, 0, 0, 0, 0, 0, 0, 0, 0, 0, 0, 0, 0, 0, 0, 0, 0, 0, 0, 0, 0, 0, 0, 0, 0, 0, 0, 0, 0, 0, 0, 0, 0, 0, 0, 0, 0, 0, 0, 0, 0, 0, 0, 0, 0, 1, 0, 0, 1, 0, 0, 0, 0, 0, 0, 0, 0, 0, 0, 0, 0, 0, 0, 0, 0, 0, 0, 0, 0, 0, 0, 0, 0, 0, 0, 0, 0, 0, 0, 0, 0, 0, 0, 0, 0, 0, 0, 0, 0, 0, 1, 0, 0, 0, 0, 0, 0, 0, 0, 0, 0, 0, 0, 0, 0, 0, 0, 0, 0, 0, 0, 0, 0, 0, 0, 0, 0, 0, 0, 0, 0, 0, 0, 0, 0, 0, 0, 0, 0, 0, 0, 0, 0, 0, 0, 0, 0, 0, 0, 0, 0, 0, 0, 0, 0, 0, 0, 0, 0, 0, 0, 0, 0, 1, 0, 0, 0, 0, 0, 0, 1, 0, 0, 0, 0, 0, 0, 0, 0, 0, 0, 0, 0, 0, 0, 0, 0, 0, 0, 0, 0, 0, 0, 0, 0, 0, 0, 0, 0, 0, 0, 0, 0, 0, 0, 0, 0, 0, 0, 0, 1, 0, 0, 0, 0, 0, 0, 0, 0, 0, 0, 0, 0, 0, 0, 0, 0, 0, 0, 0, 0, 0, 0, 0, 0, 0, 0, 0, 0, 0, 0, 0, 0, 0, 0, 0, 0, 0, 0, 0, 0, 0, 0, 0, 0, 0, 0, 0, 1, 0, 1, 0, 0, 0, 0, 0, 0, 0, 0, 0, 0, 0, 0, 0, 0, 0, 0, 0, 0, 0, 0, 0, 0, 0, 0, 0, 0, 0, 0, 0, 0, 0, 0, 0, 0, 0, 0, 0, 0, 0, 0, 0, 0, 0, 0, 0, 0, 0, 0, 0, 0, 0, 0, 0, 0, 1, 0, 0, 0, 0, 0, 0, 0, 0, 0, 0, 0, 0, 0, 0, 0, 0, 0, 0, 0, 0, 0, 0, 0, 0, 0, 0, 0, 0, 0, 0, 0, 0, 0, 0, 0, 0, 0, 0, 0, 0, 0, 0, 0, 0, 0, 0, 0, 0, 0, 1, 0, 1, 0, 0, 0, 0, 0, 0, 0, 0, 0, 0, 0, 0, 0, 0, 0, 0, 0, 0, 0, 0, 0, 0, 0, 0, 0, 0, 0, 0, 0, 0, 0, 0, 0, 0, 0, 0, 0, 0, 0, 0, 0, 0, 0, 0, 0, 0, 0, 0, 0, 0, 0, 0, 0, 0, 0, 0, 0, 0, 0, 0, 1, 0, 0, 0, 0, 0, 0, 0, 0, 0, 0, 0, 0, 0, 0, 0, 0, 0, 0, 0, 0, 0, 0, 0, 0, 0, 0, 0, 0, 0, 0, 0, 0, 1, 0, 0, 0, 0, 0, 0, 0, 0, 0, 0, 0, 0, 0, 0, 0, 1, 0, 0, 0, 0, 0, 0, 0, 0, 0, 0, 0, 0, 0, 0, 0, 1, 0, 0, 0, 0, 0, 0, 0, 0, 0, 0, 0, 0, 0, 0, 0, 0, 0, 0, 0, 0, 0, 0, 0, 0, 0, 1, 0, 0, 0, 0, 0, 0, 0, 0, 0, 0, 0, 0, 0, 0, 0, 0, 0, 0, 0, 0, 0, 0, 0, 0, 0, 0, 0, 0, 0, 1, 0, 0, 0, 0, 0, 0, 0, 0, 0, 0, 0, 0, 0, 0, 0, 0, 0, 0, 0, 0, 0, 0, 0, 0, 0, 0, 0, 0, 0, 0, 0, 0, 0, 0, 0, 0, 0, 0, 0, 0, 0, 0, 0, 0, 0, 1, 0, 0, 0, 0, 0, 0, 0, 0, 0, 0, 0, 0, 0, 0, 0, 0, 0, 0, 0, 0, 0, 0, 0, 0, 0, 0, 0, 0, 1, 0, 0, 0, 0, 0, 0, 0, 0, 0, 0, 0, 0, 0, 0, 0, 0, 0, 0, 0, 0, 0, 0, 0, 0, 0, 1, 0, 0, 0, 0, 0, 0, 0, 0, 0, 0, 0, 0, 1, 0, 0, 0, 0, 0, 0, 0, 0, 0, 0, 0, 1, 0, 0, 0, 0, 0, 0, 0, 0, 0, 0, 0, 0, 0, 0, 0, 0, 0, 0, 0, 0, 0, 0, 0, 0, 0, 0, 0, 0, 0, 0, 0, 0, 0, 0, 0, 0, 0, 0, 0, 0, 0, 0, 0, 0, 0, 0, 0, 1, 0, 0, 0, 0, 0, 0, 0, 0, 0, 0, 0, 0, 0, 0, 0, 0, 0, 0, 0, 1, 0, 0, 0, 0, 0, 0, 0, 0, 0, 0, 0, 1, 0, 0, 0, 0, 0, 1, 0, 0, 0, 0, 0, 0, 0, 0, 0, 0, 1, 0, 0, 0, 0, 0, 0, 0, 0, 0, 0, 1, 0, 0, 0, 0, 0, 0, 0, 1, 0, 0, 0, 0, 0, 1, 0, 0, 0, 0, 0, 0, 0, 0, 0, 0, 0, 0, 0, 0, 0, 0, 0, 0, 0, 0, 0, 0, 0, 0, 0, 0, 0, 0, 0, 0, 0, 0, 0, 0, 0, 0, 0, 1, 0, 0, 0, 0, 0, 0, 0, 0, 0, 0, 0, 0, 0, 0, 0, 0, 0, 0, 0, 0, 0, 0, 0, 0, 0, 0, 0, 0, 0, 0, 0, 0, 0, 0, 0, 1, 0, 0, 0, 0, 0, 0, 0, 0, 0, 0, 0, 0, 0, 0, 0, 0, 0, 0, 0, 0, 0, 0, 0, 1, 0, 0, 0, 0, 0, 0, 0, 0, 0, 0, 0, 0, 0, 0, 0, 0, 0, 0, 0, 0, 0, 0, 0, 0, 0, 0, 0, 0, 0, 0, 0, 0, 0, 0, 0, 0, 0, 1, 0, 1, 0, 0, 0, 0, 0, 0, 0, 0, 0, 0, 0, 0, 0, 0, 0, 0, 0, 0, 0, 0, 0, 0, 0, 0, 0, 0, 0, 0, 0, 0, 0, 0, 0, 0, 0, 0, 0, 0, 0, 0, 0, 0, 0, 0, 0, 0, 0, 0, 0, 0, 0, 0, 0, 0, 0, 0, 0, 0, 0, 0, 0, 0, 0, 0, 0, 1, 0, 0, 0, 0, 0, 0, 1, 0, 0, 0, 0, 0, 0, 0, 0, 0, 0, 0, 0, 0, 0, 0, 0, 0, 0, 0, 0, 1, 0, 0, 0, 0, 0, 0, 0, 0, 0, 0, 0, 0, 0, 1, 0, 0, 0, 0, 0, 0, 0, 0, 0, 0, 0, 0, 0, 0, 0, 0, 0, 0, 0, 0, 1, 0, 0, 0, 0, 0, 0, 0, 0, 0, 0, 0, 0, 0, 0, 0, 0, 0, 0, 0, 0, 0, 0, 0, 0, 0, 0, 0, 0, 0, 0, 0, 0, 0, 0, 0, 0, 0, 0, 0, 0, 0, 0, 0, 0, 0, 0, 0, 0, 0, 0, 0, 0, 0, 0, 0, 0, 0, 0, 0, 0, 0, 0, 0, 1, 0, 0, 0, 0, 0, 0, 0, 0, 0, 0, 0, 0, 0, 0, 0, 0, 0, 0, 0, 0, 0, 0, 0, 0, 0, 0, 0, 0, 0, 0, 0, 1, 0, 0, 0, 0, 0, 0, 0, 0, 0, 0, 0, 0, 0, 0, 0, 0, 0, 0, 0, 0, 0, 0, 0, 0, 0, 0, 0, 0, 0, 0, 0, 0, 0, 0, 0, 0, 0, 0, 0, 0, 0, 0, 0, 0, 0, 0, 1, 0, 0, 0, 0, 0, 0, 0, 0, 0, 1, 0, 0, 0, 0, 0, 0, 0, 0, 0, 0, 0, 0, 0, 0, 0, 0, 0, 0, 1, 0, 0, 0, 0, 0, 0, 0, 0, 0, 0, 0, 0, 0, 0, 0, 0, 0, 0, 0, 0, 0, 0, 0, 0, 0, 0, 0, 1, 0, 0, 1, 0, 0, 0, 0, 0, 0, 0, 0, 0, 0, 0, 0, 0, 0, 0, 0, 0, 0, 0, 0, 0, 0, 0, 0, 0, 0, 0, 0, 0, 0, 0, 0, 0, 0, 0, 0, 1, 0, 0, 0, 0, 0, 0, 0, 0, 0, 0, 0, 1, 0, 0, 0, 0, 0, 0, 0, 0, 0, 0, 0, 0, 0, 0, 0, 0, 0, 0, 0, 0, 0, 0, 0, 0, 0, 0, 0, 0, 0, 0, 0, 0, 0, 0, 0, 0, 0, 0, 0, 0, 0, 0, 0, 0, 0, 0, 0, 0, 0, 0, 0, 0, 0, 0, 0, 0, 0, 0, 0, 0, 0, 0, 0, 0, 0, 0, 0, 0, 0, 0, 0, 0, 0, 0, 0, 0, 0, 0, 0, 0, 0, 0, 0, 0, 0, 0, 0, 0, 0, 0, 0, 0, 0, 0, 0, 0, 0, 0, 0, 0, 0, 0, 0, 0, 0, 0, 0, 0, 0, 0, 0, 0, 0, 0, 0, 0, 0, 0, 0, 0, 0, 0, 0, 0, 0, 0, 0, 0, 0, 0, 0, 0, 0, 0, 0, 0, 0, 0, 0, 0, 0, 0, 0, 0, 0, 0, 0, 0, 1, 0, 0, 0, 0, 0, 0, 0, 0, 0, 0, 0, 0, 0, 0, 0, 0, 0, 0, 0, 0, 0, 0, 0, 0, 0, 0, 0, 0, 0, 0, 0, 0, 0, 0, 0, 0, 0, 0, 0, 0, 0, 0, 0, 0, 0, 0, 0, 0, 0, 0, 0, 0, 0, 0, 0, 0, 0, 0, 0, 0, 0, 0, 0, 0, 0, 0, 0, 0, 0, 0, 0, 0, 0, 0, 0, 0, 1, 0, 0, 0, 0, 0, 0, 0, 0, 0, 0, 0, 0, 0, 0, 0, 0, 0, 0, 0, 0, 0, 0, 0, 0, 0, 0, 0, 0, 0, 0, 0, 0, 0, 0, 0, 0, 0, 0, 0, 0, 0, 0, 0, 0, 0, 0, 1, 0, 0, 0, 0, 0, 0, 0, 0, 0, 0, 0, 0, 0, 0, 0, 0, 0, 0, 0, 0, 0, 0, 0, 0, 0, 0, 0, 0, 0, 0, 0, 0, 0, 0, 0, 0, 0, 0, 0, 0, 0, 0, 0, 1, 0, 0, 0, 0, 0, 0, 0, 0, 0, 0, 0, 0, 0, 0, 0, 0, 0, 0, 0, 0, 0, 0, 0, 0, 1, 0, 1, 0, 0, 0, 0, 0, 0, 0, 0, 0, 0, 0, 0, 0, 0, 0, 0, 0, 0, 0, 0, 0, 0, 0, 0, 0, 0, 0, 0, 0, 0, 0, 0, 0, 0, 1, 0, 0, 0, 0, 0, 0, 0, 0, 0, 0, 1, 0, 0, 0, 0, 0, 0, 0, 0, 0, 0, 1, 0, 0, 0, 0, 0, 0, 0, 0, 0, 0, 0, 0, 0, 0, 0, 0, 0, 0, 0, 1, 0, 0, 0, 0, 0, 0, 0, 0, 0, 0, 0, 0, 0, 0, 0, 0, 0, 0, 0, 0, 0, 0, 0, 0, 0, 0, 0, 1, 0, 0, 0, 0, 0, 0, 0, 0, 1, 0, 0, 0, 0, 0, 0, 0, 0, 0, 0, 0, 0, 0, 0, 0, 0, 0, 0, 0, 0, 0, 0, 0, 1, 0, 0, 0, 0, 0, 0, 0, 0, 0, 0, 0, 0, 0, 0, 0, 0, 0, 0, 0, 0, 0, 0, 0, 0, 0, 0, 0, 1, 0, 0, 0, 0, 0, 0, 0, 0, 0, 1, 0, 0, 0, 0, 0, 0, 0, 1, 0, 0, 0, 0, 0, 0, 0, 0, 0, 0, 0, 0, 0, 0, 0, 0, 0, 0, 0, 0, 0, 0, 1, 1, 0, 0, 0, 0, 0, 0, 0, 0, 0, 0, 1, 0, 0, 0, 0, 0, 0, 0, 0, 0, 0, 0, 0, 0, 0, 0, 0, 0, 0, 0, 0, 0, 0, 0, 0, 0, 0, 0, 0, 0, 0, 1, 0, 0, 0, 0, 0, 0, 0, 0, 0, 1, 0, 0, 0, 0, 0, 0, 0, 0, 0, 0, 0, 0, 0, 0, 0, 0, 0, 0, 0, 0, 0, 0, 0, 0, 0, 0, 0, 0, 0, 0, 0, 0, 0, 0, 0, 0, 0, 0, 0, 0, 0, 0, 0, 0, 0, 0, 0, 0, 0, 0, 0, 0, 1, 0, 0, 0, 0, 0, 0, 0, 0, 0, 1, 0, 0, 0, 0, 0, 0, 0, 0]\n"
     ]
    }
   ],
   "source": [
    "# Get cosine similarity scores for a specific mobile \n",
    "target_mobile_index = 3\n",
    "predicted_scores = similarity[target_mobile_index]\n",
    "\n",
    "# Set a relevance threshold \n",
    "threshold = 0.75\n",
    "y_pred = np.where(predicted_scores >= threshold, 1, 0)  # Predicted relevant (1) or irrelevant (0)\n",
    "\n",
    "# Define a function to compute true relevance based on similar specs\n",
    "def get_relevance(target_mobile, comparison_mobile):\n",
    "    score = 0\n",
    "    if target_mobile['ram'] == comparison_mobile['ram']:\n",
    "        score += 0.25  # Add weight for RAM similarity\n",
    "    if target_mobile['storage'] == comparison_mobile['storage']:\n",
    "        score += 0.25  # Add weight for Storage similarity\n",
    "    if target_mobile['processor'] == comparison_mobile['processor']:\n",
    "        score += 0.25  # Add weight for Processor similarity\n",
    "    if target_mobile['brand'] == comparison_mobile['brand']:\n",
    "        score += 0.25  # Add weight for Brand similarity\n",
    "\n",
    "    # If the similarity score is 1, consider it relevant\n",
    "    return 1 if score >= 0.75 else 0\n",
    "\n",
    "# Generate true relevance labels (y_true) based on specs similarity for all other mobiles\n",
    "target_mobile = mobiles_clean.iloc[target_mobile_index]\n",
    "y_true = [get_relevance(target_mobile, mobiles_clean.iloc[i]) for i in range(len(mobiles_clean))]\n",
    "\n",
    "# Print Predicted and True Labels\n",
    "print(f\"Predicted relevance labels based on cosine similarity: {y_pred}\")\n",
    "print(f\"True relevance labels based on specs similarity: {y_true}\")"
   ]
  },
  {
   "cell_type": "code",
   "execution_count": 85,
   "id": "a524291b",
   "metadata": {},
   "outputs": [
    {
     "name": "stdout",
     "output_type": "stream",
     "text": [
      "              precision    recall  f1-score   support\n",
      "\n",
      "  irrelevant       0.96      1.00      0.98      1924\n",
      "    relevant       1.00      0.01      0.03        76\n",
      "\n",
      "    accuracy                           0.96      2000\n",
      "   macro avg       0.98      0.51      0.50      2000\n",
      "weighted avg       0.96      0.96      0.94      2000\n",
      "\n",
      "MAE: 0.31256262482151304, RMSE: 0.33061542882446876\n"
     ]
    }
   ],
   "source": [
    "from sklearn.metrics import classification_report, mean_absolute_error, mean_squared_error\n",
    "\n",
    "# Evaluate Precision, Recall, and F1-Score\n",
    "print(classification_report(y_true, y_pred, target_names=['irrelevant', 'relevant']))\n",
    "\n",
    "# Evaluate MAE and RMSE (if you're working with continuous similarity scores as well)\n",
    "mae = mean_absolute_error(y_true, predicted_scores)  # Using continuous similarity for y_pred\n",
    "rmse = np.sqrt(mean_squared_error(y_true, predicted_scores))\n",
    "\n",
    "print(f\"MAE: {mae}, RMSE: {rmse}\")"
   ]
  },
  {
   "cell_type": "code",
   "execution_count": 86,
   "id": "c1ea17ff-5619-4796-9d83-be0cfbbcd071",
   "metadata": {},
   "outputs": [],
   "source": [
    "def random_values(df:mobiles_clean,col_name:str,total=9):\n",
    "    if col_name not in mobiles_clean.columns:\n",
    "        raise ValueError(f\"Column '{col_name}' does not exist in the DataFrame.\")\n",
    "    \n",
    "    if mobiles_clean.empty:\n",
    "        raise ValueError(\"The DataFrame is empty.\")\n",
    "        \n",
    "    for i in range(0,total):\n",
    "        index = np.random.randint(mobiles_clean.shape[0])\n",
    "        print(index,':',mobiles_clean[col_name].iloc[index])  "
   ]
  },
  {
   "cell_type": "code",
   "execution_count": 87,
   "id": "aeb8ae50-f600-4dd8-9487-bff4f7010cdf",
   "metadata": {},
   "outputs": [
    {
     "name": "stdout",
     "output_type": "stream",
     "text": [
      "1720 : storage64 gbram4  systemandroid pie 9processor typequalcomm snapdragon 665 2 ghzprocessor speed2 12mp 8mp 2mp 2mp 12mp 8mp 2mp 2mp 12mp 2mp 8mp 4g capacity5000 display size16.56 cm (6.52 inch)resolution720 x 1600 pixelsresolution typehd+gpuadreno 610display colors16.7mother display featuresin-cell touch panel technology, screen texture: lcd, bezel: aa to tp edge - 1.98?l/r)/2.44?up)/6.6?down), aa to phone edge - 3.73?l/r)/4.66?up)/8.82?down), screen sealing process: cog, screen ratio: 20:9, screen to body ratio: 89.8%, screen contrast: 800:1 min, screen refresh rate: 60hz, color saturation: ntsc 70% typ, maximum brightness: 400nits min, 400nits typ, touch screen glass material: gg3, 2.5d, touch sampling rate:120hz, touch points: max 10 points\n",
      "192 : storage128 gbram6 gbexpandable storage1tb  systemandroid 11processor typeexynos 850 (s5e3830)processor speed2 48mp 5mp 2mp 2mp 48mp 5mp 2mp 2mp 8mp 4g capacity5000 display size16.51 cm (6.5 inch)resolution1600 x 720 pixelsresolution typehd+display typehd+ lcd tft displaydisplay colors16m\n",
      "1721 : storage128 gbram8  systemandroid 10processor typemediatek dimensity 1000 plusprocessor speed2.6 64mp 8mp 2mp 2mp 64mp 8mp 2mp 2mp 64mp 8mp 2mp 2mp 32mp 32mp 5g capacity4500 display size16.64 cm (6.55 inch)resolution2400 x 1080 pixelsresolution typefull hd+gpuarm g77 mc9display typefull hd+ super amoled displaydisplay colors16.7mother display featurescop screen sealing process, 2.5d corning gg5 glass, 60hz/120hz refresh rate, 20:9 screen ratio, 91.75% screen-to-body ratio, 120hz/240hz touch sampling rate, screen contrast: 6000000:1, 1200nit brightness, color saturation: 103% ntsc (typ), 94% ntsc (min), sunlight screen support\n",
      "1725 : storage256 gbram12  systemandroid q 11processor speed2.4 48mp 5g capacity4500 display size16.81 cm (6.62 inch)resolution2400 x 1080$$pixel\n",
      "42 : storage64 gbram4 gbexpandable storage256gb  systemandroid pie 9.0processor typequalcomm snapdragon 660 aieprocessor speed2.2 48mp 5mp 48mp 48mp 5mp 5mp 13mp 3g capacity4000 display size16.0 cm (6.3 inch)resolution2340 x 1080 pixelsresolution typefull hd+gpuadreno 512display typeips (in-cell), rdother display featurescontrast ratio: 1500:1 (typical), 81.41% ntsc ratio, gorilla glass 5 (front and back)\n",
      "1993 : storage128 gbram6 gbexpandable storage1tb  systemandroid 12processor typemediatek helio g99processor speed2.2 108mp 8mp 2mp 108mp 8mp 2mp 108mp 16mp 16mp 4g capacity5000 display size16.64 cm (6.55 inch)resolution2460 x 1080 pixelsresolution typefull hd+gpuarm g57 mc2display typefull hd+ poled 120hz 10-bit displayother display featuresrefresh rate: 120 hz, aspect ratio: 20:9, screen-to-body ratio: 86.5%\n",
      "1304 : storage128 gbram6 gbexpandable storage512gb  systemandroid pie 10processor typequalcomm® snapdragon™ 720gprocessor speed2.3 48mp 8mp 5mp 2mp 16mp 4g capacity5020 display size16.94 cm (6.67 inch)resolution2400 x 1080$$pixelresolution typefull hd+gpuadreno a618display typedotdisplayhd game supportyes\n",
      "1185 : storage256 gbram16  systemandroid oxygenos based on android 13processor speed3.2 50mp 5g capacity5000 display size17.02 cm (6.7 inch)resolution3216x1440\n",
      "1491 : storage128 gbram6  systemandroid 10processor typequalcomm snapdragon 662processor speed2 16mp 8mp 2mp 2mp 16mp 8mp 2mp 2mp 16mp 8mp 2mp 2mp 16mp 16mp 4g capacity4015 display size16.36 cm (6.44 inch)resolution2400 x 1080$$pixelsresolution typefull hd+gpuqualcomm adreno gpu 610 (at 950 mhz)display typefull hd+ amoled displaydisplay colors16mother display features20:09 screen proportion, 60 hz screen refresh rate\n"
     ]
    }
   ],
   "source": [
    "random_values(mobiles_clean,'corpus')"
   ]
  },
  {
   "cell_type": "code",
   "execution_count": 88,
   "id": "a03ff906-f476-43c1-89e5-697d48aa7eca",
   "metadata": {},
   "outputs": [],
   "source": [
    "# Get cosine similarity scores for a specific mobile \n",
    "target_mobile_index = 3\n",
    "predicted_scores = similarity[target_mobile_index]"
   ]
  },
  {
   "cell_type": "code",
   "execution_count": 89,
   "id": "0cc4828c-3ee1-4f44-a5e8-93c57c5be90a",
   "metadata": {},
   "outputs": [
    {
     "name": "stdout",
     "output_type": "stream",
     "text": [
      "Predicted relevance labels based on cosine similarity: [0 0 0 ... 0 0 0]\n",
      "True relevance labels based on specs similarity: [0, 0, 0, 1, 0, 0, 0, 0, 0, 0, 0, 0, 0, 1, 0, 0, 0, 0, 0, 0, 0, 0, 1, 0, 0, 0, 1, 0, 0, 0, 0, 0, 1, 0, 0, 0, 0, 0, 0, 0, 0, 0, 0, 0, 0, 0, 0, 0, 0, 0, 0, 0, 0, 0, 0, 0, 1, 0, 0, 0, 0, 0, 0, 1, 0, 0, 1, 0, 0, 0, 0, 0, 0, 0, 0, 0, 0, 0, 0, 0, 0, 0, 0, 0, 0, 0, 0, 0, 0, 0, 0, 0, 0, 0, 0, 0, 0, 0, 0, 0, 0, 0, 0, 0, 0, 0, 0, 0, 1, 0, 0, 0, 0, 0, 0, 0, 0, 0, 0, 0, 0, 0, 0, 0, 0, 0, 0, 0, 0, 0, 0, 0, 0, 0, 0, 0, 0, 0, 0, 0, 0, 0, 0, 0, 0, 0, 0, 0, 0, 0, 0, 0, 0, 0, 0, 0, 0, 0, 0, 0, 0, 0, 0, 0, 0, 0, 1, 0, 0, 0, 0, 1, 0, 0, 0, 0, 0, 0, 1, 0, 0, 0, 0, 0, 0, 1, 0, 0, 0, 0, 0, 0, 0, 0, 0, 0, 0, 0, 0, 0, 0, 0, 0, 0, 0, 0, 0, 0, 1, 0, 0, 0, 0, 0, 0, 0, 0, 0, 1, 0, 0, 0, 0, 0, 0, 1, 0, 0, 0, 0, 1, 0, 0, 0, 0, 0, 0, 0, 0, 0, 0, 0, 1, 0, 0, 0, 0, 0, 0, 0, 0, 0, 0, 0, 0, 0, 0, 1, 0, 0, 0, 0, 0, 0, 0, 0, 1, 0, 1, 0, 0, 0, 0, 0, 0, 0, 0, 0, 0, 1, 0, 0, 0, 0, 0, 0, 0, 0, 0, 0, 0, 0, 0, 0, 0, 0, 0, 0, 0, 0, 0, 0, 0, 0, 1, 0, 0, 0, 0, 0, 1, 0, 0, 0, 0, 0, 0, 1, 0, 0, 1, 0, 0, 1, 0, 0, 0, 0, 0, 0, 0, 0, 0, 0, 0, 0, 0, 0, 0, 0, 0, 0, 0, 0, 0, 0, 0, 0, 0, 0, 0, 0, 0, 0, 0, 0, 0, 0, 0, 0, 0, 0, 0, 0, 0, 0, 0, 0, 0, 0, 0, 0, 0, 0, 0, 0, 0, 0, 0, 0, 0, 0, 0, 0, 0, 0, 0, 0, 0, 0, 0, 0, 0, 0, 0, 0, 0, 0, 0, 0, 0, 0, 0, 0, 0, 0, 0, 0, 0, 0, 0, 0, 0, 0, 0, 0, 1, 0, 0, 0, 0, 0, 0, 0, 0, 0, 0, 0, 0, 0, 0, 0, 0, 0, 0, 0, 1, 0, 0, 0, 1, 0, 0, 0, 0, 0, 1, 0, 0, 0, 0, 0, 0, 0, 0, 0, 0, 0, 0, 0, 0, 0, 0, 0, 0, 0, 0, 0, 0, 0, 0, 0, 0, 0, 0, 0, 0, 0, 0, 0, 0, 0, 0, 0, 0, 1, 0, 0, 0, 0, 0, 0, 0, 0, 0, 0, 0, 1, 0, 0, 0, 1, 0, 0, 0, 0, 0, 0, 0, 0, 0, 0, 1, 0, 0, 0, 0, 0, 0, 0, 0, 0, 0, 0, 0, 0, 0, 1, 0, 0, 0, 0, 0, 0, 0, 0, 0, 0, 0, 0, 0, 0, 0, 0, 0, 0, 0, 0, 0, 0, 0, 0, 0, 0, 0, 0, 0, 1, 0, 0, 0, 0, 0, 0, 0, 1, 1, 0, 0, 0, 0, 0, 0, 0, 0, 0, 0, 0, 0, 0, 0, 0, 0, 0, 0, 0, 0, 0, 0, 0, 0, 0, 0, 0, 0, 0, 0, 0, 0, 0, 0, 0, 0, 0, 0, 0, 0, 0, 0, 0, 0, 0, 0, 0, 0, 0, 0, 0, 0, 0, 0, 0, 0, 0, 0, 0, 0, 0, 0, 0, 0, 0, 1, 0, 0, 0, 0, 0, 0, 0, 0, 0, 0, 0, 0, 0, 0, 0, 0, 0, 0, 0, 0, 0, 0, 0, 0, 0, 1, 1, 0, 0, 0, 0, 0, 0, 0, 0, 0, 0, 1, 0, 0, 0, 0, 0, 0, 0, 0, 0, 0, 0, 0, 1, 0, 0, 1, 0, 0, 0, 0, 0, 0, 0, 0, 0, 0, 0, 0, 0, 0, 0, 0, 0, 0, 0, 0, 0, 0, 0, 0, 0, 0, 0, 0, 0, 0, 1, 0, 0, 0, 0, 0, 0, 0, 0, 0, 0, 0, 0, 0, 1, 0, 0, 0, 0, 0, 0, 0, 0, 0, 0, 0, 1, 0, 0, 0, 0, 0, 0, 0, 1, 0, 0, 0, 0, 0, 0, 0, 0, 0, 0, 0, 1, 0, 0, 0, 0, 0, 1, 0, 0, 0, 0, 0, 0, 1, 0, 0, 0, 1, 0, 0, 0, 0, 0, 1, 0, 0, 0, 0, 0, 0, 0, 0, 0, 0, 0, 0, 1, 0, 0, 0, 0, 0, 1, 0, 0, 0, 0, 0, 0, 0, 0, 0, 0, 0, 0, 0, 0, 0, 0, 0, 0, 0, 0, 0, 0, 0, 0, 0, 1, 0, 0, 0, 0, 0, 0, 0, 0, 1, 0, 0, 1, 0, 0, 0, 0, 0, 0, 0, 0, 0, 0, 0, 0, 0, 0, 1, 0, 0, 0, 0, 0, 0, 0, 0, 0, 0, 0, 0, 0, 0, 0, 0, 0, 0, 1, 0, 0, 0, 0, 0, 0, 0, 0, 0, 0, 0, 0, 0, 0, 0, 0, 0, 0, 0, 0, 0, 0, 0, 0, 0, 0, 0, 0, 0, 0, 0, 0, 0, 0, 0, 0, 0, 0, 0, 0, 0, 0, 0, 0, 0, 0, 0, 0, 0, 0, 0, 0, 0, 0, 1, 0, 1, 0, 0, 0, 1, 0, 0, 0, 0, 1, 0, 0, 0, 1, 0, 0, 0, 0, 0, 0, 0, 0, 0, 0, 0, 1, 0, 0, 0, 0, 0, 0, 0, 0, 0, 0, 0, 0, 0, 0, 0, 0, 0, 0, 0, 0, 0, 0, 0, 0, 0, 0, 0, 0, 0, 0, 0, 0, 0, 0, 0, 0, 0, 0, 0, 0, 0, 0, 0, 0, 0, 0, 0, 0, 1, 1, 0, 0, 0, 0, 0, 0, 1, 0, 0, 0, 0, 0, 0, 0, 0, 0, 0, 0, 0, 0, 0, 0, 0, 0, 0, 0, 0, 1, 0, 0, 0, 0, 0, 0, 0, 1, 0, 0, 0, 0, 0, 0, 0, 0, 0, 0, 0, 0, 0, 1, 0, 0, 0, 0, 0, 0, 0, 0, 0, 0, 0, 0, 1, 0, 0, 0, 0, 0, 0, 0, 0, 0, 0, 0, 0, 0, 0, 0, 0, 0, 0, 0, 0, 0, 0, 0, 0, 0, 0, 0, 0, 0, 0, 0, 0, 0, 0, 0, 0, 0, 0, 0, 0, 0, 0, 0, 0, 0, 0, 0, 0, 0, 0, 0, 0, 0, 0, 0, 0, 0, 0, 0, 0, 0, 0, 0, 1, 0, 0, 0, 0, 0, 0, 0, 0, 0, 0, 0, 0, 0, 0, 0, 0, 0, 0, 0, 0, 0, 0, 0, 0, 0, 0, 0, 0, 0, 0, 0, 1, 0, 0, 0, 0, 0, 0, 0, 0, 0, 0, 0, 0, 0, 0, 0, 0, 0, 0, 1, 0, 0, 0, 0, 0, 0, 0, 1, 0, 0, 0, 0, 0, 0, 0, 0, 0, 0, 0, 0, 0, 0, 0, 0, 0, 0, 0, 0, 0, 0, 0, 0, 0, 0, 0, 1, 0, 1, 0, 0, 0, 0, 0, 0, 0, 0, 0, 0, 0, 0, 0, 0, 0, 0, 0, 0, 1, 0, 0, 0, 0, 0, 0, 0, 0, 0, 0, 0, 0, 0, 0, 0, 0, 0, 0, 0, 0, 0, 0, 0, 0, 0, 0, 0, 1, 0, 0, 1, 0, 0, 0, 0, 0, 0, 0, 0, 0, 0, 0, 0, 0, 0, 0, 0, 0, 0, 0, 0, 0, 0, 0, 0, 0, 0, 0, 0, 0, 0, 0, 0, 0, 0, 0, 0, 1, 0, 0, 0, 0, 0, 0, 0, 0, 0, 0, 0, 0, 0, 0, 0, 0, 0, 0, 0, 0, 0, 0, 0, 0, 0, 0, 0, 0, 0, 0, 0, 0, 0, 0, 0, 0, 0, 0, 0, 0, 0, 0, 0, 0, 0, 0, 1, 0, 0, 0, 1, 0, 0, 0, 0, 0, 0, 0, 0, 0, 0, 0, 0, 1, 0, 0, 0, 0, 0, 0, 0, 0, 0, 0, 0, 0, 0, 0, 0, 0, 0, 0, 0, 0, 0, 0, 0, 0, 0, 0, 0, 0, 0, 1, 0, 0, 0, 0, 0, 0, 0, 0, 0, 0, 0, 0, 0, 0, 0, 0, 0, 0, 0, 0, 0, 0, 0, 0, 0, 0, 0, 0, 0, 0, 0, 0, 0, 0, 0, 0, 0, 0, 0, 1, 0, 0, 0, 0, 0, 0, 0, 0, 0, 0, 0, 0, 0, 0, 0, 0, 0, 0, 0, 0, 0, 0, 0, 0, 0, 0, 1, 0, 0, 0, 0, 0, 0, 0, 0, 0, 0, 0, 0, 0, 0, 0, 1, 0, 0, 0, 0, 0, 0, 0, 0, 0, 0, 0, 0, 0, 0, 1, 0, 0, 0, 0, 0, 0, 0, 0, 0, 1, 1, 0, 0, 0, 0, 0, 0, 0, 0, 0, 0, 0, 0, 0, 0, 0, 0, 0, 0, 0, 0, 0, 0, 0, 0, 0, 0, 0, 0, 0, 0, 0, 0, 0, 0, 1, 0, 0, 0, 0, 0, 0, 0, 0, 0, 0, 0, 0, 0, 0, 0, 0, 0, 0, 0, 0, 0, 0, 0, 0, 0, 0, 0, 0, 0, 0, 0, 0, 0, 0, 0, 0, 0, 0, 0, 0, 0, 0, 0, 0, 0, 0, 1, 0, 0, 0, 0, 0, 0, 0, 0, 0, 0, 0, 0, 0, 0, 0, 0, 0, 0, 0, 0, 0, 0, 0, 0, 0, 0, 0, 0, 0, 0, 0, 0, 0, 0, 0, 0, 0, 0, 0, 0, 0, 0, 0, 1, 0, 0, 0, 0, 0, 0, 0, 0, 0, 0, 0, 0, 0, 0, 0, 0, 1, 1, 0, 0, 0, 0, 0, 0, 1, 0, 1, 0, 0, 0, 0, 0, 1, 0, 0, 0, 0, 0, 0, 0, 0, 0, 0, 0, 0, 0, 0, 0, 0, 0, 0, 0, 0, 0, 0, 0, 0, 0, 0, 0, 0, 1, 0, 0, 0, 0, 0, 0, 0, 0, 0, 0, 0, 0, 0, 0, 0, 0, 0, 0, 0, 0, 0, 1, 0, 0, 0, 0, 0, 0, 0, 0, 0, 0, 0, 0, 0, 0, 0, 0, 0, 0, 0, 0, 0, 0, 1, 0, 0, 0, 1, 0, 0, 0, 0, 0, 0, 0, 1, 0, 0, 0, 0, 0, 0, 0, 0, 0, 0, 1, 1, 0, 0, 0, 0, 0, 0, 0, 0, 0, 1, 0, 0, 0, 0, 0, 0, 0, 0, 1, 0, 0, 0, 0, 0, 0, 0, 0, 0, 0, 0, 0, 0, 0, 1, 0, 0, 0, 0, 0, 0, 0, 0, 0, 0, 0, 0, 0, 0, 0, 0, 0, 0, 0, 0, 0, 0, 0, 0, 0, 0, 0, 1, 0, 0, 1, 0, 0, 0, 0, 0, 0, 0, 0, 0, 0, 0, 0, 0, 0, 0, 0, 0, 0, 0, 0, 0, 0, 0, 0, 0, 0, 0, 0, 0, 0, 0, 0, 1, 0, 0, 0, 0, 0, 1, 0, 0, 0, 0, 0, 0, 0, 0, 0, 0, 1, 0, 0, 0, 0, 1, 0, 0, 0, 0, 0, 0, 0, 0, 0, 0, 0, 0, 0, 0, 0, 0, 0, 0, 0, 1, 0, 0, 0, 0, 0, 1, 0, 0, 0, 0, 0, 0, 0, 0, 0, 0, 0, 0, 0, 0, 0, 0, 0, 0, 0, 0, 0, 0, 0, 0, 1, 0, 0, 0, 0, 0, 0, 0, 0, 0, 0, 0, 0, 0, 0, 0, 0, 0, 0, 0, 0, 0, 0, 0, 0, 1, 0, 0, 0, 0, 0, 0, 0, 0, 0, 0, 0, 0, 1, 0, 0, 0, 0, 0, 0, 0, 0, 0, 0, 0, 0, 0, 0, 0, 1, 0, 0]\n",
      "              precision    recall  f1-score   support\n",
      "\n",
      "  irrelevant       0.94      1.00      0.97      1876\n",
      "    relevant       1.00      0.01      0.02       124\n",
      "\n",
      "    accuracy                           0.94      2000\n",
      "   macro avg       0.97      0.50      0.49      2000\n",
      "weighted avg       0.94      0.94      0.91      2000\n",
      "\n",
      "MAE: 0.3078760367205923, RMSE: 0.3234501100260544\n",
      "69 : storage32 gbram2 gbexpandable storage1tb  systemandroid 10processor typemediatek helio g25processor speed2 13mp 2mp 13mp 2mp 5mp 4g capacity5000 display size16.54 cm (6.51 inch)resolution1600 x 720 pixelsresolution typehd+display typehd+ lcd ips displayother display featuresanti fingerprint coating, 20:09 display aspect ratio, active area-touch panel (aa-tp): 85%, brightness: 330nits (min), 380nits (typ)\n",
      "16 : storage32 gbram3 gbexpandable storage256gb  systemandroid oreo 8.1processor typemtk mt6765processor speed2.3 13mp 2mp 8mp 3g capacity4230 display size15.75 cm (6.2 inch)resolution1520 x 720 pixelsresolution typehd+gpuimg ge8320display colors16.7mother display featuresscreen texture: a-si, in-cell touch panel technology, 89.35% screen ratio, color saturation: 72% ntsc (typical), screen contrast: 1200:1, maximum brightness: 480 nits, c3 touch panel glass, super full screen\n",
      "276 : storage64 gbram4 gbexpandable storage512gb  systemandroid pie 9processor typequalcomm snapdragon 439processor speed1.95 12mp 2mp 12mp 8mp 4g capacity5000 display size15.8 cm (6.22 inch)resolution1520 x 720 pixelsresolution typehd+gpuadreno 505 at 650 mhzother display featuresscreen protection: gorilla glass 5 (front glass), screen mirror/cast\n",
      "1566 : storage64 gbram4 gbexpandable storage1tb  systemandroid 12processor typemediatek dimensity 810 5gprocessor speed2.4 50mp 2mp 2mp 50mp 2mp 2mp 8mp 8mp 5g capacity5000 display size16.76 cm (6.6 inch)resolution2408 x 1080 pixelsresolution typefull hd+gpuarm mali-g57 mc2display typefull hd+ ips lcd displayother display features90 hz refresh rate, 180 hz touch sampling rate, screen-to-body ratio: 90.4%, 400 nits brightness\n",
      "487 : storage64 gbram3 gbexpandable storage1tb  systemandroid 12processor typemediatek helio p35processor speed2.3 13mp 2mp 13mp 2mp 5mp 5mp 4g capacity5000 display size16.54 cm (6.51 inch)resolution1600 x 720 pixelresolution typehd+gpuimg powervr ge8320display typehd+ lcd (ips) displayother display featuresrefresh rate: 60 hz, screen-to-body ratio: 88.99%, aspect ratio: 20:9\n",
      "1297 : storage16 gbram2 gbexpandable storage32gb  systemandroid nougat 7processor typemediatek mtk6737 quad core 1.3ghzprocessor speed1.3 8mp 2mp 3g capacity4000 display size12.7 cm (5 inch)resolution1280 x 720resolution typehddisplay typetft lcd ipsdisplay colors16 m\n",
      "296 : storage128 gbram8  systemandroid 12processor typedimensity 920 5g processorprocessor speed2.5 48mp 48mp 5g capacity5000 display size16.26 cm (6.4 inch)resolution1080x2400display type90hz super amoled displayhd game supportyesother display features90hz super amoled display\n",
      "1173 : storage16 gbram2 gbexpandable storage128gb  systemandroid marshmallow 6.0.1processor typequalcomm snapdragon 430 64-bit octa core 1.4ghzprocessor speed1.4 13mp 5mp 3g capacity4100 display size12.7 cm (5 inch)resolution1280 x 720 pixelsresolution typehdgpuadreno 505other display featuresips display\n",
      "605 : storage128 gbram8  systemandroid 11processor speed2 64mp 5g capacity6000 display size16.51 cm (6.5 inch)resolution720 x 1600 pixel\n"
     ]
    }
   ],
   "source": [
    "# Set a relevance threshold \n",
    "threshold = 0.75\n",
    "y_pred = np.where(predicted_scores >= threshold, 1, 0)  # Predicted relevant (1) or irrelevant (0)\n",
    "\n",
    "# Define a function to compute true relevance based on similar specs\n",
    "def get_relevance(target_mobile, comparison_mobile):\n",
    "    score = 0\n",
    "    if target_mobile['ram'] == comparison_mobile['ram']:\n",
    "        score += 0.1  # Add weight for RAM similarity\n",
    "    if target_mobile['storage'] == comparison_mobile['storage']:\n",
    "        score += 0.2  # Add weight for Storage similarity\n",
    "    if target_mobile['processor'] == comparison_mobile['processor']:\n",
    "        score += 0.3  # Add weight for Processor similarity\n",
    "    if target_mobile['brand'] == comparison_mobile['brand']:\n",
    "        score += 0.4  # Add weight for Brand similarity\n",
    "    \n",
    "    # Add more comparisons for other features\n",
    "    if target_mobile['battery_capacity'] == comparison_mobile['battery_capacity']:\n",
    "        score += 0.1  # Weight for Battery Capacity similarity\n",
    "    if target_mobile['display_size'] == comparison_mobile['display_size']:\n",
    "        score += 0.1  # Weight for Display Size similarity\n",
    "    if target_mobile['processor_speed'] == comparison_mobile['processor_speed']:\n",
    "        score += 0.1  # Weight for Processor Speed similarity\n",
    "    # if target_mobile['weight'] == comparison_mobile['weight']:\n",
    "    #     score += 0.1  # Weight for Weight similarity\n",
    "    #if target_mobile['processor_type'] == comparison_mobile['processor_type']:\n",
    "        score += 0.1  # Weight for Processor Type similarity\n",
    "    if target_mobile['camera'] == comparison_mobile['camera']:\n",
    "        score += 0.1  # Weight for Camera similarity\n",
    "    if target_mobile['network'] == comparison_mobile['network']:\n",
    "        score += 0.1  # Weight for Network similarity\n",
    "    if target_mobile['operating_system'] == comparison_mobile['operating_system']:\n",
    "        score += 0.1  # Weight for Operating System similarity\n",
    "\n",
    "    return 1 if score >= 0.75 else 0\n",
    "\n",
    "# Generate true relevance labels (y_true) based on specs similarity for all other mobiles\n",
    "target_mobile = mobiles_clean.iloc[target_mobile_index]\n",
    "y_true = [get_relevance(target_mobile, mobiles_clean.iloc[i]) for i in range(len(mobiles_clean))]\n",
    "\n",
    "# Print Predicted and True Labels\n",
    "print(f\"Predicted relevance labels based on cosine similarity: {y_pred}\")\n",
    "print(f\"True relevance labels based on specs similarity: {y_true}\")\n",
    "\n",
    "# Evaluate Precision, Recall, and F1-Score\n",
    "print(classification_report(y_true, y_pred, target_names=['irrelevant', 'relevant']))\n",
    "\n",
    "# Evaluate MAE and RMSE (if you're working with continuous similarity scores as well)\n",
    "mae = mean_absolute_error(y_true, predicted_scores)  # Using continuous similarity for y_pred\n",
    "rmse = np.sqrt(mean_squared_error(y_true, predicted_scores))\n",
    "\n",
    "print(f\"MAE: {mae}, RMSE: {rmse}\")\n",
    "\n",
    "def random_values(df, col_name, total=9):\n",
    "    if col_name not in mobiles_clean.columns:\n",
    "        raise ValueError(f\"Column '{col_name}' does not exist in the DataFrame.\")\n",
    "    \n",
    "    if mobiles_clean.empty:\n",
    "        raise ValueError(\"The DataFrame is empty.\")\n",
    "        \n",
    "    for i in range(total):\n",
    "        index = np.random.randint(mobiles_clean.shape[0])\n",
    "        print(index, ':', mobiles_clean[col_name].iloc[index])\n",
    "\n",
    "random_values(mobiles_clean, 'corpus')"
   ]
  },
  {
   "cell_type": "code",
   "execution_count": 90,
   "id": "76f79423-bf3b-45cd-a609-37b450c56ef4",
   "metadata": {},
   "outputs": [
    {
     "name": "stdout",
     "output_type": "stream",
     "text": [
      "Predicted relevance labels based on cosine similarity: [0 0 0 ... 0 0 0]\n",
      "True relevance labels based on specs similarity: [0, 0, 0, 1, 0, 0, 0, 0, 0, 0, 0, 0, 1, 1, 0, 0, 0, 1, 0, 0, 1, 0, 1, 0, 0, 0, 1, 0, 0, 0, 0, 0, 1, 0, 0, 0, 0, 0, 0, 0, 0, 0, 0, 0, 0, 0, 0, 0, 1, 0, 0, 0, 0, 0, 0, 0, 1, 0, 0, 0, 0, 0, 0, 1, 0, 0, 1, 0, 0, 0, 0, 0, 0, 1, 0, 0, 1, 0, 0, 0, 0, 0, 0, 0, 0, 1, 0, 0, 0, 0, 0, 0, 0, 0, 0, 0, 0, 0, 0, 1, 0, 0, 0, 0, 0, 0, 0, 0, 1, 0, 1, 0, 1, 0, 0, 0, 0, 0, 1, 0, 0, 0, 0, 0, 0, 0, 0, 0, 0, 0, 0, 0, 0, 0, 0, 0, 0, 0, 0, 0, 0, 0, 0, 0, 0, 0, 0, 0, 0, 0, 0, 1, 0, 0, 0, 1, 0, 0, 0, 1, 0, 1, 0, 0, 0, 0, 1, 0, 1, 0, 0, 1, 0, 0, 0, 0, 0, 0, 1, 0, 0, 0, 0, 0, 0, 1, 0, 0, 0, 1, 0, 0, 0, 0, 0, 0, 0, 0, 0, 0, 0, 1, 0, 0, 0, 0, 0, 0, 1, 0, 0, 0, 0, 0, 0, 0, 0, 0, 1, 0, 0, 0, 0, 1, 0, 1, 0, 0, 0, 0, 1, 0, 1, 1, 1, 0, 0, 0, 0, 0, 0, 0, 1, 0, 0, 0, 0, 1, 0, 0, 0, 0, 0, 0, 0, 0, 0, 1, 0, 0, 0, 0, 0, 0, 0, 0, 1, 0, 1, 0, 0, 0, 0, 0, 0, 0, 0, 0, 0, 1, 0, 0, 0, 0, 0, 0, 0, 0, 0, 0, 0, 0, 0, 1, 0, 0, 0, 0, 0, 0, 0, 1, 0, 0, 1, 0, 0, 0, 0, 0, 1, 0, 0, 1, 0, 0, 0, 1, 1, 0, 1, 0, 0, 1, 0, 0, 0, 0, 0, 1, 0, 0, 0, 0, 0, 0, 0, 0, 0, 1, 0, 0, 0, 0, 0, 0, 0, 0, 0, 0, 1, 0, 0, 0, 0, 0, 0, 0, 0, 0, 0, 0, 0, 0, 0, 0, 0, 0, 0, 0, 0, 0, 0, 1, 0, 1, 0, 0, 1, 0, 0, 0, 0, 0, 0, 0, 0, 1, 0, 0, 1, 0, 0, 0, 0, 0, 0, 0, 1, 0, 0, 0, 0, 0, 0, 1, 0, 0, 0, 0, 0, 0, 1, 0, 0, 0, 1, 0, 0, 0, 0, 0, 0, 0, 0, 1, 0, 0, 0, 0, 0, 0, 0, 0, 0, 0, 1, 0, 0, 0, 1, 0, 0, 0, 0, 0, 1, 0, 0, 0, 0, 0, 0, 0, 0, 1, 1, 0, 0, 0, 0, 0, 0, 0, 0, 0, 0, 0, 0, 1, 0, 0, 0, 0, 0, 0, 0, 0, 0, 0, 0, 0, 0, 0, 0, 1, 0, 0, 0, 0, 0, 0, 0, 0, 0, 0, 0, 1, 1, 0, 0, 1, 0, 1, 0, 0, 0, 0, 0, 1, 0, 0, 1, 0, 0, 0, 0, 0, 0, 0, 0, 0, 0, 0, 0, 0, 1, 1, 0, 0, 0, 0, 0, 0, 0, 0, 0, 0, 1, 0, 0, 0, 1, 0, 0, 0, 0, 0, 0, 0, 0, 0, 1, 0, 1, 0, 0, 1, 0, 0, 0, 0, 0, 0, 0, 1, 1, 0, 0, 0, 0, 0, 0, 0, 0, 0, 0, 0, 0, 0, 0, 0, 0, 0, 0, 0, 0, 0, 0, 0, 0, 0, 0, 0, 1, 1, 0, 0, 0, 0, 0, 0, 0, 1, 0, 0, 0, 0, 0, 0, 0, 0, 0, 0, 0, 0, 0, 0, 0, 0, 0, 0, 0, 0, 0, 0, 0, 0, 0, 0, 0, 1, 1, 1, 0, 0, 0, 0, 0, 0, 0, 0, 0, 0, 0, 0, 0, 0, 0, 0, 0, 0, 0, 0, 0, 0, 0, 0, 1, 1, 0, 0, 0, 0, 0, 0, 0, 1, 0, 0, 1, 1, 0, 0, 0, 0, 0, 0, 0, 1, 0, 0, 1, 1, 0, 0, 1, 0, 0, 0, 0, 0, 0, 0, 0, 0, 0, 0, 0, 0, 1, 0, 0, 0, 0, 0, 0, 0, 0, 0, 0, 0, 0, 0, 0, 0, 0, 1, 0, 0, 0, 1, 0, 1, 0, 0, 0, 0, 0, 0, 0, 1, 0, 0, 0, 0, 0, 0, 0, 0, 0, 0, 0, 1, 0, 0, 0, 0, 0, 0, 0, 1, 0, 0, 0, 0, 0, 0, 0, 0, 0, 0, 0, 1, 0, 0, 0, 0, 0, 1, 0, 0, 1, 0, 0, 0, 1, 0, 0, 0, 1, 0, 0, 1, 0, 0, 1, 0, 0, 0, 0, 1, 0, 0, 0, 0, 0, 0, 0, 1, 0, 1, 0, 0, 0, 1, 1, 0, 0, 0, 0, 0, 0, 0, 0, 1, 0, 0, 0, 0, 0, 0, 0, 0, 0, 0, 1, 0, 0, 0, 0, 1, 0, 0, 0, 0, 0, 0, 0, 0, 1, 0, 0, 1, 0, 0, 0, 0, 0, 0, 0, 0, 1, 0, 0, 0, 0, 0, 1, 0, 1, 0, 0, 0, 0, 0, 0, 0, 0, 0, 0, 0, 0, 0, 0, 0, 0, 1, 0, 1, 0, 1, 1, 0, 0, 0, 0, 1, 0, 0, 0, 1, 0, 1, 0, 1, 0, 0, 0, 0, 1, 0, 0, 1, 0, 0, 0, 0, 0, 0, 0, 0, 0, 0, 0, 0, 0, 0, 0, 0, 0, 0, 0, 0, 0, 0, 0, 0, 0, 0, 1, 0, 1, 0, 1, 0, 0, 0, 1, 0, 0, 1, 0, 1, 1, 0, 0, 1, 0, 0, 0, 0, 0, 0, 0, 0, 0, 0, 0, 1, 0, 0, 0, 0, 0, 0, 1, 0, 0, 0, 0, 0, 0, 0, 0, 0, 1, 0, 0, 1, 0, 0, 1, 1, 0, 0, 0, 0, 0, 0, 0, 0, 1, 0, 0, 0, 0, 0, 0, 0, 1, 1, 0, 0, 1, 0, 0, 0, 1, 1, 0, 1, 0, 0, 0, 0, 1, 0, 0, 0, 1, 0, 0, 0, 0, 0, 0, 0, 0, 0, 0, 0, 0, 0, 0, 0, 0, 1, 0, 0, 0, 0, 0, 0, 0, 1, 0, 0, 0, 0, 0, 1, 0, 0, 0, 0, 0, 0, 0, 1, 0, 0, 0, 0, 0, 0, 0, 0, 0, 0, 0, 0, 1, 0, 0, 0, 0, 0, 0, 0, 0, 0, 0, 0, 0, 0, 0, 0, 0, 0, 0, 0, 0, 1, 0, 0, 0, 0, 0, 0, 0, 0, 1, 0, 0, 0, 0, 1, 0, 0, 0, 0, 0, 0, 0, 0, 0, 0, 0, 0, 0, 0, 0, 0, 0, 1, 0, 1, 0, 0, 0, 0, 0, 0, 0, 0, 1, 0, 0, 0, 0, 0, 0, 0, 0, 1, 0, 0, 0, 0, 0, 0, 0, 0, 0, 0, 0, 0, 0, 0, 0, 0, 0, 0, 0, 0, 0, 0, 1, 0, 0, 0, 0, 0, 0, 0, 0, 0, 0, 0, 0, 0, 0, 0, 1, 1, 0, 1, 1, 0, 0, 0, 0, 0, 0, 1, 0, 0, 0, 0, 0, 0, 0, 0, 0, 0, 0, 0, 0, 1, 0, 0, 0, 0, 1, 1, 0, 0, 0, 0, 0, 0, 0, 1, 0, 1, 0, 0, 0, 0, 0, 0, 1, 0, 0, 0, 0, 0, 0, 1, 0, 0, 1, 0, 1, 0, 0, 0, 0, 0, 0, 0, 0, 0, 0, 0, 1, 0, 0, 0, 0, 0, 0, 1, 0, 1, 0, 0, 0, 0, 0, 0, 1, 0, 0, 1, 0, 0, 0, 1, 0, 0, 0, 0, 0, 0, 0, 0, 0, 0, 0, 0, 0, 1, 0, 0, 0, 0, 1, 0, 0, 1, 0, 1, 0, 0, 0, 0, 0, 1, 0, 0, 1, 0, 0, 0, 0, 0, 0, 0, 1, 0, 1, 0, 1, 0, 1, 0, 0, 0, 0, 0, 0, 0, 0, 0, 0, 0, 0, 0, 1, 0, 0, 0, 0, 0, 0, 0, 0, 0, 1, 0, 0, 0, 0, 0, 1, 0, 0, 1, 0, 0, 0, 1, 0, 0, 0, 0, 0, 0, 0, 0, 0, 0, 0, 0, 1, 0, 0, 0, 0, 0, 0, 0, 0, 0, 0, 0, 0, 0, 1, 0, 0, 0, 0, 0, 0, 0, 0, 0, 0, 0, 0, 0, 0, 0, 1, 0, 0, 1, 1, 0, 0, 0, 0, 0, 0, 0, 0, 0, 0, 0, 0, 1, 0, 1, 0, 0, 0, 0, 0, 0, 0, 1, 0, 0, 0, 0, 0, 1, 0, 0, 0, 0, 0, 0, 1, 0, 0, 0, 0, 0, 1, 0, 0, 0, 0, 0, 0, 0, 0, 0, 0, 0, 0, 0, 0, 0, 0, 0, 0, 1, 0, 1, 1, 0, 0, 0, 0, 1, 1, 0, 0, 0, 1, 0, 0, 0, 0, 1, 1, 0, 0, 0, 0, 0, 0, 1, 0, 0, 0, 0, 0, 0, 1, 0, 0, 0, 0, 0, 0, 0, 0, 0, 1, 1, 0, 0, 0, 0, 1, 0, 0, 0, 0, 0, 0, 0, 0, 0, 0, 0, 0, 0, 0, 1, 0, 0, 0, 1, 0, 0, 0, 0, 0, 0, 0, 0, 0, 0, 1, 0, 0, 0, 0, 0, 0, 0, 0, 0, 0, 1, 0, 0, 0, 0, 0, 0, 0, 0, 0, 1, 0, 0, 0, 0, 0, 0, 1, 0, 0, 1, 0, 0, 0, 0, 1, 0, 0, 1, 0, 0, 0, 0, 0, 0, 0, 1, 1, 0, 0, 0, 1, 0, 0, 0, 0, 0, 0, 0, 0, 1, 0, 0, 0, 0, 0, 0, 0, 0, 0, 0, 0, 0, 0, 1, 0, 0, 0, 0, 0, 0, 0, 0, 0, 0, 0, 0, 0, 0, 0, 1, 0, 0, 0, 0, 0, 0, 0, 0, 0, 0, 0, 1, 0, 0, 0, 0, 1, 1, 0, 0, 0, 0, 0, 1, 1, 0, 1, 0, 0, 0, 0, 0, 1, 1, 0, 0, 0, 0, 0, 1, 1, 0, 0, 1, 0, 0, 0, 0, 1, 0, 0, 0, 0, 0, 0, 0, 0, 0, 0, 0, 0, 1, 0, 0, 0, 0, 0, 1, 0, 0, 0, 0, 1, 0, 1, 1, 0, 0, 0, 0, 1, 0, 0, 1, 0, 0, 0, 0, 0, 0, 0, 0, 0, 0, 0, 0, 0, 0, 0, 0, 0, 0, 0, 1, 0, 0, 1, 0, 0, 1, 1, 0, 0, 0, 0, 0, 0, 0, 1, 0, 0, 0, 0, 1, 0, 0, 0, 0, 1, 1, 1, 1, 0, 0, 0, 0, 0, 0, 0, 0, 1, 0, 0, 0, 0, 0, 0, 0, 0, 1, 0, 0, 0, 0, 0, 0, 0, 0, 0, 1, 0, 0, 0, 1, 1, 0, 1, 0, 0, 0, 0, 0, 0, 0, 0, 0, 0, 0, 0, 0, 0, 0, 0, 0, 0, 0, 0, 0, 0, 1, 0, 0, 1, 0, 0, 1, 0, 0, 0, 0, 0, 0, 1, 0, 0, 0, 0, 1, 0, 0, 1, 0, 0, 0, 0, 0, 0, 0, 1, 1, 0, 0, 0, 0, 1, 0, 0, 0, 1, 0, 0, 1, 0, 1, 1, 0, 1, 0, 1, 0, 0, 0, 0, 0, 0, 1, 0, 1, 0, 0, 1, 0, 0, 0, 0, 0, 0, 0, 0, 0, 0, 0, 0, 0, 0, 0, 0, 0, 0, 0, 1, 0, 1, 1, 0, 0, 1, 0, 0, 0, 0, 0, 0, 0, 0, 1, 1, 0, 0, 0, 0, 0, 0, 0, 0, 0, 0, 0, 0, 0, 0, 1, 0, 0, 0, 0, 0, 0, 0, 0, 0, 0, 0, 0, 0, 1, 0, 0, 0, 0, 0, 0, 0, 0, 0, 0, 1, 0, 0, 1, 0, 0, 0, 0, 0, 0, 0, 0, 0, 1, 0, 0, 0, 0, 0, 0, 0, 0, 0, 1, 0, 0, 0, 0, 0, 1, 1, 0]\n",
      "              precision    recall  f1-score   support\n",
      "\n",
      "  irrelevant       0.84      1.00      0.91      1682\n",
      "    relevant       1.00      0.00      0.01       318\n",
      "\n",
      "    accuracy                           0.84      2000\n",
      "   macro avg       0.92      0.50      0.46      2000\n",
      "weighted avg       0.87      0.84      0.77      2000\n",
      "\n",
      "MAE: 0.33587398973639154, RMSE: 0.3641674432066462\n",
      "1430 : storage64 gbram4  systemandroid 10processor typeexynos 850 octa coreprocessor speed2 48mp 8mp 2mp 2mp 13mp 4g capacity6000 display size16.26 cm (6.4 inch)resolution1080x2400\n",
      "243 : storage128 gbram6 gbexpandable storage512gb  systemandroid 11processor typemediatek helio g95processor speed2.05 64mp 8mp 2mp 2mp 64mp 8mp 2mp 2mp 64mp 13mp 13mp 4g capacity5000 display size16.33 cm (6.43 inch)resolution2400 x 1080 pixelsresolution typefull hd+ super amoled displaygpuarm mali g76display typefhd+ super amoledhd game supportyesdisplay colors16mother display featurescontrast ratio: 4,500,000:1, color gamut: dci-p3, brightness: hbm 700 nits,1100 nits peak brightness, 8-bit color, reading mode 3.0, sunlight mode 2.0, low blue light certified by sgs\n",
      "474 : storage64 gbram4 gbexpandable storage1tb  systemandroid 12processor typemediatek helio g37processor speed2.3 16mp 2mp 16mp 2mp 8mp 8mp 4g capacity5000 display size16.51 cm (6.5 inch)resolution1600 x 720 pixelsresolution typehd+gpuimg powervr ge8320display typehd+ lcd displayother display featuresrefresh rate: 90 hz, aspect ratio: 20:9, screen-to-body ratio: 89.03%\n",
      "575 : storage128 gbram8  systemandroid 11processor typequalcomm snapdragon 888processor speed2.84 108mp 8mp 5mp 20mp 5g capacity4520 display size16.94 cm (6.67 inch)resolution2400 x 1080 pixelsresolution typefull hd+gpuqualcomm adreno 660display typefull hd+ amoled displayother display features120 hz refresh rate, touch sampling rate: up to 360 hz, samsung e4 light emitting material, aspect ratio: 20:9, contrast ratio: 5000000:1, brightness: 900 nits (hbm typ), 1300 nits (peak), color gamut: dci-p3 100% (typ), hdr10+, super resolution, supports memc, sunlight display 3.0, corning gorilla glass 5, displaymate a+, sgs eye care display, sgs seamless pro 120 hz\n",
      "39 : storage128 gbram8 gbexpandable storage512gb  systemandroid pie 9processor typemediatek helio g90tprocessor speed2.05 64mp 8mp 2mp 2mp 20mp 4g capacity4500 display size16.59 cm (6.53 inch)resolution2340 x 1080 pixelsresolution typefull hd+gpuarm mali g76 mc4 (800 mhz)display typefull hd+ hdr displaydisplay colors16mother display featuresdual corning gorilla glass 5 protection (with curved 3d gg5 back), cof technology, brightness: 500 nit (typical) / 420 nit (minimum), contrast: 1500:1 (typical), ntsc: 84% (typical), splash-proof design (protected by p2i)\n",
      "697 : storage256 gbram8 gbtotal memory256gb  systemandroid 11processor speed2 48mp 2g capacity5000 display size16.76 cm (6.6 inch)resolution1080 x 2340 pixelsresolution typefull hd+gpuarm mali g68 mp4display typesuper amoledhd game supportyesdisplay colors16m\n",
      "1918 : storage256 gbram12  systemandroid 11processor speed2.4 48mp 5g capacity4500 display size16.64 cm (6.55 inch)resolution2400 x 1080 pixel\n",
      "196 : storage64 gbram4 gbexpandable storage512gb  systemandroid 10processor typemediatek helio g80processor speed2 13mp 8mp 5mp 2mp 13mp 8mp 5mp 2mp 8mp 8mp 4g capacity5020 display size16.59 cm (6.53 inch)resolution2340 x 1080 pixelsresolution typefull hd+gpuarm mali g52 (at 950 mhz)display typefull hd+ ips displayhd game supportyesother display features19.5:9 aspect ratio, brightness : 400 nit, reading mode certified by tuv rheinland, corning gorilla glass 3\n",
      "90 : storage128 gbram4 gbexpandable storage256gb  systemandroid 11processor typemediatek helio g35processor speed2.3 50mp 2mp 2mp 50mp 2mp 2mp 16mp 4g capacity5000 display size16.54 cm (6.51 inch)resolution1600 x 720 pixelsresolution typehd+gpuimg ge8320display typehd+ lcd ipsdisplay colors16.7mother display features60 hz refresh rate, 89.20% screen-to-body ratio, color saturation: 70% (typical), 20:9 aspect ratio, contrast ratio: 1500:1, color gamut: 70% ntsc, brightness: 550 nits (typical), touch sampling rate: 120 hz, night mode, eye comfort, neg t2x-1 protection material,\n"
     ]
    }
   ],
   "source": [
    "def get_relevance(target_mobile, comparison_mobile):\n",
    "    score = 0\n",
    "    if target_mobile['ram'] == comparison_mobile['ram']:\n",
    "        score += 0.2  # Increased weight for RAM similarity\n",
    "    if target_mobile['storage'] == comparison_mobile['storage']:\n",
    "        score += 0.3  # Increased weight for Storage similarity\n",
    "    if target_mobile['processor'] == comparison_mobile['processor']:\n",
    "        score += 0.4  # Increased weight for Processor similarity\n",
    "    if target_mobile['brand'] == comparison_mobile['brand']:\n",
    "        score += 0.5  # Increased weight for Brand similarity\n",
    "\n",
    "    # Additional comparisons with adjusted weights\n",
    "    if target_mobile['battery_capacity'] == comparison_mobile['battery_capacity']:\n",
    "        score += 0.1\n",
    "    if target_mobile['display_size'] == comparison_mobile['display_size']:\n",
    "        score += 0.1\n",
    "    if target_mobile['processor_speed'] == comparison_mobile['processor_speed']:\n",
    "        score += 0.1\n",
    "    # if target_mobile['weight'] == comparison_mobile['weight']:\n",
    "    #     score += 0.1\n",
    "    if target_mobile['camera'] == comparison_mobile['camera']:\n",
    "        score += 0.1\n",
    "    if target_mobile['network'] == comparison_mobile['network']:\n",
    "        score += 0.1\n",
    "    if target_mobile['operating_system'] == comparison_mobile['operating_system']:\n",
    "        score += 0.1\n",
    "\n",
    "    return 1 if score >= 0.6 else 0  # Lowered threshold for relevance\n",
    "\n",
    "# Generate true relevance labels (y_true) based on specs similarity for all other mobiles\n",
    "target_mobile = mobiles_clean.iloc[target_mobile_index]\n",
    "y_true = [get_relevance(target_mobile, mobiles_clean.iloc[i]) for i in range(len(mobiles_clean))]\n",
    "\n",
    "# Print Predicted and True Labels\n",
    "print(f\"Predicted relevance labels based on cosine similarity: {y_pred}\")\n",
    "print(f\"True relevance labels based on specs similarity: {y_true}\")\n",
    "\n",
    "# Evaluate Precision, Recall, and F1-Score\n",
    "print(classification_report(y_true, y_pred, target_names=['irrelevant', 'relevant']))\n",
    "\n",
    "# Evaluate MAE and RMSE (if you're working with continuous similarity scores as well)\n",
    "mae = mean_absolute_error(y_true, predicted_scores)  # Using continuous similarity for y_pred\n",
    "rmse = np.sqrt(mean_squared_error(y_true, predicted_scores))\n",
    "\n",
    "print(f\"MAE: {mae}, RMSE: {rmse}\")\n",
    "\n",
    "def random_values(df, col_name, total=9):\n",
    "    if col_name not in mobiles_clean.columns:\n",
    "        raise ValueError(f\"Column '{col_name}' does not exist in the DataFrame.\")\n",
    "    \n",
    "    if mobiles_clean.empty:\n",
    "        raise ValueError(\"The DataFrame is empty.\")\n",
    "        \n",
    "    for i in range(total):\n",
    "        index = np.random.randint(mobiles_clean.shape[0])\n",
    "        print(index, ':', mobiles_clean[col_name].iloc[index])\n",
    "\n",
    "random_values(mobiles_clean, 'corpus')\n"
   ]
  },
  {
   "cell_type": "code",
   "execution_count": 91,
   "id": "c9858c7e-5f08-44a6-8229-c75130f13d0d",
   "metadata": {},
   "outputs": [
    {
     "name": "stdout",
     "output_type": "stream",
     "text": [
      "Optimal threshold: 0.34426518632954817\n"
     ]
    }
   ],
   "source": [
    "from sklearn.metrics import roc_curve, auc\n",
    "\n",
    "# Assuming `predicted_scores` contains the continuous relevance scores\n",
    "fpr, tpr, thresholds = roc_curve(y_true, predicted_scores)\n",
    "roc_auc = auc(fpr, tpr)\n",
    "\n",
    "# Find the optimal threshold based on the ROC curve\n",
    "optimal_idx = np.argmax(tpr - fpr)\n",
    "optimal_threshold = thresholds[optimal_idx]\n",
    "print(f'Optimal threshold: {optimal_threshold}')\n"
   ]
  },
  {
   "cell_type": "code",
   "execution_count": 92,
   "id": "38da8e5e-81f5-42f1-a71d-5f439f8a469a",
   "metadata": {},
   "outputs": [
    {
     "name": "stdout",
     "output_type": "stream",
     "text": [
      "Predicted relevance labels based on cosine similarity: [0 0 0 ... 0 0 0]\n",
      "True relevance labels based on specs similarity: [0, 0, 0, 1, 0, 0, 1, 1, 1, 0, 0, 1, 1, 1, 0, 1, 0, 1, 1, 0, 1, 0, 1, 0, 0, 0, 1, 0, 0, 0, 0, 0, 1, 0, 0, 0, 0, 1, 0, 0, 1, 0, 1, 1, 1, 0, 0, 0, 1, 0, 0, 1, 0, 0, 0, 0, 1, 0, 1, 0, 0, 0, 1, 1, 0, 1, 1, 0, 0, 0, 0, 1, 1, 1, 0, 0, 1, 0, 1, 1, 0, 0, 1, 0, 0, 1, 0, 0, 1, 0, 0, 0, 0, 0, 1, 1, 1, 1, 0, 1, 0, 0, 0, 0, 0, 0, 1, 0, 1, 0, 1, 1, 1, 1, 0, 1, 1, 1, 1, 0, 1, 0, 0, 0, 1, 0, 1, 1, 1, 1, 0, 0, 0, 0, 0, 1, 1, 0, 0, 0, 0, 0, 1, 1, 1, 0, 1, 1, 0, 1, 1, 1, 0, 1, 0, 1, 0, 0, 1, 1, 0, 1, 0, 0, 0, 0, 1, 1, 1, 0, 1, 1, 0, 0, 0, 1, 1, 0, 1, 0, 0, 0, 0, 1, 0, 1, 1, 0, 0, 1, 0, 0, 0, 0, 1, 0, 0, 1, 0, 0, 0, 1, 0, 0, 0, 0, 0, 0, 1, 0, 0, 0, 1, 1, 0, 0, 0, 1, 1, 1, 1, 0, 0, 1, 1, 1, 0, 0, 0, 0, 1, 1, 1, 1, 1, 1, 1, 0, 1, 0, 0, 0, 1, 0, 0, 0, 1, 1, 0, 1, 1, 0, 0, 0, 0, 0, 0, 1, 0, 0, 0, 0, 0, 0, 0, 1, 1, 0, 1, 1, 0, 1, 1, 0, 0, 0, 1, 0, 0, 1, 0, 0, 0, 1, 0, 0, 1, 1, 0, 0, 0, 0, 0, 1, 0, 1, 0, 1, 0, 0, 0, 1, 0, 0, 1, 0, 1, 0, 0, 1, 1, 1, 0, 1, 0, 0, 0, 1, 1, 0, 1, 0, 0, 1, 0, 0, 0, 1, 0, 1, 1, 1, 0, 0, 0, 0, 0, 0, 0, 1, 0, 1, 0, 1, 0, 1, 0, 1, 0, 0, 1, 1, 0, 0, 1, 0, 1, 0, 1, 0, 0, 0, 0, 0, 0, 0, 0, 0, 1, 1, 0, 0, 1, 1, 0, 1, 0, 1, 1, 0, 1, 0, 0, 0, 1, 0, 0, 1, 0, 0, 1, 0, 0, 1, 1, 0, 0, 1, 1, 1, 0, 0, 0, 0, 0, 1, 0, 1, 1, 1, 0, 0, 1, 0, 0, 0, 1, 0, 1, 1, 0, 0, 1, 1, 1, 1, 0, 1, 0, 0, 0, 0, 0, 1, 1, 1, 1, 0, 1, 1, 1, 1, 0, 0, 1, 0, 1, 0, 1, 1, 0, 1, 0, 0, 1, 1, 1, 0, 1, 0, 1, 1, 0, 0, 0, 1, 0, 0, 1, 1, 0, 0, 0, 0, 0, 0, 0, 1, 0, 0, 0, 0, 0, 1, 1, 1, 0, 0, 0, 1, 0, 0, 0, 1, 0, 1, 0, 1, 1, 1, 0, 1, 1, 1, 0, 0, 1, 0, 0, 1, 1, 0, 1, 0, 1, 0, 1, 0, 0, 0, 1, 0, 0, 0, 1, 0, 1, 1, 1, 1, 0, 1, 0, 0, 0, 1, 0, 0, 1, 0, 0, 1, 1, 1, 0, 0, 0, 0, 0, 1, 1, 1, 1, 0, 1, 1, 0, 1, 0, 0, 0, 1, 0, 1, 0, 1, 1, 1, 0, 0, 0, 1, 1, 1, 1, 1, 0, 0, 0, 1, 0, 0, 0, 0, 0, 0, 0, 0, 0, 1, 0, 0, 0, 0, 1, 1, 0, 1, 1, 0, 0, 0, 0, 1, 0, 0, 0, 0, 0, 0, 0, 1, 0, 0, 0, 1, 1, 1, 1, 0, 1, 0, 0, 0, 0, 0, 0, 0, 1, 0, 0, 1, 1, 1, 0, 1, 0, 0, 0, 0, 0, 0, 1, 0, 0, 0, 0, 0, 1, 0, 0, 0, 0, 1, 0, 1, 0, 1, 1, 1, 0, 0, 0, 1, 0, 1, 0, 1, 1, 0, 1, 1, 0, 0, 0, 0, 0, 1, 1, 1, 0, 0, 1, 1, 1, 0, 1, 1, 0, 1, 0, 1, 0, 0, 1, 0, 1, 1, 1, 0, 1, 0, 0, 1, 1, 0, 1, 0, 0, 0, 1, 0, 0, 0, 0, 0, 1, 1, 0, 0, 1, 1, 0, 1, 0, 0, 0, 0, 0, 1, 1, 1, 0, 0, 0, 0, 0, 1, 0, 0, 0, 0, 0, 1, 1, 0, 0, 0, 0, 0, 0, 1, 0, 0, 0, 0, 0, 0, 0, 1, 0, 0, 1, 1, 1, 0, 1, 0, 0, 1, 0, 1, 1, 0, 1, 1, 1, 1, 0, 0, 1, 0, 1, 1, 0, 0, 1, 1, 0, 0, 0, 1, 1, 1, 0, 0, 0, 0, 0, 1, 0, 1, 1, 0, 1, 1, 1, 0, 1, 0, 1, 0, 0, 0, 0, 1, 0, 0, 0, 0, 0, 0, 0, 0, 1, 0, 1, 1, 0, 0, 1, 1, 1, 1, 0, 0, 0, 0, 1, 0, 1, 0, 1, 1, 0, 1, 0, 1, 0, 1, 0, 0, 1, 0, 0, 0, 0, 1, 1, 0, 1, 0, 0, 0, 1, 0, 1, 0, 0, 0, 1, 0, 0, 0, 0, 0, 0, 1, 1, 1, 0, 1, 1, 0, 0, 0, 0, 1, 1, 1, 0, 1, 0, 1, 0, 1, 1, 0, 0, 1, 1, 1, 1, 1, 0, 0, 0, 0, 0, 0, 0, 1, 0, 0, 0, 1, 0, 0, 0, 0, 0, 1, 0, 0, 0, 0, 0, 0, 0, 0, 1, 0, 1, 0, 1, 1, 0, 1, 1, 0, 0, 1, 1, 1, 1, 0, 1, 1, 0, 1, 0, 0, 1, 0, 0, 1, 0, 1, 0, 1, 1, 1, 0, 0, 1, 1, 1, 1, 1, 1, 0, 0, 1, 0, 0, 1, 1, 1, 0, 1, 1, 0, 1, 1, 0, 0, 0, 0, 0, 1, 0, 0, 1, 0, 0, 0, 1, 0, 0, 0, 1, 1, 0, 0, 1, 0, 1, 0, 1, 1, 0, 1, 0, 0, 1, 1, 1, 1, 1, 0, 1, 0, 0, 0, 0, 1, 0, 0, 1, 0, 0, 0, 0, 1, 0, 0, 0, 1, 0, 1, 0, 0, 1, 1, 0, 1, 0, 0, 0, 0, 0, 1, 1, 0, 0, 0, 0, 1, 0, 1, 0, 0, 1, 0, 1, 0, 1, 1, 0, 0, 1, 0, 1, 1, 0, 1, 1, 0, 1, 0, 1, 1, 1, 1, 0, 0, 0, 0, 1, 1, 0, 1, 0, 1, 0, 0, 0, 0, 0, 1, 1, 0, 1, 1, 0, 0, 0, 1, 0, 1, 1, 1, 0, 0, 0, 0, 1, 1, 0, 1, 0, 0, 1, 0, 0, 1, 0, 1, 0, 0, 0, 0, 0, 0, 0, 0, 1, 1, 1, 1, 0, 1, 0, 0, 0, 1, 0, 0, 0, 0, 1, 0, 1, 1, 0, 1, 0, 0, 0, 0, 0, 0, 0, 0, 1, 0, 0, 0, 1, 0, 1, 0, 0, 1, 0, 1, 0, 0, 1, 0, 0, 1, 1, 0, 1, 1, 0, 1, 1, 0, 0, 0, 0, 1, 0, 1, 0, 0, 0, 1, 0, 0, 1, 1, 0, 0, 0, 0, 1, 1, 0, 0, 0, 1, 1, 1, 0, 1, 0, 1, 0, 0, 1, 1, 0, 1, 0, 1, 0, 0, 1, 0, 1, 1, 0, 1, 0, 1, 0, 1, 0, 1, 1, 0, 1, 1, 1, 0, 1, 1, 0, 1, 1, 0, 0, 0, 1, 0, 0, 0, 1, 0, 1, 1, 0, 1, 0, 1, 0, 0, 0, 0, 1, 0, 0, 1, 0, 1, 0, 1, 1, 1, 1, 1, 0, 0, 0, 1, 0, 0, 0, 0, 0, 1, 0, 0, 0, 0, 1, 0, 0, 1, 0, 1, 1, 1, 0, 1, 0, 1, 0, 0, 1, 1, 0, 0, 1, 0, 0, 0, 1, 0, 1, 0, 1, 1, 1, 0, 0, 1, 1, 0, 0, 0, 0, 0, 1, 0, 0, 0, 1, 0, 1, 0, 1, 1, 0, 0, 1, 0, 1, 0, 1, 0, 0, 0, 1, 0, 0, 1, 0, 1, 0, 1, 1, 0, 0, 0, 1, 0, 0, 0, 0, 0, 1, 0, 1, 0, 0, 0, 1, 0, 0, 1, 1, 1, 1, 0, 0, 1, 1, 0, 1, 0, 0, 0, 1, 0, 0, 0, 0, 0, 1, 0, 0, 0, 1, 0, 0, 1, 1, 1, 0, 0, 0, 0, 1, 1, 0, 1, 0, 0, 1, 1, 0, 1, 0, 0, 1, 1, 0, 0, 1, 1, 0, 1, 0, 0, 0, 1, 0, 0, 0, 0, 1, 0, 1, 1, 1, 0, 0, 0, 1, 0, 0, 1, 0, 0, 0, 0, 0, 0, 0, 0, 1, 1, 0, 0, 0, 0, 0, 1, 1, 1, 1, 0, 0, 0, 0, 1, 1, 0, 0, 1, 1, 0, 1, 0, 1, 1, 1, 1, 0, 1, 0, 0, 1, 1, 0, 0, 1, 0, 0, 1, 1, 0, 1, 0, 0, 1, 1, 0, 1, 0, 1, 1, 0, 0, 0, 1, 1, 1, 0, 1, 0, 0, 0, 0, 1, 1, 0, 1, 0, 0, 0, 1, 0, 0, 0, 1, 0, 0, 0, 0, 0, 0, 0, 0, 0, 1, 1, 0, 0, 1, 0, 0, 0, 0, 0, 1, 1, 1, 0, 1, 1, 0, 0, 0, 0, 1, 0, 1, 0, 0, 1, 1, 0, 1, 1, 1, 1, 1, 0, 0, 0, 1, 1, 0, 1, 1, 0, 1, 0, 0, 0, 1, 1, 1, 1, 1, 0, 0, 1, 0, 1, 1, 1, 0, 0, 1, 0, 1, 0, 1, 0, 0, 0, 1, 0, 0, 1, 0, 0, 0, 0, 1, 0, 0, 0, 0, 0, 1, 0, 0, 0, 0, 0, 0, 1, 1, 0, 1, 0, 1, 0, 1, 0, 0, 0, 1, 0, 0, 0, 1, 0, 0, 1, 0, 1, 1, 1, 0, 0, 0, 0, 1, 1, 1, 1, 1, 1, 1, 1, 0, 1, 1, 0, 0, 1, 0, 1, 1, 1, 1, 0, 1, 0, 1, 1, 0, 1, 0, 1, 1, 0, 1, 0, 0, 0, 1, 0, 0, 0, 1, 0, 0, 0, 0, 1, 1, 0, 0, 0, 0, 1, 0, 1, 1, 1, 0, 1, 0, 1, 0, 0, 1, 0, 1, 0, 0, 0, 1, 0, 1, 1, 0, 0, 0, 1, 0, 1, 0, 0, 1, 1, 1, 0, 1, 1, 0, 1, 1, 1, 1, 1, 1, 0, 0, 0, 1, 1, 1, 0, 1, 0, 1, 0, 0, 0, 0, 1, 1, 1, 1, 0, 1, 0, 0, 0, 0, 0, 1, 1, 0, 1, 1, 0, 0, 1, 0, 1, 1, 0, 0, 0, 1, 0, 0, 0, 0, 0, 1, 0, 1, 0, 1, 1, 0, 1, 1, 1, 0, 0, 1, 0, 0, 1, 0, 0, 0, 0, 0, 0, 1, 0, 0, 0, 0, 1, 0, 0, 1, 0, 0, 1, 1, 0, 1, 0, 1, 0, 0, 0, 0, 1, 0, 0, 1, 0, 1, 0, 1, 1, 1, 0, 0, 1, 0, 0, 1, 1, 1, 0, 0, 0, 1, 1, 1, 0, 0, 1, 0, 1, 1, 1, 1, 1, 1, 1, 1, 1, 1, 1, 0, 0, 0, 0, 1, 0, 1, 1, 0, 1, 0, 0, 1, 0, 0, 1, 1, 0, 0, 0, 0, 0, 1, 1, 0, 1, 0, 0, 0, 1, 0, 1, 1, 0, 0, 1, 1, 0, 1, 0, 0, 0, 1, 1, 1, 1, 1, 0, 0, 0, 1, 0, 0, 0, 0, 0, 1, 0, 0, 0, 1, 1, 1, 1, 0, 0, 1, 0, 1, 0, 0, 0, 0, 0, 1, 0, 0, 0, 1, 0, 1, 0, 1, 0, 0, 1, 1, 1, 1, 0, 1, 0, 0, 0, 0, 1, 1, 1, 1, 1, 0, 0, 0, 1, 0, 1, 0, 0, 1, 1, 0, 0, 0, 0, 1, 1, 0]\n",
      "              precision    recall  f1-score   support\n",
      "\n",
      "  irrelevant       0.57      1.00      0.73      1149\n",
      "    relevant       1.00      0.00      0.00       851\n",
      "\n",
      "    accuracy                           0.57      2000\n",
      "   macro avg       0.79      0.50      0.37      2000\n",
      "weighted avg       0.76      0.57      0.42      2000\n",
      "\n",
      "MAE: 0.4399232442521821, RMSE: 0.4864845128135699\n",
      "1537 : storage16 gbram1  systemandroid jelly bean 4.2processor speed1.3 8mp 5mp 3g capacity2410 display size12.7 cm (5 inch)resolution1280 x 720 pixelsresolution typehdgpumali-400display typeipsdisplay colors16 mother display featuresgff crafts ips display, global gesture panel, screen-off gestures, corning gorilla glass iii\n",
      "386 : storage32 gbram3 gbexpandable storage256gb  systemandroid 11 (go edition)processor typemediatek helio a25processor speed1.8 16mp 8mp 4g capacity5000 display size16.56 cm (6.52 inch)resolution720 x 1600$$pixelresolution typehd+gpupowervr ge8320display typeips lcd\n",
      "1450 : storage64 gbram4 gbexpandable storage256gb  systemandroid oreo 8.1processor typemediatek helio p35processor speed2.3 13mp 2mp 8mp 3g capacity4230 display size15.75 cm (6.2 inch)resolution1520 x 720 pixelsresolution typehd+gpuimg ge8320display colors16.7mother display featuresscreen texture: a-si, in-cell touch panel technology, 89.35% screen ratio, color saturation: 72% ntsc (typical), screen contrast: 1200:1, maximum brightness: 480 nits, c3 touch panel glass, super full screen\n",
      "1768 : storage128 gbram8  systemandroid 13processor typesnapdragon 695processor speed2.2 2mp 64mp 2mp 64mp 16mp 16mp 5g capacity4500 display size16.21 cm (6.38 inch)resolution2400 x 1080 pixelsresolution typefull hd+display typefull hd+ amoled display\n",
      "1309 : storage128 gbram6 gbexpandable storage1tb  systemandroid 11processor typequalcomm snapdragon 720gprocessor speed2.3 64mp 12mp 5mp 5mp 32mp 4g capacity4500 display size16.51 cm (6.5 inch)resolution2400 x 1080 pixelsresolution typefull hd+display typefull hd+ super amoled displaydisplay colors16mother display features90hz refresh rate\n",
      "209 : storage64 gbram4 gbexpandable storage1tb  systemandroid 12processor typeunisoc t612processor speed1.82 50mp 3mp 50mp 5mp 3mp 50mp 5mp 5mp 4g capacity5000 display size16.51 cm (6.5 inch)resolution1600 x 720 pixelresolution typehd+gpuarm mali g57display typehd+ lcd displaydisplay colors16.7mother display featuresrefresh rate: 60 hz, aspect ratio: 20:9, screen-to-body ratio: 88.7%, screen contrast: 1500:1, maximum brightness: 400 nits, color saturation: 70%, sunlight screen support\n",
      "1730 : storage64 gbram4  systemandroid nougat 7.1processor typemt6763tprocessor speed2.5 13mp 8mp 3g capacity3180 display size14.48 cm (5.7 inch)resolution1440 x 720 pixelsgpuarm mali g71 mp2 770 mhzdisplay typetft in cellother display featuresscreen brightness: 450 cd/m2 (typ), color saturation 70 percent (typ), contrast: 1500:1 (typ), screen proportion: 83.9 percent (display area aa peripheral edge size/front glass area), multi touch, narrow border: 1.89mm (aa area to the edge of the glass size), multi-touch screen\n",
      "1730 : storage64 gbram4  systemandroid nougat 7.1processor typemt6763tprocessor speed2.5 13mp 8mp 3g capacity3180 display size14.48 cm (5.7 inch)resolution1440 x 720 pixelsgpuarm mali g71 mp2 770 mhzdisplay typetft in cellother display featuresscreen brightness: 450 cd/m2 (typ), color saturation 70 percent (typ), contrast: 1500:1 (typ), screen proportion: 83.9 percent (display area aa peripheral edge size/front glass area), multi touch, narrow border: 1.89mm (aa area to the edge of the glass size), multi-touch screen\n",
      "476 : storage128 gbram8 gbexpandable storage256gb  systemandroid 11processor typemediatek dimensity 800uprocessor speed2.4 48mp 8mp 2mp 2mp 48mp 8mp 2mp 2mp 16mp 16mp 5g capacity4310 display size16.33 cm (6.43 inch)resolution2400 x 1080$$pixelsresolution typefull hd+gpuarm g57 mc3display typefull hd+ super amoled displayhd game supportyesdisplay colors16.7mother display features90.8% screen-to-body ratio, color saturation: 96% ntsc (typ), 20:09 aspect ratio, color gamut: dci-p3, 93% coverage (typ), contrast ratio: 1000000:1, touch sampling rate: 135 hz (normal), 180 hz (game mode), ocf 2d high-definition film, oleophobic coating on screen, night mode, eye comfort\n"
     ]
    }
   ],
   "source": [
    "def get_relevance(target_mobile, comparison_mobile):\n",
    "    score = 0\n",
    "    if target_mobile['ram'] == comparison_mobile['ram']:\n",
    "        score += 0.25  # Increased weight for RAM similarity\n",
    "    if target_mobile['storage'] == comparison_mobile['storage']:\n",
    "        score += 0.3  # Increased weight for Storage similarity\n",
    "    if target_mobile['processor'] == comparison_mobile['processor']:\n",
    "        score += 0.4  # Increased weight for Processor similarity\n",
    "    if target_mobile['brand'] == comparison_mobile['brand']:\n",
    "        score += 0.5  # Increased weight for Brand similarity\n",
    "\n",
    "    # Additional comparisons with adjusted weights\n",
    "    if target_mobile['battery_capacity'] == comparison_mobile['battery_capacity']:\n",
    "        score += 0.1\n",
    "    if target_mobile['display_size'] == comparison_mobile['display_size']:\n",
    "        score += 0.1\n",
    "    if target_mobile['processor_speed'] == comparison_mobile['processor_speed']:\n",
    "        score += 0.1\n",
    "    # if target_mobile['weight'] == comparison_mobile['weight']:\n",
    "    #     score += 0.1\n",
    "    if target_mobile['camera'] == comparison_mobile['camera']:\n",
    "        score += 0.1\n",
    "    if target_mobile['network'] == comparison_mobile['network']:\n",
    "        score += 0.1\n",
    "    if target_mobile['operating_system'] == comparison_mobile['operating_system']:\n",
    "        score += 0.1\n",
    "\n",
    "    return 1 if score >= 0.312 else 0  # Updated threshold for relevance\n",
    "\n",
    "# Generate true relevance labels (y_true) based on specs similarity for all other mobiles\n",
    "target_mobile = mobiles_clean.iloc[target_mobile_index]\n",
    "y_true = [get_relevance(target_mobile, mobiles_clean.iloc[i]) for i in range(len(mobiles_clean))]\n",
    "\n",
    "# Print Predicted and True Labels\n",
    "print(f\"Predicted relevance labels based on cosine similarity: {y_pred}\")\n",
    "print(f\"True relevance labels based on specs similarity: {y_true}\")\n",
    "\n",
    "# Evaluate Precision, Recall, and F1-Score\n",
    "print(classification_report(y_true, y_pred, target_names=['irrelevant', 'relevant']))\n",
    "\n",
    "# Evaluate MAE and RMSE (if you're working with continuous similarity scores as well)\n",
    "mae = mean_absolute_error(y_true, predicted_scores)  # Using continuous similarity for y_pred\n",
    "rmse = np.sqrt(mean_squared_error(y_true, predicted_scores))\n",
    "\n",
    "print(f\"MAE: {mae}, RMSE: {rmse}\")\n",
    "\n",
    "def random_values(df, col_name, total=9):\n",
    "    if col_name not in mobiles_clean.columns:\n",
    "        raise ValueError(f\"Column '{col_name}' does not exist in the DataFrame.\")\n",
    "    \n",
    "    if mobiles_clean.empty:\n",
    "        raise ValueError(\"The DataFrame is empty.\")\n",
    "        \n",
    "    for i in range(total):\n",
    "        index = np.random.randint(mobiles_clean.shape[0])\n",
    "        print(index, ':', mobiles_clean[col_name].iloc[index])\n",
    "\n",
    "random_values(mobiles_clean, 'corpus')\n"
   ]
  },
  {
   "cell_type": "code",
   "execution_count": 93,
   "id": "39f19a5b-775d-4588-931f-36ccee7b619d",
   "metadata": {},
   "outputs": [
    {
     "name": "stdout",
     "output_type": "stream",
     "text": [
      "Predicted relevance labels based on cosine similarity: [0 0 0 ... 0 0 0]\n",
      "True relevance labels based on specs similarity: [0, 0, 0, 1, 0, 0, 1, 1, 1, 0, 0, 1, 1, 1, 0, 1, 0, 1, 1, 0, 1, 0, 1, 0, 0, 0, 1, 0, 0, 0, 0, 0, 1, 0, 0, 0, 0, 1, 0, 0, 1, 0, 1, 1, 1, 0, 0, 0, 1, 0, 0, 1, 0, 0, 0, 0, 1, 0, 1, 0, 0, 0, 1, 1, 0, 1, 1, 0, 0, 0, 0, 1, 1, 1, 0, 0, 1, 0, 1, 1, 0, 0, 1, 0, 0, 1, 0, 0, 1, 0, 0, 0, 0, 0, 1, 1, 1, 1, 0, 1, 0, 0, 0, 0, 0, 0, 1, 0, 1, 0, 1, 1, 1, 1, 0, 1, 1, 1, 1, 0, 1, 0, 0, 0, 1, 0, 1, 1, 1, 1, 0, 0, 0, 0, 0, 1, 1, 0, 0, 0, 0, 0, 1, 1, 1, 0, 1, 1, 0, 1, 1, 1, 0, 1, 0, 1, 0, 0, 1, 1, 0, 1, 0, 0, 0, 0, 1, 1, 1, 0, 1, 1, 0, 0, 0, 1, 1, 0, 1, 0, 0, 0, 0, 1, 0, 1, 1, 0, 0, 1, 0, 0, 0, 0, 1, 0, 0, 1, 0, 0, 0, 1, 0, 0, 0, 0, 0, 0, 1, 0, 0, 0, 1, 1, 0, 0, 0, 1, 1, 1, 1, 0, 0, 1, 1, 1, 0, 0, 0, 0, 1, 1, 1, 1, 1, 1, 1, 0, 1, 0, 0, 0, 1, 0, 0, 0, 1, 1, 0, 1, 1, 0, 0, 0, 0, 0, 0, 1, 0, 0, 0, 0, 0, 0, 0, 1, 1, 0, 1, 1, 0, 1, 1, 0, 0, 0, 1, 0, 0, 1, 0, 0, 0, 1, 0, 0, 1, 1, 0, 0, 1, 0, 0, 1, 0, 1, 0, 1, 0, 0, 0, 1, 0, 0, 1, 0, 1, 0, 0, 1, 1, 1, 0, 1, 0, 0, 0, 1, 1, 0, 1, 0, 0, 1, 0, 0, 0, 1, 0, 1, 1, 1, 0, 0, 0, 0, 0, 0, 0, 1, 0, 1, 0, 1, 0, 1, 0, 1, 0, 0, 1, 1, 0, 0, 1, 0, 1, 0, 1, 0, 0, 0, 0, 0, 0, 0, 0, 0, 1, 1, 0, 0, 1, 1, 0, 1, 0, 1, 1, 0, 1, 0, 0, 0, 1, 0, 0, 1, 0, 0, 1, 0, 0, 1, 1, 0, 0, 1, 1, 1, 0, 0, 0, 0, 0, 1, 0, 1, 1, 1, 0, 0, 1, 0, 0, 0, 1, 0, 1, 1, 0, 0, 1, 1, 1, 1, 0, 1, 0, 0, 0, 0, 0, 1, 1, 1, 1, 0, 1, 1, 1, 1, 0, 0, 1, 0, 1, 0, 1, 1, 0, 1, 0, 0, 1, 1, 1, 0, 1, 0, 1, 1, 0, 0, 0, 1, 0, 0, 1, 1, 0, 0, 0, 0, 0, 0, 0, 1, 0, 0, 0, 0, 0, 1, 1, 1, 0, 0, 0, 1, 0, 0, 0, 1, 0, 1, 0, 1, 1, 1, 0, 1, 1, 1, 0, 0, 1, 0, 0, 1, 1, 0, 1, 0, 1, 0, 1, 0, 1, 0, 1, 0, 0, 0, 1, 0, 1, 1, 1, 1, 0, 1, 0, 0, 0, 1, 0, 0, 1, 0, 0, 1, 1, 1, 0, 0, 0, 0, 0, 1, 1, 1, 1, 0, 1, 1, 0, 1, 0, 0, 0, 1, 0, 1, 0, 1, 1, 1, 0, 0, 0, 1, 1, 1, 1, 1, 0, 0, 0, 1, 0, 0, 0, 0, 0, 0, 0, 0, 0, 1, 0, 0, 0, 0, 1, 1, 0, 1, 1, 0, 0, 0, 0, 1, 0, 0, 0, 0, 0, 0, 0, 1, 0, 0, 0, 1, 1, 1, 1, 0, 1, 0, 0, 0, 0, 0, 0, 0, 1, 0, 0, 1, 1, 1, 0, 1, 0, 0, 0, 0, 0, 0, 1, 0, 0, 0, 0, 0, 1, 0, 0, 0, 0, 1, 0, 1, 0, 1, 1, 1, 0, 0, 0, 1, 0, 1, 0, 1, 1, 0, 1, 1, 0, 0, 0, 0, 0, 1, 1, 1, 0, 0, 1, 1, 1, 0, 1, 1, 0, 1, 0, 1, 0, 0, 1, 0, 1, 1, 1, 0, 1, 0, 0, 1, 1, 0, 1, 0, 0, 0, 1, 0, 0, 0, 0, 0, 1, 1, 0, 0, 1, 1, 0, 1, 0, 0, 0, 0, 0, 1, 1, 1, 0, 0, 0, 0, 0, 1, 0, 0, 0, 0, 0, 1, 1, 0, 0, 0, 0, 0, 0, 1, 0, 0, 0, 0, 0, 0, 0, 1, 0, 0, 1, 1, 1, 0, 1, 0, 0, 1, 0, 1, 1, 0, 1, 1, 1, 1, 0, 0, 1, 0, 1, 1, 0, 0, 1, 1, 0, 0, 0, 1, 1, 1, 0, 0, 0, 0, 0, 1, 0, 1, 1, 0, 1, 1, 1, 0, 1, 0, 1, 0, 0, 0, 0, 1, 0, 0, 0, 0, 0, 0, 0, 0, 1, 0, 1, 1, 0, 0, 1, 1, 1, 1, 0, 0, 0, 0, 1, 0, 1, 0, 1, 1, 0, 1, 0, 1, 0, 1, 0, 0, 1, 0, 0, 0, 0, 1, 1, 0, 1, 0, 0, 0, 1, 0, 1, 0, 0, 0, 1, 0, 0, 0, 0, 0, 0, 1, 1, 1, 0, 1, 1, 1, 0, 0, 0, 1, 1, 1, 0, 1, 0, 1, 0, 1, 1, 0, 0, 1, 1, 1, 1, 1, 0, 0, 0, 0, 0, 0, 0, 1, 0, 0, 0, 1, 0, 0, 0, 0, 0, 1, 0, 0, 0, 0, 0, 0, 0, 0, 1, 0, 1, 0, 1, 1, 0, 1, 1, 0, 0, 1, 1, 1, 1, 0, 1, 1, 0, 1, 0, 0, 1, 0, 0, 1, 0, 1, 0, 1, 1, 1, 0, 0, 1, 1, 1, 1, 1, 1, 0, 0, 1, 1, 0, 1, 1, 1, 0, 1, 1, 0, 1, 1, 0, 0, 0, 0, 0, 1, 0, 0, 1, 0, 0, 0, 1, 0, 0, 0, 1, 1, 0, 0, 1, 0, 1, 0, 1, 1, 0, 1, 0, 0, 1, 1, 1, 1, 1, 0, 1, 0, 0, 0, 0, 1, 0, 0, 1, 0, 0, 0, 0, 1, 0, 0, 0, 1, 0, 1, 0, 0, 1, 1, 0, 1, 0, 0, 0, 0, 0, 1, 1, 0, 0, 0, 0, 1, 0, 1, 0, 0, 1, 0, 1, 0, 1, 1, 0, 0, 1, 0, 1, 1, 0, 1, 1, 0, 1, 0, 1, 1, 1, 1, 0, 0, 0, 0, 1, 1, 0, 1, 0, 1, 0, 0, 0, 0, 0, 1, 1, 0, 1, 1, 0, 0, 0, 1, 0, 1, 1, 1, 0, 0, 0, 0, 1, 1, 0, 1, 0, 0, 1, 0, 0, 1, 0, 1, 0, 0, 0, 0, 0, 0, 0, 0, 1, 1, 1, 1, 0, 1, 0, 0, 0, 1, 0, 0, 0, 0, 1, 0, 1, 1, 0, 1, 0, 0, 0, 0, 0, 0, 0, 0, 1, 0, 0, 0, 1, 0, 1, 0, 0, 1, 0, 1, 0, 0, 1, 0, 0, 1, 1, 0, 1, 1, 0, 1, 1, 0, 0, 0, 0, 1, 0, 1, 0, 0, 0, 1, 0, 0, 1, 1, 0, 0, 0, 0, 1, 1, 0, 0, 0, 1, 1, 1, 0, 1, 0, 1, 0, 0, 1, 1, 0, 1, 0, 1, 0, 0, 1, 0, 1, 1, 0, 1, 0, 1, 0, 1, 0, 1, 1, 0, 1, 1, 1, 0, 1, 1, 0, 1, 1, 0, 0, 0, 1, 0, 0, 0, 1, 0, 1, 1, 0, 1, 0, 1, 0, 0, 0, 0, 1, 0, 0, 1, 0, 1, 0, 1, 1, 1, 1, 1, 0, 0, 0, 1, 0, 0, 0, 0, 0, 1, 0, 0, 0, 0, 1, 0, 0, 1, 0, 1, 1, 1, 0, 1, 0, 1, 0, 0, 1, 1, 0, 0, 1, 0, 0, 0, 1, 0, 1, 0, 1, 1, 1, 0, 0, 1, 1, 0, 0, 1, 0, 0, 1, 0, 0, 0, 1, 0, 1, 0, 1, 1, 0, 0, 1, 0, 1, 0, 1, 0, 0, 0, 1, 0, 0, 1, 0, 1, 0, 1, 1, 0, 0, 0, 1, 0, 0, 0, 0, 0, 1, 0, 1, 0, 0, 0, 1, 0, 1, 1, 1, 1, 1, 0, 0, 1, 1, 0, 1, 0, 0, 0, 1, 0, 0, 0, 0, 0, 1, 0, 0, 0, 1, 0, 0, 1, 1, 1, 0, 0, 0, 0, 1, 1, 0, 1, 0, 0, 1, 1, 0, 1, 0, 0, 1, 1, 0, 0, 1, 1, 0, 1, 0, 0, 0, 1, 0, 0, 0, 0, 1, 0, 1, 1, 1, 0, 0, 0, 1, 0, 0, 1, 0, 0, 0, 0, 0, 0, 0, 0, 1, 1, 0, 0, 0, 0, 0, 1, 1, 1, 1, 0, 0, 0, 0, 1, 1, 0, 0, 1, 1, 0, 1, 0, 1, 1, 1, 1, 0, 1, 0, 0, 1, 1, 0, 0, 1, 0, 0, 1, 1, 0, 1, 0, 0, 1, 1, 0, 1, 0, 1, 1, 0, 0, 0, 1, 1, 1, 0, 1, 0, 0, 0, 0, 1, 1, 0, 1, 1, 0, 0, 1, 0, 0, 0, 1, 0, 0, 0, 0, 0, 0, 0, 0, 0, 1, 1, 0, 0, 1, 0, 0, 0, 0, 0, 1, 1, 1, 1, 1, 1, 0, 0, 0, 0, 1, 0, 1, 0, 0, 1, 1, 0, 1, 1, 1, 1, 1, 0, 0, 0, 1, 1, 0, 1, 1, 0, 1, 0, 0, 0, 1, 1, 1, 1, 1, 0, 0, 1, 0, 1, 1, 1, 0, 0, 1, 0, 1, 0, 1, 0, 0, 0, 1, 0, 0, 1, 0, 0, 0, 0, 1, 0, 0, 0, 0, 0, 1, 0, 0, 0, 0, 0, 0, 1, 1, 0, 1, 0, 1, 0, 1, 0, 0, 0, 1, 0, 0, 0, 1, 0, 0, 1, 0, 1, 1, 1, 1, 0, 0, 0, 1, 1, 1, 1, 1, 1, 1, 1, 0, 1, 1, 0, 0, 1, 0, 1, 1, 1, 1, 0, 1, 0, 1, 1, 0, 1, 0, 1, 1, 0, 1, 0, 0, 0, 1, 0, 0, 0, 1, 0, 0, 0, 0, 1, 1, 0, 0, 0, 0, 1, 0, 1, 1, 1, 0, 1, 0, 1, 0, 0, 1, 0, 1, 0, 0, 0, 1, 0, 1, 1, 0, 0, 0, 1, 0, 1, 0, 0, 1, 1, 1, 0, 1, 1, 0, 1, 1, 1, 1, 1, 1, 0, 0, 0, 1, 1, 1, 0, 1, 0, 1, 0, 0, 0, 0, 1, 1, 1, 1, 0, 1, 0, 0, 0, 0, 0, 1, 1, 0, 1, 1, 0, 0, 1, 0, 1, 1, 0, 0, 0, 1, 0, 0, 0, 0, 0, 1, 0, 1, 0, 1, 1, 0, 1, 1, 1, 0, 0, 1, 0, 0, 1, 0, 0, 0, 0, 0, 0, 1, 0, 0, 0, 0, 1, 0, 0, 1, 0, 0, 1, 1, 0, 1, 0, 1, 0, 0, 0, 0, 1, 0, 0, 1, 0, 1, 0, 1, 1, 1, 0, 0, 1, 0, 0, 1, 1, 1, 0, 0, 0, 1, 1, 1, 0, 0, 1, 0, 1, 1, 1, 1, 1, 1, 1, 1, 1, 1, 1, 0, 0, 0, 0, 1, 0, 1, 1, 0, 1, 0, 0, 1, 0, 0, 1, 1, 0, 0, 0, 0, 0, 1, 1, 0, 1, 0, 0, 0, 1, 0, 1, 1, 0, 0, 1, 1, 0, 1, 0, 0, 0, 1, 1, 1, 1, 1, 0, 0, 0, 1, 0, 0, 0, 0, 0, 1, 0, 0, 0, 1, 1, 1, 1, 0, 0, 1, 0, 1, 0, 0, 0, 0, 0, 1, 0, 0, 0, 1, 0, 1, 0, 1, 0, 0, 1, 1, 1, 1, 0, 1, 0, 0, 0, 0, 1, 1, 1, 1, 1, 0, 0, 0, 1, 0, 1, 0, 0, 1, 1, 0, 0, 0, 0, 1, 1, 0]\n",
      "              precision    recall  f1-score   support\n",
      "\n",
      "  irrelevant       0.57      1.00      0.73      1140\n",
      "    relevant       1.00      0.00      0.00       860\n",
      "\n",
      "    accuracy                           0.57      2000\n",
      "   macro avg       0.79      0.50      0.36      2000\n",
      "weighted avg       0.76      0.57      0.42      2000\n",
      "\n",
      "MAE: 0.44188269827948945, RMSE: 0.48849425302122423\n",
      "1554 : storage64 gbram4 gbtotal memory64gb  systemandroid 12processor speed2.3 13mp 2mp 5mp 4g capacity5000 display size16.51 cm (6.5 inch)resolution1600 x 720 pixelsresolution typehdgpuimagination ge8320display typehd lcd displayhd game supportyesother display featureshd+ lcd in-cell touch display\n",
      "33 : storage64 gbram4  systemandroid q 10processor speed2.3 13mp 2mp 5mp 4g capacity5000 display size16.59 cm (6.53 inch)resolution720 x 1600$$pixelresolution typehd+gpupowervr8320display typeips lcdother display featuressupports color temperature adjustment , standard mode , reading mode ,supports sunlight mode\n",
      "368 : storage256 gbram8  systemandroid 12processor typemediatek dimensity 1080processor speed2.6 50mp 8mp 2mp 50mp 16mp 5g capacity5000 display size16.94 cm (6.67 inch)resolution2400 x 1080 pixelsresolution typefull hd+ amoled displaygpuarm mali-g68 mc4display typefull hd+ amoled displayother display featuresrefresh rate: 120 hz, contrast: 5,000,000:1, 1920hz pwm dimming, brightness level: 16000:1, peak brightness: 900 nits\n",
      "1429 : storage64 gbram4 gbexpandable storage256gb  systemandroid pie 9processor typequalcomm snapdragon 665processor speed2 48mp 8mp 2mp 2mp 48mp 48mp 8mp 2mp 2mp 48mp 8mp 2mp 2mp 48mp 8mp 2mp 2mp 13mp 3g capacity5000 display size16.51 cm (6.5 inch)resolution720 x 1600 pixelsresolution typehd+gpuadreno 610other display featuresin cell touch panel technology, screen texture: lcd, bezel: aa to tp edge: 1.98, aa to phone edge: 3.85, aa to tp upper panel edge: 2.44, aa to phone edge: 4.66, aa to tp lower panel edge: 6.6, aa to phone edge: 8.82, screen ratio: 89%, screen contrast: 1200:1 (typ)/900:1 (min), screen refresh rate: 60 hz, color saturation: ntsc 72%typ, maximum brightness: 480 typ/400 min, touch screen glass material: corning gorilla glass 3+, touch points: 10, touch screen supplier: auo, holitech\n",
      "113 : storage256 gbram8  systemandroid 12processor typesnapdragon 8 gen 1processor speed3 50mp 50mp 50mp 50mp 50mp 50mp 50mp 32mp 32mp 5g capacity4600 display size17.09 cm (6.73 inch)resolution2400 x 1080 pixelsresolution typefull hd+gpuqualcomm adrenodisplay typefull hd+ 2k+ amoled displaydisplay colors2kother display features2k+ amoled display, 120hz adaptive sync pro display, 1500nits peak brightness, touch sampling rate: upto 480hz, in-display fingerprint, over 1 billion colors, color gamut: dci-p3, contrast ratio: 8,000,000: 1, hdr10+ dolby vision, 16000 level brightness adjustment, corning gorilla glass victus, reading mode, sunlight mode, 360 degree ambient light sensor, displaymate a+sgs, eye care display certification\n",
      "671 : storage256 gbram12  systemandroid 10processor typequalcomm snapdragon 855+processor speed2.96 64mp 8mp 8mp 2mp 32mp 8mp 4g capacity4200 display size16.69 cm (6.57 inch)resolution2400 × 1080 pixelsresolution typefull hd+gpuadreno 640 gpudisplay typefull hd+ in-cell lcd displaydisplay colors16.7mother display featurescog screen sealing process, 20:9 screen ratio, 90.5% screen-to-body ratio, 1500:1 (typ) / 1000:1 (min) screen contrast, 120 hz (partial application support), ntsc 81.5% (typ) color saturation, 480 (typ) / 400 (min) brightness, sunlight screen support, 2.5d gg5 touch screen glass material, 120 hz touch sampling rate, 10 touch points, oleophpbic coating\n",
      "484 : storage32 gbram4 gbexpandable storage256gb  systemandroid oreo 8.1processor typequalcomm snapdragon 450processor speed1.8 13mp 2mp 8mp 3g capacity4230 display size15.75 cm (6.2 inch)resolution1520 x 720 pixelsresolution typehd+gpuadreno 506display typeips capacitiveother display featurescorning gorilla glass 3\n",
      "728 : storage128 gbram6 gbexpandable storage256gb  systemandroid 11processor typemediatek helio g85processor speed2 48mp 2mp 2mp 48mp 2mp 2mp 16mp 16mp 4g capacity5000 display size17.65 cm (6.95 inch)resolution2460 x 1080 pixelsresolution typefull hd+display typefull hd+ ips in-cell displayother display features180hz touch sampling rate, neg dinorex t2x-1 glass protection, 20.5:9 aspect ratio, 480 nits brightness, 90.1% screen-to-body ratio, 1500:1 contrast ratio, eye care mode\n",
      "929 : storage64 gbram4 gbtotal memory64gb  systemandroid 11processor typeunisoc ums9230processor speed1.6 13mp 2mp 2mp 5mp 4g capacity5000 display size16.51 cm (6.5 inch)resolution1600 x 720 pixelsresolution typehd+gpuarm mali g57display typehd+\n"
     ]
    }
   ],
   "source": [
    "def get_relevance(target_mobile, comparison_mobile):\n",
    "    score = 0\n",
    "    # Increased weights for more significant features\n",
    "    if target_mobile['ram'] == comparison_mobile['ram']:\n",
    "        score += 0.3  # Increased weight for RAM similarity\n",
    "    if target_mobile['storage'] == comparison_mobile['storage']:\n",
    "        score += 0.4  # Increased weight for Storage similarity\n",
    "    if target_mobile['processor'] == comparison_mobile['processor']:\n",
    "        score += 0.5  # Increased weight for Processor similarity\n",
    "    if target_mobile['brand'] == comparison_mobile['brand']:\n",
    "        score += 0.6  # Increased weight for Brand similarity\n",
    "\n",
    "    # Additional comparisons with modified weights\n",
    "    if target_mobile['battery_capacity'] == comparison_mobile['battery_capacity']:\n",
    "        score += 0.15  # Slightly increased\n",
    "    if target_mobile['display_size'] == comparison_mobile['display_size']:\n",
    "        score += 0.1\n",
    "    if target_mobile['processor_speed'] == comparison_mobile['processor_speed']:\n",
    "        score += 0.1\n",
    "    # if target_mobile['weight'] == comparison_mobile['weight']:\n",
    "    #     score += 0.1\n",
    "    if target_mobile['camera'] == comparison_mobile['camera']:\n",
    "        score += 0.1\n",
    "    if target_mobile['network'] == comparison_mobile['network']:\n",
    "        score += 0.1\n",
    "    if target_mobile['operating_system'] == comparison_mobile['operating_system']:\n",
    "        score += 0.1\n",
    "\n",
    "    # Consider additional features\n",
    "    # if target_mobile['price'] <= comparison_mobile['price']:  # Example for price\n",
    "    #     score += 0.1\n",
    "    # if target_mobile['release_year'] >= comparison_mobile['release_year']:  # Example for release year\n",
    "    #     score += 0.1\n",
    "\n",
    "    # Change threshold based on new scoring\n",
    "    return 1 if score >= 0.4 else 0  # Adjusted threshold for relevance\n",
    "# Generate true relevance labels (y_true) based on specs similarity for all other mobiles\n",
    "target_mobile = mobiles_clean.iloc[target_mobile_index]\n",
    "y_true = [get_relevance(target_mobile, mobiles_clean.iloc[i]) for i in range(len(mobiles_clean))]\n",
    "\n",
    "# Print Predicted and True Labels\n",
    "print(f\"Predicted relevance labels based on cosine similarity: {y_pred}\")\n",
    "print(f\"True relevance labels based on specs similarity: {y_true}\")\n",
    "\n",
    "# Evaluate Precision, Recall, and F1-Score\n",
    "print(classification_report(y_true, y_pred, target_names=['irrelevant', 'relevant']))\n",
    "\n",
    "# Evaluate MAE and RMSE (if you're working with continuous similarity scores as well)\n",
    "mae = mean_absolute_error(y_true, predicted_scores)  # Using continuous similarity for y_pred\n",
    "rmse = np.sqrt(mean_squared_error(y_true, predicted_scores))\n",
    "\n",
    "print(f\"MAE: {mae}, RMSE: {rmse}\")\n",
    "\n",
    "def random_values(df, col_name, total=9):\n",
    "    if col_name not in mobiles_clean.columns:\n",
    "        raise ValueError(f\"Column '{col_name}' does not exist in the DataFrame.\")\n",
    "    \n",
    "    if mobiles_clean.empty:\n",
    "        raise ValueError(\"The DataFrame is empty.\")\n",
    "        \n",
    "    for i in range(total):\n",
    "        index = np.random.randint(mobiles_clean.shape[0])\n",
    "        print(index, ':', mobiles_clean[col_name].iloc[index])\n",
    "\n",
    "random_values(mobiles_clean, 'corpus')\n"
   ]
  },
  {
   "cell_type": "code",
   "execution_count": 94,
   "id": "2a15abeb-86d6-4f47-8f13-ab13e06e4d10",
   "metadata": {},
   "outputs": [
    {
     "name": "stdout",
     "output_type": "stream",
     "text": [
      "Predicted relevance labels based on cosine similarity: [0 0 0 ... 0 0 0]\n",
      "True relevance labels based on specs similarity: [0, 0, 0, 1, 0, 0, 1, 1, 1, 0, 0, 1, 1, 1, 0, 1, 0, 1, 1, 0, 1, 0, 1, 0, 0, 0, 1, 0, 0, 0, 0, 0, 1, 0, 0, 0, 1, 1, 0, 0, 1, 0, 1, 1, 1, 0, 0, 0, 1, 0, 0, 1, 0, 0, 0, 0, 1, 0, 1, 0, 0, 0, 1, 1, 0, 1, 1, 0, 0, 0, 0, 1, 1, 1, 0, 0, 1, 0, 1, 1, 0, 0, 1, 0, 0, 1, 0, 0, 1, 0, 0, 0, 0, 0, 1, 1, 1, 1, 0, 1, 0, 0, 0, 0, 0, 0, 1, 0, 1, 0, 1, 1, 1, 1, 0, 1, 1, 1, 1, 0, 1, 0, 0, 0, 1, 0, 1, 1, 1, 1, 0, 0, 0, 0, 0, 1, 1, 0, 0, 0, 0, 0, 1, 1, 1, 0, 1, 1, 0, 1, 1, 1, 0, 1, 0, 1, 0, 0, 1, 1, 0, 1, 0, 0, 0, 0, 1, 1, 1, 0, 1, 1, 0, 0, 0, 1, 1, 0, 1, 0, 0, 0, 0, 1, 0, 1, 1, 0, 0, 1, 0, 0, 0, 1, 1, 0, 0, 1, 0, 0, 0, 1, 0, 0, 0, 0, 0, 0, 1, 0, 0, 0, 1, 1, 0, 0, 0, 1, 1, 1, 1, 0, 0, 1, 1, 1, 0, 0, 0, 0, 1, 1, 1, 1, 1, 1, 1, 0, 1, 0, 0, 0, 1, 0, 0, 0, 1, 1, 0, 1, 1, 0, 0, 0, 0, 0, 0, 1, 0, 0, 0, 0, 0, 0, 0, 1, 1, 0, 1, 1, 0, 1, 1, 0, 0, 0, 1, 0, 0, 1, 0, 0, 0, 1, 0, 0, 1, 1, 0, 0, 1, 0, 0, 1, 0, 1, 0, 1, 0, 0, 0, 1, 0, 0, 1, 0, 1, 0, 0, 1, 1, 1, 0, 1, 0, 0, 0, 1, 1, 0, 1, 0, 0, 1, 0, 0, 0, 1, 0, 1, 1, 1, 0, 0, 0, 0, 0, 0, 0, 1, 0, 1, 0, 1, 0, 1, 0, 1, 0, 0, 1, 1, 0, 0, 1, 0, 1, 0, 1, 0, 0, 0, 0, 0, 0, 0, 0, 0, 1, 1, 0, 0, 1, 1, 0, 1, 0, 1, 1, 0, 1, 0, 0, 0, 1, 0, 0, 1, 0, 0, 1, 0, 0, 1, 1, 0, 0, 1, 1, 1, 0, 0, 0, 0, 0, 1, 0, 1, 1, 1, 0, 0, 1, 0, 0, 0, 1, 0, 1, 1, 0, 0, 1, 1, 1, 1, 0, 1, 0, 0, 0, 0, 0, 1, 1, 1, 1, 0, 1, 1, 1, 1, 0, 0, 1, 0, 1, 0, 1, 1, 0, 1, 0, 0, 1, 1, 1, 0, 1, 0, 1, 1, 0, 0, 0, 1, 0, 0, 1, 1, 0, 0, 0, 0, 0, 0, 0, 1, 0, 0, 0, 0, 0, 1, 1, 1, 0, 0, 0, 1, 0, 0, 0, 1, 0, 1, 0, 1, 1, 1, 0, 1, 1, 1, 0, 0, 1, 0, 0, 1, 1, 0, 1, 0, 1, 0, 1, 0, 1, 0, 1, 0, 0, 0, 1, 0, 1, 1, 1, 1, 0, 1, 0, 0, 0, 1, 0, 0, 1, 0, 0, 1, 1, 1, 0, 0, 0, 0, 0, 1, 1, 1, 1, 0, 1, 1, 0, 1, 0, 0, 0, 1, 0, 1, 0, 1, 1, 1, 0, 0, 0, 1, 1, 1, 1, 1, 0, 0, 0, 1, 0, 0, 0, 0, 0, 0, 0, 0, 0, 1, 0, 0, 0, 0, 1, 1, 0, 1, 1, 0, 0, 0, 0, 1, 0, 0, 0, 0, 0, 0, 0, 1, 0, 0, 0, 1, 1, 1, 1, 0, 1, 0, 0, 0, 0, 0, 0, 0, 1, 0, 0, 1, 1, 1, 0, 1, 0, 0, 0, 0, 0, 0, 1, 0, 0, 0, 0, 0, 1, 0, 0, 0, 0, 1, 0, 1, 0, 1, 1, 1, 0, 0, 0, 1, 0, 1, 0, 1, 1, 0, 1, 1, 0, 0, 0, 0, 0, 1, 1, 1, 0, 0, 1, 1, 1, 0, 1, 1, 0, 1, 0, 1, 0, 0, 1, 0, 1, 1, 1, 0, 1, 0, 0, 1, 1, 0, 1, 0, 0, 0, 1, 0, 0, 0, 0, 0, 1, 1, 0, 0, 1, 1, 0, 1, 0, 0, 0, 0, 0, 1, 1, 1, 0, 0, 0, 0, 0, 1, 0, 0, 0, 0, 0, 1, 1, 0, 0, 0, 0, 0, 0, 1, 0, 0, 0, 0, 0, 0, 0, 1, 0, 0, 1, 1, 1, 0, 1, 0, 0, 1, 0, 1, 1, 0, 1, 1, 1, 1, 0, 0, 1, 0, 1, 1, 0, 0, 1, 1, 0, 0, 0, 1, 1, 1, 0, 0, 0, 0, 0, 1, 0, 1, 1, 0, 1, 1, 1, 0, 1, 0, 1, 0, 0, 0, 0, 1, 0, 0, 0, 0, 0, 0, 0, 0, 1, 0, 1, 1, 0, 0, 1, 1, 1, 1, 0, 0, 0, 0, 1, 0, 1, 0, 1, 1, 0, 1, 0, 1, 0, 1, 0, 0, 1, 0, 0, 0, 0, 1, 1, 0, 1, 0, 0, 0, 1, 0, 1, 0, 0, 0, 1, 0, 0, 0, 0, 0, 0, 1, 1, 1, 0, 1, 1, 1, 0, 0, 0, 1, 1, 1, 0, 1, 0, 1, 0, 1, 1, 0, 0, 1, 1, 1, 1, 1, 0, 0, 0, 0, 0, 0, 0, 1, 0, 0, 0, 1, 0, 0, 0, 0, 0, 1, 0, 0, 0, 0, 0, 0, 0, 0, 1, 0, 1, 0, 1, 1, 0, 1, 1, 0, 0, 1, 1, 1, 1, 1, 1, 1, 0, 1, 0, 0, 1, 0, 0, 1, 0, 1, 0, 1, 1, 1, 0, 0, 1, 1, 1, 1, 1, 1, 0, 0, 1, 1, 0, 1, 1, 1, 1, 1, 1, 0, 1, 1, 0, 0, 0, 0, 0, 1, 0, 0, 1, 0, 0, 0, 1, 0, 0, 0, 1, 1, 0, 0, 1, 0, 1, 0, 1, 1, 0, 1, 0, 0, 1, 1, 1, 1, 1, 0, 1, 0, 0, 0, 0, 1, 0, 0, 1, 0, 0, 0, 0, 1, 0, 0, 0, 1, 0, 1, 0, 0, 1, 1, 0, 1, 0, 0, 0, 0, 0, 1, 1, 0, 0, 0, 0, 1, 0, 1, 0, 0, 1, 0, 1, 0, 1, 1, 0, 0, 1, 0, 1, 1, 0, 1, 1, 0, 1, 0, 1, 1, 1, 1, 0, 0, 0, 0, 1, 1, 0, 1, 0, 1, 0, 0, 0, 0, 0, 1, 1, 0, 1, 1, 0, 0, 0, 1, 0, 1, 1, 1, 0, 0, 0, 0, 1, 1, 0, 1, 0, 0, 1, 0, 0, 1, 0, 1, 0, 0, 0, 0, 0, 0, 0, 0, 1, 1, 1, 1, 0, 1, 0, 0, 0, 1, 0, 0, 0, 0, 1, 0, 1, 1, 0, 1, 0, 0, 0, 0, 0, 0, 0, 0, 1, 0, 0, 0, 1, 0, 1, 0, 0, 1, 0, 1, 0, 0, 1, 0, 0, 1, 1, 0, 1, 1, 0, 1, 1, 0, 0, 0, 0, 1, 0, 1, 0, 0, 0, 1, 0, 0, 1, 1, 0, 0, 0, 0, 1, 1, 0, 0, 0, 1, 1, 1, 0, 1, 0, 1, 0, 0, 1, 1, 0, 1, 0, 1, 0, 0, 1, 0, 1, 1, 0, 1, 0, 1, 0, 1, 0, 1, 1, 0, 1, 1, 1, 0, 1, 1, 0, 1, 1, 0, 0, 0, 1, 0, 0, 0, 1, 0, 1, 1, 0, 1, 0, 1, 0, 0, 0, 0, 1, 0, 0, 1, 0, 1, 0, 1, 1, 1, 1, 1, 0, 0, 0, 1, 0, 0, 0, 0, 0, 1, 0, 0, 0, 0, 1, 0, 0, 1, 0, 1, 1, 1, 0, 1, 0, 1, 0, 0, 1, 1, 0, 0, 1, 0, 0, 0, 1, 0, 1, 0, 1, 1, 1, 0, 0, 1, 1, 0, 0, 1, 0, 0, 1, 0, 0, 0, 1, 0, 1, 0, 1, 1, 0, 0, 1, 0, 1, 0, 1, 0, 0, 0, 1, 0, 0, 1, 0, 1, 0, 1, 1, 0, 0, 0, 1, 0, 0, 0, 0, 0, 1, 0, 1, 0, 0, 0, 1, 0, 1, 1, 1, 1, 1, 0, 0, 1, 1, 0, 1, 0, 0, 0, 1, 0, 0, 0, 0, 0, 1, 0, 0, 0, 1, 0, 0, 1, 1, 1, 0, 0, 0, 0, 1, 1, 0, 1, 0, 0, 1, 1, 0, 1, 0, 0, 1, 1, 0, 0, 1, 1, 0, 1, 0, 0, 0, 1, 0, 0, 0, 0, 1, 0, 1, 1, 1, 0, 0, 0, 1, 0, 0, 1, 0, 0, 0, 0, 0, 0, 0, 0, 1, 1, 0, 0, 0, 0, 0, 1, 1, 1, 1, 0, 0, 0, 0, 1, 1, 0, 0, 1, 1, 0, 1, 0, 1, 1, 1, 1, 0, 1, 0, 0, 1, 1, 0, 0, 1, 0, 0, 1, 1, 0, 1, 0, 0, 1, 1, 0, 1, 0, 1, 1, 0, 0, 0, 1, 1, 1, 0, 1, 0, 0, 0, 0, 1, 1, 0, 1, 1, 0, 0, 1, 0, 0, 0, 1, 0, 0, 0, 0, 0, 0, 0, 0, 0, 1, 1, 0, 0, 1, 0, 0, 0, 0, 0, 1, 1, 1, 1, 1, 1, 0, 0, 0, 0, 1, 0, 1, 0, 0, 1, 1, 0, 1, 1, 1, 1, 1, 0, 0, 0, 1, 1, 0, 1, 1, 0, 1, 0, 0, 0, 1, 1, 1, 1, 1, 0, 0, 1, 0, 1, 1, 1, 0, 0, 1, 0, 1, 0, 1, 0, 0, 0, 1, 0, 0, 1, 0, 0, 0, 0, 1, 0, 0, 0, 0, 0, 1, 0, 0, 0, 0, 0, 0, 1, 1, 0, 1, 0, 1, 0, 1, 0, 0, 0, 1, 0, 0, 0, 1, 0, 0, 1, 0, 1, 1, 1, 1, 0, 0, 0, 1, 1, 1, 1, 1, 1, 1, 1, 0, 1, 1, 0, 0, 1, 0, 1, 1, 1, 1, 0, 1, 0, 1, 1, 0, 1, 0, 1, 1, 0, 1, 0, 0, 0, 1, 0, 0, 0, 1, 0, 0, 0, 0, 1, 1, 0, 0, 0, 0, 1, 0, 1, 1, 1, 0, 1, 0, 1, 0, 0, 1, 0, 1, 0, 0, 0, 1, 0, 1, 1, 0, 0, 0, 1, 0, 1, 0, 0, 1, 1, 1, 0, 1, 1, 0, 1, 1, 1, 1, 1, 1, 0, 0, 0, 1, 1, 1, 0, 1, 0, 1, 0, 0, 0, 0, 1, 1, 1, 1, 0, 1, 0, 0, 0, 0, 0, 1, 1, 0, 1, 1, 0, 0, 1, 0, 1, 1, 0, 0, 0, 1, 0, 0, 0, 0, 0, 1, 0, 1, 0, 1, 1, 0, 1, 1, 1, 0, 0, 1, 0, 0, 1, 0, 0, 0, 0, 0, 0, 1, 0, 0, 0, 0, 1, 0, 0, 1, 0, 0, 1, 1, 0, 1, 0, 1, 0, 0, 0, 0, 1, 0, 0, 1, 0, 1, 0, 1, 1, 1, 0, 0, 1, 0, 0, 1, 1, 1, 0, 0, 0, 1, 1, 1, 0, 0, 1, 0, 1, 1, 1, 1, 1, 1, 1, 1, 1, 1, 1, 0, 0, 0, 0, 1, 0, 1, 1, 0, 1, 0, 0, 1, 0, 0, 1, 1, 0, 0, 0, 0, 0, 1, 1, 0, 1, 0, 0, 0, 1, 0, 1, 1, 0, 0, 1, 1, 0, 1, 0, 0, 0, 1, 1, 1, 1, 1, 1, 0, 0, 1, 0, 0, 0, 0, 0, 1, 0, 0, 0, 1, 1, 1, 1, 0, 0, 1, 0, 1, 0, 0, 0, 0, 0, 1, 0, 0, 0, 1, 0, 1, 0, 1, 0, 1, 1, 1, 1, 1, 0, 1, 0, 0, 0, 0, 1, 1, 1, 1, 1, 0, 0, 0, 1, 0, 1, 0, 0, 1, 1, 0, 0, 0, 0, 1, 1, 0]\n",
      "              precision    recall  f1-score   support\n",
      "\n",
      "  irrelevant       0.57      1.00      0.72      1134\n",
      "    relevant       1.00      0.00      0.00       866\n",
      "\n",
      "    accuracy                           0.57      2000\n",
      "   macro avg       0.78      0.50      0.36      2000\n",
      "weighted avg       0.75      0.57      0.41      2000\n",
      "\n",
      "MAE: 0.44313787773605573, RMSE: 0.489777311327638\n",
      "286 : storage64 gbram4  systemandroid 12processor typequalcomm snapdragon 680processor speed2.4 50mp 8mp 2mp 50mp 8mp 2mp 50mp 16mp 16mp 4g capacity5000 display size16.76 cm (6.6 inch)resolution2460 x 1080 pixelsresolution typefull hd+gpuqualcomm adreno 610display typefull hd+ oled displayother display features90 hz refresh rate, brightness: 500 nits, aspect ratio: 20:9, screen-to-body ratio: 91.4%\n",
      "1605 : storage256 gbram8  systemandroid 11processor typemediatek dimensity 1200processor speed3 50mp 12mp 12mp 8mp 50mp 12mp 12mp 8mp 50mp 32mp 32mp 5g capacity4450 display size16.66 cm (6.56 inch)resolution2376 x 1080 pixelsresolution typefull hd+gpuarm g77display typefull hd+ e5 amoled ltps displayother display features19.8:9 aspect ratio, 92.7% screen-to-body ratio\n",
      "1049 : storage64 gbram6 gbexpandable storage512gb  systemandroid 11processor typemediatek helio g95 octa coreprocessor speed2 64mp 8mp 2mp 2mp 64mp 8mp 2mp 2mp 13mp 13mp 4g capacity5000 display size16.33 cm (6.43 inch)resolution2400 x 1080 pixelsresolution typefull hd+gpuarm mali-g76display typefull hd+ super amoled dot displayhd game supportyes\n",
      "356 : storage32 gbram3 gbexpandable storage128gb  systemandroid nougat 7.1.2processor typequalcomm snapdragon 625processor speed2 12mp 5mp 3g capacity4000 display size15.21 cm (5.99 inch)resolution2160 x 1080 pixelsresolution typefull hd+gpuadreno 506display typeips (in-cell)other display featurescontrast ratio: 1000:1, 2.5d front glass panel, corning gorilla glass\n",
      "1920 : storage32 gbram3  systemandroid q 10processor speed2 13mp 4g capacity5000 display size16.59 cm (6.53 inch)resolution1600 x 720 pixel\n",
      "1091 : storage128 gbram6 gbexpandable storage1tb  systemandroid 13processor typequalcomm snapdragon 695 5gprocessor speed2.2 108mp 2mp 2mp 16mp 16mp 5g capacity5000 display size17.07 cm (6.72 inch)resolution2400 x 1080 pixelresolution typefull hd+gpuqualcomm adreno a619display typefull hd+ lcd displaydisplay colors16.7mother display featuresrefresh rate: 120 hz, aspect ratio: 20:9, screen-to-body ratio: 93.76%, screen contrast: 1400:1, maximum brightness: 600 nit, color saturation: 95% ntsc, sunlight screen support, oleophophic coating\n",
      "1059 : storage128 gbram8  systemandroid q 11processor speed2.4 48mp 5g capacity4500 display size16.64 cm (6.55 inch)resolution2400 x 1080$$pixel\n",
      "169 : storage128 gbram6  systemandroid q 12processor speed2.2 50mp 4g capacity6000 display size16.76 cm (6.6 inch)resolution720x2408 pixel\n",
      "54 : storage64 gbram4 gbexpandable storage256gb  systemandroid pie 9.0processor typemediatek helio p70 octa core 2.1 ghz aiprocessor speed2.1 13mp 2mp 13mp 3g capacity4230 display size15.8 cm (6.22 inch)resolution1520 x 720 pixelsresolution typehd+gpuarm mali-g72display colors16.7mother display featuresnarrow frame: 2.05mm, screen ratio: 88.30%, screen contrast: typical - 1200:1, minimum - 800:1, color saturation: typical - 69.5%, minimum - 65%, maximum brightness: typical - 450 nits, minimum - 400 nits, touch panel glass type: corning gorilla glass 3, in-cell touch panel technology, lcd ips screen\n"
     ]
    }
   ],
   "source": [
    "def get_relevance(target_mobile, comparison_mobile):\n",
    "    score = 0\n",
    "    # Weights for significant features\n",
    "    if target_mobile['ram'] == comparison_mobile['ram']:\n",
    "        score += 0.3\n",
    "    if target_mobile['storage'] == comparison_mobile['storage']:\n",
    "        score += 0.4\n",
    "    if target_mobile['processor'] == comparison_mobile['processor']:\n",
    "        score += 0.5\n",
    "    if target_mobile['brand'] == comparison_mobile['brand']:\n",
    "        score += 0.6\n",
    "\n",
    "    # Additional comparisons with modified weights\n",
    "    if target_mobile['battery_capacity'] == comparison_mobile['battery_capacity']:\n",
    "        score += 0.15\n",
    "    if target_mobile['display_size'] == comparison_mobile['display_size']:\n",
    "        score += 0.1\n",
    "    if target_mobile['processor_speed'] == comparison_mobile['processor_speed']:\n",
    "        score += 0.1\n",
    "    # if target_mobile['weight'] == comparison_mobile['weight']:\n",
    "    #     score += 0.1\n",
    "    if target_mobile['camera'] == comparison_mobile['camera']:\n",
    "        score += 0.1\n",
    "    if target_mobile['network'] == comparison_mobile['network']:\n",
    "        score += 0.1\n",
    "    if target_mobile['operating_system'] == comparison_mobile['operating_system']:\n",
    "        score += 0.1\n",
    "\n",
    "    # Price comparison\n",
    "    price_difference = abs(target_mobile['price'] - comparison_mobile['price'])\n",
    "    price_weight = 0.0\n",
    "\n",
    "    # Adjusted thresholds\n",
    "    if price_difference <= 10:\n",
    "        price_weight = 0.4\n",
    "    elif price_difference <= 30:\n",
    "        price_weight = 0.3\n",
    "    elif price_difference <= 60:\n",
    "        price_weight = 0.2\n",
    "    elif price_difference <= 120:\n",
    "        price_weight = 0.1\n",
    "\n",
    "    score += price_weight\n",
    "\n",
    "    # Change threshold based on new scoring\n",
    "    return 1 if score >= 0.4 else 0  # Lowered threshold for relevance\n",
    "\n",
    "\n",
    "# Generate true relevance labels (y_true) based on specs similarity for all other mobiles\n",
    "target_mobile = mobiles_clean.iloc[target_mobile_index]\n",
    "y_true = [get_relevance(target_mobile, mobiles_clean.iloc[i]) for i in range(len(mobiles_clean))]\n",
    "\n",
    "# Print Predicted and True Labels\n",
    "print(f\"Predicted relevance labels based on cosine similarity: {y_pred}\")\n",
    "print(f\"True relevance labels based on specs similarity: {y_true}\")\n",
    "\n",
    "# Evaluate Precision, Recall, and F1-Score\n",
    "print(classification_report(y_true, y_pred, target_names=['irrelevant', 'relevant']))\n",
    "\n",
    "# Evaluate MAE and RMSE (if you're working with continuous similarity scores as well)\n",
    "mae = mean_absolute_error(y_true, predicted_scores)  # Using continuous similarity for y_pred\n",
    "rmse = np.sqrt(mean_squared_error(y_true, predicted_scores))\n",
    "\n",
    "print(f\"MAE: {mae}, RMSE: {rmse}\")\n",
    "\n",
    "def random_values(df, col_name, total=9):\n",
    "    if col_name not in mobiles_clean.columns:\n",
    "        raise ValueError(f\"Column '{col_name}' does not exist in the DataFrame.\")\n",
    "    \n",
    "    if mobiles_clean.empty:\n",
    "        raise ValueError(\"The DataFrame is empty.\")\n",
    "        \n",
    "    for i in range(total):\n",
    "        index = np.random.randint(mobiles_clean.shape[0])\n",
    "        print(index, ':', mobiles_clean[col_name].iloc[index])\n",
    "\n",
    "random_values(mobiles_clean, 'corpus')\n"
   ]
  },
  {
   "cell_type": "code",
   "execution_count": 95,
   "id": "9ed9264b-530c-4fee-b375-e60c3147ee89",
   "metadata": {},
   "outputs": [
    {
     "name": "stdout",
     "output_type": "stream",
     "text": [
      "              precision    recall  f1-score   support\n",
      "\n",
      "  irrelevant       0.99      1.00      1.00       227\n",
      "    relevant       1.00      0.99      0.99       173\n",
      "\n",
      "    accuracy                           0.99       400\n",
      "   macro avg       1.00      0.99      0.99       400\n",
      "weighted avg       1.00      0.99      0.99       400\n",
      "\n",
      "Accuracy: 0.99\n"
     ]
    }
   ],
   "source": [
    "import pandas as pd\n",
    "from sklearn.model_selection import train_test_split\n",
    "from sklearn.ensemble import RandomForestClassifier\n",
    "from sklearn.metrics import classification_report, accuracy_score\n",
    "\n",
    "# Assuming you have your mobile DataFrame as 'mobiles_clean'\n",
    "# Select your features and labels\n",
    "X = mobiles_clean[['ram', 'storage', 'processor', 'brand', 'battery_capacity', \n",
    "                   'display_size', 'processor_speed', 'camera', \n",
    "                   'network', 'operating_system', 'price']]\n",
    "\n",
    "# Encode categorical variables using One-Hot Encoding\n",
    "X = pd.get_dummies(X, columns=['processor', 'brand', 'operating_system', 'network', 'display_size', 'camera'], drop_first=True)\n",
    "\n",
    "# Create labels (y)\n",
    "y = [get_relevance(target_mobile, mobiles_clean.iloc[i]) for i in range(len(mobiles_clean))]\n",
    "\n",
    "# Split the dataset into training and testing sets\n",
    "X_train, X_test, y_train, y_test = train_test_split(X, y, test_size=0.2, random_state=42)\n",
    "\n",
    "# Train a Random Forest Classifier\n",
    "model = RandomForestClassifier(n_estimators=100, random_state=42)\n",
    "model.fit(X_train, y_train)\n",
    "\n",
    "# Make predictions\n",
    "y_pred = model.predict(X_test)\n",
    "\n",
    "# Evaluate the model\n",
    "print(classification_report(y_test, y_pred, target_names=['irrelevant', 'relevant']))\n",
    "accuracy = accuracy_score(y_test, y_pred)\n",
    "print(f\"Accuracy: {accuracy:.2f}\")\n"
   ]
  },
  {
   "cell_type": "code",
   "execution_count": 96,
   "id": "23c5ca2e-ceee-46c1-a188-059fab8a9c11",
   "metadata": {},
   "outputs": [
    {
     "ename": "ModuleNotFoundError",
     "evalue": "No module named 'imblearn'",
     "output_type": "error",
     "traceback": [
      "\u001b[1;31m---------------------------------------------------------------------------\u001b[0m",
      "\u001b[1;31mModuleNotFoundError\u001b[0m                       Traceback (most recent call last)",
      "Cell \u001b[1;32mIn[96], line 1\u001b[0m\n\u001b[1;32m----> 1\u001b[0m \u001b[38;5;28;01mfrom\u001b[39;00m \u001b[38;5;21;01mimblearn\u001b[39;00m\u001b[38;5;21;01m.\u001b[39;00m\u001b[38;5;21;01mover_sampling\u001b[39;00m \u001b[38;5;28;01mimport\u001b[39;00m SMOTE\n\u001b[0;32m      3\u001b[0m \u001b[38;5;66;03m# Apply SMOTE to the training data\u001b[39;00m\n\u001b[0;32m      4\u001b[0m smote \u001b[38;5;241m=\u001b[39m SMOTE(random_state\u001b[38;5;241m=\u001b[39m\u001b[38;5;241m42\u001b[39m)\n",
      "\u001b[1;31mModuleNotFoundError\u001b[0m: No module named 'imblearn'"
     ]
    }
   ],
   "source": [
    "from imblearn.over_sampling import SMOTE\n",
    "\n",
    "# Apply SMOTE to the training data\n",
    "smote = SMOTE(random_state=42)\n",
    "X_train_balanced, y_train_balanced = smote.fit_resample(X_train, y_train)\n",
    "\n",
    "# Train the Random Forest Classifier on the balanced data\n",
    "model.fit(X_train_balanced, y_train_balanced)\n",
    "\n",
    "# Make predictions\n",
    "y_pred = model.predict(X_test)\n",
    "\n",
    "# Evaluate the model\n",
    "print(classification_report(y_test, y_pred, target_names=['irrelevant', 'relevant']))\n",
    "accuracy = accuracy_score(y_test, y_pred)\n",
    "print(f\"Accuracy: {accuracy:.2f}\")\n"
   ]
  },
  {
   "cell_type": "code",
   "execution_count": 3200,
   "id": "a671e7da-68e7-4231-82c0-f651c68f6761",
   "metadata": {},
   "outputs": [
    {
     "name": "stdout",
     "output_type": "stream",
     "text": [
      "              precision    recall  f1-score   support\n",
      "\n",
      "  irrelevant       0.98      1.00      0.99       227\n",
      "    relevant       1.00      0.97      0.99       173\n",
      "\n",
      "    accuracy                           0.99       400\n",
      "   macro avg       0.99      0.99      0.99       400\n",
      "weighted avg       0.99      0.99      0.99       400\n",
      "\n",
      "Accuracy: 0.99\n"
     ]
    }
   ],
   "source": [
    "# Train a Random Forest Classifier with class weight\n",
    "model = RandomForestClassifier(n_estimators=100, random_state=42, class_weight={0: 1, 1: 5})  # Adjust weights as necessary\n",
    "model.fit(X_train, y_train)\n",
    "\n",
    "# Make predictions\n",
    "y_pred = model.predict(X_test)\n",
    "\n",
    "# Evaluate the model\n",
    "print(classification_report(y_test, y_pred, target_names=['irrelevant', 'relevant']))\n",
    "accuracy = accuracy_score(y_test, y_pred)\n",
    "print(f\"Accuracy: {accuracy:.2f}\")\n"
   ]
  },
  {
   "cell_type": "code",
   "execution_count": 3201,
   "id": "a8ce4349-4ec2-4691-8fed-3156e5a0eff3",
   "metadata": {},
   "outputs": [
    {
     "name": "stdout",
     "output_type": "stream",
     "text": [
      "              precision    recall  f1-score   support\n",
      "\n",
      "  irrelevant       0.98      1.00      0.99       227\n",
      "    relevant       1.00      0.98      0.99       173\n",
      "\n",
      "    accuracy                           0.99       400\n",
      "   macro avg       0.99      0.99      0.99       400\n",
      "weighted avg       0.99      0.99      0.99       400\n",
      "\n",
      "Accuracy: 0.99\n"
     ]
    }
   ],
   "source": [
    "from sklearn.model_selection import GridSearchCV\n",
    "\n",
    "param_grid = {\n",
    "    'n_estimators': [100, 200],\n",
    "    'max_depth': [None, 10, 20],\n",
    "    'min_samples_split': [2, 5],\n",
    "    'class_weight': [{0: 1, 1: 5}, 'balanced']  # Class weights\n",
    "}\n",
    "\n",
    "grid_search = GridSearchCV(RandomForestClassifier(random_state=42), param_grid, cv=5, scoring='f1_weighted')\n",
    "grid_search.fit(X_train, y_train)\n",
    "\n",
    "# Best model\n",
    "best_model = grid_search.best_estimator_\n",
    "\n",
    "# Make predictions\n",
    "y_pred = best_model.predict(X_test)\n",
    "\n",
    "# Evaluate the model\n",
    "print(classification_report(y_test, y_pred, target_names=['irrelevant', 'relevant']))\n",
    "accuracy = accuracy_score(y_test, y_pred)\n",
    "print(f\"Accuracy: {accuracy:.2f}\")\n"
   ]
  },
  {
   "cell_type": "code",
   "execution_count": 3209,
   "id": "aee5aa2f-0751-4382-8636-4903f7e39628",
   "metadata": {},
   "outputs": [
    {
     "name": "stdout",
     "output_type": "stream",
     "text": [
      "Mean Absolute Error (MAE): 0.01\n",
      "Root Mean Squared Error (RMSE): 0.1\n",
      "R-squared (R2): 0.9592574673423137\n",
      "\n",
      "Actual vs Predicted values:\n",
      "   Actual  Predicted\n",
      "0       1          1\n",
      "1       0          0\n",
      "2       1          1\n",
      "3       0          0\n",
      "4       0          0\n",
      "5       0          0\n",
      "6       1          1\n",
      "7       1          1\n",
      "8       1          1\n",
      "9       0          0\n"
     ]
    }
   ],
   "source": [
    "from sklearn.metrics import mean_absolute_error, mean_squared_error, r2_score\n",
    "\n",
    "# Calculate performance metrics\n",
    "mae = mean_absolute_error(y_test, y_pred)\n",
    "rmse = np.sqrt(mean_squared_error(y_test, y_pred))\n",
    "r2 = r2_score(y_test, y_pred)\n",
    "\n",
    "# Print the evaluation metrics\n",
    "print(f'Mean Absolute Error (MAE): {mae}')\n",
    "print(f'Root Mean Squared Error (RMSE): {rmse}')\n",
    "print(f'R-squared (R2): {r2}')\n",
    "\n",
    "# Optional: Displaying actual vs predicted values\n",
    "results = pd.DataFrame({'Actual': y_test, 'Predicted': y_pred})\n",
    "print(\"\\nActual vs Predicted values:\")\n",
    "print(results.head(10))\n"
   ]
  },
  {
   "cell_type": "code",
   "execution_count": 3211,
   "id": "da04c8b9-ceae-4365-917f-43011210b59c",
   "metadata": {},
   "outputs": [],
   "source": [
    "#mobiles_clean.to_csv('data/mobile_processed_data.csv', index=False)"
   ]
  },
  {
   "cell_type": "code",
   "execution_count": 3213,
   "id": "29c0d1c5-6f8d-4694-8004-120ff017c204",
   "metadata": {},
   "outputs": [],
   "source": [
    "#create directories recursively\n",
    "os.makedirs(r'src\\model',exist_ok=True)"
   ]
  },
  {
   "cell_type": "code",
   "execution_count": 3215,
   "id": "336e3217-4ea1-44f4-94c1-1d788d740b5d",
   "metadata": {},
   "outputs": [],
   "source": [
    "#save the dataframe toa file\n",
    "pickle.dump(obj=mobiles_clean,file=open(file=r'src\\model\\dataframe.pkl',mode='wb'))"
   ]
  },
  {
   "cell_type": "code",
   "execution_count": 3217,
   "id": "67a4e652-1c50-4623-97ce-eac11f8f3f47",
   "metadata": {},
   "outputs": [],
   "source": [
    "pickle.dump(obj=similarity,file=open(file=r'src\\model\\similarity.pkl',mode='wb'))"
   ]
  },
  {
   "cell_type": "code",
   "execution_count": null,
   "id": "fe40bbc8-2c30-44c8-b591-cb0c3d717994",
   "metadata": {},
   "outputs": [],
   "source": []
  }
 ],
 "metadata": {
  "kernelspec": {
   "display_name": "tf-env",
   "language": "python",
   "name": "python3"
  },
  "language_info": {
   "codemirror_mode": {
    "name": "ipython",
    "version": 3
   },
   "file_extension": ".py",
   "mimetype": "text/x-python",
   "name": "python",
   "nbconvert_exporter": "python",
   "pygments_lexer": "ipython3",
   "version": "3.9.19"
  }
 },
 "nbformat": 4,
 "nbformat_minor": 5
}
